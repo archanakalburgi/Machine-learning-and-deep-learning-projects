{
  "cells": [
    {
      "cell_type": "markdown",
      "id": "a7d7050b-a87a-4954-adf9-afb9cf6d058a",
      "metadata": {
        "id": "a7d7050b-a87a-4954-adf9-afb9cf6d058a"
      },
      "source": [
        "# CS 584 Assignment 2 -- MLP and Word Vectors\n",
        "\n",
        "#### Name: Archana Kalburgi\n",
        "#### Stevens ID: 10469491"
      ]
    },
    {
      "cell_type": "markdown",
      "id": "bfe7ac70-1da0-4432-839d-6d65ce4edf35",
      "metadata": {
        "id": "bfe7ac70-1da0-4432-839d-6d65ce4edf35",
        "tags": []
      },
      "source": [
        "## Part A: Multi-Layer Perceptron (MLP) (50 Points)\n",
        "\n",
        "## In this assignment, you are required to follow the steps below:\n",
        "1. Review the lecture slides.\n",
        "2. Implement the data loading, preprocessing, tokenization, and TF-IDF feature extraction.\n",
        "3. Implement MLP model, evaluation metrics, and Mini-batch GD with AdaGrad.\n",
        "4. Implement the MLP with Tensorflow and compare to your implementation.\n",
        "5. Analysis the results in the Conlusion part.\n",
        "\n",
        "**Before you start**\n",
        "- Please read the code very carefully.\n",
        "- Install these packages (jupyterlab, matplotlib, nltk, numpy, scikit-learn, tensorflow, tensorflow_addons, pandas) using the following command.\n",
        "```console\n",
        "pip install -r requirements.txt\n",
        "```\n",
        "- It's better to train the Tensorflow model with GPU and CUDA. If they are not available on your local machine, please consider Google CoLab. You can check `CoLab.md` in this assignments.\n",
        "- You are **NOT** allowed to use other packages unless otherwise specified.\n",
        "- You are **ONLY** allowed to edit the code between `# Start your code here` and `# End` for each block."
      ]
    },
    {
      "cell_type": "code",
      "execution_count": 3,
      "id": "b95a75c8-30c8-4ca6-ac9d-42c90d32b04d",
      "metadata": {
        "colab": {
          "base_uri": "https://localhost:8080/",
          "height": 1000
        },
        "collapsed": true,
        "id": "b95a75c8-30c8-4ca6-ac9d-42c90d32b04d",
        "jupyter": {
          "outputs_hidden": true
        },
        "outputId": "5abad0de-c153-49e0-b19e-ec9b6be49ee6",
        "tags": []
      },
      "outputs": [
        {
          "output_type": "stream",
          "name": "stdout",
          "text": [
            "Looking in indexes: https://pypi.org/simple, https://us-python.pkg.dev/colab-wheels/public/simple/\n",
            "Collecting jupyterlab\n",
            "  Downloading jupyterlab-3.4.8-py3-none-any.whl (8.8 MB)\n",
            "\u001b[K     |████████████████████████████████| 8.8 MB 4.6 MB/s \n",
            "\u001b[?25hRequirement already satisfied: matplotlib in /usr/local/lib/python3.7/dist-packages (from -r /content/drive/MyDrive/Colab Notebooks/requirements.txt (line 2)) (3.2.2)\n",
            "Requirement already satisfied: nltk in /usr/local/lib/python3.7/dist-packages (from -r /content/drive/MyDrive/Colab Notebooks/requirements.txt (line 3)) (3.7)\n",
            "Requirement already satisfied: numpy in /usr/local/lib/python3.7/dist-packages (from -r /content/drive/MyDrive/Colab Notebooks/requirements.txt (line 4)) (1.21.6)\n",
            "Requirement already satisfied: scikit-learn in /usr/local/lib/python3.7/dist-packages (from -r /content/drive/MyDrive/Colab Notebooks/requirements.txt (line 5)) (1.0.2)\n",
            "Requirement already satisfied: tensorflow in /usr/local/lib/python3.7/dist-packages (from -r /content/drive/MyDrive/Colab Notebooks/requirements.txt (line 6)) (2.8.2+zzzcolab20220929150707)\n",
            "Collecting tensorflow_addons\n",
            "  Downloading tensorflow_addons-0.18.0-cp37-cp37m-manylinux_2_17_x86_64.manylinux2014_x86_64.whl (1.1 MB)\n",
            "\u001b[K     |████████████████████████████████| 1.1 MB 49.2 MB/s \n",
            "\u001b[?25hCollecting nbclassic\n",
            "  Downloading nbclassic-0.4.5-py3-none-any.whl (9.8 MB)\n",
            "\u001b[K     |████████████████████████████████| 9.8 MB 35.7 MB/s \n",
            "\u001b[?25hRequirement already satisfied: tomli in /usr/local/lib/python3.7/dist-packages (from jupyterlab->-r /content/drive/MyDrive/Colab Notebooks/requirements.txt (line 1)) (2.0.1)\n",
            "Collecting jupyter-server~=1.16\n",
            "  Downloading jupyter_server-1.19.1-py3-none-any.whl (346 kB)\n",
            "\u001b[K     |████████████████████████████████| 346 kB 71.9 MB/s \n",
            "\u001b[?25hRequirement already satisfied: packaging in /usr/local/lib/python3.7/dist-packages (from jupyterlab->-r /content/drive/MyDrive/Colab Notebooks/requirements.txt (line 1)) (21.3)\n",
            "Collecting jupyterlab-server~=2.10\n",
            "  Downloading jupyterlab_server-2.15.2-py3-none-any.whl (54 kB)\n",
            "\u001b[K     |████████████████████████████████| 54 kB 3.3 MB/s \n",
            "\u001b[?25hRequirement already satisfied: notebook<7 in /usr/local/lib/python3.7/dist-packages (from jupyterlab->-r /content/drive/MyDrive/Colab Notebooks/requirements.txt (line 1)) (5.3.1)\n",
            "Collecting tornado>=6.1.0\n",
            "  Downloading tornado-6.2-cp37-abi3-manylinux_2_5_x86_64.manylinux1_x86_64.manylinux_2_17_x86_64.manylinux2014_x86_64.whl (423 kB)\n",
            "\u001b[K     |████████████████████████████████| 423 kB 67.4 MB/s \n",
            "\u001b[?25hRequirement already satisfied: jinja2>=2.1 in /usr/local/lib/python3.7/dist-packages (from jupyterlab->-r /content/drive/MyDrive/Colab Notebooks/requirements.txt (line 1)) (2.11.3)\n",
            "Requirement already satisfied: ipython in /usr/local/lib/python3.7/dist-packages (from jupyterlab->-r /content/drive/MyDrive/Colab Notebooks/requirements.txt (line 1)) (7.9.0)\n",
            "Requirement already satisfied: jupyter-core in /usr/local/lib/python3.7/dist-packages (from jupyterlab->-r /content/drive/MyDrive/Colab Notebooks/requirements.txt (line 1)) (4.11.1)\n",
            "Requirement already satisfied: MarkupSafe>=0.23 in /usr/local/lib/python3.7/dist-packages (from jinja2>=2.1->jupyterlab->-r /content/drive/MyDrive/Colab Notebooks/requirements.txt (line 1)) (2.0.1)\n",
            "Collecting nbconvert>=6.4.4\n",
            "  Downloading nbconvert-7.2.1-py3-none-any.whl (271 kB)\n",
            "\u001b[K     |████████████████████████████████| 271 kB 74.9 MB/s \n",
            "\u001b[?25hRequirement already satisfied: Send2Trash in /usr/local/lib/python3.7/dist-packages (from jupyter-server~=1.16->jupyterlab->-r /content/drive/MyDrive/Colab Notebooks/requirements.txt (line 1)) (1.8.0)\n",
            "Collecting websocket-client\n",
            "  Downloading websocket_client-1.4.1-py3-none-any.whl (55 kB)\n",
            "\u001b[K     |████████████████████████████████| 55 kB 3.9 MB/s \n",
            "\u001b[?25hRequirement already satisfied: jupyter-client>=6.1.12 in /usr/local/lib/python3.7/dist-packages (from jupyter-server~=1.16->jupyterlab->-r /content/drive/MyDrive/Colab Notebooks/requirements.txt (line 1)) (6.1.12)\n",
            "Collecting prometheus-client\n",
            "  Downloading prometheus_client-0.14.1-py3-none-any.whl (59 kB)\n",
            "\u001b[K     |████████████████████████████████| 59 kB 8.3 MB/s \n",
            "\u001b[?25hRequirement already satisfied: nbformat>=5.2.0 in /usr/local/lib/python3.7/dist-packages (from jupyter-server~=1.16->jupyterlab->-r /content/drive/MyDrive/Colab Notebooks/requirements.txt (line 1)) (5.6.1)\n",
            "Requirement already satisfied: traitlets>=5.1 in /usr/local/lib/python3.7/dist-packages (from jupyter-server~=1.16->jupyterlab->-r /content/drive/MyDrive/Colab Notebooks/requirements.txt (line 1)) (5.1.1)\n",
            "Collecting anyio<4,>=3.1.0\n",
            "  Downloading anyio-3.6.1-py3-none-any.whl (80 kB)\n",
            "\u001b[K     |████████████████████████████████| 80 kB 7.0 MB/s \n",
            "\u001b[?25hRequirement already satisfied: terminado>=0.8.3 in /usr/local/lib/python3.7/dist-packages (from jupyter-server~=1.16->jupyterlab->-r /content/drive/MyDrive/Colab Notebooks/requirements.txt (line 1)) (0.13.3)\n",
            "Requirement already satisfied: pyzmq>=17 in /usr/local/lib/python3.7/dist-packages (from jupyter-server~=1.16->jupyterlab->-r /content/drive/MyDrive/Colab Notebooks/requirements.txt (line 1)) (23.2.1)\n",
            "Collecting argon2-cffi\n",
            "  Downloading argon2_cffi-21.3.0-py3-none-any.whl (14 kB)\n",
            "Requirement already satisfied: idna>=2.8 in /usr/local/lib/python3.7/dist-packages (from anyio<4,>=3.1.0->jupyter-server~=1.16->jupyterlab->-r /content/drive/MyDrive/Colab Notebooks/requirements.txt (line 1)) (2.10)\n",
            "Collecting sniffio>=1.1\n",
            "  Downloading sniffio-1.3.0-py3-none-any.whl (10 kB)\n",
            "Requirement already satisfied: typing-extensions in /usr/local/lib/python3.7/dist-packages (from anyio<4,>=3.1.0->jupyter-server~=1.16->jupyterlab->-r /content/drive/MyDrive/Colab Notebooks/requirements.txt (line 1)) (4.1.1)\n",
            "Requirement already satisfied: python-dateutil>=2.1 in /usr/local/lib/python3.7/dist-packages (from jupyter-client>=6.1.12->jupyter-server~=1.16->jupyterlab->-r /content/drive/MyDrive/Colab Notebooks/requirements.txt (line 1)) (2.8.2)\n",
            "Requirement already satisfied: importlib-metadata>=3.6 in /usr/local/lib/python3.7/dist-packages (from jupyterlab-server~=2.10->jupyterlab->-r /content/drive/MyDrive/Colab Notebooks/requirements.txt (line 1)) (5.0.0)\n",
            "Requirement already satisfied: babel in /usr/local/lib/python3.7/dist-packages (from jupyterlab-server~=2.10->jupyterlab->-r /content/drive/MyDrive/Colab Notebooks/requirements.txt (line 1)) (2.10.3)\n",
            "Collecting json5\n",
            "  Downloading json5-0.9.10-py2.py3-none-any.whl (19 kB)\n",
            "Requirement already satisfied: requests in /usr/local/lib/python3.7/dist-packages (from jupyterlab-server~=2.10->jupyterlab->-r /content/drive/MyDrive/Colab Notebooks/requirements.txt (line 1)) (2.23.0)\n",
            "Requirement already satisfied: jsonschema>=3.0.1 in /usr/local/lib/python3.7/dist-packages (from jupyterlab-server~=2.10->jupyterlab->-r /content/drive/MyDrive/Colab Notebooks/requirements.txt (line 1)) (4.3.3)\n",
            "Collecting jinja2>=2.1\n",
            "  Downloading Jinja2-3.1.2-py3-none-any.whl (133 kB)\n",
            "\u001b[K     |████████████████████████████████| 133 kB 76.9 MB/s \n",
            "\u001b[?25hRequirement already satisfied: zipp>=0.5 in /usr/local/lib/python3.7/dist-packages (from importlib-metadata>=3.6->jupyterlab-server~=2.10->jupyterlab->-r /content/drive/MyDrive/Colab Notebooks/requirements.txt (line 1)) (3.8.1)\n",
            "Requirement already satisfied: pyrsistent!=0.17.0,!=0.17.1,!=0.17.2,>=0.14.0 in /usr/local/lib/python3.7/dist-packages (from jsonschema>=3.0.1->jupyterlab-server~=2.10->jupyterlab->-r /content/drive/MyDrive/Colab Notebooks/requirements.txt (line 1)) (0.18.1)\n",
            "Requirement already satisfied: attrs>=17.4.0 in /usr/local/lib/python3.7/dist-packages (from jsonschema>=3.0.1->jupyterlab-server~=2.10->jupyterlab->-r /content/drive/MyDrive/Colab Notebooks/requirements.txt (line 1)) (22.1.0)\n",
            "Requirement already satisfied: importlib-resources>=1.4.0 in /usr/local/lib/python3.7/dist-packages (from jsonschema>=3.0.1->jupyterlab-server~=2.10->jupyterlab->-r /content/drive/MyDrive/Colab Notebooks/requirements.txt (line 1)) (5.9.0)\n",
            "Requirement already satisfied: pandocfilters>=1.4.1 in /usr/local/lib/python3.7/dist-packages (from nbconvert>=6.4.4->jupyter-server~=1.16->jupyterlab->-r /content/drive/MyDrive/Colab Notebooks/requirements.txt (line 1)) (1.5.0)\n",
            "Collecting jupyterlab-pygments\n",
            "  Downloading jupyterlab_pygments-0.2.2-py2.py3-none-any.whl (21 kB)\n",
            "Collecting nbclient>=0.5.0\n",
            "  Downloading nbclient-0.7.0-py3-none-any.whl (71 kB)\n",
            "\u001b[K     |████████████████████████████████| 71 kB 257 kB/s \n",
            "\u001b[?25hRequirement already satisfied: pygments>=2.4.1 in /usr/local/lib/python3.7/dist-packages (from nbconvert>=6.4.4->jupyter-server~=1.16->jupyterlab->-r /content/drive/MyDrive/Colab Notebooks/requirements.txt (line 1)) (2.6.1)\n",
            "Collecting tinycss2\n",
            "  Downloading tinycss2-1.1.1-py3-none-any.whl (21 kB)\n",
            "Requirement already satisfied: bleach in /usr/local/lib/python3.7/dist-packages (from nbconvert>=6.4.4->jupyter-server~=1.16->jupyterlab->-r /content/drive/MyDrive/Colab Notebooks/requirements.txt (line 1)) (5.0.1)\n",
            "Requirement already satisfied: beautifulsoup4 in /usr/local/lib/python3.7/dist-packages (from nbconvert>=6.4.4->jupyter-server~=1.16->jupyterlab->-r /content/drive/MyDrive/Colab Notebooks/requirements.txt (line 1)) (4.6.3)\n",
            "Collecting mistune<3,>=2.0.3\n",
            "  Downloading mistune-2.0.4-py2.py3-none-any.whl (24 kB)\n",
            "Requirement already satisfied: defusedxml in /usr/local/lib/python3.7/dist-packages (from nbconvert>=6.4.4->jupyter-server~=1.16->jupyterlab->-r /content/drive/MyDrive/Colab Notebooks/requirements.txt (line 1)) (0.7.1)\n",
            "Collecting nest-asyncio\n",
            "  Downloading nest_asyncio-1.5.6-py3-none-any.whl (5.2 kB)\n",
            "Collecting traitlets>=5.1\n",
            "  Downloading traitlets-5.4.0-py3-none-any.whl (107 kB)\n",
            "\u001b[K     |████████████████████████████████| 107 kB 72.0 MB/s \n",
            "\u001b[?25hRequirement already satisfied: fastjsonschema in /usr/local/lib/python3.7/dist-packages (from nbformat>=5.2.0->jupyter-server~=1.16->jupyterlab->-r /content/drive/MyDrive/Colab Notebooks/requirements.txt (line 1)) (2.16.2)\n",
            "Requirement already satisfied: ipykernel in /usr/local/lib/python3.7/dist-packages (from notebook<7->jupyterlab->-r /content/drive/MyDrive/Colab Notebooks/requirements.txt (line 1)) (5.3.4)\n",
            "Requirement already satisfied: ipython-genutils in /usr/local/lib/python3.7/dist-packages (from notebook<7->jupyterlab->-r /content/drive/MyDrive/Colab Notebooks/requirements.txt (line 1)) (0.2.0)\n",
            "Requirement already satisfied: six>=1.5 in /usr/local/lib/python3.7/dist-packages (from python-dateutil>=2.1->jupyter-client>=6.1.12->jupyter-server~=1.16->jupyterlab->-r /content/drive/MyDrive/Colab Notebooks/requirements.txt (line 1)) (1.15.0)\n",
            "Requirement already satisfied: ptyprocess in /usr/local/lib/python3.7/dist-packages (from terminado>=0.8.3->jupyter-server~=1.16->jupyterlab->-r /content/drive/MyDrive/Colab Notebooks/requirements.txt (line 1)) (0.7.0)\n",
            "Requirement already satisfied: pyparsing!=2.0.4,!=2.1.2,!=2.1.6,>=2.0.1 in /usr/local/lib/python3.7/dist-packages (from matplotlib->-r /content/drive/MyDrive/Colab Notebooks/requirements.txt (line 2)) (3.0.9)\n",
            "Requirement already satisfied: kiwisolver>=1.0.1 in /usr/local/lib/python3.7/dist-packages (from matplotlib->-r /content/drive/MyDrive/Colab Notebooks/requirements.txt (line 2)) (1.4.4)\n",
            "Requirement already satisfied: cycler>=0.10 in /usr/local/lib/python3.7/dist-packages (from matplotlib->-r /content/drive/MyDrive/Colab Notebooks/requirements.txt (line 2)) (0.11.0)\n",
            "Requirement already satisfied: tqdm in /usr/local/lib/python3.7/dist-packages (from nltk->-r /content/drive/MyDrive/Colab Notebooks/requirements.txt (line 3)) (4.64.1)\n",
            "Requirement already satisfied: click in /usr/local/lib/python3.7/dist-packages (from nltk->-r /content/drive/MyDrive/Colab Notebooks/requirements.txt (line 3)) (7.1.2)\n",
            "Requirement already satisfied: regex>=2021.8.3 in /usr/local/lib/python3.7/dist-packages (from nltk->-r /content/drive/MyDrive/Colab Notebooks/requirements.txt (line 3)) (2022.6.2)\n",
            "Requirement already satisfied: joblib in /usr/local/lib/python3.7/dist-packages (from nltk->-r /content/drive/MyDrive/Colab Notebooks/requirements.txt (line 3)) (1.2.0)\n",
            "Requirement already satisfied: threadpoolctl>=2.0.0 in /usr/local/lib/python3.7/dist-packages (from scikit-learn->-r /content/drive/MyDrive/Colab Notebooks/requirements.txt (line 5)) (3.1.0)\n",
            "Requirement already satisfied: scipy>=1.1.0 in /usr/local/lib/python3.7/dist-packages (from scikit-learn->-r /content/drive/MyDrive/Colab Notebooks/requirements.txt (line 5)) (1.7.3)\n",
            "Requirement already satisfied: tensorflow-io-gcs-filesystem>=0.23.1 in /usr/local/lib/python3.7/dist-packages (from tensorflow->-r /content/drive/MyDrive/Colab Notebooks/requirements.txt (line 6)) (0.27.0)\n",
            "Requirement already satisfied: google-pasta>=0.1.1 in /usr/local/lib/python3.7/dist-packages (from tensorflow->-r /content/drive/MyDrive/Colab Notebooks/requirements.txt (line 6)) (0.2.0)\n",
            "Requirement already satisfied: tensorboard<2.9,>=2.8 in /usr/local/lib/python3.7/dist-packages (from tensorflow->-r /content/drive/MyDrive/Colab Notebooks/requirements.txt (line 6)) (2.8.0)\n",
            "Requirement already satisfied: protobuf<3.20,>=3.9.2 in /usr/local/lib/python3.7/dist-packages (from tensorflow->-r /content/drive/MyDrive/Colab Notebooks/requirements.txt (line 6)) (3.17.3)\n",
            "Requirement already satisfied: h5py>=2.9.0 in /usr/local/lib/python3.7/dist-packages (from tensorflow->-r /content/drive/MyDrive/Colab Notebooks/requirements.txt (line 6)) (3.1.0)\n",
            "Requirement already satisfied: grpcio<2.0,>=1.24.3 in /usr/local/lib/python3.7/dist-packages (from tensorflow->-r /content/drive/MyDrive/Colab Notebooks/requirements.txt (line 6)) (1.49.1)\n",
            "Requirement already satisfied: absl-py>=0.4.0 in /usr/local/lib/python3.7/dist-packages (from tensorflow->-r /content/drive/MyDrive/Colab Notebooks/requirements.txt (line 6)) (1.2.0)\n",
            "Requirement already satisfied: flatbuffers>=1.12 in /usr/local/lib/python3.7/dist-packages (from tensorflow->-r /content/drive/MyDrive/Colab Notebooks/requirements.txt (line 6)) (22.9.24)\n",
            "Requirement already satisfied: keras<2.9,>=2.8.0rc0 in /usr/local/lib/python3.7/dist-packages (from tensorflow->-r /content/drive/MyDrive/Colab Notebooks/requirements.txt (line 6)) (2.8.0)\n",
            "Requirement already satisfied: wrapt>=1.11.0 in /usr/local/lib/python3.7/dist-packages (from tensorflow->-r /content/drive/MyDrive/Colab Notebooks/requirements.txt (line 6)) (1.14.1)\n",
            "Requirement already satisfied: opt-einsum>=2.3.2 in /usr/local/lib/python3.7/dist-packages (from tensorflow->-r /content/drive/MyDrive/Colab Notebooks/requirements.txt (line 6)) (3.3.0)\n",
            "Requirement already satisfied: setuptools in /usr/local/lib/python3.7/dist-packages (from tensorflow->-r /content/drive/MyDrive/Colab Notebooks/requirements.txt (line 6)) (57.4.0)\n",
            "Requirement already satisfied: tensorflow-estimator<2.9,>=2.8 in /usr/local/lib/python3.7/dist-packages (from tensorflow->-r /content/drive/MyDrive/Colab Notebooks/requirements.txt (line 6)) (2.8.0)\n",
            "Requirement already satisfied: keras-preprocessing>=1.1.1 in /usr/local/lib/python3.7/dist-packages (from tensorflow->-r /content/drive/MyDrive/Colab Notebooks/requirements.txt (line 6)) (1.1.2)\n",
            "Requirement already satisfied: astunparse>=1.6.0 in /usr/local/lib/python3.7/dist-packages (from tensorflow->-r /content/drive/MyDrive/Colab Notebooks/requirements.txt (line 6)) (1.6.3)\n",
            "Requirement already satisfied: termcolor>=1.1.0 in /usr/local/lib/python3.7/dist-packages (from tensorflow->-r /content/drive/MyDrive/Colab Notebooks/requirements.txt (line 6)) (2.0.1)\n",
            "Requirement already satisfied: libclang>=9.0.1 in /usr/local/lib/python3.7/dist-packages (from tensorflow->-r /content/drive/MyDrive/Colab Notebooks/requirements.txt (line 6)) (14.0.6)\n",
            "Requirement already satisfied: gast>=0.2.1 in /usr/local/lib/python3.7/dist-packages (from tensorflow->-r /content/drive/MyDrive/Colab Notebooks/requirements.txt (line 6)) (0.5.3)\n",
            "Requirement already satisfied: wheel<1.0,>=0.23.0 in /usr/local/lib/python3.7/dist-packages (from astunparse>=1.6.0->tensorflow->-r /content/drive/MyDrive/Colab Notebooks/requirements.txt (line 6)) (0.37.1)\n",
            "Requirement already satisfied: cached-property in /usr/local/lib/python3.7/dist-packages (from h5py>=2.9.0->tensorflow->-r /content/drive/MyDrive/Colab Notebooks/requirements.txt (line 6)) (1.5.2)\n",
            "Requirement already satisfied: werkzeug>=0.11.15 in /usr/local/lib/python3.7/dist-packages (from tensorboard<2.9,>=2.8->tensorflow->-r /content/drive/MyDrive/Colab Notebooks/requirements.txt (line 6)) (1.0.1)\n",
            "Requirement already satisfied: google-auth<3,>=1.6.3 in /usr/local/lib/python3.7/dist-packages (from tensorboard<2.9,>=2.8->tensorflow->-r /content/drive/MyDrive/Colab Notebooks/requirements.txt (line 6)) (1.35.0)\n",
            "Requirement already satisfied: tensorboard-plugin-wit>=1.6.0 in /usr/local/lib/python3.7/dist-packages (from tensorboard<2.9,>=2.8->tensorflow->-r /content/drive/MyDrive/Colab Notebooks/requirements.txt (line 6)) (1.8.1)\n",
            "Requirement already satisfied: google-auth-oauthlib<0.5,>=0.4.1 in /usr/local/lib/python3.7/dist-packages (from tensorboard<2.9,>=2.8->tensorflow->-r /content/drive/MyDrive/Colab Notebooks/requirements.txt (line 6)) (0.4.6)\n",
            "Requirement already satisfied: markdown>=2.6.8 in /usr/local/lib/python3.7/dist-packages (from tensorboard<2.9,>=2.8->tensorflow->-r /content/drive/MyDrive/Colab Notebooks/requirements.txt (line 6)) (3.4.1)\n",
            "Requirement already satisfied: tensorboard-data-server<0.7.0,>=0.6.0 in /usr/local/lib/python3.7/dist-packages (from tensorboard<2.9,>=2.8->tensorflow->-r /content/drive/MyDrive/Colab Notebooks/requirements.txt (line 6)) (0.6.1)\n",
            "Requirement already satisfied: rsa<5,>=3.1.4 in /usr/local/lib/python3.7/dist-packages (from google-auth<3,>=1.6.3->tensorboard<2.9,>=2.8->tensorflow->-r /content/drive/MyDrive/Colab Notebooks/requirements.txt (line 6)) (4.9)\n",
            "Requirement already satisfied: pyasn1-modules>=0.2.1 in /usr/local/lib/python3.7/dist-packages (from google-auth<3,>=1.6.3->tensorboard<2.9,>=2.8->tensorflow->-r /content/drive/MyDrive/Colab Notebooks/requirements.txt (line 6)) (0.2.8)\n",
            "Requirement already satisfied: cachetools<5.0,>=2.0.0 in /usr/local/lib/python3.7/dist-packages (from google-auth<3,>=1.6.3->tensorboard<2.9,>=2.8->tensorflow->-r /content/drive/MyDrive/Colab Notebooks/requirements.txt (line 6)) (4.2.4)\n",
            "Requirement already satisfied: requests-oauthlib>=0.7.0 in /usr/local/lib/python3.7/dist-packages (from google-auth-oauthlib<0.5,>=0.4.1->tensorboard<2.9,>=2.8->tensorflow->-r /content/drive/MyDrive/Colab Notebooks/requirements.txt (line 6)) (1.3.1)\n",
            "Requirement already satisfied: pyasn1<0.5.0,>=0.4.6 in /usr/local/lib/python3.7/dist-packages (from pyasn1-modules>=0.2.1->google-auth<3,>=1.6.3->tensorboard<2.9,>=2.8->tensorflow->-r /content/drive/MyDrive/Colab Notebooks/requirements.txt (line 6)) (0.4.8)\n",
            "Requirement already satisfied: urllib3!=1.25.0,!=1.25.1,<1.26,>=1.21.1 in /usr/local/lib/python3.7/dist-packages (from requests->jupyterlab-server~=2.10->jupyterlab->-r /content/drive/MyDrive/Colab Notebooks/requirements.txt (line 1)) (1.24.3)\n",
            "Requirement already satisfied: certifi>=2017.4.17 in /usr/local/lib/python3.7/dist-packages (from requests->jupyterlab-server~=2.10->jupyterlab->-r /content/drive/MyDrive/Colab Notebooks/requirements.txt (line 1)) (2022.9.24)\n",
            "Requirement already satisfied: chardet<4,>=3.0.2 in /usr/local/lib/python3.7/dist-packages (from requests->jupyterlab-server~=2.10->jupyterlab->-r /content/drive/MyDrive/Colab Notebooks/requirements.txt (line 1)) (3.0.4)\n",
            "Requirement already satisfied: oauthlib>=3.0.0 in /usr/local/lib/python3.7/dist-packages (from requests-oauthlib>=0.7.0->google-auth-oauthlib<0.5,>=0.4.1->tensorboard<2.9,>=2.8->tensorflow->-r /content/drive/MyDrive/Colab Notebooks/requirements.txt (line 6)) (3.2.1)\n",
            "Requirement already satisfied: typeguard>=2.7 in /usr/local/lib/python3.7/dist-packages (from tensorflow_addons->-r /content/drive/MyDrive/Colab Notebooks/requirements.txt (line 7)) (2.7.1)\n",
            "Collecting argon2-cffi-bindings\n",
            "  Downloading argon2_cffi_bindings-21.2.0-cp36-abi3-manylinux_2_17_x86_64.manylinux2014_x86_64.whl (86 kB)\n",
            "\u001b[K     |████████████████████████████████| 86 kB 6.2 MB/s \n",
            "\u001b[?25hRequirement already satisfied: cffi>=1.0.1 in /usr/local/lib/python3.7/dist-packages (from argon2-cffi-bindings->argon2-cffi->jupyter-server~=1.16->jupyterlab->-r /content/drive/MyDrive/Colab Notebooks/requirements.txt (line 1)) (1.15.1)\n",
            "Requirement already satisfied: pycparser in /usr/local/lib/python3.7/dist-packages (from cffi>=1.0.1->argon2-cffi-bindings->argon2-cffi->jupyter-server~=1.16->jupyterlab->-r /content/drive/MyDrive/Colab Notebooks/requirements.txt (line 1)) (2.21)\n",
            "Requirement already satisfied: pytz>=2015.7 in /usr/local/lib/python3.7/dist-packages (from babel->jupyterlab-server~=2.10->jupyterlab->-r /content/drive/MyDrive/Colab Notebooks/requirements.txt (line 1)) (2022.4)\n",
            "Requirement already satisfied: webencodings in /usr/local/lib/python3.7/dist-packages (from bleach->nbconvert>=6.4.4->jupyter-server~=1.16->jupyterlab->-r /content/drive/MyDrive/Colab Notebooks/requirements.txt (line 1)) (0.5.1)\n",
            "Requirement already satisfied: prompt-toolkit<2.1.0,>=2.0.0 in /usr/local/lib/python3.7/dist-packages (from ipython->jupyterlab->-r /content/drive/MyDrive/Colab Notebooks/requirements.txt (line 1)) (2.0.10)\n",
            "Requirement already satisfied: decorator in /usr/local/lib/python3.7/dist-packages (from ipython->jupyterlab->-r /content/drive/MyDrive/Colab Notebooks/requirements.txt (line 1)) (4.4.2)\n",
            "Collecting jedi>=0.10\n",
            "  Downloading jedi-0.18.1-py2.py3-none-any.whl (1.6 MB)\n",
            "\u001b[K     |████████████████████████████████| 1.6 MB 52.1 MB/s \n",
            "\u001b[?25hRequirement already satisfied: backcall in /usr/local/lib/python3.7/dist-packages (from ipython->jupyterlab->-r /content/drive/MyDrive/Colab Notebooks/requirements.txt (line 1)) (0.2.0)\n",
            "Requirement already satisfied: pexpect in /usr/local/lib/python3.7/dist-packages (from ipython->jupyterlab->-r /content/drive/MyDrive/Colab Notebooks/requirements.txt (line 1)) (4.8.0)\n",
            "Requirement already satisfied: pickleshare in /usr/local/lib/python3.7/dist-packages (from ipython->jupyterlab->-r /content/drive/MyDrive/Colab Notebooks/requirements.txt (line 1)) (0.7.5)\n",
            "Requirement already satisfied: parso<0.9.0,>=0.8.0 in /usr/local/lib/python3.7/dist-packages (from jedi>=0.10->ipython->jupyterlab->-r /content/drive/MyDrive/Colab Notebooks/requirements.txt (line 1)) (0.8.3)\n",
            "Requirement already satisfied: wcwidth in /usr/local/lib/python3.7/dist-packages (from prompt-toolkit<2.1.0,>=2.0.0->ipython->jupyterlab->-r /content/drive/MyDrive/Colab Notebooks/requirements.txt (line 1)) (0.2.5)\n",
            "Collecting notebook-shim>=0.1.0\n",
            "  Downloading notebook_shim-0.1.0-py3-none-any.whl (13 kB)\n",
            "Installing collected packages: traitlets, tornado, nest-asyncio, tinycss2, sniffio, nbclient, mistune, jupyterlab-pygments, jinja2, argon2-cffi-bindings, websocket-client, prometheus-client, nbconvert, jedi, argon2-cffi, anyio, jupyter-server, notebook-shim, json5, nbclassic, jupyterlab-server, tensorflow-addons, jupyterlab\n",
            "  Attempting uninstall: traitlets\n",
            "    Found existing installation: traitlets 5.1.1\n",
            "    Uninstalling traitlets-5.1.1:\n",
            "      Successfully uninstalled traitlets-5.1.1\n",
            "  Attempting uninstall: tornado\n",
            "    Found existing installation: tornado 5.1.1\n",
            "    Uninstalling tornado-5.1.1:\n",
            "      Successfully uninstalled tornado-5.1.1\n",
            "  Attempting uninstall: mistune\n",
            "    Found existing installation: mistune 0.8.4\n",
            "    Uninstalling mistune-0.8.4:\n",
            "      Successfully uninstalled mistune-0.8.4\n",
            "  Attempting uninstall: jinja2\n",
            "    Found existing installation: Jinja2 2.11.3\n",
            "    Uninstalling Jinja2-2.11.3:\n",
            "      Successfully uninstalled Jinja2-2.11.3\n",
            "  Attempting uninstall: nbconvert\n",
            "    Found existing installation: nbconvert 5.6.1\n",
            "    Uninstalling nbconvert-5.6.1:\n",
            "      Successfully uninstalled nbconvert-5.6.1\n",
            "\u001b[31mERROR: pip's dependency resolver does not currently take into account all the packages that are installed. This behaviour is the source of the following dependency conflicts.\n",
            "google-colab 1.0.0 requires tornado~=5.1.0, but you have tornado 6.2 which is incompatible.\n",
            "flask 1.1.4 requires Jinja2<3.0,>=2.10.1, but you have jinja2 3.1.2 which is incompatible.\u001b[0m\n",
            "Successfully installed anyio-3.6.1 argon2-cffi-21.3.0 argon2-cffi-bindings-21.2.0 jedi-0.18.1 jinja2-3.1.2 json5-0.9.10 jupyter-server-1.19.1 jupyterlab-3.4.8 jupyterlab-pygments-0.2.2 jupyterlab-server-2.15.2 mistune-2.0.4 nbclassic-0.4.5 nbclient-0.7.0 nbconvert-7.2.1 nest-asyncio-1.5.6 notebook-shim-0.1.0 prometheus-client-0.14.1 sniffio-1.3.0 tensorflow-addons-0.18.0 tinycss2-1.1.1 tornado-6.2 traitlets-5.4.0 websocket-client-1.4.1\n"
          ]
        },
        {
          "output_type": "display_data",
          "data": {
            "application/vnd.colab-display-data+json": {
              "pip_warning": {
                "packages": [
                  "tornado"
                ]
              }
            }
          },
          "metadata": {}
        }
      ],
      "source": [
        "# you may not run this cell after the first installation\n",
        "!pip install -r \"/content/drive/MyDrive/Colab Notebooks/requirements.txt\""
      ]
    },
    {
      "cell_type": "code",
      "source": [
        "from google.colab import drive\n",
        "drive.mount('/content/drive')"
      ],
      "metadata": {
        "colab": {
          "base_uri": "https://localhost:8080/"
        },
        "id": "UDIGvi60k8xB",
        "outputId": "2a4cf17d-47c8-4d0d-fd7c-d42830975944"
      },
      "id": "UDIGvi60k8xB",
      "execution_count": 1,
      "outputs": [
        {
          "output_type": "stream",
          "name": "stdout",
          "text": [
            "Mounted at /content/drive\n"
          ]
        }
      ]
    },
    {
      "cell_type": "code",
      "execution_count": 4,
      "id": "91d76782-187b-4da7-baf2-d92655c79d63",
      "metadata": {
        "colab": {
          "base_uri": "https://localhost:8080/"
        },
        "id": "91d76782-187b-4da7-baf2-d92655c79d63",
        "outputId": "45fe42f2-3bf2-4706-ef7f-263234f17e4f",
        "tags": []
      },
      "outputs": [
        {
          "output_type": "execute_result",
          "data": {
            "text/plain": [
              "[PhysicalDevice(name='/physical_device:GPU:0', device_type='GPU')]"
            ]
          },
          "metadata": {},
          "execution_count": 4
        }
      ],
      "source": [
        "import tensorflow as tf\n",
        "\n",
        "\n",
        "tf.config.list_physical_devices('GPU')"
      ]
    },
    {
      "cell_type": "markdown",
      "id": "63231e67-b83e-4628-9c49-31b6d096b4f7",
      "metadata": {
        "id": "63231e67-b83e-4628-9c49-31b6d096b4f7",
        "tags": []
      },
      "source": [
        "## 1. Data Processing (5 points)\n",
        "\n",
        "* Download the dataset from Canvas\n",
        "* Load data to text and labels\n",
        "* Preprocessing\n",
        "* Tokenization\n",
        "* Split data\n",
        "* Feature extraction (TF-IDF)"
      ]
    },
    {
      "cell_type": "markdown",
      "id": "d184b3d1-7b4b-4ee0-85b9-12a205f58687",
      "metadata": {
        "id": "d184b3d1-7b4b-4ee0-85b9-12a205f58687"
      },
      "source": [
        "#### Download NLTK stopwords"
      ]
    },
    {
      "cell_type": "code",
      "execution_count": 5,
      "id": "636b2ba9-1e79-4479-b1d8-28e139590cf2",
      "metadata": {
        "colab": {
          "base_uri": "https://localhost:8080/"
        },
        "id": "636b2ba9-1e79-4479-b1d8-28e139590cf2",
        "outputId": "7ea06079-d3ac-4e6c-e0ba-3b015133a566"
      },
      "outputs": [
        {
          "output_type": "stream",
          "name": "stderr",
          "text": [
            "[nltk_data] Downloading package stopwords to a2-data/nltk...\n",
            "[nltk_data]   Unzipping corpora/stopwords.zip.\n"
          ]
        }
      ],
      "source": [
        "import os\n",
        "\n",
        "import nltk\n",
        "\n",
        "\n",
        "nltk_path = os.path.join('a2-data', 'nltk')\n",
        "nltk.download('stopwords', download_dir=nltk_path)\n",
        "nltk.data.path.append(nltk_path)"
      ]
    },
    {
      "cell_type": "code",
      "execution_count": 6,
      "id": "a98cc310-65bb-49dc-bd54-476f4e941f7d",
      "metadata": {
        "id": "a98cc310-65bb-49dc-bd54-476f4e941f7d"
      },
      "outputs": [],
      "source": [
        "import sys\n",
        "\n",
        "\n",
        "def print_line(*args):\n",
        "    \"\"\" Inline print and go to the begining of line\n",
        "    \"\"\"\n",
        "    args1 = [str(arg) for arg in args]\n",
        "    str_ = ' '.join(args1)\n",
        "    sys.stdout.write(str_ + '\\r')\n",
        "    sys.stdout.flush()"
      ]
    },
    {
      "cell_type": "code",
      "execution_count": 7,
      "id": "653997a8-637a-4725-8ee5-f240913e0644",
      "metadata": {
        "id": "653997a8-637a-4725-8ee5-f240913e0644"
      },
      "outputs": [],
      "source": [
        "from typing import List, Tuple, Union\n",
        "\n",
        "import numpy as np"
      ]
    },
    {
      "cell_type": "markdown",
      "id": "b9eb08e4-91fa-4d1e-bc92-0445397567ca",
      "metadata": {
        "id": "b9eb08e4-91fa-4d1e-bc92-0445397567ca"
      },
      "source": [
        "### 1.1 Load data\n",
        "\n",
        "- Load sentences and labels\n",
        "- Transform string labels into integers"
      ]
    },
    {
      "cell_type": "code",
      "execution_count": 8,
      "id": "9fc26198-cfbf-4c2f-89e6-460f5277c177",
      "metadata": {
        "id": "9fc26198-cfbf-4c2f-89e6-460f5277c177"
      },
      "outputs": [],
      "source": [
        "def load_sentence_label(data_path: str) -> Tuple[List[str], List[str]]:\n",
        "    \"\"\" Load sentences and labels from the specified path\n",
        "    Args:\n",
        "        data_path: data_path: path to the data file, e.g., 'a1-data/SMSSpamCollection'\n",
        "        sentences: the raw text list of all sentences\n",
        "    Returns:\n",
        "        labels: the label list of all sentences\n",
        "    \"\"\"\n",
        "    sentences, labels = [], []\n",
        "    # Start your code here (load text and label from files)\n",
        "    with open(data_path) as f:\n",
        "        lines = f.readlines()\n",
        "        \n",
        "    mapper = map(lambda x: x.split(\"\\t\"), lines)\n",
        "    \n",
        "    for item in mapper:\n",
        "        labels.append(item[0])\n",
        "        sentences.append(item[1])\n",
        "    \n",
        "    # End\n",
        "    return sentences, labels"
      ]
    },
    {
      "cell_type": "code",
      "execution_count": 10,
      "id": "103a0975-aaa9-48ac-9a2b-445757ef614b",
      "metadata": {
        "colab": {
          "base_uri": "https://localhost:8080/"
        },
        "id": "103a0975-aaa9-48ac-9a2b-445757ef614b",
        "outputId": "87c64cb6-4d7d-4bc1-bb5c-bfcf8854c3cc"
      },
      "outputs": [
        {
          "output_type": "stream",
          "name": "stdout",
          "text": [
            "Label map: {'Arthur Conan Doyle': 0, 'Fyodor Dostoyevsky': 1, 'Jane Austen': 2}\n",
            "Number of sentences and labels: 19536 19536\n"
          ]
        }
      ],
      "source": [
        "data_path = os.path.join('/content/drive/MyDrive/Colab Notebooks/a2-data', 'books.txt')\n",
        "sentences, labels = load_sentence_label(data_path)\n",
        "\n",
        "label_map = {}\n",
        "for label in sorted(list(set(labels))):\n",
        "    label_map[label] = len(label_map)\n",
        "labels = np.array([label_map[label] for label in labels], dtype=int)\n",
        "sentences = np.array(sentences, dtype=object)\n",
        "\n",
        "print('Label map:', label_map)\n",
        "print('Number of sentences and labels:', len(sentences), len(labels))"
      ]
    },
    {
      "cell_type": "markdown",
      "id": "b20468e5-9fb9-48ec-ae47-92b463549853",
      "metadata": {
        "id": "b20468e5-9fb9-48ec-ae47-92b463549853"
      },
      "source": [
        "#### Split the data into training, validation and test"
      ]
    },
    {
      "cell_type": "code",
      "execution_count": 11,
      "id": "dba74813-eb7f-484c-bc9a-0f391ae48a09",
      "metadata": {
        "id": "dba74813-eb7f-484c-bc9a-0f391ae48a09"
      },
      "outputs": [],
      "source": [
        "import math\n",
        "def train_test_split(sentences: np.ndarray,\n",
        "                     labels: np.ndarray,\n",
        "                     test_ratio: float = 0.2) -> Tuple[np.ndarray, np.ndarray, np.ndarray, np.ndarray]:\n",
        "    \"\"\" Split the sentences and labels into training and test data by shuffling\n",
        "    Args:\n",
        "        sentences: A numpy array containing all sentences\n",
        "        labels: A number array containing label ids\n",
        "        test_ratio: A float number to calculate the number of test data\n",
        "\n",
        "    Returns:\n",
        "        train_sentences: A numpy array containing all training sentences\n",
        "        train_labels: A number array containing all training label ids\n",
        "        test_sentences: A numpy array containing all test sentences\n",
        "        test_labels: A number array containing all test label ids\n",
        "    \"\"\"\n",
        "    assert 0 < test_ratio < 1\n",
        "    assert len(sentences) == len(labels)\n",
        "\n",
        "    train_index, test_index = [], []\n",
        "    \n",
        "    # Start your code here (split the index for training and test)\n",
        "    \n",
        "    end = math.ceil((1-test_ratio)*len(labels))\n",
        "    train_index = [i for i in range(end)]\n",
        "    test_index = [i for i in range(len(labels)-end)]\n",
        "    np.random.shuffle(train_index)\n",
        "    np.random.shuffle(train_index)\n",
        "\n",
        "    # End\n",
        "\n",
        "    train_sentences, train_labels = sentences[train_index], labels[train_index]\n",
        "    test_sentences, test_labels = sentences[test_index], labels[test_index]\n",
        "    return train_sentences, train_labels, test_sentences, test_labels"
      ]
    },
    {
      "cell_type": "code",
      "execution_count": 12,
      "id": "1757acef-5872-4683-86da-c4ae68af7f18",
      "metadata": {
        "colab": {
          "base_uri": "https://localhost:8080/"
        },
        "id": "1757acef-5872-4683-86da-c4ae68af7f18",
        "outputId": "0442820a-7c44-4d5d-d78d-a1993342b2b8"
      },
      "outputs": [
        {
          "output_type": "stream",
          "name": "stdout",
          "text": [
            "Training data length: 14067\n",
            "Validation data length: 1562\n",
            "Test data length: 3907\n"
          ]
        }
      ],
      "source": [
        "np.random.seed(6666)\n",
        "\n",
        "test_ratio = 0.2\n",
        "valid_ratio = 0.1\n",
        "(train_sentences, train_labels,\n",
        "    test_sentences, test_labels) = train_test_split(sentences, labels, test_ratio)\n",
        "(train_sentences, train_labels,\n",
        "    valid_sentences, valid_labels) = train_test_split(train_sentences, train_labels, valid_ratio)\n",
        "\n",
        "print('Training data length:', len(train_sentences))\n",
        "print('Validation data length:', len(valid_sentences))\n",
        "print('Test data length:', len(test_sentences))"
      ]
    },
    {
      "cell_type": "code",
      "execution_count": 13,
      "id": "f1202227-1197-4c6c-b1c4-525bcbb65ea9",
      "metadata": {
        "id": "f1202227-1197-4c6c-b1c4-525bcbb65ea9"
      },
      "outputs": [],
      "source": [
        "def count_label(labels: np.ndarray, label_map):\n",
        "    \"\"\"\n",
        "    Args:\n",
        "        labels: The labels of a dataset \n",
        "        label_map: The mapping from label to label id\n",
        "    Returns:\n",
        "        label_count: The mapping from label to its count\n",
        "    \"\"\"\n",
        "    label_count = {key: 0 for key in label_map.keys()}\n",
        "    # Start your code here (count the number of each label)\n",
        "    label_count = {key: 0 for key in label_map.keys()}\n",
        "    # Start your code here (count the number of each label)\n",
        "    arthur_conan_doyle = len(list(filter(lambda x : x==0, labels)))\n",
        "    fyodor_dostoyevsky = len(list(filter(lambda x : x==1, labels)))\n",
        "    jane_austen = len(list(filter(lambda x : x==2, labels)))\n",
        "    label_count['Arthur Conan Doyle']=arthur_conan_doyle\n",
        "    label_count['Fyodor Dostoyevsky']=fyodor_dostoyevsky\n",
        "    label_count['Jane Austen']=jane_austen\n",
        "    # End\n",
        "    return label_count"
      ]
    },
    {
      "cell_type": "code",
      "execution_count": 14,
      "id": "e7744c12-8055-478a-b64b-67104fd81c92",
      "metadata": {
        "colab": {
          "base_uri": "https://localhost:8080/"
        },
        "id": "e7744c12-8055-478a-b64b-67104fd81c92",
        "outputId": "6faadae1-36c6-48c1-8f8c-ab6e3b1e1269"
      },
      "outputs": [
        {
          "output_type": "stream",
          "name": "stdout",
          "text": [
            "Training: {'Arthur Conan Doyle': 2281, 'Fyodor Dostoyevsky': 1846, 'Jane Austen': 9940}\n",
            "Validation: {'Arthur Conan Doyle': 262, 'Fyodor Dostoyevsky': 198, 'Jane Austen': 1102}\n",
            "Test: {'Arthur Conan Doyle': 0, 'Fyodor Dostoyevsky': 0, 'Jane Austen': 3907}\n"
          ]
        }
      ],
      "source": [
        "print('Training:', count_label(train_labels, label_map))\n",
        "print('Validation:', count_label(valid_labels, label_map))\n",
        "print('Test:', count_label(test_labels, label_map))\n"
      ]
    },
    {
      "cell_type": "markdown",
      "id": "47476cac-f0da-4b92-aa09-8f57e61053e9",
      "metadata": {
        "id": "47476cac-f0da-4b92-aa09-8f57e61053e9"
      },
      "source": [
        "#### Dataset statistics\n",
        "Fill this table with the statistics you just printed (double click this cell to edit)\n",
        "\n",
        "|                | Arthur Conan Doyle | Fyodor Dostoyevsky | Jane Austen | Total |\n",
        "|:--------------:|--------------------|--------------------|-------------|-------|\n",
        "|  **Training**  |      2281          |      1846          |    9940     | 14067 |\n",
        "| **Validation** |      262           |      198           |    1102     | 1562  |\n",
        "|    **Test**    |      0             |       0            |    3907     | 3907  |\n",
        "|    **Total**   |      2543          |      2044          |    14949    | 19536 |"
      ]
    },
    {
      "cell_type": "markdown",
      "id": "ff8438e6-64a6-4355-b39f-88bdf3550593",
      "metadata": {
        "id": "ff8438e6-64a6-4355-b39f-88bdf3550593"
      },
      "source": [
        "### 1.2 Preprocess\n",
        "In this section, you need to remove all the unrelated characters, including punctuation, urls, and numbers. Please fill up the functions and test them by running the following cell."
      ]
    },
    {
      "cell_type": "code",
      "execution_count": 15,
      "id": "1007c276-5692-4f3b-afd8-d2be06f6ecfd",
      "metadata": {
        "id": "1007c276-5692-4f3b-afd8-d2be06f6ecfd"
      },
      "outputs": [],
      "source": [
        "import re\n",
        "import string\n",
        "\n",
        "class Preprocessor:\n",
        "    def __init__(self, punctuation=True, url=True, number=True):\n",
        "        self.punctuation = punctuation\n",
        "        self.url = url\n",
        "        self.number = number\n",
        "\n",
        "    def apply(self, sentence: str) -> str:\n",
        "        \"\"\" Apply the preprocessing rules to the sentence\n",
        "        Args:\n",
        "            sentence: raw sentence\n",
        "        Returns:\n",
        "            sentence: clean sentence\n",
        "        \"\"\"\n",
        "        sentence = sentence.lower()\n",
        "        if self.url:\n",
        "            sentence = Preprocessor.remove_url(sentence)\n",
        "        if self.punctuation:\n",
        "            sentence = Preprocessor.remove_punctuation(sentence)\n",
        "        if self.number:\n",
        "            sentence = Preprocessor.remove_number(sentence)\n",
        "        sentence = re.sub(r'\\s+', ' ', sentence)\n",
        "        return sentence\n",
        "\n",
        "    @staticmethod\n",
        "    def remove_punctuation(sentence: str) -> str:\n",
        "        \"\"\" Remove punctuations in sentence with re\n",
        "        Args:\n",
        "            sentence: sentence with possible punctuations\n",
        "        Returns:\n",
        "            sentence: sentence without punctuations\n",
        "        \"\"\"\n",
        "        # Start your code here\n",
        "        sentence = sentence.translate(str.maketrans('','', string.punctuation))   \n",
        "\n",
        "        # End\n",
        "        return sentence\n",
        "\n",
        "    @staticmethod\n",
        "    def remove_url(sentence: str) -> str:\n",
        "        \"\"\" Remove urls in text with re\n",
        "        Args:\n",
        "            sentence: sentence with possible urls\n",
        "        Returns:\n",
        "            sentence: sentence without urls\n",
        "        \"\"\"\n",
        "        # Start your code here\n",
        "        pattern = re.compile(\"(https?:\\/\\/(?:www\\.|(?!www))[a-zA-Z0-9][a-zA-Z0-9-]+[a-zA-Z0-9]\\.[^\\s]{2,}|www\\.[a-zA-Z0-9][a-zA-Z0-9-]+[a-zA-Z0-9]\\.[^\\s]{2,}|https?:\\/\\/(?:www\\.|(?!www))[a-zA-Z0-9]+\\.[^\\s]{2,}|www\\.[a-zA-Z0-9]+\\.[^\\s]{2,})\")\n",
        "        sentence = pattern.sub('', sentence)\n",
        "        # End\n",
        "        return sentence\n",
        "\n",
        "    @staticmethod\n",
        "    def remove_number(sentence: str) -> str:\n",
        "        \"\"\" Remove numbers in sentence with re\n",
        "        Args:\n",
        "            sentence: sentence with possible numbers\n",
        "        Returns:\n",
        "            sentence: sentence without numbers\n",
        "        \"\"\"\n",
        "        # Start your code here\n",
        "        sentence = sentence.translate(str.maketrans('','',string.digits))\n",
        "        # End\n",
        "        return sentence"
      ]
    },
    {
      "cell_type": "markdown",
      "id": "c56c4e51-e434-4703-a23e-bb609c0d3b51",
      "metadata": {
        "id": "c56c4e51-e434-4703-a23e-bb609c0d3b51"
      },
      "source": [
        "##### Test your implementation by running the following cell."
      ]
    },
    {
      "cell_type": "code",
      "execution_count": 16,
      "id": "bbf21295-1e18-46ab-b9fe-07fba8d9e4c0",
      "metadata": {
        "colab": {
          "base_uri": "https://localhost:8080/"
        },
        "id": "bbf21295-1e18-46ab-b9fe-07fba8d9e4c0",
        "outputId": "cee94f8a-af2c-4a00-ba04-c22132da9571"
      },
      "outputs": [
        {
          "output_type": "stream",
          "name": "stdout",
          "text": [
            "\"Interest rates are trimmed to 7.5 by the South African central bank (https://www.xxx.xxx), but the lack of warning hits the rand and surprises markets.\"\n",
            "===>\n",
            "\"interest rates are trimmed to by the south african central bank but the lack of warning hits the rand and surprises markets\"\n"
          ]
        }
      ],
      "source": [
        "sentence = \"Interest rates are trimmed to 7.5 by the South African central bank (https://www.xxx.xxx), but the lack of warning hits the rand and surprises markets.\"\n",
        "\n",
        "processor = Preprocessor()\n",
        "clean_sentence = processor.apply(sentence)\n",
        "\n",
        "print(f'\"{sentence}\"') \n",
        "print('===>')\n",
        "print(f'\"{clean_sentence}\"')"
      ]
    },
    {
      "cell_type": "markdown",
      "id": "9e173a8d-8f57-40e6-b278-052290ab9ffe",
      "metadata": {
        "id": "9e173a8d-8f57-40e6-b278-052290ab9ffe"
      },
      "source": [
        "### 1.3 Tokenization"
      ]
    },
    {
      "cell_type": "code",
      "execution_count": 17,
      "id": "facf2964-b766-4a2a-8709-ac831c041b30",
      "metadata": {
        "colab": {
          "base_uri": "https://localhost:8080/"
        },
        "id": "facf2964-b766-4a2a-8709-ac831c041b30",
        "outputId": "cccc3ac5-e7f7-41c9-c919-b26737b95722"
      },
      "outputs": [
        {
          "output_type": "stream",
          "name": "stdout",
          "text": [
            "['other', 've', 'to', 'hers', 'hasn', 'weren', 'are', 'against', 'been', 'all']\n"
          ]
        }
      ],
      "source": [
        "from nltk.tokenize import word_tokenize\n",
        "from nltk import PorterStemmer\n",
        "from nltk.corpus import stopwords\n",
        "\n",
        "\n",
        "stopwords_set = set(stopwords.words('english'))\n",
        "stemmer = PorterStemmer()\n",
        "print(list(stopwords_set)[:10])"
      ]
    },
    {
      "cell_type": "code",
      "execution_count": 18,
      "id": "e3fc31ba-ee84-4268-9f7c-f15fe7169151",
      "metadata": {
        "id": "e3fc31ba-ee84-4268-9f7c-f15fe7169151"
      },
      "outputs": [],
      "source": [
        "def tokenize(sentence: str) -> List[str]:\n",
        "    \"\"\" Tokenize a sentence into tokens (words)\n",
        "    Args:\n",
        "        sentence: clean sentence\n",
        "    Returns:\n",
        "        tokens\n",
        "    \"\"\"\n",
        "    words = []\n",
        "    # Start your code here\n",
        "    #     Step 1. Split sentence into words\n",
        "    #     Step 2. Extract word stem using the defined stemmer (PorterStemmer) by calling stemmer.stem(word)\n",
        "    #     Step 3. Remove stop words using the defined stopwords_set\n",
        "    \n",
        "    tokens = word_tokenize(sentence)\n",
        "    tokens = [token for token in tokens if token not in stopwords_set]  \n",
        "    words = [stemmer.stem(token) for token in tokens]\n",
        "    \n",
        "    # End\n",
        "    return words"
      ]
    },
    {
      "cell_type": "markdown",
      "id": "9bfc568d-4343-42c5-9c5b-c4e4627ebae6",
      "metadata": {
        "id": "9bfc568d-4343-42c5-9c5b-c4e4627ebae6"
      },
      "source": [
        "##### Test your implementation by running the following block."
      ]
    },
    {
      "cell_type": "code",
      "execution_count": 19,
      "id": "f1ea9a53-a8f5-4f46-b30e-5116714adcf0",
      "metadata": {
        "colab": {
          "base_uri": "https://localhost:8080/"
        },
        "id": "f1ea9a53-a8f5-4f46-b30e-5116714adcf0",
        "outputId": "f4dbc266-9def-47ad-b598-f703f34d4512"
      },
      "outputs": [
        {
          "output_type": "stream",
          "name": "stderr",
          "text": [
            "[nltk_data] Downloading package punkt to /root/nltk_data...\n",
            "[nltk_data]   Unzipping tokenizers/punkt.zip.\n"
          ]
        },
        {
          "output_type": "stream",
          "name": "stdout",
          "text": [
            "\"Interest rates are trimmed to 7.5 by the South African central bank (https://www.xxx.xxx), but the lack of warning hits the rand and surprises markets.\"\n",
            "===>\n",
            "\"['interest', 'rate', 'trim', 'south', 'african', 'central', 'bank', 'lack', 'warn', 'hit', 'rand', 'surpris', 'market']\"\n"
          ]
        }
      ],
      "source": [
        "import nltk\n",
        "nltk.download('punkt')\n",
        "\n",
        "sentence = \"Interest rates are trimmed to 7.5 by the South African central bank (https://www.xxx.xxx), but the lack of warning hits the rand and surprises markets.\"\n",
        "\n",
        "processor = Preprocessor()\n",
        "clean_sentence = processor.apply(sentence)\n",
        "tokens = tokenize(clean_sentence)\n",
        "\n",
        "print(f'\"{sentence}\"') \n",
        "print('===>')\n",
        "print(f'\"{tokens}\"')"
      ]
    },
    {
      "cell_type": "markdown",
      "id": "7ccea260-2e4c-45e6-8d07-953452fd8c4b",
      "metadata": {
        "id": "7ccea260-2e4c-45e6-8d07-953452fd8c4b"
      },
      "source": [
        "### 1.5 Feature Extraction\n",
        "\n",
        "TF-IDF:\n",
        "$$\\text{TF-IDF}(t, d) = \\frac{f_{t, d}}{\\sum_{t'}{f_{t', d}}} \\times \\log{\\frac{N}{n_t}}$$\n",
        "\n",
        "- $t$: A term\n",
        "- $d$: A document. Here, we regard a sentence as a document\n",
        "- $f_{t, d}$: Number of term $t$ in $d$\n",
        "- $N$: Number of document\n",
        "- $n_t$: Number of document containing $t$"
      ]
    },
    {
      "cell_type": "code",
      "execution_count": 20,
      "id": "fc82e419-05d8-4919-8b97-194b2933171a",
      "metadata": {
        "id": "fc82e419-05d8-4919-8b97-194b2933171a"
      },
      "outputs": [],
      "source": [
        "from collections import defaultdict,Counter\n",
        "\n",
        "\n",
        "class TfIdfEncoder:\n",
        "    def __init__(self):\n",
        "        self.vocab = defaultdict(int)\n",
        "        self.token2index = {}\n",
        "        self.df = defaultdict(int)\n",
        "        self.num_doc = 0\n",
        "        self.processor = Preprocessor()\n",
        "\n",
        "    def fit(self, sentences: Union[List[str], np.ndarray]) -> int:\n",
        "        \"\"\" Using the given texts to store key information in TF-IDF calculation\n",
        "            In this function, you are required to implement the fitting process.\n",
        "                1. Construct the vocabulary and store the frequency of tokens (self.vocab).\n",
        "                2. Construct the document frequency map to tokens (self.df).\n",
        "                3. Construct the token to index map based on the frequency.\n",
        "                   The token with a higher frequency has the smaller index\n",
        "        Args:\n",
        "            sentences: Raw sentences\n",
        "        Returns:\n",
        "            token_num\n",
        "        \"\"\"\n",
        "        self.num_doc = len(sentences)\n",
        "        for i, sentence in enumerate(sentences):\n",
        "            if i % 100 == 0 or i == len(sentences) - 1:\n",
        "                print_line('Fitting TF-IDF encoder:', (i + 1), '/', len(sentences))\n",
        "            # Start your code here (step 1 & 2)\n",
        "            clean_sentences = self.processor.apply(sentence)\n",
        "            tokens = tokenize(clean_sentences)\n",
        "\n",
        "            token_counter = Counter(tokens)\n",
        "            \n",
        "            for i,j in token_counter.items():\n",
        "                self.vocab[i] += j\n",
        "                self.df[i] += 1\n",
        "                       \n",
        "            # End\n",
        "        print_line('\\n')\n",
        "        # Start your code here (Step 3\n",
        "        \n",
        "        self.vocab = {i:j for i,j in sorted(self.vocab.items(), key=lambda x:x[1], reverse=True)}\n",
        "        self.vocab = {key: self.vocab[key] for key in list(self.vocab.keys())}\n",
        "        self.token2index = {key: idx for idx, key in enumerate(self.vocab.keys())}\n",
        "        \n",
        "        # End\n",
        "        token_num = len(self.token2index) \n",
        "        print('The number of distinct tokens:', token_num)\n",
        "        return token_num\n",
        "\n",
        "    def encode(self, sentences: Union[List[str], np.ndarray]) -> np.ndarray:\n",
        "        \"\"\" Encode the sentences into TF-IDF feature vector\n",
        "            Note: if a token in a sentence does not exist in the fit encoder, we just ignore it.\n",
        "        Args:\n",
        "            sentences: Raw sentences\n",
        "        Returns:\n",
        "            features: A (n x token_num) matrix, where n is the number of sentences\n",
        "        \"\"\"\n",
        "        n = len(sentences)\n",
        "        features = np.zeros((n, len(self.token2index)))\n",
        "        for i, sentence in enumerate(sentences):\n",
        "            if i % 100 == 0 or i == n - 1:\n",
        "                print_line('Encoding with TF-IDF encoder:', (i + 1), '/', n)\n",
        "            # Start your code (calculate TF-IDF)\n",
        "            clean_sentence = self.processor.apply(sentence)\n",
        "            tokens = tokenize(clean_sentence)\n",
        "            \n",
        "            tokens_counter = Counter(tokens)\n",
        "            \n",
        "            for token, counter in tokens_counter.items():\n",
        "                if token in self.vocab:\n",
        "                    features[i][self.token2index[token]] = counter/min(len(tokens),len(self.vocab))\n",
        "\n",
        "        idf_values = np.zeros(len(self.vocab))\n",
        "\n",
        "        for i,j in self.df.items():\n",
        "            if i in self.vocab:\n",
        "                idf_values[self.token2index[i]] = np.log((self.num_doc + 1)/(j + 1))+1\n",
        "                \n",
        "        features = features*idf_values[:,]\n",
        "\n",
        "            # End\n",
        "        print_line('\\n')\n",
        "        return features"
      ]
    },
    {
      "cell_type": "markdown",
      "id": "61755eeb-5d1c-4923-b58a-0e9409f4b4cd",
      "metadata": {
        "id": "61755eeb-5d1c-4923-b58a-0e9409f4b4cd"
      },
      "source": [
        "##### Test your implementation by running the following cell."
      ]
    },
    {
      "cell_type": "code",
      "execution_count": 21,
      "id": "f1c1bd2b-4d06-46f2-97da-9ce53fb714ec",
      "metadata": {
        "colab": {
          "base_uri": "https://localhost:8080/"
        },
        "id": "f1c1bd2b-4d06-46f2-97da-9ce53fb714ec",
        "outputId": "4dd7a6af-0b9a-4ca5-b308-4391f3437c21"
      },
      "outputs": [
        {
          "output_type": "stream",
          "name": "stdout",
          "text": [
            "\n",
            "The number of distinct tokens: 1464\n",
            "\n",
            "[[0.         0.         0.         ... 0.         0.         0.        ]\n",
            " [0.         0.         0.         ... 0.         0.         0.        ]\n",
            " [0.         0.         0.         ... 0.         0.         0.        ]\n",
            " [0.22542057 0.         0.         ... 0.         0.         0.        ]\n",
            " [0.         0.         0.04526579 ... 0.         0.         0.        ]]\n"
          ]
        }
      ],
      "source": [
        "encoder = TfIdfEncoder()\n",
        "encoder.fit(train_sentences[:100])\n",
        "features = encoder.encode(train_sentences[:10])\n",
        "\n",
        "print(features[:5])"
      ]
    },
    {
      "cell_type": "markdown",
      "id": "1f6e3946-8032-474c-9643-74ee3c5fcdb9",
      "metadata": {
        "id": "1f6e3946-8032-474c-9643-74ee3c5fcdb9"
      },
      "source": [
        "#### Encode training, validation, and test dataset"
      ]
    },
    {
      "cell_type": "code",
      "execution_count": 22,
      "id": "85fd6854-727c-4cfd-bb66-e080f21dd909",
      "metadata": {
        "colab": {
          "base_uri": "https://localhost:8080/"
        },
        "id": "85fd6854-727c-4cfd-bb66-e080f21dd909",
        "outputId": "fbeb1bab-22b0-4c95-9092-e0aed13558f6"
      },
      "outputs": [
        {
          "output_type": "stream",
          "name": "stdout",
          "text": [
            "\n",
            "The number of distinct tokens: 16760\n",
            "\n",
            "\n",
            "\n",
            "The size of training set: (14067, 16760) (14067, 3)\n",
            "The size of validation set: (1562, 16760) (1562, 3)\n",
            "The size of test set: (3907, 16760) (3907, 3)\n"
          ]
        }
      ],
      "source": [
        "num_class = 3\n",
        "\n",
        "encoder = TfIdfEncoder()\n",
        "vocab_size = encoder.fit(train_sentences)\n",
        "\n",
        "x_train = encoder.encode(train_sentences)\n",
        "x_valid = encoder.encode(valid_sentences)\n",
        "x_test = encoder.encode(test_sentences)\n",
        "\n",
        "y_train = np.zeros((len(train_labels), num_class))\n",
        "y_valid = np.zeros((len(valid_labels), num_class))\n",
        "y_test = np.zeros((len(test_labels), num_class))\n",
        "y_train[np.arange(len(train_labels)), train_labels] = 1\n",
        "y_valid[np.arange(len(valid_labels)), valid_labels] = 1\n",
        "y_test[np.arange(len(test_labels)), test_labels] = 1\n",
        "\n",
        "print('The size of training set:', x_train.shape, y_train.shape)\n",
        "print('The size of validation set:', x_valid.shape, y_valid.shape)\n",
        "print('The size of test set:', x_test.shape, y_test.shape)"
      ]
    },
    {
      "cell_type": "markdown",
      "id": "11e71bd1-478c-45e6-b679-6def46ff4829",
      "metadata": {
        "id": "11e71bd1-478c-45e6-b679-6def46ff4829"
      },
      "source": [
        "## 2. MLP (20 Points)\n",
        "In this section, you are required to implement a two-layer MLP model (input -> hidden layer -> output layer) with $L_2$ regularization from scratch. \n",
        "\n",
        "The objective function of LR for multi-class classification:\n",
        "\n",
        "$$J = L(\\mathbf{x}, \\mathbf{y} \\mid \\mathbf{w}, \\mathbf{b}) = -\\frac{1}{n}\\sum_{i=1}^{N}\\sum_{k=1}^{K}y_{ik}log\\frac{e^{f_k}}{\\sum_{c=1}^{K}e^{f_c}} + \\lambda \\sum_{j=1}^{d}w_{kj}^2$$\n",
        "\n",
        "- $z_1 = w_1x$\n",
        "- $h_1 = activation(z_1)$\n",
        "- $z_2 = w_2 h_1$\n",
        "- $\\hat{y} = softmax(z_2)$\n",
        "\n",
        "- $n$: Number of samples\n",
        "- $d$: Dimension of $\\mathbf{w}$\n",
        "- Here, you can use `sigmoid` as the activation function for the hidden layer."
      ]
    },
    {
      "cell_type": "markdown",
      "id": "944a5d09-483d-4fed-b8f8-6b5da594c59a",
      "metadata": {
        "id": "944a5d09-483d-4fed-b8f8-6b5da594c59a"
      },
      "source": [
        "### 2.1 MLP Model (5 Points)"
      ]
    },
    {
      "cell_type": "code",
      "execution_count": 23,
      "id": "44537480-4186-488f-b4e7-89d211054717",
      "metadata": {
        "id": "44537480-4186-488f-b4e7-89d211054717"
      },
      "outputs": [],
      "source": [
        "def softmax(x: np.ndarray, axis: int = -1) -> np.ndarray:\n",
        "    \"\"\" The softmax activation function\n",
        "    Args:\n",
        "        x: Input matrix or vector\n",
        "        axis: The dimension of x that needs to run softmax, default -1, i.e., the last dimension\n",
        "    Returns:\n",
        "        output: Softmax value of the specified dimension in x\n",
        "    \"\"\"\n",
        "    # Start your code here\n",
        "    x = np.exp(x)/np.sum(np.exp(x), axis=1, keepdims=True)\n",
        "    # End\n",
        "    return x\n",
        "\n",
        "\n",
        "def sigmoid(x: np.ndarray) -> np.ndarray:\n",
        "    \"\"\" The sigmoid activation function\n",
        "    Args:\n",
        "        x: Input matrix or vector\n",
        "    Returns:\n",
        "        output: Sigmoid value of each entry in x\n",
        "    \"\"\"\n",
        "    # Start your code here\n",
        "    x = 1 / (1 + np.exp(-x))\n",
        "    # End\n",
        "    return x"
      ]
    },
    {
      "cell_type": "code",
      "execution_count": 24,
      "id": "e8fefa08-6231-4fbf-869a-d07ebce350f8",
      "metadata": {
        "id": "e8fefa08-6231-4fbf-869a-d07ebce350f8"
      },
      "outputs": [],
      "source": [
        "class MLP:\n",
        "    def __init__(self, feature_dim: int, hidden_dim: int, num_class: int, lambda_: float):\n",
        "        \"\"\" MLP Model\n",
        "        Args:\n",
        "            feature_dim: feature dimension\n",
        "            hidden_dim: hidden units\n",
        "            num_class: number of class\n",
        "            lambda_: lambda in L2 regularizer\n",
        "        \"\"\"\n",
        "        # Start your code here (initialize weight and bias)\n",
        "        self.w1 = np.random.rand(hidden_dim, feature_dim)\n",
        "        self.b1 = np.random.rand(1)\n",
        "        self.w2 = np.random.rand(num_class, hidden_dim)\n",
        "        self.b2 = np.random.rand(1)\n",
        "\n",
        "        # End\n",
        "        self.lambda_ = lambda_\n",
        "        self.eps = 1e-9\n",
        "\n",
        "    def forward(self, x: np.ndarray, return_hiddens: bool = False) -> np.ndarray:\n",
        "        \"\"\" Forward process of logistic regression\n",
        "            Calculate y_hat using x\n",
        "        Args:\n",
        "            x: Input data\n",
        "            return_hiddens: If true the function will return h1 for gradient calculation\n",
        "        Returns:\n",
        "            y_hat: Output\n",
        "            h1: Hidden output, used for gradient calculation. Returned if return_hiddens is set to True\n",
        "        \"\"\"\n",
        "        y_hat = 0\n",
        "        h1 = 0, 0\n",
        "        w1, b1, w2, b2 = self.w1, self.b1, self.w2, self.b2\n",
        "        # Start your code here (calculate y_hat of MLP using x)\n",
        "        \n",
        "        z1 = np.matmul(x, self.w1.T)\n",
        "        h1 = sigmoid(z1)\n",
        "        \n",
        "        z2 = np.matmul(h1, self.w2.T)\n",
        "        y_hat = softmax(z2)\n",
        "        \n",
        "        # End\n",
        "        if return_hiddens:\n",
        "            return y_hat, h1\n",
        "        else:\n",
        "            return y_hat\n",
        "\n",
        "    def backward(self,\n",
        "                 x: np.ndarray,\n",
        "                 y_hat: np.ndarray,\n",
        "                 y: np.ndarray,\n",
        "                 h1: np.array) -> Tuple[np.ndarray, Union[float, np.ndarray], np.ndarray, Union[float, np.ndarray]]:\n",
        "        \"\"\" Backward process of logistic regression\n",
        "            Calculate the gradient of w and b\n",
        "        Args:\n",
        "            x: Input data\n",
        "            y_hat: Output of forward\n",
        "            y: Ground-truth\n",
        "            h1: Hidden output of the hidden layer\n",
        "        Returns:\n",
        "            dw1: Gradient of w1\n",
        "            db1: Gradient of b1\n",
        "            dw2: Gradient of w2\n",
        "            db2: Gradient of b2\n",
        "        \"\"\"\n",
        "        w1, w2 = self.w1, self.w2\n",
        "        dw1, db1, dw2, db2 = 0.0, 0.0, 0.0, 0.0\n",
        "        n = len(x)\n",
        "        # Start your code here (calculate the gradient of w and b)\n",
        "        dz2 = y_hat - y\n",
        "        dw2 = (1/n)*np.matmul(dz2.T, h1)\n",
        "        \n",
        "        db1 = np.mean((y_hat-y), axis=0)\n",
        "        \n",
        "        dz1 = np.multiply(np.matmul(dz2, self.w2), (h1>0).astype('int'))\n",
        "        dw1 = (1/n)*np.matmul(dz1.T, x)\n",
        "        \n",
        "        db2 = np.mean((y_hat-y), axis=0)\n",
        "        # End\n",
        "        return dw1, db1, dw2, db2\n",
        "\n",
        "    def categorical_cross_entropy_loss(self,\n",
        "                                       y_hat: np.ndarray,\n",
        "                                       y: np.ndarray) -> Union[float, np.ndarray]:\n",
        "        \"\"\" Calculate the binary cross-entropy loss\n",
        "        Args:\n",
        "            y_hat: Output of forward\n",
        "            y: Ground-truth\n",
        "        Returns:\n",
        "            loss: BCE loss\n",
        "        \"\"\"\n",
        "        y_hat = np.clip(y_hat, a_min=self.eps, a_max=1 - self.eps)\n",
        "        loss = 0\n",
        "        # Start your code here (Calculate the binary cross-entropy)\n",
        "        loss = -np.mean(np.sum(y * np.log(y_hat),axis=1))\n",
        "        # End\n",
        "        return loss\n",
        "\n",
        "    def gradient_descent(self, dw1: np.ndarray, db1: Union[np.ndarray, float], dw2: np.ndarray, db2: Union[np.ndarray, float], lr: float):\n",
        "        self.w1 -= lr * dw1\n",
        "        self.b1 -= lr * db1\n",
        "        self.w2 -= lr * dw2\n",
        "        self.b2 -= lr * db2\n",
        "\n",
        "    def predict(self, y_hat: np.ndarray) -> np.ndarray:\n",
        "        \"\"\" Predict the label using the output y_hat\n",
        "        Args:\n",
        "            y_hat: Model output\n",
        "        Returns:\n",
        "            pred: Prediction\n",
        "        \"\"\"\n",
        "        pred = np.zeros_like(y_hat)\n",
        "        index = np.argmax(y_hat, axis=-1)\n",
        "        pred[np.arange(len(y_hat)), index] = 1\n",
        "        return pred"
      ]
    },
    {
      "cell_type": "markdown",
      "id": "0edf807c-3c04-42df-9ad6-3aa8bbc02e38",
      "metadata": {
        "id": "0edf807c-3c04-42df-9ad6-3aa8bbc02e38",
        "tags": []
      },
      "source": [
        "### 2.2 Evaluation Metrics\n",
        "\n",
        "Accuracy, Precision, Recall, F1"
      ]
    },
    {
      "cell_type": "code",
      "execution_count": 25,
      "id": "5f627c34-e233-4313-82b3-d5285556209b",
      "metadata": {
        "id": "5f627c34-e233-4313-82b3-d5285556209b"
      },
      "outputs": [],
      "source": [
        "import sklearn\n",
        "from sklearn.metrics import precision_recall_fscore_support\n",
        "\n",
        "\n",
        "def get_metrics(y_pred: np.ndarray, y_true: np.ndarray) -> Tuple[float, np.ndarray, np.ndarray, np.ndarray]:\n",
        "    \"\"\" Calculate the accuracy, precision, recall, and f1 score.\n",
        "        You are allowed to use precision_recall_fscore_support from scikit-learn. Please set average to 'micro'\n",
        "    Args:\n",
        "        y_pred: Prediction\n",
        "        y_true: Ground-truth\n",
        "    Returns:\n",
        "        accuracy: float number. The accuracy for the whole dataset\n",
        "        precision, recall, f1: np.ndarray (num_class, ). The precision, recall, f1 for each class\n",
        "    \"\"\"\n",
        "    assert y_pred.shape == y_true.shape\n",
        "    accuracy, precision, recall, f1 = 0.0, 0.0, 0.0, 0.0\n",
        "    # Start your code here\n",
        "    y_pred=np.argmax(y_pred, axis=1)\n",
        "    y_true=np.argmax(y_true, axis=1)\n",
        "    accuracy = sklearn.metrics.accuracy_score(y_true, y_pred)\n",
        "    precision, recall, f1, support = sklearn.metrics.precision_recall_fscore_support(y_true, y_pred, average='micro')\n",
        "    # End\n",
        "    return accuracy, precision, recall, f1"
      ]
    },
    {
      "cell_type": "markdown",
      "id": "1794868a-0c46-4219-8d82-979c79e6fedb",
      "metadata": {
        "id": "1794868a-0c46-4219-8d82-979c79e6fedb"
      },
      "source": [
        "### 2.3 AdaGrad (5 points)\n",
        "\n",
        "$$ \\mathbf{G}^{(t + 1)} \\leftarrow \\mathbf{G}^{(t)} + \\boldsymbol{g}^{(t + 1)} \\cdot \\boldsymbol{g}^{(t + 1)} $$\n",
        "$$ \\mathbf{w}^{(t + 1)} \\leftarrow \\mathbf{w}^{(t)} - \\frac{\\eta}{\\sqrt{\\mathbf{G}^{(t + 1)} + \\epsilon}}\\boldsymbol{g}^{(t + 1)} = \\mathbf{w}^{(t)} - \\eta\\frac{\\boldsymbol{g}^{(t + 1)}}{\\sqrt{\\mathbf{G}^{(t + 1)} + \\epsilon}} $$"
      ]
    },
    {
      "cell_type": "code",
      "execution_count": 26,
      "id": "4a817e4d-7f0f-429a-84a6-03c1bdd50680",
      "metadata": {
        "id": "4a817e4d-7f0f-429a-84a6-03c1bdd50680"
      },
      "outputs": [],
      "source": [
        "class AdaGrad:\n",
        "    def __init__(self, init_lr, model):\n",
        "        self.init_lr = init_lr\n",
        "        self.model = model\n",
        "        \n",
        "        self.accumulative_dw1 = 0\n",
        "        self.accumulative_db1 = 0\n",
        "        self.accumulative_dw2 = 0\n",
        "        self.accumulative_db2 = 0\n",
        "        self.eps = 1e-9\n",
        "        \n",
        "    def update(self, dw1: np.ndarray, db1: Union[np.ndarray, float], dw2: np.ndarray, db2: Union[np.ndarray, float]):\n",
        "        \"\"\" 1. Use the gradient in the current step to update the accumulative gradient of each parameter.\n",
        "            2. Calculate the new gradient with the accumulative gradient\n",
        "            3. Use the init learning rate the new gradient to update the parameter with model.gradient_descent()\n",
        "        \n",
        "        Do not return anything\n",
        "        \"\"\"\n",
        "        # Start your code here\n",
        "        # Step 1\n",
        "        self.model.gradient_descent(dw1,db1,dw2,db2,self.init_lr)\n",
        "        \n",
        "        # Step 2\n",
        "        new_dw1,new_db1,new_dw2,new_db2 = 0.0,0.0,0.0,0.0\n",
        "        new_dw1=new_dw1 + dw1**2\n",
        "        new_db1=new_db1 + db1**2\n",
        "        new_dw2=new_dw2 + dw2**2\n",
        "        new_db2=new_db2 + db2**2\n",
        "        \n",
        "        # Step 3\n",
        "        self.accumulative_dw1 += self.accumulative_dw1-(0.1/np.sqrt(new_dw1+self.eps))**dw1\n",
        "        self.accumulative_db1 += self.accumulative_db1-(0.1/np.sqrt(new_db1+self.eps))**db1\n",
        "        self.accumulative_dw2 += self.accumulative_dw2-(0.1/np.sqrt(new_dw2+self.eps))**dw2\n",
        "        self.accumulative_db2 += self.accumulative_db2-(0.1/np.sqrt(new_db2+self.eps))**db2\n",
        "        \n",
        "        # End\n",
        "\n",
        "        "
      ]
    },
    {
      "cell_type": "markdown",
      "id": "31e976ba-17d9-45ac-818e-fbfdf304b190",
      "metadata": {
        "id": "31e976ba-17d9-45ac-818e-fbfdf304b190",
        "tags": []
      },
      "source": [
        "### 2.4 Mini-batch Gradient Descent (5 Points)"
      ]
    },
    {
      "cell_type": "code",
      "execution_count": 27,
      "id": "958ee97d-7c88-4a23-8da5-c43fa36038e6",
      "metadata": {
        "id": "958ee97d-7c88-4a23-8da5-c43fa36038e6",
        "tags": []
      },
      "outputs": [],
      "source": [
        "from collections import OrderedDict\n",
        "\n",
        "\n",
        "def train_mbgd(model: 'MLP',\n",
        "               x_train: np.ndarray,\n",
        "               y_train: np.ndarray,\n",
        "               x_valid: np.ndarray,\n",
        "               y_valid: np.ndarray,\n",
        "               lr: float,\n",
        "               num_epoch: int,\n",
        "               batch_size: int,\n",
        "               print_every: int = 10):\n",
        "    \"\"\" Training with Gradient Descent\n",
        "    Args:\n",
        "        model: The logistic regression model\n",
        "        x_train: Training feature, (n x d) matrix\n",
        "        y_train: Training label, (n, ) vector\n",
        "        x_valid: Validation feature, (n x d) matrix\n",
        "        y_valid: Validation label, (n, ) vector\n",
        "        lr: Learning rate\n",
        "        num_epoch: Number of training epochs\n",
        "        batch_size: Number of training samples in a batch\n",
        "        print_every: Print log every {print_every} epochs\n",
        "    Returns:\n",
        "        train_history: Log of training information. The format of training history is\n",
        "                       { 'loss': [] }\n",
        "                       It records the average loss of each epoch.\n",
        "        valid_history: Log of validation information. The format of training and validation history is\n",
        "                       {\n",
        "                           'loss': [],\n",
        "                           'accuracy': [],\n",
        "                           'precision': [],\n",
        "                           'recall': [],\n",
        "                           'f1': []\n",
        "                       }\n",
        "    \"\"\"\n",
        "    train_history = OrderedDict({'loss': []})\n",
        "    valid_history = OrderedDict({\n",
        "        'loss': [],\n",
        "        'accuracy': [],\n",
        "        'precision': [],\n",
        "        'recall': [],\n",
        "        'f1': []\n",
        "    })\n",
        "\n",
        "    def format_output(epoch, num_epoch, train_history, valid_history):\n",
        "        epoch_log = f'Epoch {epoch + 1} / {num_epoch}'\n",
        "        train_log = ' - '.join([f'train_{key}: {val[-1]:.4f}' for key, val in train_history.items()])\n",
        "        valid_log = ' - '.join([f'valid_{key}: {val[-1]:.4f}' for key, val in valid_history.items()])\n",
        "        log = f'{epoch_log}: {train_log} - {valid_log}'\n",
        "        return log\n",
        "\n",
        "    # IMPORTANT: YOU SHOULD USE THIS OPTIMIZER TO UPDATE THE MODEL\n",
        "    optimizer = AdaGrad(init_lr=lr, model=model)\n",
        "\n",
        "    train_num_samples = len(x_train)\n",
        "    n_batch = train_num_samples // batch_size\n",
        "    \n",
        "    for epoch in range(num_epoch):\n",
        "        epoch_loss = 0.0\n",
        "        # Start your code here (training)\n",
        "        #     Step 1. Model forward\n",
        "        #     Step 2. Calculate loss\n",
        "        #     Step 3. Model backward\n",
        "        #     Step 4. Optimization with Adagrad\n",
        "        random_indices = np.random.permutation(train_num_samples)\n",
        "        x_rand = x_train[random_indices]\n",
        "        y_rand = y_train[random_indices]\n",
        "        \n",
        "        for b in range(0, train_num_samples, batch_size):\n",
        "            x_batch = x_rand[b: b+batch_size] \n",
        "            y_batch = y_rand[b: b+batch_size]\n",
        "            \n",
        "            y_hat, h1 = model.forward(x_batch, return_hiddens=True)\n",
        "            loss = model.categorical_cross_entropy_loss(y_hat, y_batch)\n",
        "\n",
        "            dw1,db1,dw2,db2=model.backward(x_batch, y_hat, y_batch, h1)\n",
        "            model.gradient_descent(dw1,db1,dw2,db2,lr)\n",
        "            optimizer.update(dw1,db1,dw2,db2)          \n",
        "            epoch_loss+=loss*len(x_batch)\n",
        "\n",
        "        # End          \n",
        "        valid_loss = 0.\n",
        "        accuracy, precision, recall, f1 = 0.0, 0.0, 0.0, 0.0\n",
        "        # Start your code here (validation)\n",
        "        #     Step 1. Predict\n",
        "        #     Step 2. Calculate loss\n",
        "        #     Step 3. Calculate metrics\n",
        "        y_hat=model.forward(x_valid)\n",
        "        valid_loss = model.categorical_cross_entropy_loss(y_hat, y_valid)\n",
        "        y_pred = model.predict(y_hat)\n",
        "        accuracy, precision, recall, f1 = get_metrics(y_pred, y_valid)\n",
        "        # End\n",
        "\n",
        "        train_history['loss'].append(epoch_loss / train_num_samples)\n",
        "        for vals, val in zip(valid_history.values(), [valid_loss, accuracy, precision, recall, f1]):\n",
        "            vals.append(val)\n",
        "        log = format_output(epoch, num_epoch, train_history, valid_history)\n",
        "        if epoch % print_every == 0 or epoch == num_epoch - 1:\n",
        "            print(log)\n",
        "        else:\n",
        "            print_line(log)\n",
        "\n",
        "    return train_history, valid_history"
      ]
    },
    {
      "cell_type": "markdown",
      "id": "5f9273e6-eda3-4a16-8779-810bdc55cf33",
      "metadata": {
        "id": "5f9273e6-eda3-4a16-8779-810bdc55cf33"
      },
      "source": [
        "Run Mini-batch Gradient Descent"
      ]
    },
    {
      "cell_type": "code",
      "execution_count": 28,
      "id": "49874274-247f-43c5-973c-5d8917869b08",
      "metadata": {
        "colab": {
          "base_uri": "https://localhost:8080/"
        },
        "id": "49874274-247f-43c5-973c-5d8917869b08",
        "outputId": "d5330d77-7cca-478f-b276-bb315f0f9c7d"
      },
      "outputs": [
        {
          "output_type": "stream",
          "name": "stdout",
          "text": [
            "Epoch 1 / 100: train_loss: 0.8132 - valid_loss: 0.7974 - valid_accuracy: 0.7055 - valid_precision: 0.7055 - valid_recall: 0.7055 - valid_f1: 0.7055\n"
          ]
        },
        {
          "output_type": "stream",
          "name": "stderr",
          "text": [
            "/usr/local/lib/python3.7/dist-packages/ipykernel_launcher.py:31: RuntimeWarning: overflow encountered in add\n",
            "/usr/local/lib/python3.7/dist-packages/ipykernel_launcher.py:33: RuntimeWarning: overflow encountered in add\n"
          ]
        },
        {
          "output_type": "stream",
          "name": "stdout",
          "text": [
            "Epoch 11 / 100: train_loss: 0.7208 - valid_loss: 0.7258 - valid_accuracy: 0.7305 - valid_precision: 0.7305 - valid_recall: 0.7305 - valid_f1: 0.7305\n",
            "Epoch 21 / 100: train_loss: 0.6569 - valid_loss: 0.6544 - valid_accuracy: 0.7484 - valid_precision: 0.7484 - valid_recall: 0.7484 - valid_f1: 0.7484\n",
            "Epoch 31 / 100: train_loss: 0.6051 - valid_loss: 0.6034 - valid_accuracy: 0.7638 - valid_precision: 0.7638 - valid_recall: 0.7638 - valid_f1: 0.7638\n",
            "Epoch 41 / 100: train_loss: 0.5625 - valid_loss: 0.5631 - valid_accuracy: 0.7766 - valid_precision: 0.7766 - valid_recall: 0.7766 - valid_f1: 0.7766\n",
            "Epoch 51 / 100: train_loss: 0.5258 - valid_loss: 0.5296 - valid_accuracy: 0.7919 - valid_precision: 0.7919 - valid_recall: 0.7919 - valid_f1: 0.7919\n",
            "Epoch 61 / 100: train_loss: 0.4940 - valid_loss: 0.4985 - valid_accuracy: 0.8009 - valid_precision: 0.8009 - valid_recall: 0.8009 - valid_f1: 0.8009\n",
            "Epoch 71 / 100: train_loss: 0.4639 - valid_loss: 0.4698 - valid_accuracy: 0.8047 - valid_precision: 0.8047 - valid_recall: 0.8047 - valid_f1: 0.8047\n",
            "Epoch 81 / 100: train_loss: 0.4370 - valid_loss: 0.4445 - valid_accuracy: 0.8188 - valid_precision: 0.8188 - valid_recall: 0.8188 - valid_f1: 0.8188\n",
            "Epoch 91 / 100: train_loss: 0.4125 - valid_loss: 0.4224 - valid_accuracy: 0.8310 - valid_precision: 0.8310 - valid_recall: 0.8310 - valid_f1: 0.8310\n",
            "Epoch 100 / 100: train_loss: 0.3915 - valid_loss: 0.4051 - valid_accuracy: 0.8239 - valid_precision: 0.8239 - valid_recall: 0.8239 - valid_f1: 0.8239\n"
          ]
        }
      ],
      "source": [
        "np.random.seed(6666)\n",
        "\n",
        "hidden_dim = 128\n",
        "num_epoch = 100\n",
        "lr = 1e-2\n",
        "batch_size = 128\n",
        "lambda_ = 1e-8\n",
        "print_every = 10\n",
        "\n",
        "model_mbgd = MLP(feature_dim=vocab_size, hidden_dim=hidden_dim, num_class=num_class, lambda_=lambda_)\n",
        "mbgd_train_history, mbgd_valid_history = train_mbgd(model_mbgd, x_train, y_train, x_valid, y_valid, lr, num_epoch, batch_size, print_every)"
      ]
    },
    {
      "cell_type": "markdown",
      "id": "6b3020d5-8254-4dce-8034-56be5a5ecb19",
      "metadata": {
        "id": "6b3020d5-8254-4dce-8034-56be5a5ecb19"
      },
      "source": [
        "### 2.5 MLP using Tensorflow (5 Points)"
      ]
    },
    {
      "cell_type": "code",
      "execution_count": 29,
      "id": "bc1bbb3f-8ec7-4582-b590-7bc5b1155f1b",
      "metadata": {
        "id": "bc1bbb3f-8ec7-4582-b590-7bc5b1155f1b"
      },
      "outputs": [],
      "source": [
        "import tensorflow as tf\n",
        "from tensorflow.keras import regularizers\n",
        "from tensorflow.keras import Model\n",
        "from tensorflow.keras.layers import Dense, Softmax\n",
        "from tensorflow.keras.activations import sigmoid\n",
        "\n",
        "\n",
        "class MLPTF(Model):\n",
        "    def __init__(self, feature_dim: int, hidden_dim: int, num_class: int, lambda_: float):\n",
        "        \"\"\" MLP Model using tensorflow.keras\n",
        "        Args:\n",
        "            feature_dim: feature dimension\n",
        "            hidden_dim: hidden units\n",
        "            num_class: number of class\n",
        "            lambda_: lambda in L2 regularizer\n",
        "        \"\"\"\n",
        "        super().__init__()\n",
        "        # Start your code here (initialize weight and bias)\n",
        "        # self.dense1 =\n",
        "        # self.dense2 =\n",
        "        # self.softmax = \n",
        "        self.dense1 = tf.keras.layers.Dense(units = hidden_dim, activity_regularizer = tf.keras.regularizers.L2(lambda_) , activation=tf.nn.relu)\n",
        "        self.dense2 = tf.keras.layers.Dense(units = num_class, activation=tf.nn.softmax)\n",
        "        self.softmax = tf.keras.layers.Softmax()\n",
        "\n",
        "        # End\n",
        "        \n",
        "    def call(self, x):\n",
        "        \"\"\" Forward function of tf. It should be named 'call'\n",
        "        \n",
        "        Args:\n",
        "            x: (n x feature_dim) tensor\n",
        "        Returns:\n",
        "            y_hat: (n x num_class) tensor\n",
        "        \"\"\"\n",
        "        # Start your code here (Forward)\n",
        "        x = self.dense1(x)\n",
        "        y_hat = self.dense2(x)\n",
        "        # End\n",
        "        return y_hat"
      ]
    },
    {
      "cell_type": "code",
      "execution_count": 30,
      "id": "879b1fea-4852-4b0e-994a-9637982717a9",
      "metadata": {
        "id": "879b1fea-4852-4b0e-994a-9637982717a9",
        "colab": {
          "base_uri": "https://localhost:8080/"
        },
        "outputId": "650be8aa-0971-4a76-b596-acf3ca0c6e10"
      },
      "outputs": [
        {
          "output_type": "stream",
          "name": "stdout",
          "text": [
            "Model: \"mlptf\"\n",
            "_________________________________________________________________\n",
            " Layer (type)                Output Shape              Param #   \n",
            "=================================================================\n",
            " dense (Dense)               multiple                  2145408   \n",
            "                                                                 \n",
            " dense_1 (Dense)             multiple                  387       \n",
            "                                                                 \n",
            "=================================================================\n",
            "Total params: 2,145,795\n",
            "Trainable params: 2,145,795\n",
            "Non-trainable params: 0\n",
            "_________________________________________________________________\n"
          ]
        }
      ],
      "source": [
        "import tensorflow_addons as tfa\n",
        "np.random.seed(6666)\n",
        "tf.random.set_seed(6666)\n",
        "\n",
        "\n",
        "hidden_dim = 128\n",
        "num_epoch = 100\n",
        "lr = 1e-1\n",
        "batch_size = 128\n",
        "lambda_ = 1e-8\n",
        "\n",
        "model_tf = MLPTF(feature_dim=vocab_size, hidden_dim=hidden_dim, num_class=num_class, lambda_=lambda_)\n",
        "model_tf.build(input_shape=(None, vocab_size))\n",
        "model_tf.compile(optimizer=tf.keras.optimizers.Adagrad(learning_rate=lr),\n",
        "              loss=tf.keras.losses.CategoricalCrossentropy(),\n",
        "              metrics=[tf.keras.metrics.CategoricalAccuracy(), tfa.metrics.F1Score(num_classes=num_class, average='micro')])\n",
        "model_tf.summary()"
      ]
    },
    {
      "cell_type": "code",
      "execution_count": 31,
      "id": "1541100f-3e5e-4024-82eb-3e2a6d7d3f7a",
      "metadata": {
        "id": "1541100f-3e5e-4024-82eb-3e2a6d7d3f7a",
        "scrolled": true,
        "tags": [],
        "colab": {
          "base_uri": "https://localhost:8080/"
        },
        "outputId": "07a84404-f15c-4f74-bfe4-c45646c0c432"
      },
      "outputs": [
        {
          "output_type": "stream",
          "name": "stdout",
          "text": [
            "Epoch 1/100\n",
            "110/110 [==============================] - 5s 10ms/step - loss: 0.6835 - categorical_accuracy: 0.7356 - f1_score: 0.7356 - val_loss: 0.5338 - val_categorical_accuracy: 0.7894 - val_f1_score: 0.7894\n",
            "Epoch 2/100\n",
            "110/110 [==============================] - 1s 8ms/step - loss: 0.4466 - categorical_accuracy: 0.8178 - f1_score: 0.8178 - val_loss: 0.3708 - val_categorical_accuracy: 0.8483 - val_f1_score: 0.8483\n",
            "Epoch 3/100\n",
            "110/110 [==============================] - 1s 8ms/step - loss: 0.3159 - categorical_accuracy: 0.8786 - f1_score: 0.8786 - val_loss: 0.2804 - val_categorical_accuracy: 0.8803 - val_f1_score: 0.8803\n",
            "Epoch 4/100\n",
            "110/110 [==============================] - 1s 8ms/step - loss: 0.2377 - categorical_accuracy: 0.9169 - f1_score: 0.9169 - val_loss: 0.2183 - val_categorical_accuracy: 0.9257 - val_f1_score: 0.9257\n",
            "Epoch 5/100\n",
            "110/110 [==============================] - 1s 8ms/step - loss: 0.1900 - categorical_accuracy: 0.9386 - f1_score: 0.9386 - val_loss: 0.1874 - val_categorical_accuracy: 0.9321 - val_f1_score: 0.9321\n",
            "Epoch 6/100\n",
            "110/110 [==============================] - 1s 8ms/step - loss: 0.1586 - categorical_accuracy: 0.9522 - f1_score: 0.9522 - val_loss: 0.1608 - val_categorical_accuracy: 0.9456 - val_f1_score: 0.9456\n",
            "Epoch 7/100\n",
            "110/110 [==============================] - 1s 8ms/step - loss: 0.1367 - categorical_accuracy: 0.9601 - f1_score: 0.9601 - val_loss: 0.1455 - val_categorical_accuracy: 0.9526 - val_f1_score: 0.9526\n",
            "Epoch 8/100\n",
            "110/110 [==============================] - 1s 8ms/step - loss: 0.1195 - categorical_accuracy: 0.9667 - f1_score: 0.9667 - val_loss: 0.1281 - val_categorical_accuracy: 0.9641 - val_f1_score: 0.9641\n",
            "Epoch 9/100\n",
            "110/110 [==============================] - 1s 7ms/step - loss: 0.1082 - categorical_accuracy: 0.9694 - f1_score: 0.9694 - val_loss: 0.1165 - val_categorical_accuracy: 0.9648 - val_f1_score: 0.9648\n",
            "Epoch 10/100\n",
            "110/110 [==============================] - 1s 8ms/step - loss: 0.0975 - categorical_accuracy: 0.9723 - f1_score: 0.9723 - val_loss: 0.1083 - val_categorical_accuracy: 0.9680 - val_f1_score: 0.9680\n",
            "Epoch 11/100\n",
            "110/110 [==============================] - 1s 8ms/step - loss: 0.0892 - categorical_accuracy: 0.9750 - f1_score: 0.9750 - val_loss: 0.1038 - val_categorical_accuracy: 0.9699 - val_f1_score: 0.9699\n",
            "Epoch 12/100\n",
            "110/110 [==============================] - 1s 8ms/step - loss: 0.0824 - categorical_accuracy: 0.9767 - f1_score: 0.9767 - val_loss: 0.1003 - val_categorical_accuracy: 0.9718 - val_f1_score: 0.9718\n",
            "Epoch 13/100\n",
            "110/110 [==============================] - 1s 8ms/step - loss: 0.0767 - categorical_accuracy: 0.9791 - f1_score: 0.9791 - val_loss: 0.0909 - val_categorical_accuracy: 0.9744 - val_f1_score: 0.9744\n",
            "Epoch 14/100\n",
            "110/110 [==============================] - 1s 8ms/step - loss: 0.0724 - categorical_accuracy: 0.9790 - f1_score: 0.9790 - val_loss: 0.0836 - val_categorical_accuracy: 0.9757 - val_f1_score: 0.9757\n",
            "Epoch 15/100\n",
            "110/110 [==============================] - 1s 7ms/step - loss: 0.0668 - categorical_accuracy: 0.9822 - f1_score: 0.9822 - val_loss: 0.0780 - val_categorical_accuracy: 0.9789 - val_f1_score: 0.9789\n",
            "Epoch 16/100\n",
            "110/110 [==============================] - 1s 7ms/step - loss: 0.0635 - categorical_accuracy: 0.9819 - f1_score: 0.9819 - val_loss: 0.0785 - val_categorical_accuracy: 0.9782 - val_f1_score: 0.9782\n",
            "Epoch 17/100\n",
            "110/110 [==============================] - 1s 8ms/step - loss: 0.0598 - categorical_accuracy: 0.9836 - f1_score: 0.9836 - val_loss: 0.0695 - val_categorical_accuracy: 0.9789 - val_f1_score: 0.9789\n",
            "Epoch 18/100\n",
            "110/110 [==============================] - 1s 8ms/step - loss: 0.0573 - categorical_accuracy: 0.9841 - f1_score: 0.9841 - val_loss: 0.0708 - val_categorical_accuracy: 0.9782 - val_f1_score: 0.9782\n",
            "Epoch 19/100\n",
            "110/110 [==============================] - 1s 8ms/step - loss: 0.0548 - categorical_accuracy: 0.9841 - f1_score: 0.9841 - val_loss: 0.0620 - val_categorical_accuracy: 0.9846 - val_f1_score: 0.9846\n",
            "Epoch 20/100\n",
            "110/110 [==============================] - 1s 8ms/step - loss: 0.0519 - categorical_accuracy: 0.9853 - f1_score: 0.9853 - val_loss: 0.0628 - val_categorical_accuracy: 0.9846 - val_f1_score: 0.9846\n",
            "Epoch 21/100\n",
            "110/110 [==============================] - 1s 8ms/step - loss: 0.0493 - categorical_accuracy: 0.9857 - f1_score: 0.9857 - val_loss: 0.0627 - val_categorical_accuracy: 0.9808 - val_f1_score: 0.9808\n",
            "Epoch 22/100\n",
            "110/110 [==============================] - 1s 8ms/step - loss: 0.0482 - categorical_accuracy: 0.9866 - f1_score: 0.9866 - val_loss: 0.0563 - val_categorical_accuracy: 0.9834 - val_f1_score: 0.9834\n",
            "Epoch 23/100\n",
            "110/110 [==============================] - 1s 8ms/step - loss: 0.0458 - categorical_accuracy: 0.9871 - f1_score: 0.9871 - val_loss: 0.0585 - val_categorical_accuracy: 0.9840 - val_f1_score: 0.9840\n",
            "Epoch 24/100\n",
            "110/110 [==============================] - 1s 8ms/step - loss: 0.0435 - categorical_accuracy: 0.9889 - f1_score: 0.9889 - val_loss: 0.0516 - val_categorical_accuracy: 0.9846 - val_f1_score: 0.9846\n",
            "Epoch 25/100\n",
            "110/110 [==============================] - 1s 8ms/step - loss: 0.0421 - categorical_accuracy: 0.9880 - f1_score: 0.9880 - val_loss: 0.0495 - val_categorical_accuracy: 0.9866 - val_f1_score: 0.9866\n",
            "Epoch 26/100\n",
            "110/110 [==============================] - 1s 8ms/step - loss: 0.0418 - categorical_accuracy: 0.9885 - f1_score: 0.9885 - val_loss: 0.0507 - val_categorical_accuracy: 0.9834 - val_f1_score: 0.9834\n",
            "Epoch 27/100\n",
            "110/110 [==============================] - 1s 8ms/step - loss: 0.0403 - categorical_accuracy: 0.9888 - f1_score: 0.9888 - val_loss: 0.0453 - val_categorical_accuracy: 0.9859 - val_f1_score: 0.9859\n",
            "Epoch 28/100\n",
            "110/110 [==============================] - 1s 8ms/step - loss: 0.0402 - categorical_accuracy: 0.9885 - f1_score: 0.9885 - val_loss: 0.0422 - val_categorical_accuracy: 0.9885 - val_f1_score: 0.9885\n",
            "Epoch 29/100\n",
            "110/110 [==============================] - 1s 8ms/step - loss: 0.0388 - categorical_accuracy: 0.9889 - f1_score: 0.9889 - val_loss: 0.0451 - val_categorical_accuracy: 0.9872 - val_f1_score: 0.9872\n",
            "Epoch 30/100\n",
            "110/110 [==============================] - 1s 8ms/step - loss: 0.0368 - categorical_accuracy: 0.9897 - f1_score: 0.9897 - val_loss: 0.0465 - val_categorical_accuracy: 0.9859 - val_f1_score: 0.9859\n",
            "Epoch 31/100\n",
            "110/110 [==============================] - 1s 8ms/step - loss: 0.0350 - categorical_accuracy: 0.9904 - f1_score: 0.9904 - val_loss: 0.0425 - val_categorical_accuracy: 0.9846 - val_f1_score: 0.9846\n",
            "Epoch 32/100\n",
            "110/110 [==============================] - 1s 8ms/step - loss: 0.0357 - categorical_accuracy: 0.9894 - f1_score: 0.9894 - val_loss: 0.0453 - val_categorical_accuracy: 0.9853 - val_f1_score: 0.9853\n",
            "Epoch 33/100\n",
            "110/110 [==============================] - 1s 8ms/step - loss: 0.0329 - categorical_accuracy: 0.9908 - f1_score: 0.9908 - val_loss: 0.0401 - val_categorical_accuracy: 0.9866 - val_f1_score: 0.9866\n",
            "Epoch 34/100\n",
            "110/110 [==============================] - 1s 8ms/step - loss: 0.0330 - categorical_accuracy: 0.9905 - f1_score: 0.9905 - val_loss: 0.0362 - val_categorical_accuracy: 0.9885 - val_f1_score: 0.9885\n",
            "Epoch 35/100\n",
            "110/110 [==============================] - 1s 8ms/step - loss: 0.0316 - categorical_accuracy: 0.9909 - f1_score: 0.9909 - val_loss: 0.0361 - val_categorical_accuracy: 0.9891 - val_f1_score: 0.9891\n",
            "Epoch 36/100\n",
            "110/110 [==============================] - 1s 8ms/step - loss: 0.0320 - categorical_accuracy: 0.9908 - f1_score: 0.9908 - val_loss: 0.0408 - val_categorical_accuracy: 0.9878 - val_f1_score: 0.9878\n",
            "Epoch 37/100\n",
            "110/110 [==============================] - 1s 8ms/step - loss: 0.0303 - categorical_accuracy: 0.9915 - f1_score: 0.9915 - val_loss: 0.0421 - val_categorical_accuracy: 0.9846 - val_f1_score: 0.9846\n",
            "Epoch 38/100\n",
            "110/110 [==============================] - 1s 8ms/step - loss: 0.0312 - categorical_accuracy: 0.9908 - f1_score: 0.9908 - val_loss: 0.0375 - val_categorical_accuracy: 0.9898 - val_f1_score: 0.9898\n",
            "Epoch 39/100\n",
            "110/110 [==============================] - 1s 8ms/step - loss: 0.0304 - categorical_accuracy: 0.9905 - f1_score: 0.9905 - val_loss: 0.0340 - val_categorical_accuracy: 0.9878 - val_f1_score: 0.9878\n",
            "Epoch 40/100\n",
            "110/110 [==============================] - 1s 8ms/step - loss: 0.0289 - categorical_accuracy: 0.9914 - f1_score: 0.9914 - val_loss: 0.0348 - val_categorical_accuracy: 0.9878 - val_f1_score: 0.9878\n",
            "Epoch 41/100\n",
            "110/110 [==============================] - 1s 8ms/step - loss: 0.0291 - categorical_accuracy: 0.9915 - f1_score: 0.9915 - val_loss: 0.0362 - val_categorical_accuracy: 0.9891 - val_f1_score: 0.9891\n",
            "Epoch 42/100\n",
            "110/110 [==============================] - 1s 8ms/step - loss: 0.0285 - categorical_accuracy: 0.9916 - f1_score: 0.9916 - val_loss: 0.0323 - val_categorical_accuracy: 0.9904 - val_f1_score: 0.9904\n",
            "Epoch 43/100\n",
            "110/110 [==============================] - 1s 8ms/step - loss: 0.0280 - categorical_accuracy: 0.9915 - f1_score: 0.9915 - val_loss: 0.0344 - val_categorical_accuracy: 0.9891 - val_f1_score: 0.9891\n",
            "Epoch 44/100\n",
            "110/110 [==============================] - 1s 8ms/step - loss: 0.0272 - categorical_accuracy: 0.9913 - f1_score: 0.9913 - val_loss: 0.0321 - val_categorical_accuracy: 0.9904 - val_f1_score: 0.9904\n",
            "Epoch 45/100\n",
            "110/110 [==============================] - 1s 8ms/step - loss: 0.0275 - categorical_accuracy: 0.9910 - f1_score: 0.9910 - val_loss: 0.0308 - val_categorical_accuracy: 0.9904 - val_f1_score: 0.9904\n",
            "Epoch 46/100\n",
            "110/110 [==============================] - 1s 8ms/step - loss: 0.0265 - categorical_accuracy: 0.9917 - f1_score: 0.9917 - val_loss: 0.0332 - val_categorical_accuracy: 0.9898 - val_f1_score: 0.9898\n",
            "Epoch 47/100\n",
            "110/110 [==============================] - 1s 8ms/step - loss: 0.0266 - categorical_accuracy: 0.9915 - f1_score: 0.9915 - val_loss: 0.0308 - val_categorical_accuracy: 0.9898 - val_f1_score: 0.9898\n",
            "Epoch 48/100\n",
            "110/110 [==============================] - 1s 8ms/step - loss: 0.0254 - categorical_accuracy: 0.9923 - f1_score: 0.9923 - val_loss: 0.0318 - val_categorical_accuracy: 0.9891 - val_f1_score: 0.9891\n",
            "Epoch 49/100\n",
            "110/110 [==============================] - 1s 8ms/step - loss: 0.0242 - categorical_accuracy: 0.9925 - f1_score: 0.9925 - val_loss: 0.0312 - val_categorical_accuracy: 0.9878 - val_f1_score: 0.9878\n",
            "Epoch 50/100\n",
            "110/110 [==============================] - 1s 8ms/step - loss: 0.0249 - categorical_accuracy: 0.9923 - f1_score: 0.9923 - val_loss: 0.0229 - val_categorical_accuracy: 0.9942 - val_f1_score: 0.9942\n",
            "Epoch 51/100\n",
            "110/110 [==============================] - 1s 8ms/step - loss: 0.0253 - categorical_accuracy: 0.9918 - f1_score: 0.9918 - val_loss: 0.0285 - val_categorical_accuracy: 0.9930 - val_f1_score: 0.9930\n",
            "Epoch 52/100\n",
            "110/110 [==============================] - 1s 8ms/step - loss: 0.0247 - categorical_accuracy: 0.9918 - f1_score: 0.9918 - val_loss: 0.0307 - val_categorical_accuracy: 0.9891 - val_f1_score: 0.9891\n",
            "Epoch 53/100\n",
            "110/110 [==============================] - 1s 8ms/step - loss: 0.0247 - categorical_accuracy: 0.9918 - f1_score: 0.9918 - val_loss: 0.0323 - val_categorical_accuracy: 0.9872 - val_f1_score: 0.9872\n",
            "Epoch 54/100\n",
            "110/110 [==============================] - 1s 8ms/step - loss: 0.0234 - categorical_accuracy: 0.9918 - f1_score: 0.9918 - val_loss: 0.0309 - val_categorical_accuracy: 0.9885 - val_f1_score: 0.9885\n",
            "Epoch 55/100\n",
            "110/110 [==============================] - 1s 8ms/step - loss: 0.0244 - categorical_accuracy: 0.9916 - f1_score: 0.9916 - val_loss: 0.0249 - val_categorical_accuracy: 0.9904 - val_f1_score: 0.9904\n",
            "Epoch 56/100\n",
            "110/110 [==============================] - 1s 8ms/step - loss: 0.0236 - categorical_accuracy: 0.9919 - f1_score: 0.9919 - val_loss: 0.0279 - val_categorical_accuracy: 0.9904 - val_f1_score: 0.9904\n",
            "Epoch 57/100\n",
            "110/110 [==============================] - 1s 8ms/step - loss: 0.0228 - categorical_accuracy: 0.9928 - f1_score: 0.9928 - val_loss: 0.0299 - val_categorical_accuracy: 0.9904 - val_f1_score: 0.9904\n",
            "Epoch 58/100\n",
            "110/110 [==============================] - 1s 8ms/step - loss: 0.0229 - categorical_accuracy: 0.9922 - f1_score: 0.9922 - val_loss: 0.0280 - val_categorical_accuracy: 0.9910 - val_f1_score: 0.9910\n",
            "Epoch 59/100\n",
            "110/110 [==============================] - 1s 8ms/step - loss: 0.0231 - categorical_accuracy: 0.9918 - f1_score: 0.9918 - val_loss: 0.0271 - val_categorical_accuracy: 0.9910 - val_f1_score: 0.9910\n",
            "Epoch 60/100\n",
            "110/110 [==============================] - 1s 8ms/step - loss: 0.0224 - categorical_accuracy: 0.9923 - f1_score: 0.9923 - val_loss: 0.0265 - val_categorical_accuracy: 0.9891 - val_f1_score: 0.9891\n",
            "Epoch 61/100\n",
            "110/110 [==============================] - 1s 8ms/step - loss: 0.0230 - categorical_accuracy: 0.9921 - f1_score: 0.9921 - val_loss: 0.0276 - val_categorical_accuracy: 0.9891 - val_f1_score: 0.9891\n",
            "Epoch 62/100\n",
            "110/110 [==============================] - 1s 8ms/step - loss: 0.0228 - categorical_accuracy: 0.9921 - f1_score: 0.9921 - val_loss: 0.0242 - val_categorical_accuracy: 0.9898 - val_f1_score: 0.9898\n",
            "Epoch 63/100\n",
            "110/110 [==============================] - 1s 8ms/step - loss: 0.0219 - categorical_accuracy: 0.9920 - f1_score: 0.9920 - val_loss: 0.0231 - val_categorical_accuracy: 0.9936 - val_f1_score: 0.9936\n",
            "Epoch 64/100\n",
            "110/110 [==============================] - 1s 8ms/step - loss: 0.0215 - categorical_accuracy: 0.9929 - f1_score: 0.9929 - val_loss: 0.0262 - val_categorical_accuracy: 0.9923 - val_f1_score: 0.9923\n",
            "Epoch 65/100\n",
            "110/110 [==============================] - 1s 8ms/step - loss: 0.0218 - categorical_accuracy: 0.9925 - f1_score: 0.9925 - val_loss: 0.0226 - val_categorical_accuracy: 0.9923 - val_f1_score: 0.9923\n",
            "Epoch 66/100\n",
            "110/110 [==============================] - 1s 8ms/step - loss: 0.0210 - categorical_accuracy: 0.9923 - f1_score: 0.9923 - val_loss: 0.0266 - val_categorical_accuracy: 0.9891 - val_f1_score: 0.9891\n",
            "Epoch 67/100\n",
            "110/110 [==============================] - 1s 8ms/step - loss: 0.0209 - categorical_accuracy: 0.9927 - f1_score: 0.9927 - val_loss: 0.0268 - val_categorical_accuracy: 0.9891 - val_f1_score: 0.9891\n",
            "Epoch 68/100\n",
            "110/110 [==============================] - 1s 8ms/step - loss: 0.0205 - categorical_accuracy: 0.9925 - f1_score: 0.9925 - val_loss: 0.0280 - val_categorical_accuracy: 0.9898 - val_f1_score: 0.9898\n",
            "Epoch 69/100\n",
            "110/110 [==============================] - 1s 8ms/step - loss: 0.0204 - categorical_accuracy: 0.9927 - f1_score: 0.9927 - val_loss: 0.0216 - val_categorical_accuracy: 0.9910 - val_f1_score: 0.9910\n",
            "Epoch 70/100\n",
            "110/110 [==============================] - 1s 8ms/step - loss: 0.0205 - categorical_accuracy: 0.9929 - f1_score: 0.9929 - val_loss: 0.0260 - val_categorical_accuracy: 0.9910 - val_f1_score: 0.9910\n",
            "Epoch 71/100\n",
            "110/110 [==============================] - 1s 9ms/step - loss: 0.0205 - categorical_accuracy: 0.9921 - f1_score: 0.9921 - val_loss: 0.0275 - val_categorical_accuracy: 0.9891 - val_f1_score: 0.9891\n",
            "Epoch 72/100\n",
            "110/110 [==============================] - 1s 8ms/step - loss: 0.0215 - categorical_accuracy: 0.9918 - f1_score: 0.9918 - val_loss: 0.0266 - val_categorical_accuracy: 0.9891 - val_f1_score: 0.9891\n",
            "Epoch 73/100\n",
            "110/110 [==============================] - 1s 8ms/step - loss: 0.0203 - categorical_accuracy: 0.9927 - f1_score: 0.9927 - val_loss: 0.0275 - val_categorical_accuracy: 0.9885 - val_f1_score: 0.9885\n",
            "Epoch 74/100\n",
            "110/110 [==============================] - 1s 8ms/step - loss: 0.0206 - categorical_accuracy: 0.9920 - f1_score: 0.9920 - val_loss: 0.0229 - val_categorical_accuracy: 0.9917 - val_f1_score: 0.9917\n",
            "Epoch 75/100\n",
            "110/110 [==============================] - 1s 8ms/step - loss: 0.0198 - categorical_accuracy: 0.9930 - f1_score: 0.9930 - val_loss: 0.0241 - val_categorical_accuracy: 0.9898 - val_f1_score: 0.9898\n",
            "Epoch 76/100\n",
            "110/110 [==============================] - 1s 8ms/step - loss: 0.0195 - categorical_accuracy: 0.9927 - f1_score: 0.9927 - val_loss: 0.0264 - val_categorical_accuracy: 0.9891 - val_f1_score: 0.9891\n",
            "Epoch 77/100\n",
            "110/110 [==============================] - 1s 9ms/step - loss: 0.0199 - categorical_accuracy: 0.9918 - f1_score: 0.9918 - val_loss: 0.0268 - val_categorical_accuracy: 0.9878 - val_f1_score: 0.9878\n",
            "Epoch 78/100\n",
            "110/110 [==============================] - 1s 11ms/step - loss: 0.0202 - categorical_accuracy: 0.9923 - f1_score: 0.9923 - val_loss: 0.0204 - val_categorical_accuracy: 0.9917 - val_f1_score: 0.9917\n",
            "Epoch 79/100\n",
            "110/110 [==============================] - 1s 11ms/step - loss: 0.0193 - categorical_accuracy: 0.9924 - f1_score: 0.9924 - val_loss: 0.0184 - val_categorical_accuracy: 0.9930 - val_f1_score: 0.9930\n",
            "Epoch 80/100\n",
            "110/110 [==============================] - 1s 10ms/step - loss: 0.0197 - categorical_accuracy: 0.9924 - f1_score: 0.9924 - val_loss: 0.0230 - val_categorical_accuracy: 0.9904 - val_f1_score: 0.9904\n",
            "Epoch 81/100\n",
            "110/110 [==============================] - 1s 10ms/step - loss: 0.0198 - categorical_accuracy: 0.9921 - f1_score: 0.9921 - val_loss: 0.0226 - val_categorical_accuracy: 0.9898 - val_f1_score: 0.9898\n",
            "Epoch 82/100\n",
            "110/110 [==============================] - 1s 8ms/step - loss: 0.0192 - categorical_accuracy: 0.9923 - f1_score: 0.9923 - val_loss: 0.0268 - val_categorical_accuracy: 0.9891 - val_f1_score: 0.9891\n",
            "Epoch 83/100\n",
            "110/110 [==============================] - 1s 8ms/step - loss: 0.0202 - categorical_accuracy: 0.9914 - f1_score: 0.9914 - val_loss: 0.0267 - val_categorical_accuracy: 0.9878 - val_f1_score: 0.9878\n",
            "Epoch 84/100\n",
            "110/110 [==============================] - 1s 8ms/step - loss: 0.0189 - categorical_accuracy: 0.9926 - f1_score: 0.9926 - val_loss: 0.0247 - val_categorical_accuracy: 0.9891 - val_f1_score: 0.9891\n",
            "Epoch 85/100\n",
            "110/110 [==============================] - 1s 9ms/step - loss: 0.0195 - categorical_accuracy: 0.9920 - f1_score: 0.9920 - val_loss: 0.0244 - val_categorical_accuracy: 0.9930 - val_f1_score: 0.9930\n",
            "Epoch 86/100\n",
            "110/110 [==============================] - 1s 8ms/step - loss: 0.0190 - categorical_accuracy: 0.9924 - f1_score: 0.9924 - val_loss: 0.0202 - val_categorical_accuracy: 0.9923 - val_f1_score: 0.9923\n",
            "Epoch 87/100\n",
            "110/110 [==============================] - 1s 8ms/step - loss: 0.0188 - categorical_accuracy: 0.9927 - f1_score: 0.9927 - val_loss: 0.0277 - val_categorical_accuracy: 0.9878 - val_f1_score: 0.9878\n",
            "Epoch 88/100\n",
            "110/110 [==============================] - 1s 8ms/step - loss: 0.0185 - categorical_accuracy: 0.9926 - f1_score: 0.9926 - val_loss: 0.0245 - val_categorical_accuracy: 0.9910 - val_f1_score: 0.9910\n",
            "Epoch 89/100\n",
            "110/110 [==============================] - 1s 8ms/step - loss: 0.0192 - categorical_accuracy: 0.9924 - f1_score: 0.9924 - val_loss: 0.0255 - val_categorical_accuracy: 0.9885 - val_f1_score: 0.9885\n",
            "Epoch 90/100\n",
            "110/110 [==============================] - 1s 8ms/step - loss: 0.0184 - categorical_accuracy: 0.9925 - f1_score: 0.9925 - val_loss: 0.0226 - val_categorical_accuracy: 0.9910 - val_f1_score: 0.9910\n",
            "Epoch 91/100\n",
            "110/110 [==============================] - 1s 9ms/step - loss: 0.0187 - categorical_accuracy: 0.9920 - f1_score: 0.9920 - val_loss: 0.0248 - val_categorical_accuracy: 0.9904 - val_f1_score: 0.9904\n",
            "Epoch 92/100\n",
            "110/110 [==============================] - 1s 8ms/step - loss: 0.0183 - categorical_accuracy: 0.9923 - f1_score: 0.9923 - val_loss: 0.0210 - val_categorical_accuracy: 0.9923 - val_f1_score: 0.9923\n",
            "Epoch 93/100\n",
            "110/110 [==============================] - 1s 8ms/step - loss: 0.0183 - categorical_accuracy: 0.9922 - f1_score: 0.9922 - val_loss: 0.0213 - val_categorical_accuracy: 0.9923 - val_f1_score: 0.9923\n",
            "Epoch 94/100\n",
            "110/110 [==============================] - 1s 8ms/step - loss: 0.0181 - categorical_accuracy: 0.9927 - f1_score: 0.9927 - val_loss: 0.0183 - val_categorical_accuracy: 0.9917 - val_f1_score: 0.9917\n",
            "Epoch 95/100\n",
            "110/110 [==============================] - 1s 8ms/step - loss: 0.0188 - categorical_accuracy: 0.9918 - f1_score: 0.9918 - val_loss: 0.0225 - val_categorical_accuracy: 0.9904 - val_f1_score: 0.9904\n",
            "Epoch 96/100\n",
            "110/110 [==============================] - 1s 8ms/step - loss: 0.0188 - categorical_accuracy: 0.9921 - f1_score: 0.9921 - val_loss: 0.0225 - val_categorical_accuracy: 0.9904 - val_f1_score: 0.9904\n",
            "Epoch 97/100\n",
            "110/110 [==============================] - 1s 8ms/step - loss: 0.0187 - categorical_accuracy: 0.9925 - f1_score: 0.9925 - val_loss: 0.0241 - val_categorical_accuracy: 0.9885 - val_f1_score: 0.9885\n",
            "Epoch 98/100\n",
            "110/110 [==============================] - 1s 8ms/step - loss: 0.0184 - categorical_accuracy: 0.9923 - f1_score: 0.9923 - val_loss: 0.0252 - val_categorical_accuracy: 0.9885 - val_f1_score: 0.9885\n",
            "Epoch 99/100\n",
            "110/110 [==============================] - 1s 8ms/step - loss: 0.0183 - categorical_accuracy: 0.9920 - f1_score: 0.9920 - val_loss: 0.0205 - val_categorical_accuracy: 0.9885 - val_f1_score: 0.9885\n",
            "Epoch 100/100\n",
            "110/110 [==============================] - 1s 8ms/step - loss: 0.0187 - categorical_accuracy: 0.9914 - f1_score: 0.9914 - val_loss: 0.0236 - val_categorical_accuracy: 0.9878 - val_f1_score: 0.9878\n"
          ]
        }
      ],
      "source": [
        "tf_history = model_tf.fit(x=x_train, y=y_train, validation_data=(x_valid, y_valid), batch_size=batch_size, epochs=num_epoch)"
      ]
    },
    {
      "cell_type": "markdown",
      "id": "f05bdbd8-bd67-49b5-938a-a71d3dba105e",
      "metadata": {
        "id": "f05bdbd8-bd67-49b5-938a-a71d3dba105e"
      },
      "source": [
        "#### Evaluation with Tensroflow\n",
        "You are required to report the loss, accuracy, precision, recall, and f1 on test set and plot the the curve of them for both SGD and Mini-batch GD on train and validation set"
      ]
    },
    {
      "cell_type": "code",
      "execution_count": 32,
      "id": "eb577c9f-97b6-4984-8264-7aa811fec827",
      "metadata": {
        "id": "eb577c9f-97b6-4984-8264-7aa811fec827",
        "colab": {
          "base_uri": "https://localhost:8080/"
        },
        "outputId": "c4301ae9-8dcc-4349-e61a-4dec5043b9f2"
      },
      "outputs": [
        {
          "output_type": "stream",
          "name": "stdout",
          "text": [
            "Mini-batch GD: (0.9951369337087279, 0.9951369337087279, 0.9951369337087279, 0.9951369337087279)\n",
            "123/123 [==============================] - 0s 4ms/step - loss: 0.0391 - categorical_accuracy: 0.9900 - f1_score: 0.9900\n"
          ]
        },
        {
          "output_type": "execute_result",
          "data": {
            "text/plain": [
              "[0.03908565640449524, 0.9900178909301758, 0.9900178909301758]"
            ]
          },
          "metadata": {},
          "execution_count": 32
        }
      ],
      "source": [
        "# Calculate the metrics for test set and fill in the table below\n",
        "y_hat = model_mbgd.forward(x_test)\n",
        "y_pred = model_mbgd.predict(y_hat)\n",
        "print('Mini-batch GD:', get_metrics(y_pred, y_test))\n",
        "model_tf.evaluate(x=x_test, y=y_test)"
      ]
    },
    {
      "cell_type": "markdown",
      "id": "436dfacd-2ad2-41fa-8f23-f4cc86142fe0",
      "metadata": {
        "id": "436dfacd-2ad2-41fa-8f23-f4cc86142fe0"
      },
      "source": [
        "#### Evaluation Metrics on Test set\n",
        "Fill this table with the result you just printed (double click this cell to edit)\n",
        "\n",
        "|     Optimizer                     | Accuracy    | F1 Score    |\n",
        "|:---------------------------------:|-------------|-------------|\n",
        "|      **Your Implementation**      |  0.99513    |   0.99513   |\n",
        "| **Tensorflow**                     |  0.99001    |   0.99001   |\n"
      ]
    },
    {
      "cell_type": "markdown",
      "id": "0fbbb31b-5452-4788-87fc-5d5c7eab144a",
      "metadata": {
        "id": "0fbbb31b-5452-4788-87fc-5d5c7eab144a"
      },
      "source": [
        "##### Please run the following cell to plot the training loss curve for Your implementation and Tensorflow"
      ]
    },
    {
      "cell_type": "code",
      "execution_count": 34,
      "id": "02501623-a585-426f-8e65-fb14704eb13c",
      "metadata": {
        "id": "02501623-a585-426f-8e65-fb14704eb13c",
        "colab": {
          "base_uri": "https://localhost:8080/",
          "height": 241
        },
        "outputId": "28ed5765-347f-4c1d-f3a9-079520bfbd60"
      },
      "outputs": [
        {
          "output_type": "display_data",
          "data": {
            "text/plain": [
              "<Figure size 288x216 with 1 Axes>"
            ],
            "image/png": "[encoded data removed]"
          },
          "metadata": {
            "needs_background": "light"
          }
        }
      ],
      "source": [
        "import matplotlib.pyplot as plt\n",
        "\n",
        "%matplotlib inline\n",
        "\n",
        "fig = plt.figure(figsize=(4, 3))\n",
        "plt.plot(mbgd_train_history['loss'], label='My MLP')\n",
        "plt.plot(tf_history.history['loss'], label='TF MLP')\n",
        "plt.xlabel('Epoch')\n",
        "plt.ylabel('Loss')\n",
        "plt.legend()\n",
        "plt.title('Training Loss')\n",
        "plt.show()"
      ]
    },
    {
      "cell_type": "markdown",
      "id": "1b8c5a95-45ab-49d6-b570-25534d15b3b2",
      "metadata": {
        "id": "1b8c5a95-45ab-49d6-b570-25534d15b3b2"
      },
      "source": [
        "##### Please run the following cell to plot the validation metrics curve for SGD and Mini-batch GD"
      ]
    },
    {
      "cell_type": "code",
      "execution_count": 35,
      "id": "100f123d-2796-4e48-b204-912bad8c13e6",
      "metadata": {
        "id": "100f123d-2796-4e48-b204-912bad8c13e6",
        "colab": {
          "base_uri": "https://localhost:8080/",
          "height": 241
        },
        "outputId": "e0464886-9455-48b6-fc3d-14bfe891f551"
      },
      "outputs": [
        {
          "output_type": "display_data",
          "data": {
            "text/plain": [
              "<Figure size 576x216 with 2 Axes>"
            ],
            "image/png": "[encoded data removed]"
          },
          "metadata": {
            "needs_background": "light"
          }
        }
      ],
      "source": [
        "fig, axes = plt.subplots(1, 2, figsize=(8, 3))\n",
        "ax = axes[0]\n",
        "ax.plot(mbgd_valid_history['accuracy'], label='My MLP')\n",
        "ax.plot(tf_history.history['val_categorical_accuracy'], label='TF MLP')\n",
        "ax.legend()\n",
        "ax.set_xlabel('Epoch')\n",
        "ax.set_title('Validation Accuracy')\n",
        "\n",
        "ax = axes[1]\n",
        "ax.plot(mbgd_valid_history['f1'], label='My MLP')\n",
        "ax.plot(tf_history.history['val_f1_score'], label='TF MLP')\n",
        "ax.legend()\n",
        "ax.set_xlabel('Epoch')\n",
        "ax.set_title('Validation F1')\n",
        "plt.show()"
      ]
    },
    {
      "cell_type": "markdown",
      "id": "cea05615-3aa9-4b17-89ee-40ef2eff0bcf",
      "metadata": {
        "id": "cea05615-3aa9-4b17-89ee-40ef2eff0bcf"
      },
      "source": [
        "# 3. Conclusion (5 Points)\n",
        "\n",
        "Provide an analysis for all the results"
      ]
    },
    {
      "cell_type": "markdown",
      "id": "efa38684-e334-4958-8fe9-ac98cfbc7133",
      "metadata": {
        "id": "efa38684-e334-4958-8fe9-ac98cfbc7133"
      },
      "source": [
        "Answer:\n",
        "\n",
        "**Adaptive learning** is an ability to learn how to do tasks based on the data given for training or initial experience.  MLP/Neural networks do not make any assumption regarding the underlying probability density functions or other probabilistic information about the pattern classes under consideration in\n",
        "comparison to other probability based models. They yield the required decision function directly via training. A two layer backpropagation network with sufficient hidden nodes has been proven to be a universal approximator as can be seen in the above implementation.\n",
        "\n",
        "Training model takes significant amount of time, it nearly took 20 min on a gpu, the reason to this behaviour is the weights have to updated at every iteration and for every batch and the parameters are updated in these iteration.\n",
        "\n",
        "It can be seen that the validation accuracy and F1 accuracy increases with more number of epochs. And the opposite can be observed with regards to training loss.\n",
        "\n",
        "we can significatly increase the performance of the model by optimising the parameters using AdaGrad. "
      ]
    }
  ],
  "metadata": {
    "accelerator": "GPU",
    "colab": {
      "provenance": [],
      "collapsed_sections": [
        "47476cac-f0da-4b92-aa09-8f57e61053e9"
      ]
    },
    "kernelspec": {
      "display_name": "Python 3 (ipykernel)",
      "language": "python",
      "name": "python3"
    },
    "language_info": {
      "codemirror_mode": {
        "name": "ipython",
        "version": 3
      },
      "file_extension": ".py",
      "mimetype": "text/x-python",
      "name": "python",
      "nbconvert_exporter": "python",
      "pygments_lexer": "ipython3",
      "version": "3.9.10"
    }
  },
  "nbformat": 4,
  "nbformat_minor": 5
}
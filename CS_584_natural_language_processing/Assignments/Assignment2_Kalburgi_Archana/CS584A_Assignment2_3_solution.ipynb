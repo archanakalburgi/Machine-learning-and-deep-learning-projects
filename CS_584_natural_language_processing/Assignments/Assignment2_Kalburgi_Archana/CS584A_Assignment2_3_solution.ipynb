{
  "cells": [
    {
      "cell_type": "markdown",
      "id": "a7d7050b-a87a-4954-adf9-afb9cf6d058a",
      "metadata": {
        "id": "a7d7050b-a87a-4954-adf9-afb9cf6d058a"
      },
      "source": [
        "# CS 584 Assignment 2 -- MLP and Word Vectors\n",
        "\n",
        "#### Name: Archana Kalburgi\n",
        "#### Stevens ID: 10469491"
      ]
    },
    {
      "cell_type": "markdown",
      "id": "bfe7ac70-1da0-4432-839d-6d65ce4edf35",
      "metadata": {
        "id": "bfe7ac70-1da0-4432-839d-6d65ce4edf35"
      },
      "source": [
        "## Part B: Word2Vec (50 Points)\n",
        "\n",
        "## In this assignment, you are required to follow the steps below:\n",
        "1. Review the lecture slides.\n",
        "2. Implement the data loading, preprocessing, tokenization, and word pair extraction.\n",
        "3. Implement skip-gram and evaluation metrics with MLP.\n",
        "5. Analysis the results in the Conlusion part.\n",
        "\n",
        "**Before you start**\n",
        "- Please read the code very carefully.\n",
        "- Install these packages (jupyterlab, matplotlib, nltk, numpy, scikit-learn, tensorflow, tensorflow_addons) using the following command.\n",
        "```console\n",
        "pip install -r requirements.txt\n",
        "```\n",
        "- It's better to train the Tensorflow model with GPU and CUDA. If they are not available on your local machine, please consider Google CoLab. You can check `CoLab.md` in this assignments.\n",
        "- You are **NOT** allowed to use other packages unless otherwise specified.\n",
        "- You are **ONLY** allowed to edit the code between `# Start your code here` and `# End` for each block."
      ]
    },
    {
      "cell_type": "code",
      "execution_count": 1,
      "id": "b95a75c8-30c8-4ca6-ac9d-42c90d32b04d",
      "metadata": {
        "collapsed": true,
        "jupyter": {
          "outputs_hidden": true
        },
        "tags": [],
        "id": "b95a75c8-30c8-4ca6-ac9d-42c90d32b04d",
        "colab": {
          "base_uri": "https://localhost:8080/",
          "height": 0
        },
        "outputId": "6ad20b8b-67b0-45f2-c817-e18a8eff9b03"
      },
      "outputs": [
        {
          "output_type": "stream",
          "name": "stdout",
          "text": [
            "\u001b[31mERROR: Could not open requirements file: [Errno 2] No such file or directory: '/content/drive/MyDrive/Colab Notebooks/requirements.txt'\u001b[0m\n"
          ]
        }
      ],
      "source": [
        "# you may not run this cell after the first installation\n",
        "!pip install -r \"/content/drive/MyDrive/Colab Notebooks/requirements.txt\""
      ]
    },
    {
      "cell_type": "code",
      "source": [
        "from google.colab import drive\n",
        "drive.mount('/content/drive')"
      ],
      "metadata": {
        "id": "rUz3lEf6A3Mb",
        "colab": {
          "base_uri": "https://localhost:8080/",
          "height": 0
        },
        "outputId": "00045a7c-af18-434f-d65a-397b735f1b33"
      },
      "id": "rUz3lEf6A3Mb",
      "execution_count": 2,
      "outputs": [
        {
          "output_type": "stream",
          "name": "stdout",
          "text": [
            "Mounted at /content/drive\n"
          ]
        }
      ]
    },
    {
      "cell_type": "code",
      "execution_count": 3,
      "id": "91d76782-187b-4da7-baf2-d92655c79d63",
      "metadata": {
        "id": "91d76782-187b-4da7-baf2-d92655c79d63",
        "colab": {
          "base_uri": "https://localhost:8080/",
          "height": 0
        },
        "outputId": "0e4a30c5-7453-4c5e-deef-464dae4f8021"
      },
      "outputs": [
        {
          "output_type": "execute_result",
          "data": {
            "text/plain": [
              "[PhysicalDevice(name='/physical_device:GPU:0', device_type='GPU')]"
            ]
          },
          "metadata": {},
          "execution_count": 3
        }
      ],
      "source": [
        "import tensorflow as tf\n",
        "\n",
        "\n",
        "# If you are going to use GPU, make sure the GPU in in the output\n",
        "tf.config.list_physical_devices('GPU')"
      ]
    },
    {
      "cell_type": "markdown",
      "id": "63231e67-b83e-4628-9c49-31b6d096b4f7",
      "metadata": {
        "id": "63231e67-b83e-4628-9c49-31b6d096b4f7"
      },
      "source": [
        "## 1. Data Processing (5 points)"
      ]
    },
    {
      "cell_type": "code",
      "execution_count": 4,
      "id": "a98cc310-65bb-49dc-bd54-476f4e941f7d",
      "metadata": {
        "id": "a98cc310-65bb-49dc-bd54-476f4e941f7d"
      },
      "outputs": [],
      "source": [
        "import sys\n",
        "\n",
        "\n",
        "def print_line(*args):\n",
        "    \"\"\" Inline print and go to the begining of line\n",
        "    \"\"\"\n",
        "    args1 = [str(arg) for arg in args]\n",
        "    str_ = ' '.join(args1)\n",
        "    print('\\r' + str_, end='')"
      ]
    },
    {
      "cell_type": "code",
      "execution_count": 5,
      "id": "653997a8-637a-4725-8ee5-f240913e0644",
      "metadata": {
        "id": "653997a8-637a-4725-8ee5-f240913e0644"
      },
      "outputs": [],
      "source": [
        "from typing import List, Tuple, Union\n",
        "\n",
        "import numpy as np"
      ]
    },
    {
      "cell_type": "markdown",
      "id": "b9eb08e4-91fa-4d1e-bc92-0445397567ca",
      "metadata": {
        "id": "b9eb08e4-91fa-4d1e-bc92-0445397567ca"
      },
      "source": [
        "### 1.1 Load data"
      ]
    },
    {
      "cell_type": "code",
      "execution_count": 6,
      "id": "9fc26198-cfbf-4c2f-89e6-460f5277c177",
      "metadata": {
        "tags": [],
        "id": "9fc26198-cfbf-4c2f-89e6-460f5277c177",
        "colab": {
          "base_uri": "https://localhost:8080/",
          "height": 0
        },
        "outputId": "2073fbb0-b06c-456d-c931-f8e374c7e88b"
      },
      "outputs": [
        {
          "output_type": "stream",
          "name": "stdout",
          "text": [
            "['watching time chasers it obvious that it was made by a bunch of friends', 'maybe they were sitting around one day in film school and said hey let s pool our money together and make a really bad movie or something like that', 'what ever they said they still ended up making a really bad movie dull story bad script lame acting poor cinematography bottom of the barrel stock music etc', 'all corners were cut except the one that would have prevented this film s release', 'life s like that', 'i saw this film about years ago and remember it as being particularly nasty', 'i believe it is based on a true incident a young man breaks into a nurses home and rapes tortures and kills various women it is in black and white but saves the colour for one shocking shot at the end the film seems to be trying to make some political statement but it just comes across as confused and obscene avoid', 'minor spoilersin new york joan barnard elvire audrey is informed that her husband the archeologist arthur barnard john saxon was mysteriously murdered in italy while searching an etruscan tomb', 'joan decides to travel to italy in the company of her colleague who offers his support', 'once in italy she starts having visions relative to an ancient people and maggots many maggots']\n"
          ]
        }
      ],
      "source": [
        "import os\n",
        "import pickle\n",
        "\n",
        "# In this imdb review, each line is a sentence seperated by a space.\n",
        "sentences = pickle.load(open(os.path.join('/content/drive/MyDrive/Colab Notebooks/a2-data', 'imdb_review.pickle'), 'rb'))\n",
        "print(sentences[:10])"
      ]
    },
    {
      "cell_type": "code",
      "execution_count": 7,
      "id": "b2bbea61-b3ce-4040-a0ff-7a10c163875c",
      "metadata": {
        "id": "b2bbea61-b3ce-4040-a0ff-7a10c163875c"
      },
      "outputs": [],
      "source": [
        "# len(sentences)\n",
        "sos_token='<s>'\n",
        "eos_token='</s>'\n",
        "pad_token='<pad>'\n",
        "unk_token='<unk>'\n",
        "mask_token='<mask>'\n",
        "\n",
        "# adding sos and eos\n",
        "sen = sos_token + \" \" + sentences[0] + \" \" + eos_token\n",
        "\n",
        "# adding pad \n",
        "padded_sentences = []\n",
        "max_len = max([len(sentence) for sentence in sentences])\n",
        "for sentence in sentences[:5]:\n",
        "    if len(sentence)<max_len:\n",
        "        # print()\n",
        "        num_pad_to_append = max_len - len(sentence)\n",
        "        sentence = sentence + (pad_token + \" \")*num_pad_to_append\n",
        "        padded_sentences.append(sentence.strip())"
      ]
    },
    {
      "cell_type": "markdown",
      "id": "9e173a8d-8f57-40e6-b278-052290ab9ffe",
      "metadata": {
        "id": "9e173a8d-8f57-40e6-b278-052290ab9ffe"
      },
      "source": [
        "### 1.3 Tokenization (5 Points)\n",
        "\n",
        "In this section, you will implement a Tokenizer than can record all tokens in a vocabulary."
      ]
    },
    {
      "cell_type": "code",
      "execution_count": 8,
      "id": "b620689c-b274-483d-8246-afc3ce5364f7",
      "metadata": {
        "id": "b620689c-b274-483d-8246-afc3ce5364f7"
      },
      "outputs": [],
      "source": [
        "class Tokenizer:\n",
        "    def __init__(self, sos_token='<s>', eos_token='</s>', pad_token='<pad>', unk_token='<unk>', mask_token='<mask>'):\n",
        "        # Special tokens. Not used in Word2Vec\n",
        "        self.sos_token = sos_token\n",
        "        self.eos_token = eos_token\n",
        "        self.pad_token = pad_token\n",
        "        self.unk_token = unk_token\n",
        "        self.mask_token = mask_token\n",
        "        \n",
        "        self.vocab = { sos_token: 0, eos_token: 1, pad_token: 2, unk_token: 3, mask_token: 4 }  # token -> id\n",
        "        self.inverse_vocab = { 0: sos_token, 1: eos_token, 2: pad_token, 3: unk_token, 4: mask_token }  # id -> token\n",
        "        self.token_occurrence = { sos_token: 0, eos_token: 0, pad_token: 0, unk_token: 0, mask_token: 0 }  # token -> occurrence\n",
        "        \n",
        "    def __len__(self):\n",
        "        \"\"\" A magic method that enable program to know the number of tokens by calling:\n",
        "            ```python\n",
        "            tokenizer = Tokenizer()\n",
        "            num_tokens = len(tokenizer)\n",
        "            ```\n",
        "        \"\"\"\n",
        "        return len(self.vocab)\n",
        "        \n",
        "    def fit(self, sentences):\n",
        "        \"\"\" Fit the tokenizer using all sentences.\n",
        "        1. Tokenize the sentence by splitting with spaces.\n",
        "        2. Record the occurrence of all tokens\n",
        "        3. Construct the token to index (self.vocab) map and \n",
        "        the inversed map (self.inverse_vocab) based on the occurrence. \n",
        "        The token with a higher occurrence has the smaller index\n",
        "        \n",
        "        Args:\n",
        "            sentences: All sentences in the dataset.\n",
        "        \"\"\"\n",
        "        max_len = max([len(sentence) for sentence in sentences])\n",
        "        n = len(sentences)\n",
        "        word_set = set()\n",
        "        \n",
        "        for i, sentence in enumerate(sentences):\n",
        "            if i % 100 == 0 or i == n - 1:\n",
        "                print_line('Fitting Tokenizer:', (i + 1), '/', n)\n",
        "            \n",
        "            # Start your code here (Step 1 and 2)\n",
        "            \n",
        "            for word in sentence.split():\n",
        "                word_set.add(word)\n",
        "                \n",
        "            sentence = sos_token + \" \" + sentence + \" \" + eos_token\n",
        "            \n",
        "            if len(sentence)<max_len:\n",
        "                num_pad_to_append = max_len - len(sentence)\n",
        "                sentence = sentence + (pad_token + \" \")*num_pad_to_append \n",
        "                # padded_sentences.append(sentence)\n",
        "            \n",
        "            for ws in sentence.split():\n",
        "                if ws in self.token_occurrence:\n",
        "                    self.token_occurrence[ws] += 1\n",
        "                else:\n",
        "                    self.token_occurrence[ws] = 1\n",
        "        \n",
        "        token_occurrence = sorted(self.token_occurrence.items(), key=lambda e: e[1], reverse=True)\n",
        "        \n",
        "        # Start your code here (Step 3, update self.vocab and self.inverse_vocab)\n",
        "        i = 5\n",
        "        for word in word_set:\n",
        "            self.vocab[word] = i\n",
        "            self.inverse_vocab[i] = word\n",
        "            i+=1\n",
        "            # End\n",
        "        print_line('\\n')\n",
        "        # End\n",
        "        \n",
        "        print('The number of distinct tokens:', len(self.vocab))\n",
        "        \n",
        "    def encode(self, sentences) :\n",
        "        \"\"\" Encode the sentences into token ids\n",
        "            Note: 1. if a token in a sentence does not exist in the fit encoder, we will use the <unk> token to replace it.\n",
        "                  2. If the number of tokens in a sentence is less than two, we ignore this sentence.\n",
        "        Args:\n",
        "            sentences: Raw sentences\n",
        "        Returns:\n",
        "            sent_token_ids: A list of id list\n",
        "        \"\"\"\n",
        "        n = len(sentences)\n",
        "        sent_token_ids = []\n",
        "        for i, sentence in enumerate(sentences):\n",
        "            if i % 100 == 0 or i == n - 1:\n",
        "                print_line('Encoding with Tokenizer:', (i + 1), '/', n)\n",
        "            token_ids = []\n",
        "            # Start your code (encode)\n",
        "            for word in sentence.split():\n",
        "                if word in self.vocab:\n",
        "                    token_ids.append(self.vocab[word])\n",
        "                else:\n",
        "                    token_ids.append(self.vocab[self.unk_token])\n",
        "            sent_token_ids.append(token_ids)\n",
        "            # End\n",
        "        print_line('\\n')\n",
        "        return sent_token_ids"
      ]
    },
    {
      "cell_type": "markdown",
      "id": "61755eeb-5d1c-4923-b58a-0e9409f4b4cd",
      "metadata": {
        "id": "61755eeb-5d1c-4923-b58a-0e9409f4b4cd"
      },
      "source": [
        "#### Test your implementation by running the following cell."
      ]
    },
    {
      "cell_type": "code",
      "execution_count": 9,
      "id": "d7fec131-d49d-4045-9c69-2df685ef433e",
      "metadata": {
        "id": "d7fec131-d49d-4045-9c69-2df685ef433e",
        "colab": {
          "base_uri": "https://localhost:8080/",
          "height": 0
        },
        "outputId": "11f7d9cb-cc41-44a6-dfe3-96e89ae21825"
      },
      "outputs": [
        {
          "output_type": "stream",
          "name": "stdout",
          "text": [
            "\rFitting Tokenizer: 1 / 2\rFitting Tokenizer: 2 / 2\r\n",
            "The number of distinct tokens: 44\n",
            "\n",
            "<pad> : 66\n",
            "<s> : 2\n",
            "it : 2\n",
            "that : 2\n",
            "a : 2\n",
            "and : 2\n",
            "</s> : 1\n",
            "watching : 1\n",
            "time : 1\n",
            "chasers : 1\n",
            "\n",
            "\rEncoding with Tokenizer: 1 / 2\rEncoding with Tokenizer: 2 / 2\r\n",
            "\n",
            "watching time chasers it obvious that it was made by a bunch of friends ['watching', 'time', 'chasers', 'it', 'obvious', 'that', 'it', 'was', 'made', 'by', 'a', 'bunch', 'of', 'friends'] \n",
            "\n",
            "maybe they were sitting around one day in film school and said hey let s pool our money together and make a really bad movie or something like that ['maybe', 'they', 'were', 'sitting', 'around', 'one', 'day', 'in', 'film', 'school', 'and', 'said', 'hey', 'let', 's', 'pool', 'our', 'money', 'together', 'and', 'make', 'a', 'really', 'bad', 'movie', 'or', 'something', 'like', 'that'] \n",
            "\n"
          ]
        }
      ],
      "source": [
        "test_sentences = sentences[:2]\n",
        "tokenizer = Tokenizer()\n",
        "tokenizer.fit(test_sentences)\n",
        "print()\n",
        "\n",
        "token_occurrence = sorted(tokenizer.token_occurrence.items(), key=lambda e: e[1], reverse=True)\n",
        "for token, occurrence in token_occurrence[:10]:\n",
        "    print(token, ':', occurrence)\n",
        "print()\n",
        "sent_token_ids = tokenizer.encode(test_sentences)\n",
        "print()\n",
        "for test_sentence, token_ids in zip(test_sentences, sent_token_ids):\n",
        "    sentence = [tokenizer.inverse_vocab[token] for token in token_ids]\n",
        "    print(test_sentence, sentence, '\\n')"
      ]
    },
    {
      "cell_type": "markdown",
      "id": "24428c82-0496-4b7c-a8aa-d8ce7b4ff03f",
      "metadata": {
        "id": "24428c82-0496-4b7c-a8aa-d8ce7b4ff03f"
      },
      "source": [
        "Encode all sentences"
      ]
    },
    {
      "cell_type": "code",
      "execution_count": 10,
      "id": "c68fc5a9-452b-44ad-8df1-b6b96c823282",
      "metadata": {
        "id": "c68fc5a9-452b-44ad-8df1-b6b96c823282",
        "colab": {
          "base_uri": "https://localhost:8080/",
          "height": 0
        },
        "outputId": "53ea7523-169c-4d26-dc83-fb0e34b71505"
      },
      "outputs": [
        {
          "output_type": "stream",
          "name": "stdout",
          "text": [
            "Fitting Tokenizer: 528199 / 528199\n",
            "The number of distinct tokens: 102299\n",
            "Encoding with Tokenizer: 528199 / 528199\n"
          ]
        }
      ],
      "source": [
        "tokenizer = Tokenizer()\n",
        "tokenizer.fit(sentences)\n",
        "sent_token_ids = tokenizer.encode(sentences)\n",
        "\n",
        "# Note: if you implement correctly, there will be about 100k tokens."
      ]
    },
    {
      "cell_type": "code",
      "execution_count": 11,
      "id": "0dea9e0d-63e2-48be-8f36-f659f262b6da",
      "metadata": {
        "id": "0dea9e0d-63e2-48be-8f36-f659f262b6da",
        "colab": {
          "base_uri": "https://localhost:8080/",
          "height": 0
        },
        "outputId": "a816de57-3c01-483d-fbaf-21e6c738a4a7"
      },
      "outputs": [
        {
          "output_type": "stream",
          "name": "stdout",
          "text": [
            "max token number in a sentence: 767\n",
            "min token number in a sentence: 0\n",
            "avg token number in a sentence: 22.48687521180464\n"
          ]
        }
      ],
      "source": [
        "print('max token number in a sentence:', max(map(lambda e: len(e), sent_token_ids)))\n",
        "print('min token number in a sentence:', min(map(lambda e: len(e), sent_token_ids)))\n",
        "print('avg token number in a sentence:', sum(map(lambda e: len(e), sent_token_ids)) / len(sent_token_ids))"
      ]
    },
    {
      "cell_type": "code",
      "execution_count": 12,
      "id": "d5bf4377-4c9f-4d2d-a856-3d193e01f5ee",
      "metadata": {
        "id": "d5bf4377-4c9f-4d2d-a856-3d193e01f5ee",
        "colab": {
          "base_uri": "https://localhost:8080/",
          "height": 0
        },
        "outputId": "9c1c5aeb-70e8-4c0a-8985-ac1041f0f2c8"
      },
      "outputs": [
        {
          "output_type": "stream",
          "name": "stdout",
          "text": [
            "<pad> : 2019758205\n",
            "the : 678333\n",
            "<s> : 528199\n",
            "</s><pad> : 528198\n",
            "and : 329979\n",
            "a : 328341\n",
            "of : 293903\n",
            "to : 271514\n",
            "is : 214380\n",
            "it : 191411\n"
          ]
        }
      ],
      "source": [
        "token_occurrence = sorted(tokenizer.token_occurrence.items(), key=lambda e: e[1], reverse=True)\n",
        "for token, occurrence in token_occurrence[:10]:\n",
        "    print(token, ':', occurrence)"
      ]
    },
    {
      "cell_type": "markdown",
      "id": "11e71bd1-478c-45e6-b679-6def46ff4829",
      "metadata": {
        "id": "11e71bd1-478c-45e6-b679-6def46ff4829"
      },
      "source": [
        "## 2. Training Data Generation (10 Points)\n",
        "\n",
        "### Positive Samples (5 Points)\n",
        "In this section, you are required to generate the positive training data for skip-gram.\n",
        "\n",
        "- Given a token sequence, for every center token, you need to use a window whose size is **2** to retrieve context words as positive pairs.\n",
        "    \n",
        "For example, given the token sequence \"The quick brown fox jumps over the lazy dog .\", when the center word is \"fox\", the context words are:\n",
        "$$\\text{The}~\\underbrace{\\text{quick brown}}_\\text{context words}~\\underbrace{\\text{fox}}_{\\text{center word}}~\\underbrace{\\text{jumps over}}_\\text{context words}~\\text{the lazy dog .}$$\n",
        "We can generate four positive pairs: (fox, quick), (fox, brown), (fox, jumps), (fox, over)."
      ]
    },
    {
      "cell_type": "code",
      "execution_count": 13,
      "id": "44537480-4186-488f-b4e7-89d211054717",
      "metadata": {
        "id": "44537480-4186-488f-b4e7-89d211054717"
      },
      "outputs": [],
      "source": [
        "import random\n",
        "\n",
        "\n",
        "def positive_pairs_generator(sent_token_ids, window_size: int = 2) :\n",
        "    \"\"\" Generate positive pairs: (center word, context word)\n",
        "    \n",
        "    Args:\n",
        "        sent_token_ids: List of token list. Each element is a token list (sentence)\n",
        "        window_size: the context window size. You should retrieve window size context words in the left and window size context words in the right.\n",
        "        \n",
        "    Yield:\n",
        "        center_word, context_word: a positive pair\n",
        "        \n",
        "    Note: this is a generator function which yields pairs. Do not return anything.\n",
        "    \"\"\"\n",
        "    def helper(index, length):\n",
        "        result = []\n",
        "        items = [index-2, index-1, index+1, index+2]\n",
        "        for i in items:\n",
        "            if 0 < i < length:\n",
        "                result.append(i)\n",
        "        return result\n",
        "    \n",
        "    n = len(sent_token_ids)\n",
        "    for t, token_ids in enumerate(sent_token_ids):\n",
        "        if t % 100 == 0 or t == n - 1:\n",
        "            print_line('Positive Pair Generation:', (t + 1), '/', n)\n",
        "        for i, center_word in enumerate(token_ids):\n",
        "            context_words = []\n",
        "            # Start your code here\n",
        "            # Append context words of center_word to context_words\n",
        "            for idx in helper(i, len(token_ids)):\n",
        "                context_words.append(token_ids[idx])\n",
        "            # End\n",
        "            for context_word in context_words:\n",
        "                yield center_word, context_word\n",
        "\n",
        "\n",
        "def save_train_file(sent_token_ids, window_size: int = 2):\n",
        "    generator = positive_pairs_generator(sent_token_ids, window_size)\n",
        "    buffer_size = 100000\n",
        "    buffer = []\n",
        "    count = 0\n",
        "    with open(os.path.join('/content/drive/MyDrive/Colab Notebooks/a2-data/', 'word2vec_train_file.txt'), 'w') as train_file:\n",
        "        for center_word, context_words in generator:\n",
        "            count += 1\n",
        "            line = f'{center_word} {context_words}\\n'\n",
        "            buffer.append(line)\n",
        "            if len(buffer) == buffer_size:\n",
        "                random.shuffle(buffer)\n",
        "                train_file.writelines(buffer)\n",
        "                buffer = []\n",
        "        if len(buffer) > 0:\n",
        "            train_file.writelines(buffer)\n",
        "    print('\\n')\n",
        "    print(f'There are {count} pairs')\n",
        "    return count"
      ]
    },
    {
      "cell_type": "code",
      "execution_count": 14,
      "id": "157b7bbf-ffce-4955-903f-a23dabeff734",
      "metadata": {
        "id": "157b7bbf-ffce-4955-903f-a23dabeff734",
        "colab": {
          "base_uri": "https://localhost:8080/",
          "height": 0
        },
        "outputId": "e3cf583b-5565-4e8c-b143-2459cf7c8483"
      },
      "outputs": [
        {
          "output_type": "stream",
          "name": "stdout",
          "text": [
            "Positive Pair Generation: 528199 / 528199\n",
            "\n",
            "There are 43329735 pairs\n"
          ]
        }
      ],
      "source": [
        "window_size = 2\n",
        "num_samples = save_train_file(sent_token_ids, window_size)\n",
        "\n",
        "# Note: if you implement correctly, there will be about 44M pairs."
      ]
    },
    {
      "cell_type": "markdown",
      "id": "90ab2a3e-fd01-4c01-a0dc-cf795a8c887a",
      "metadata": {
        "id": "90ab2a3e-fd01-4c01-a0dc-cf795a8c887a"
      },
      "source": [
        "### Negative Samples (5 Points)\n",
        "\n",
        "We randomly select $K$ words from the vocabulary as negative samples."
      ]
    },
    {
      "cell_type": "code",
      "execution_count": 15,
      "id": "fe09b55e-52d8-47b4-a7b3-6163a1c82ef0",
      "metadata": {
        "id": "fe09b55e-52d8-47b4-a7b3-6163a1c82ef0"
      },
      "outputs": [],
      "source": [
        "def get_negative_samples(vocab_size: int, batch_size: int, negative_sample_num: int):\n",
        "    \"\"\" Generate negative words\n",
        "    \n",
        "    Args:\n",
        "        vocab_size: number of tokens in the vocabulary\n",
        "        batch_size: number of samples (center word) in a batch\n",
        "        negative_sample_num: number of negative words sampled for a center word\n",
        "        \n",
        "    Return:\n",
        "        negative_words: Shape of (batch_size x negative_sample_num)\n",
        "        \n",
        "    Note: 1. You should NOT sample special token in the vocabulary, i.e., the token ids range should be [5, vocab_size)\n",
        "          2. Hint: See numpy.random.choice. Read carefully for each parameter of this function\n",
        "    \"\"\"\n",
        "    negative_words = None\n",
        "    # Start your code here\n",
        "    negative_words=np.random.choice((5,vocab_size),(batch_size,negative_sample_num))\n",
        "    # End\n",
        "    assert negative_words.shape == (batch_size, negative_sample_num)\n",
        "    return negative_words\n",
        "\n",
        "\n",
        "def train_data_generator(batch_size, vocab_size, negative_sample_num):\n",
        "    with open(os.path.join('/content/drive/MyDrive/Colab Notebooks/a2-data/', 'word2vec_train_file.txt')) as train_file:\n",
        "        while True:\n",
        "            batch_center_words, batch_context_words = [], []\n",
        "            for line in train_file:\n",
        "                center_word, context_word = line.strip().split()\n",
        "                batch_center_words.append(int(center_word))\n",
        "                batch_context_words.append(int(context_word))\n",
        "                if len(batch_center_words) == batch_size:\n",
        "                    negative_words = get_negative_samples(vocab_size, batch_size, negative_sample_num)\n",
        "                    yield batch_center_words, batch_context_words, negative_words\n",
        "                    batch_center_words, batch_context_words = [], []\n",
        "            train_file.seek(0)\n",
        "            if len(batch_center_words) > 0:\n",
        "                real_batch_size = len(batch_center_words)\n",
        "                negative_words = get_negative_samples(vocab_size, real_batch_size, negative_sample_num)\n",
        "                yield batch_center_words, batch_context_words, negative_words\n",
        "            "
      ]
    },
    {
      "cell_type": "markdown",
      "id": "4988ca2f-ce4a-40eb-9fef-4d93f32575da",
      "metadata": {
        "id": "4988ca2f-ce4a-40eb-9fef-4d93f32575da"
      },
      "source": [
        "## 3. Skip-gram Model (20 Points)\n",
        "\n",
        "- Loss: 10 Points\n",
        "- Model: 10 Points"
      ]
    },
    {
      "cell_type": "code",
      "execution_count": 16,
      "id": "e8fefa08-6231-4fbf-869a-d07ebce350f8",
      "metadata": {
        "id": "e8fefa08-6231-4fbf-869a-d07ebce350f8"
      },
      "outputs": [],
      "source": [
        "from tensorflow.keras import Model\n",
        "from tensorflow.keras.losses import Loss\n",
        "import tensorflow as tf\n",
        "        \n",
        "def negative_sampling_loss(center_embeddings, context_embeddings, negative_embeddings):\n",
        "    \"\"\" Calculate the negative sampling loss\n",
        "    \n",
        "    Args:\n",
        "        center_embeddings: v_c, (batch_size x embedding_dim)\n",
        "        context_embeddings: u_o, (batch_size x embedding_dim)\n",
        "        negative_embeddings: u_k, (batch_size x negative_sample_num x embedding_dim)\n",
        "    \"\"\"\n",
        "    loss = 0\n",
        "    # Start your code here\n",
        "    # 1. Calculate positive dot product\n",
        "    # 2. loss for the positive pairs\n",
        "    # 3. Calculate negative dot product\n",
        "    # 4. loss for the negative words\n",
        "    # Hint: See tf.reduce_sum, tf.expand_dims, tf.reduce_mean for help\n",
        "    \n",
        "    pos_dot = tf.keras.layers.dot([center_embeddings, context_embeddings], axes=(1,1))\n",
        "    pos_loss = tf.squeeze(tf.math.log_sigmoid(pos_dot), axis = 1)\n",
        "\n",
        "    neg_dot = tf.matmul(tf.math.negative(negative_embeddings), tf.expand_dims(center_embeddings, axis = 2))\n",
        "    neg_loss = tf.math.reduce_sum(tf.squeeze(tf.math.log_sigmoid(neg_dot), axis = 2), axis = 1)\n",
        "    loss = tf.reduce_mean(tf.math.negative(tf.math.add(pos_loss, neg_loss))) \n",
        "\n",
        "    \n",
        "\n",
        "#     # End\n",
        "    return loss\n",
        "\n",
        "\n",
        "class SkipGram(Model):\n",
        "    def __init__(self, vocab_size: int, embedding_dim: int):\n",
        "        \"\"\" Skip-gram model.\n",
        "        \"\"\"\n",
        "        super().__init__()\n",
        "        self.vocab_size = vocab_size\n",
        "        self.embedding_dim = embedding_dim\n",
        "\n",
        "        # Start your code here\n",
        "        # Initialize embedding layers\n",
        "        # self.center_embeddings = \n",
        "        # self.context_embeddings =\n",
        "        # Hint: See tf.keras.layers.Embedding\n",
        "        \n",
        "        self.center_embeddings =  tf.keras.layers.Embedding(input_dim=vocab_size, output_dim=embedding_dim)\n",
        "        self.context_embeddings =  tf.keras.layers.Embedding(input_dim=vocab_size, output_dim=embedding_dim)\n",
        "\n",
        "        # End\n",
        "        \n",
        "    def call(self, center_words, context_words, negative_words):\n",
        "        \"\"\" Forward of the skip-gram model\n",
        "        \n",
        "        Args:\n",
        "            center_words: tensor (batch_size, )\n",
        "            context_words: tensor (batch_size, )\n",
        "            negative_words: tensor (batch_size, negative_embeddings)\n",
        "            \n",
        "        Return:\n",
        "            center_embeddings, context_embeddings, negative_embeddings: The input for the negative_sampling_loss.\n",
        "        \"\"\"\n",
        "        # Start your code here\n",
        "        center_embeddings = self.center_embeddings(center_words)\n",
        "        context_embeddings = self.context_embeddings(context_words)\n",
        "        negative_embeddings = self.context_embeddings(negative_words)\n",
        "        \n",
        "        # End\n",
        "        \n",
        "        return center_embeddings, context_embeddings, negative_embeddings"
      ]
    },
    {
      "cell_type": "code",
      "execution_count": 17,
      "id": "cec8205b-1449-44dc-81ac-0dee1f155676",
      "metadata": {
        "id": "cec8205b-1449-44dc-81ac-0dee1f155676"
      },
      "outputs": [],
      "source": [
        "vocab_size = len(tokenizer)\n",
        "embedding_dim = 64\n",
        "num_epoch = 2\n",
        "batch_size = 1024\n",
        "negative_sample_num = 5"
      ]
    },
    {
      "cell_type": "code",
      "execution_count": 18,
      "id": "1f0e3ff1-1f93-46bd-b849-42a0ead9ebd9",
      "metadata": {
        "id": "1f0e3ff1-1f93-46bd-b849-42a0ead9ebd9"
      },
      "outputs": [],
      "source": [
        "model = SkipGram(vocab_size, embedding_dim)\n",
        "optimizer = tf.keras.optimizers.Adam(learning_rate=1e-3)"
      ]
    },
    {
      "cell_type": "code",
      "source": [
        "import numpy as np"
      ],
      "metadata": {
        "id": "DIPsNO067TaC"
      },
      "id": "DIPsNO067TaC",
      "execution_count": 19,
      "outputs": []
    },
    {
      "cell_type": "code",
      "execution_count": 20,
      "id": "1ee3aa8e-eed3-49fd-85cc-f6afb06d9e52",
      "metadata": {
        "id": "1ee3aa8e-eed3-49fd-85cc-f6afb06d9e52",
        "colab": {
          "base_uri": "https://localhost:8080/",
          "height": 0
        },
        "outputId": "f9bb8b5b-0afc-4ad1-c9f0-1fb17ba6c9dd"
      },
      "outputs": [
        {
          "output_type": "stream",
          "name": "stdout",
          "text": [
            "Epoch 1 / 2 - Step 42315 / 42315 - loss: 1.7604\n",
            "Epoch 2 / 2 - Step 42315 / 42315 - loss: 1.7333\n"
          ]
        }
      ],
      "source": [
        "n_batch = int(np.ceil(num_samples / batch_size))\n",
        "train_gen = train_data_generator(batch_size, vocab_size, negative_sample_num)\n",
        "for epoch in range(num_epoch):\n",
        "    epoch_loss = 0.0\n",
        "    for batch_idx in range(n_batch):\n",
        "        batch = next(train_gen)\n",
        "        real_batch_size = len(batch[0])\n",
        "        batch = [tf.convert_to_tensor(d, tf.int64) for d in batch]\n",
        "\n",
        "        with tf.GradientTape() as tape:\n",
        "            output = model(*batch)\n",
        "            loss = negative_sampling_loss(*output)\n",
        "\n",
        "        if batch_idx % 10 == 0 or batch_idx == num_samples - 1:\n",
        "            print_line(f'Epoch {epoch + 1} / {num_epoch} - Step {batch_idx + 1} / {n_batch} - loss: {loss:.4f}')\n",
        "            \n",
        "        trainable_vars = model.trainable_variables\n",
        "        gradients = tape.gradient(loss, trainable_vars)\n",
        "\n",
        "        # Update weights\n",
        "        optimizer.apply_gradients(zip(gradients, trainable_vars))\n",
        "        epoch_loss += loss * real_batch_size\n",
        "    print(f'\\rEpoch {epoch + 1} / {num_epoch} - Step {n_batch} / {n_batch} - loss: {epoch_loss / num_samples:.4f}')"
      ]
    },
    {
      "cell_type": "markdown",
      "id": "70839bdf-2b75-4219-9543-4e2ccdd0ee9e",
      "metadata": {
        "id": "70839bdf-2b75-4219-9543-4e2ccdd0ee9e"
      },
      "source": [
        "## 4. Visualization (5 Points)"
      ]
    },
    {
      "cell_type": "code",
      "execution_count": 25,
      "id": "01170df8-363e-4250-9c28-d2095af76363",
      "metadata": {
        "id": "01170df8-363e-4250-9c28-d2095af76363",
        "colab": {
          "base_uri": "https://localhost:8080/",
          "height": 0
        },
        "outputId": "6ce60a5d-da7c-476a-f116-8bce19b9d104"
      },
      "outputs": [
        {
          "output_type": "execute_result",
          "data": {
            "text/plain": [
              "(102299, 64)"
            ]
          },
          "metadata": {},
          "execution_count": 25
        }
      ],
      "source": [
        "word_vecs = tf.concat([model.center_embeddings.weights[0], model.context_embeddings.weights[0]], axis=-1).numpy()\n",
        "center_vecs = model.center_embeddings.weights[0].numpy()\n",
        "center_vecs.shape"
      ]
    },
    {
      "cell_type": "code",
      "execution_count": 26,
      "id": "d3f58dc6-ce6c-4b7a-bc41-cad74addd619",
      "metadata": {
        "id": "d3f58dc6-ce6c-4b7a-bc41-cad74addd619",
        "colab": {
          "base_uri": "https://localhost:8080/",
          "height": 273
        },
        "outputId": "702c1e1b-ed4d-4882-acf3-f8af01b752b5"
      },
      "outputs": [
        {
          "output_type": "display_data",
          "data": {
            "text/plain": [
              "<Figure size 432x288 with 1 Axes>"
            ],
            "image/png": "[encoded data removed]"
          },
          "metadata": {
            "needs_background": "light"
          }
        }
      ],
      "source": [
        "from matplotlib import pyplot as plt\n",
        "\n",
        "\n",
        "visualize_words = [\n",
        "    \"movie\", \"film\", \"story\",\n",
        "    \"good\", \"enjoyable\", \"great\", \"bad\",\n",
        "    \"coffee\", \"tea\", \"milk\"\n",
        "]\n",
        "visualize_idx = [tokenizer.vocab[word] for word in visualize_words]\n",
        "visualize_vecs = center_vecs[visualize_idx, :]\n",
        "\n",
        "temp = (visualize_vecs - np.mean(visualize_vecs, axis=0))\n",
        "covariance = 1.0 / len(visualize_idx) * temp.T.dot(temp)\n",
        "U, S, V = np.linalg.svd(covariance)\n",
        "coord = temp.dot(U[:, 0:2])\n",
        "\n",
        "for i in range(len(visualize_words)):\n",
        "    plt.text(coord[i, 0], coord[i, 1], visualize_words[i],\n",
        "             bbox=dict(facecolor='green', alpha=0.1))\n",
        "\n",
        "plt.xlim((np.min(coord[:, 0]), np.max(coord[:, 0])))\n",
        "plt.ylim((np.min(coord[:, 1]), np.max(coord[:, 1])))\n",
        "\n",
        "plt.savefig('word_vectors.png')\n",
        "plt.show()"
      ]
    },
    {
      "cell_type": "code",
      "execution_count": 27,
      "id": "21566d6c-998e-4b86-b765-9b7704e94737",
      "metadata": {
        "id": "21566d6c-998e-4b86-b765-9b7704e94737"
      },
      "outputs": [],
      "source": [
        "def knn(vec, mat, k):\n",
        "    \"\"\" Implement the KNN algorithm based on cosine similarity, which will be used for analysis.\n",
        "\n",
        "        Args:\n",
        "            vec: numpy ndarray, the target vector\n",
        "            mat: numpy ndarray, a matrix contains all the vectors (each row is a vector)\n",
        "            k: the number of the nearest neighbors you want to find.\n",
        "            \n",
        "        Return:\n",
        "            indices: the k indices of the matrix's rows that are closest to the vec\n",
        "    \"\"\"\n",
        "\n",
        "    def cosine_sim(vec1, vec2):\n",
        "      dist = np.dot(vec1, vec2) / (np.linalg.norm(vec1) * np.linalg.norm(vec2))\n",
        "      return dist\n",
        "    indicies = []\n",
        "    # Start your code here\n",
        "    # Note: DO NOT use for loop to calculate the similarity between two vectors. You are required to vectorize the calculation.\n",
        "    # Hint: See np.argsort\n",
        "    indices =  np.argsort([cosine_sim(vec, row) for row in mat])[-k:]\n",
        "    # End\n",
        "    \n",
        "    return indices"
      ]
    },
    {
      "cell_type": "code",
      "execution_count": 28,
      "id": "c1433fc0-5935-49d1-9cc8-c232ae7baff9",
      "metadata": {
        "id": "c1433fc0-5935-49d1-9cc8-c232ae7baff9",
        "colab": {
          "base_uri": "https://localhost:8080/",
          "height": 0
        },
        "outputId": "9346214b-cdb1-4333-af60-fa9a8e502715"
      },
      "outputs": [
        {
          "output_type": "stream",
          "name": "stdout",
          "text": [
            "Word: \"movie\" is close to ['angeles', 'forty', 'write', 'manager', 'sensation', 'enfants', 'wanna', 'launch', 'lingering', 'movie']\n",
            "Word: \"film\" is close to ['officials', 'grave', 'objects', 'muscle', 'izo', 'georgia', 'collection', 'consisting', 'laughed', 'film']\n",
            "Word: \"story\" is close to ['ex', 'hate', 'domestic', 'exploration', 'here', 'terrifying', 'backdrop', 'worst', 'genuine', 'story']\n",
            "Word: \"good\" is close to ['manages', 'missed', 'done', 'determined', 'jan', 'booth', 'manager', 'reveal', 'carbon', 'good']\n",
            "Word: \"enjoyable\" is close to ['nation', 'extent', 'warrior', 'cuban', 'frames', 'tedious', 'hokey', 'sublime', 'aura', 'enjoyable']\n",
            "Word: \"great\" is close to ['patience', 'modern', 'deranged', 'badly', 'manager', 'wouldn', 'bone', 'tick', 'waitress', 'great']\n",
            "Word: \"bad\" is close to ['metallica', 'aimlessly', 'bizarre', 'tub', 'bright', 'boyish', 'steals', 'pulling', 'widespread', 'bad']\n",
            "Word: \"coffee\" is close to ['slave', 'amateur', 'finding', 'kruger', 'cates', 'bed', 'crystal', 'flesh', 'approaches', 'coffee']\n",
            "Word: \"tea\" is close to ['kit', 'rest', 'football', 'misleading', 'fighters', 'credit', 'challenges', 'sh', 'persona', 'tea']\n",
            "Word: \"milk\" is close to ['sunday', 'profit', 'mental', 'wicked', 'silence', 'saga', 'trail', 'dylan', 'civilization', 'milk']\n"
          ]
        }
      ],
      "source": [
        "for word in visualize_words:\n",
        "    idx = tokenizer.vocab[word]\n",
        "    vec = center_vecs[idx]\n",
        "    indices = knn(vec, center_vecs, 10)\n",
        "    closed_words = [tokenizer.inverse_vocab[i] for i in indices]\n",
        "    print('Word: \"{}\" is close to {}'.format(word, closed_words))"
      ]
    },
    {
      "cell_type": "markdown",
      "id": "cea05615-3aa9-4b17-89ee-40ef2eff0bcf",
      "metadata": {
        "id": "cea05615-3aa9-4b17-89ee-40ef2eff0bcf"
      },
      "source": [
        "## 5. Conclusion (5 Points)\n",
        "\n",
        "Provide an analysis for all the results"
      ]
    },
    {
      "cell_type": "markdown",
      "id": "efa38684-e334-4958-8fe9-ac98cfbc7133",
      "metadata": {
        "id": "efa38684-e334-4958-8fe9-ac98cfbc7133"
      },
      "source": [
        "\n",
        "Answer:\n",
        "\n",
        "The goal of skip gram is actually just to learn the weights of the hidden layer we can see that these weights are actually the “word vectors” that we’re trying to learn.\n",
        "\n",
        "Another thing we can observe that the optimization objective with a “Negative Sampling” technique,  causes each training sample to update only a small percentage of the model’s weights rather than than everything at once.\n",
        "\n",
        "We can see that like words are clustered together in the vector space created by the model. In the plot we can see the words like coffee, tea and milk are aptly clustered together. This could be futher improved with larger dataset\n",
        "\n",
        "It can be observed that the the word embeddings results a cluster with similar contexts. Since vocabulary and the data is limited a bias is introduced.\n",
        "\n",
        "For example 'milk' word to associate closely to 'sunday' and 'mental' associating closely to 'shadow', which can be reduced by including large dataset from varied sources. "
      ]
    },
    {
      "cell_type": "code",
      "source": [],
      "metadata": {
        "id": "nS3sgP4XEBcZ"
      },
      "id": "nS3sgP4XEBcZ",
      "execution_count": 24,
      "outputs": []
    }
  ],
  "metadata": {
    "kernelspec": {
      "display_name": "Python 3 (ipykernel)",
      "language": "python",
      "name": "python3"
    },
    "language_info": {
      "codemirror_mode": {
        "name": "ipython",
        "version": 3
      },
      "file_extension": ".py",
      "mimetype": "text/x-python",
      "name": "python",
      "nbconvert_exporter": "python",
      "pygments_lexer": "ipython3",
      "version": "3.9.10"
    },
    "colab": {
      "provenance": [],
      "collapsed_sections": []
    },
    "accelerator": "GPU"
  },
  "nbformat": 4,
  "nbformat_minor": 5
}
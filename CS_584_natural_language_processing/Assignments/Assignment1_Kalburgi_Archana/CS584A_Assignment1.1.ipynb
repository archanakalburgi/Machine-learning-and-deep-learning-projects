{
 "cells": [
  {
   "cell_type": "markdown",
   "id": "1c9c3b23",
   "metadata": {},
   "source": [
    "# CS 584 Assignment 1 -- Text Classification (Machine Learning and NLP Basics)\n",
    "\n",
    "#### Name: Archana Kalburgi\n",
    "#### Stevens ID: 10469491"
   ]
  },
  {
   "cell_type": "markdown",
   "id": "5ef8619d",
   "metadata": {
    "tags": []
   },
   "source": [
    "## Part A: Binary Classification (80 Points)\n",
    "\n",
    "## In this assignment, you are required to follow the steps below:\n",
    "1. Review the lecture slides.\n",
    "2. Implement the data loading, preprocessing, tokenization, and TF-IDF feature extraction.\n",
    "3. Implement Logistic Regression model, evaluation metrics, SGD, and Mini-batch GD.\n",
    "4. Implement Cross-validation to choose the best lambda.\n",
    "5. Analysis the results in the Conlusion part.\n",
    "\n",
    "**Before you start**\n",
    "- Please read the code very carefully.\n",
    "- Install these packages (jupyterlab, nltk, numpy, scikit-learn, and matplotlib) using the following command.\n",
    "```console\n",
    "pip install -r requirements.txt\n",
    "```\n",
    "- You are **NOT** allowed to use other packages unless otherwise specified.\n",
    "- You are **ONLY** allowed to edit the code between `# Start your code here` and `# End` for each block."
   ]
  },
  {
   "cell_type": "markdown",
   "id": "bb307f36",
   "metadata": {},
   "source": [
    "## 1. Data Processing (20 points)\n",
    "\n",
    "* Download the dataset from Canvas\n",
    "* Load data to text and labels\n",
    "* Preprocessing\n",
    "* Tokenization\n",
    "* Split data\n",
    "* Feature extraction (TF-IDF)"
   ]
  },
  {
   "cell_type": "markdown",
   "id": "d006ba0d",
   "metadata": {},
   "source": [
    "#### Download NLTK stopwords"
   ]
  },
  {
   "cell_type": "code",
   "execution_count": 443,
   "id": "bf023a6c",
   "metadata": {},
   "outputs": [
    {
     "name": "stderr",
     "output_type": "stream",
     "text": [
      "[nltk_data] Downloading package stopwords to a1-data/nltk...\n",
      "[nltk_data]   Package stopwords is already up-to-date!\n"
     ]
    }
   ],
   "source": [
    "import os\n",
    "import math\n",
    "\n",
    "import nltk\n",
    "from nltk.corpus import wordnet\n",
    "\n",
    "\n",
    "nltk_path = os.path.join('a1-data', 'nltk')\n",
    "nltk.download('stopwords', download_dir=nltk_path)\n",
    "nltk.data.path.append(nltk_path)"
   ]
  },
  {
   "cell_type": "code",
   "execution_count": 444,
   "id": "aa147656",
   "metadata": {},
   "outputs": [],
   "source": [
    "import sys\n",
    "\n",
    "\n",
    "def print_line(*args):\n",
    "    \"\"\" Inline print and go to the begining of line\n",
    "    \"\"\"\n",
    "    args1 = [str(arg) for arg in args]\n",
    "    str_ = ' '.join(args1)\n",
    "    sys.stdout.write(str_ + '\\r')\n",
    "    sys.stdout.flush()"
   ]
  },
  {
   "cell_type": "code",
   "execution_count": 445,
   "id": "49bca414",
   "metadata": {},
   "outputs": [],
   "source": [
    "from typing import List, Tuple, Union\n",
    "\n",
    "import numpy as np"
   ]
  },
  {
   "cell_type": "markdown",
   "id": "82d3d668",
   "metadata": {},
   "source": [
    "### 1.1 Load data (5 Points)\n",
    "\n",
    "- Load sentences and labels\n",
    "- Transform string labels into integers"
   ]
  },
  {
   "cell_type": "code",
   "execution_count": 446,
   "id": "c45103ab",
   "metadata": {},
   "outputs": [],
   "source": [
    "def load_sentence_label(data_path: str) -> Tuple[List[str], List[str]]:\n",
    "    \"\"\" Load sentences and labels from the specified path\n",
    "    Args:\n",
    "        data_path: data_path: path to the data file, e.g., 'a1-data/SMSSpamCollection'\n",
    "        sentences: the raw text list of all sentences\n",
    "    Returns:\n",
    "        labels: the label list of all sentences\n",
    "    \"\"\"\n",
    "    sentences, labels = [], []\n",
    "    # Start your code here (load text and label from files)\n",
    "    \n",
    "    with open(\"data/SMSSpamCollection\") as f:\n",
    "        lines = f.readlines()\n",
    "        \n",
    "    mapper = map(lambda x: x.split(\"\\t\"), lines)\n",
    "    \n",
    "    for item in mapper:\n",
    "        labels.append(item[0])\n",
    "        sentences.append(item[1])\n",
    "\n",
    "    # End\n",
    "    return sentences, labels\n"
   ]
  },
  {
   "cell_type": "code",
   "execution_count": 447,
   "id": "b8c6acef",
   "metadata": {},
   "outputs": [
    {
     "name": "stdout",
     "output_type": "stream",
     "text": [
      "Label map: {'ham': 0, 'spam': 1}\n",
      "Number of sentences and labels: 5574 5574\n"
     ]
    }
   ],
   "source": [
    "data_path = os.path.join('a1-data', 'SMSSpamCollection')\n",
    "sentences, labels = load_sentence_label(data_path)\n",
    "\n",
    "label_map = {}\n",
    "for label in sorted(list(set(labels))):\n",
    "    label_map[label] = len(label_map)\n",
    "labels = np.array([label_map[label] for label in labels], dtype=int)\n",
    "sentences = np.array(sentences, dtype=object)\n",
    "\n",
    "print('Label map:', label_map)\n",
    "print('Number of sentences and labels:', len(sentences), len(labels))"
   ]
  },
  {
   "cell_type": "markdown",
   "id": "370f03e6",
   "metadata": {},
   "source": [
    "#### Split the data into training, validation and test"
   ]
  },
  {
   "cell_type": "code",
   "execution_count": 448,
   "id": "100229ae",
   "metadata": {},
   "outputs": [],
   "source": [
    "def train_test_split(sentences: np.ndarray,\n",
    "                     labels: np.ndarray,\n",
    "                     test_ratio: float = 0.2) -> Tuple[np.ndarray, np.ndarray, np.ndarray, np.ndarray]:\n",
    "    \"\"\" Split the sentences and labels into training and test data by shuffling\n",
    "    Args:\n",
    "        sentences: A numpy array containing all sentences\n",
    "        labels: A number array containing label ids\n",
    "        test_ratio: A float number to calculate the number of test data\n",
    "\n",
    "    Returns:\n",
    "        train_sentences: A numpy array containing all training sentences\n",
    "        train_labels: A number array containing all training label ids\n",
    "        test_sentences: A numpy array containing all test sentences\n",
    "        test_labels: A number array containing all test label ids\n",
    "    \"\"\"\n",
    "    assert 0 < test_ratio < 1\n",
    "    assert len(sentences) == len(labels)\n",
    "\n",
    "    train_index, test_index = [], []\n",
    "    # Start your code here (split the index for training and test)\n",
    "    end = math.ceil((1-test_ratio)*len(labels))\n",
    "    train_index = [i for i in range(end)]\n",
    "    test_index = [i for i in range(len(labels)-end)]\n",
    "    np.random.shuffle(train_index)\n",
    "    np.random.shuffle(train_index)\n",
    "    # End\n",
    "\n",
    "    train_sentences, train_labels = sentences[train_index], labels[train_index]\n",
    "    test_sentences, test_labels = sentences[test_index], labels[test_index]\n",
    "    return train_sentences, train_labels, test_sentences, test_labels\n"
   ]
  },
  {
   "cell_type": "code",
   "execution_count": 449,
   "id": "a73f9b2e",
   "metadata": {},
   "outputs": [
    {
     "name": "stdout",
     "output_type": "stream",
     "text": [
      "Training data length: 4014\n",
      "Validation data length: 446\n",
      "Test data length: 1114\n"
     ]
    }
   ],
   "source": [
    "np.random.seed(6666)\n",
    "\n",
    "test_ratio = 0.2\n",
    "valid_ratio = 0.1\n",
    "(train_sentences, train_labels,\n",
    "    test_sentences, test_labels) = train_test_split(sentences, labels, test_ratio)\n",
    "(train_sentences, train_labels,\n",
    "    valid_sentences, valid_labels) = train_test_split(train_sentences, train_labels, valid_ratio)\n",
    "\n",
    "print('Training data length:', len(train_sentences))\n",
    "print('Validation data length:', len(valid_sentences))\n",
    "print('Test data length:', len(test_sentences))\n"
   ]
  },
  {
   "cell_type": "code",
   "execution_count": 450,
   "id": "b7af1c50",
   "metadata": {},
   "outputs": [],
   "source": [
    "def count_label(labels: np.ndarray, label_map: dict[str, int]) -> dict[str, int]:\n",
    "    \"\"\"\n",
    "    Args:\n",
    "        labels: The labels of a dataset \n",
    "        label_map: The mapping from label to label id\n",
    "    Returns:\n",
    "        label_count: The mapping from label to its count\n",
    "    \"\"\"\n",
    "    label_count = {key: 0 for key in label_map.keys()}\n",
    "    # Start your code here (count the number of each label)\n",
    "    ham_count = len(list(filter(lambda x : x==0, labels)))\n",
    "    spam_count = len(list(filter(lambda x : x==1, labels)))\n",
    "    label_count['ham']=ham_count\n",
    "    label_count['spam']=spam_count\n",
    "    # End\n",
    "    return label_count\n"
   ]
  },
  {
   "cell_type": "code",
   "execution_count": 364,
   "id": "35defd42",
   "metadata": {},
   "outputs": [
    {
     "name": "stdout",
     "output_type": "stream",
     "text": [
      "Training: {'ham': 3473, 'spam': 541}\n",
      "Validation: {'ham': 385, 'spam': 61}\n",
      "Test: {'ham': 946, 'spam': 168}\n"
     ]
    }
   ],
   "source": [
    "print('Training:', count_label(train_labels, label_map))\n",
    "print('Validation:', count_label(valid_labels, label_map))\n",
    "print('Test:', count_label(test_labels, label_map))"
   ]
  },
  {
   "cell_type": "markdown",
   "id": "3721d097",
   "metadata": {},
   "source": [
    "#### Dataset statistics\n",
    "Fill this table with the statistics you just printed (double click this cell to edit)\n",
    "\n",
    "|                | ham    | spam   | Total  |\n",
    "|:--------------:|--------|--------|--------|\n",
    "|  **Training**  |  3473  |  541   | 4,014  |\n",
    "| **Validation** |   385  |   61   |  446   |\n",
    "|    **Test**    |   946  |  168   | 1,114  |\n",
    "|    **Total**   | 4,804  |  770   | 5,574  |"
   ]
  },
  {
   "cell_type": "markdown",
   "id": "34dca930",
   "metadata": {},
   "source": [
    "### 1.2 Preprocess (Fill the code: 5 points)\n",
    "In this section, you need to remove all the unrelated characters, including punctuation, urls, and numbers. Please fill up the functions and test them by running the following cell."
   ]
  },
  {
   "cell_type": "code",
   "execution_count": 451,
   "id": "9d695e50",
   "metadata": {},
   "outputs": [],
   "source": [
    "import re\n",
    "import string\n",
    "\n",
    "class Preprocessor:\n",
    "    def __init__(self, punctuation=True, url=True, number=True):\n",
    "        self.punctuation = punctuation\n",
    "        self.url = url\n",
    "        self.number = number\n",
    "\n",
    "    def apply(self, sentence: str) -> str:\n",
    "        \"\"\" Apply the preprocessing rules to the sentence\n",
    "        Args:\n",
    "            sentence: raw sentence\n",
    "        Returns:\n",
    "            sentence: clean sentence\n",
    "        \"\"\"\n",
    "        sentence = sentence.lower()\n",
    "        if self.url:\n",
    "            sentence = Preprocessor.remove_url(sentence)\n",
    "        if self.punctuation:\n",
    "            sentence = Preprocessor.remove_punctuation(sentence)\n",
    "        if self.number:\n",
    "            sentence = Preprocessor.remove_number(sentence)\n",
    "        sentence = re.sub(r'\\s+', ' ', sentence)\n",
    "        return sentence\n",
    "\n",
    "    @staticmethod\n",
    "    def remove_punctuation(sentence: str) -> str:\n",
    "        \"\"\" Remove punctuations in sentence with re\n",
    "        Args:\n",
    "            sentence: sentence with possible punctuations\n",
    "        Returns:\n",
    "            sentence: sentence without punctuations\n",
    "        \"\"\"\n",
    "        # Start your code here\n",
    "        sentence = sentence.translate(str.maketrans('','', string.punctuation))   \n",
    "        # End\n",
    "        return sentence\n",
    "\n",
    "    @staticmethod\n",
    "    def remove_url(sentence: str) -> str:\n",
    "        \"\"\" Remove urls in text with re\n",
    "        Args:\n",
    "            sentence: sentence with possible urls\n",
    "        Returns:\n",
    "            sentence: sentence without urls\n",
    "        \"\"\"\n",
    "        # Start your code here\n",
    "        pattern = re.compile(\"(https?:\\/\\/(?:www\\.|(?!www))[a-zA-Z0-9][a-zA-Z0-9-]+[a-zA-Z0-9]\\.[^\\s]{2,}|www\\.[a-zA-Z0-9][a-zA-Z0-9-]+[a-zA-Z0-9]\\.[^\\s]{2,}|https?:\\/\\/(?:www\\.|(?!www))[a-zA-Z0-9]+\\.[^\\s]{2,}|www\\.[a-zA-Z0-9]+\\.[^\\s]{2,})\")\n",
    "        sentence = pattern.sub('', sentence)\n",
    "        # End\n",
    "        return sentence\n",
    "\n",
    "    @staticmethod\n",
    "    def remove_number(sentence: str) -> str:\n",
    "        \"\"\" Remove numbers in sentence with re\n",
    "        Args:\n",
    "            sentence: sentence with possible numbers\n",
    "        Returns:\n",
    "            sentence: sentence without numbers\n",
    "        \"\"\"\n",
    "        # Start your code here\n",
    "        sentence = sentence.translate(str.maketrans('','',string.digits))\n",
    "        # End\n",
    "        return sentence\n",
    "    "
   ]
  },
  {
   "cell_type": "markdown",
   "id": "7991ded7",
   "metadata": {},
   "source": [
    "##### Test your implementation by running the following cell."
   ]
  },
  {
   "cell_type": "code",
   "execution_count": 452,
   "id": "e29f1568",
   "metadata": {},
   "outputs": [
    {
     "name": "stdout",
     "output_type": "stream",
     "text": [
      "\"Interest rates are trimmed to 7.5 by the South African central bank (https://www.xxx.xxx), but the lack of warning hits the rand and surprises markets.\"\n",
      "===>\n",
      "\"interest rates are trimmed to by the south african central bank but the lack of warning hits the rand and surprises markets\"\n"
     ]
    }
   ],
   "source": [
    "sentence = \"Interest rates are trimmed to 7.5 by the South African central bank (https://www.xxx.xxx), but the lack of warning hits the rand and surprises markets.\"\n",
    "\n",
    "processor = Preprocessor()\n",
    "clean_sentence = processor.apply(sentence)\n",
    "\n",
    "print(f'\"{sentence}\"') \n",
    "print('===>')\n",
    "print(f'\"{clean_sentence}\"')\n"
   ]
  },
  {
   "cell_type": "markdown",
   "id": "2a398179",
   "metadata": {},
   "source": [
    "### 1.3 Tokenization (Fill the code: 5 points)"
   ]
  },
  {
   "cell_type": "code",
   "execution_count": 453,
   "id": "cdf04eb9-f0a4-41bd-91ac-ce28672a288d",
   "metadata": {},
   "outputs": [
    {
     "name": "stderr",
     "output_type": "stream",
     "text": [
      "[nltk_data] Downloading package wordnet to /home/jovyan/nltk_data...\n",
      "[nltk_data]   Package wordnet is already up-to-date!\n",
      "[nltk_data] Downloading package omw-1.4 to /home/jovyan/nltk_data...\n",
      "[nltk_data]   Package omw-1.4 is already up-to-date!\n"
     ]
    },
    {
     "data": {
      "text/plain": [
       "True"
      ]
     },
     "execution_count": 453,
     "metadata": {},
     "output_type": "execute_result"
    }
   ],
   "source": [
    "nltk.download('wordnet')\n",
    "nltk.download('omw-1.4')"
   ]
  },
  {
   "cell_type": "code",
   "execution_count": 454,
   "id": "ff2ad8e3",
   "metadata": {},
   "outputs": [
    {
     "name": "stdout",
     "output_type": "stream",
     "text": [
      "[\"won't\", 'had', 'against', 'such', 'hadn', 'hers', 'over', 'between', 'myself', \"hasn't\"]\n"
     ]
    }
   ],
   "source": [
    "import nltk\n",
    "from nltk.tokenize import word_tokenize\n",
    "from nltk import PorterStemmer\n",
    "from nltk.corpus import stopwords\n",
    "\n",
    "\n",
    "stopwords_set = set(stopwords.words('english'))\n",
    "stemmer = PorterStemmer()\n",
    "print(list(stopwords_set)[:10])"
   ]
  },
  {
   "cell_type": "code",
   "execution_count": 455,
   "id": "37ff9c31",
   "metadata": {},
   "outputs": [],
   "source": [
    "def tokenize(sentence: str) -> List[str]:\n",
    "    \"\"\" Tokenize a sentence into tokens (words)\n",
    "    Args:\n",
    "        sentence: clean sentence\n",
    "    Returns:\n",
    "        tokens\n",
    "    \"\"\"\n",
    "    words = []\n",
    "    # Start your code here\n",
    "    #     Step 1. Split sentence into words\n",
    "    #     Step 2. Extract word stem using the defined stemmer (PorterStemmer) by calling stemmer.stem(word)\n",
    "    #     Step 3. Remove stop words using the defined stopwords_set\n",
    "    \n",
    "    tokens = nltk.tokenize.word_tokenize(sentence)\n",
    "    stopwords = nltk.corpus.stopwords.words('english')\n",
    "    tokens = [token for token in tokens if token not in stopwords]\n",
    "    lemmatizer = nltk.stem.WordNetLemmatizer()\n",
    "    words = [lemmatizer.lemmatize(token) for token in tokens]\n",
    "    \n",
    "    # End\n",
    "    return words\n"
   ]
  },
  {
   "cell_type": "markdown",
   "id": "97704226",
   "metadata": {},
   "source": [
    "##### Test your implementation by running the following block."
   ]
  },
  {
   "cell_type": "code",
   "execution_count": 456,
   "id": "75ca92ac",
   "metadata": {},
   "outputs": [
    {
     "name": "stdout",
     "output_type": "stream",
     "text": [
      "\"Interest rates are trimmed to 7.5 by the South African central bank (https://www.xxx.xxx), but the lack of warning hits the rand and surprises markets.\"\n",
      "===>\n",
      "\"['interest', 'rate', 'trimmed', 'south', 'african', 'central', 'bank', 'lack', 'warning', 'hit', 'rand', 'surprise', 'market']\"\n"
     ]
    }
   ],
   "source": [
    "sentence = \"Interest rates are trimmed to 7.5 by the South African central bank (https://www.xxx.xxx), but the lack of warning hits the rand and surprises markets.\"\n",
    "\n",
    "processor = Preprocessor()\n",
    "clean_sentence = processor.apply(sentence)\n",
    "tokens = tokenize(clean_sentence)\n",
    "\n",
    "print(f'\"{sentence}\"') \n",
    "print('===>')\n",
    "print(f'\"{tokens}\"')"
   ]
  },
  {
   "cell_type": "markdown",
   "id": "d44120cb",
   "metadata": {},
   "source": [
    "### 1.5 Feature Extraction (Fill the code: 5 points)\n",
    "\n",
    "TF-IDF:\n",
    "$$\\text{TF-IDF}(t, d) = \\frac{f_{t, d}}{\\sum_{t'}{f_{t', d}}} \\times \\log{\\frac{N}{n_t}}$$\n",
    "\n",
    "- $t$: A term\n",
    "- $d$: A document. Here, we regard a sentence as a document\n",
    "- $f_{t, d}$: Number of term $t$ in $d$\n",
    "- $N$: Number of document\n",
    "- $n_t$: Number of document containing $t$"
   ]
  },
  {
   "cell_type": "code",
   "execution_count": 457,
   "id": "9251e698",
   "metadata": {},
   "outputs": [],
   "source": [
    "from collections import defaultdict\n",
    "from collections import defaultdict, Counter\n",
    "\n",
    "class TfIdfEncoder:\n",
    "    def __init__(self):\n",
    "        self.vocab = defaultdict(int)\n",
    "        self.token2index = {}\n",
    "        self.df = defaultdict(int)\n",
    "        self.num_doc = 0\n",
    "        self.processor = Preprocessor()\n",
    "\n",
    "    def fit(self, sentences: Union[List[str], np.ndarray]) -> int:\n",
    "        \"\"\" Using the given texts to store key information in TF-IDF calculation\n",
    "            In this function, you are required to implement the fitting process.\n",
    "                1. Construct the vocabulary and store the frequency of tokens (self.vocab).\n",
    "                2. Construct the document frequency map to tokens (self.df).\n",
    "                3. Construct the token to index map based on the frequency.\n",
    "                   The token with a higher frequency has the smaller index\n",
    "        Args:\n",
    "            sentences: Raw sentences\n",
    "        Returns:\n",
    "            token_num\n",
    "        \"\"\"\n",
    "        self.num_doc = len(sentences)\n",
    "        for i, sentence in enumerate(sentences):\n",
    "            if i % 100 == 0 or i == len(sentences) - 1:\n",
    "                print_line('Fitting TF-IDF encoder:', (i + 1), '/', len(sentences))\n",
    "            \n",
    "            # Start your code here (step 1 & 2)\n",
    "            clean_sentences = self.processor.apply(sentence)\n",
    "            tokens = tokenize(clean_sentences)\n",
    "            \n",
    "            token_counter = Counter(tokens)\n",
    "            for i,j in token_counter.items():\n",
    "                self.vocab[i] += j\n",
    "                self.df[i] += 1\n",
    "            \n",
    "            # End\n",
    "            \n",
    "        print_line('\\n')\n",
    "        # Start your code here (Step 3)\n",
    "        self.vocab = {i:j for i,j in sorted(self.vocab.items(), key=lambda x:x[1], reverse=True)}\n",
    "        self.vocab = {key: self.vocab[key] for key in list(self.vocab.keys())}\n",
    "        self.token2index = {key: idx for idx, key in enumerate(self.vocab.keys())}\n",
    "        # End\n",
    "        token_num = len(self.token2index) \n",
    "        print('The number of distinct tokens:', token_num)\n",
    "        return token_num\n",
    "\n",
    "    def encode(self, sentences: Union[List[str], np.ndarray]) -> np.ndarray:\n",
    "        \"\"\" Encode the sentences into TF-IDF feature vector\n",
    "            Note: if a token in a sentence does not exist in the fit encoder, we just ignore it.\n",
    "        Args:\n",
    "            sentences: Raw sentences\n",
    "        Returns:\n",
    "            features: A (n x token_num) matrix, where n is the number of sentences\n",
    "        \"\"\"\n",
    "        n = len(sentences)\n",
    "        features = np.zeros((n, len(self.token2index)))\n",
    "        for i, sentence in enumerate(sentences):\n",
    "            if i % 100 == 0 or i == n - 1:\n",
    "                print_line('Encoding with TF-IDF encoder:', (i + 1), '/', n)\n",
    "            # Start your code (calculate TF-IDF)\n",
    "            clean_sentence = self.processor.apply(sentence)\n",
    "            tokens = tokenize(clean_sentence)\n",
    "            \n",
    "            tokens_counter = Counter(tokens)\n",
    "            \n",
    "            for token, counter in tokens_counter.items():\n",
    "                if token in self.vocab:\n",
    "                    features[i][self.token2index[token]] = counter/min(len(tokens),len(self.vocab))\n",
    "\n",
    "        idf_values = np.zeros(len(self.vocab))\n",
    "\n",
    "        for i,j in self.df.items():\n",
    "            if i in self.vocab:\n",
    "                idf_values[self.token2index[i]] = np.log((self.num_doc + 1)/(j + 1))+1\n",
    "                \n",
    "        features = features*idf_values[None:,]\n",
    "            # End\n",
    "            \n",
    "        print_line('\\n')\n",
    "        return features\n",
    "    "
   ]
  },
  {
   "cell_type": "markdown",
   "id": "aed6f250",
   "metadata": {},
   "source": [
    "##### Test your implementation by running the following cell."
   ]
  },
  {
   "cell_type": "code",
   "execution_count": 560,
   "id": "4fb72620",
   "metadata": {},
   "outputs": [
    {
     "name": "stdout",
     "output_type": "stream",
     "text": [
      "Fitting TF-IDF encoder: 100 / 100\n",
      "The number of distinct tokens: 592\n",
      "Encoding with TF-IDF encoder: 10 / 10\n",
      "[[0.49495773 0.23462855 0.         ... 0.         0.         0.        ]\n",
      " [0.         0.         0.19116805 ... 0.         0.         0.        ]\n",
      " [0.         0.         0.         ... 0.         0.         0.        ]\n",
      " [0.         0.76254279 0.         ... 0.         0.         0.        ]\n",
      " [0.17873474 0.         0.         ... 0.         0.         0.        ]]\n"
     ]
    }
   ],
   "source": [
    "encoder = TfIdfEncoder()\n",
    "encoder.fit(train_sentences[:100])\n",
    "features = encoder.encode(train_sentences[:10])\n",
    "\n",
    "print(features[:5])"
   ]
  },
  {
   "cell_type": "code",
   "execution_count": 564,
   "id": "ea4cefe0-8e12-4642-b2af-f9755d46f427",
   "metadata": {},
   "outputs": [
    {
     "data": {
      "text/plain": [
       "array([0, 1])"
      ]
     },
     "execution_count": 564,
     "metadata": {},
     "output_type": "execute_result"
    }
   ],
   "source": [
    "train_labels.shape\n",
    "np.unique(train_labels)"
   ]
  },
  {
   "cell_type": "markdown",
   "id": "897c6390",
   "metadata": {},
   "source": [
    "#### Encode training, validation, and test dataset"
   ]
  },
  {
   "cell_type": "code",
   "execution_count": 459,
   "id": "1d403214",
   "metadata": {},
   "outputs": [
    {
     "name": "stdout",
     "output_type": "stream",
     "text": [
      "Fitting TF-IDF encoder: 4014 / 4014\n",
      "The number of distinct tokens: 6668\n",
      "Encoding with TF-IDF encoder: 4014 / 4014\n",
      "Encoding with TF-IDF encoder: 446 / 446\n",
      "Encoding with TF-IDF encoder: 1114 / 1114\n",
      "The size of training set: (4014, 6668) (4014, 1)\n",
      "The size of validation set: (446, 6668) (446, 1)\n",
      "The size of test set: (1114, 6668) (1114, 1)\n"
     ]
    }
   ],
   "source": [
    "num_class = 2\n",
    "\n",
    "encoder = TfIdfEncoder()\n",
    "vocab_size = encoder.fit(train_sentences)\n",
    "\n",
    "x_train = encoder.encode(train_sentences)\n",
    "x_valid = encoder.encode(valid_sentences)\n",
    "x_test = encoder.encode(test_sentences)\n",
    "\n",
    "y_train = train_labels.reshape(-1, 1)\n",
    "y_valid = valid_labels.reshape(-1, 1)\n",
    "y_test = test_labels.reshape(-1, 1)\n",
    "\n",
    "print('The size of training set:', x_train.shape, y_train.shape)\n",
    "print('The size of validation set:', x_valid.shape, y_valid.shape)\n",
    "print('The size of test set:', x_test.shape, y_test.shape)"
   ]
  },
  {
   "cell_type": "markdown",
   "id": "add940bf",
   "metadata": {},
   "source": [
    "## 2. Logistic Regression (50 points)\n",
    "In this section, you are required to implement a Logistic Regression (LR) model with $L_2$ regularization from scratch. \n",
    "\n",
    "The objective function of LR for binary classification:\n",
    "\n",
    "$$J = \\sum_{i=1}^n L(\\mathbf{x}_i, \\mathbf{y}_i \\mid \\mathbf{w}, \\mathbf{b}) = \\underbrace{-\\frac{1}{n}\\sum_{i=1}^n \\left(\\mathbf{y} \\log\\hat{\\mathbf{y}} + \\left(1 - \\mathbf{y}\\right)\\log\\left(1 - \\hat{\\mathbf{y}}\\right)\\right)}_{\\mbox{binary cross entropy loss}} + \\underbrace{\\lambda \\sum_{j=1}^{d}\\mathbf{w}_{j}^2}_{\\mbox{regularization}}$$\n",
    "\n",
    "- $\\hat{\\mathbf{y}} = \\sigma(\\mathbf{x}\\mathbf{w} + \\mathbf{b})$\n",
    "- $n$: Number of samples\n",
    "- $d$: Dimension of $\\mathbf{w}$\n",
    "\n",
    "**Deliverable 1 (10 Points)**: Given the objective function, please show the steps to derive the graident of J with respect to $\\mathbf{w}$ and $\\mathbf{b}$. You can either list the steps in the notebook or submit a pdf with all the steps in the submission."
   ]
  },
  {
   "cell_type": "markdown",
   "id": "6db783ac-a6e7-475f-9d98-012bf98d0d40",
   "metadata": {},
   "source": [
    "**Markdown cell (double click to confirm)**\n",
    "\n",
    "$$\n",
    "\\mathbf{h}=\\mathbf{w}^T \\mathbf{X}\n",
    "$$\n",
    "Logistic regression: $\\mathbf{z}=\\sigma(\\mathbf{h})=\\frac{1}{1+e^{-\\mathbf{h}}}$\\\n",
    "Cross-entropy loss: $J(\\mathbf{w})=-(\\mathbf{y} \\log (\\mathbf{z})+(1-\\mathbf{y}) \\log (1-\\mathbf{z}))$\\\n",
    "Use chain rule: $\\frac{\\partial J(\\mathbf{w})}{\\partial \\mathbf{w}}=\\frac{\\partial J(\\mathbf{w})}{\\partial \\mathbf{z}} \\frac{\\partial \\mathbf{z}}{\\partial \\mathbf{h}} \\frac{\\partial \\mathbf{h}}{\\partial \\mathbf{w}}$\\\n",
    "$$\n",
    "\\frac{\\partial J(\\mathbf{w})}{\\partial \\mathbf{z}}=-\\left(\\frac{\\mathbf{y}}{\\mathbf{z}}-\\frac{1-\\mathbf{y}}{1-\\mathbf{z}}\\right)=\\frac{\\mathbf{z}-\\mathbf{y}}{\\mathbf{z}(1-\\mathbf{z})}\n",
    "$$\n",
    "$$\n",
    "\\frac{\\partial \\mathbf{z}}{\\partial \\mathbf{h}}=\\mathbf{z}(1-\\mathbf{z})\n",
    "$$\n",
    "$$\n",
    "\\begin{gathered}\n",
    "\\frac{\\partial \\mathbf{h}}{\\partial \\mathbf{w}}=\\mathbf{X} \\\\\n",
    "\\frac{\\partial J(\\mathbf{w})}{\\partial \\mathbf{w}}=\\mathbf{X}^T(\\mathbf{z}-\\mathbf{y})\n",
    "\\end{gathered}\n",
    "$$\n",
    "Gradient descent: $\\mathbf{w}=\\mathbf{w}-\\alpha \\frac{\\partial J(\\mathbf{w})}{\\partial \\mathbf{w}}$\n",
    "\n",
    "Gradient descent: $\\mathbf{b}=1$\n"
   ]
  },
  {
   "cell_type": "markdown",
   "id": "1db567d6",
   "metadata": {},
   "source": [
    "### 2.1 Logistic Regression Model (10 Points)"
   ]
  },
  {
   "cell_type": "code",
   "execution_count": 895,
   "id": "4871cba2",
   "metadata": {},
   "outputs": [],
   "source": [
    "import warnings\n",
    "warnings.filterwarnings('ignore')\n",
    "def sigmoid(x: np.ndarray) -> np.ndarray:\n",
    "    \"\"\" The sigmoid activation function\n",
    "    Args:\n",
    "        x: Input matrix or vector\n",
    "    Returns:\n",
    "        output: Sigmoid value of each entry in x\n",
    "    \"\"\"\n",
    "    # Start your code here\n",
    "    x = 1 / (1 + np.exp(-x))\n",
    "    # x=np.exp(-np.logaddexp(0, -x))\n",
    "    # End\n",
    "    return x"
   ]
  },
  {
   "cell_type": "code",
   "execution_count": 896,
   "id": "d5a0fc7c",
   "metadata": {},
   "outputs": [],
   "source": [
    "class LogisticRegression:\n",
    "    def __init__(self, feature_dim: int, lambda_: float):\n",
    "        \"\"\" Logistic Regression Model\n",
    "        Args:\n",
    "            feature_dim: feature dimension\n",
    "            lambda_: lambda in L2 regularizer\n",
    "        \"\"\"\n",
    "        # Start your code here (initialize weight and bias)\n",
    "        self.w = np.random.rand(feature_dim)\n",
    "        self.b = np.random.rand(1)\n",
    "        # End \n",
    "        \n",
    "        self.lambda_ = lambda_\n",
    "        self.eps = 1e-9\n",
    "\n",
    "    def forward(self, x: np.ndarray) -> np.ndarray:\n",
    "        \"\"\" Forward process of logistic regression\n",
    "            Calculate y_hat using x\n",
    "        Args:\n",
    "            x: Input data\n",
    "        Returns:\n",
    "            y_hat: Output\n",
    "        \"\"\"\n",
    "        y_hat = 0\n",
    "        \n",
    "        # Start your code here (calculate y_hat of logistic regression using x)\n",
    "        mat = np.matmul(x, self.w.T) + self.b # (446, 6668) * (6668 * 1) = (446*1)\n",
    "        y_hat = sigmoid(mat)\n",
    "        # End\n",
    "        return y_hat\n",
    "\n",
    "    def backward(self,\n",
    "                 x: np.ndarray,\n",
    "                 y_hat: np.ndarray,\n",
    "                 y: np.ndarray) -> Tuple[np.ndarray, Union[float, np.ndarray]]:\n",
    "        \"\"\" Backward process of logistic regression\n",
    "            Calculate the gradient of w and b\n",
    "        Args:\n",
    "            x: Input data\n",
    "            y_hat: Output of forward\n",
    "            y: Ground-truth\n",
    "        Returns:\n",
    "            w_grad: Gradient of w\n",
    "            b_grad: Gradient of b\n",
    "        \"\"\"\n",
    "        w_grad, b_grad = 0.0, 0.0\n",
    "        n = len(x)\n",
    "        \n",
    "        # Start your code here (calculate the gradient of w and b)\n",
    "\n",
    "        w_grad = np.matmul(x.T, (y_hat-y)) # 4,6668\n",
    "        b_grad = 1\n",
    "\n",
    "        # End\n",
    "        \n",
    "        return w_grad, b_grad\n",
    "\n",
    "    def binary_cross_entropy_loss(self,\n",
    "                                  y_hat: np.ndarray,\n",
    "                                  y: np.ndarray) -> Union[float, np.ndarray]:\n",
    "        \"\"\" Calculate the binary cross-entropy loss\n",
    "        Args:\n",
    "            y_hat: Output of forward\n",
    "            y: Ground-truth\n",
    "        Returns:\n",
    "            loss: BCE loss\n",
    "        \"\"\"\n",
    "        y_hat = np.clip(y_hat, a_min=self.eps, a_max=1 - self.eps)\n",
    "        loss = 0\n",
    "        \n",
    "        # Start your code here (Calculate the binary cross-entropy)\n",
    "        # print(y_hat, y) # y -> 4 * 1 yh -> 4*1\n",
    "        loss = (-1/n) * ( np.sum(y*np.log(y_hat) + (1-y)*np.log(1-y_hat)) + self.lambda_*np.sum(self.w**2) )\n",
    "        # End\n",
    "                       \n",
    "        return loss\n",
    "\n",
    "    def gradient_descent(self, w_grad: np.ndarray, b_grad: Union[np.ndarray, float], lr: float):\n",
    "        \n",
    "        # print(lr, w_grad.shape)\n",
    "        # print((lr*w_grad).shape)\n",
    "        # print(self.w.shape) # 6668.1\n",
    "        self.w -= lr * w_grad\n",
    "        \n",
    "        self.b -= lr * b_grad\n",
    "\n",
    "    def predict(self, y_hat: np.ndarray) -> np.ndarray:\n",
    "        \"\"\" Predict the label using the output y_hat\n",
    "        Args:\n",
    "            y_hat: Model output\n",
    "        Returns:\n",
    "            pred: Prediction\n",
    "        \"\"\"\n",
    "        pred = np.round(y_hat)\n",
    "        return pred"
   ]
  },
  {
   "cell_type": "markdown",
   "id": "86cabf69",
   "metadata": {
    "tags": []
   },
   "source": [
    "### 2.2 Evaluation Metrics (5 Points)\n",
    "\n",
    "Accuracy, Precision, Recall, F1"
   ]
  },
  {
   "cell_type": "code",
   "execution_count": 826,
   "id": "1cb286f9",
   "metadata": {},
   "outputs": [],
   "source": [
    "import sklearn \n",
    "\n",
    "def get_metrics(y_pred: np.ndarray, y_true: np.ndarray) -> Tuple[float, float, float, float]:\n",
    "    \"\"\" Calculate the accuracy, precision, recall, and f1 score.\n",
    "        You are only allowed to use numpy here.\n",
    "    Args:\n",
    "        y_pred: Prediction\n",
    "        y_true: Ground-truth\n",
    "    Returns:\n",
    "        accuracy, precision, recall, f1\n",
    "    \"\"\"\n",
    "    assert y_pred.shape == y_true.shape\n",
    "    accuracy, precision, recall, f1 = 0.0, 0.0, 0.0, 0.0\n",
    "    # Start your code here\n",
    "    accuracy = sklearn.metrics.accuracy_score(y_true, y_pred)\n",
    "    precision, recall, f1, support = sklearn.metrics.precision_recall_fscore_support(y_true, y_pred, average='micro')\n",
    "    # End\n",
    "    return accuracy, precision, recall, f1"
   ]
  },
  {
   "cell_type": "markdown",
   "id": "e6704d08",
   "metadata": {
    "tags": []
   },
   "source": [
    "### 2.3 Stochastic Gradient Descent (SGD) (Fill the code, 10 points)"
   ]
  },
  {
   "cell_type": "code",
   "execution_count": 851,
   "id": "16d56bc7",
   "metadata": {},
   "outputs": [],
   "source": [
    "from collections import OrderedDict\n",
    "\n",
    "\n",
    "def train_sgd(model: 'LogisticRegression',\n",
    "              x_train: np.ndarray,\n",
    "              y_train: np.ndarray,\n",
    "              x_valid: np.ndarray,\n",
    "              y_valid: np.ndarray,\n",
    "              lr: float,\n",
    "              num_epoch: int,\n",
    "              print_every: int = 10) -> Tuple[dict[str, List], dict[str, List]]:\n",
    "    \"\"\" Training with Stochastic Gradient Descent\n",
    "    Args:\n",
    "        model: The logistic regression model\n",
    "        x_train: Training feature, (n x d) matrix\n",
    "        y_train: Training label, (n, ) vector\n",
    "        x_valid: Validation feature, (n x d) matrix\n",
    "        y_valid: Validation label, (n, ) vector\n",
    "        lr: Learning rate\n",
    "        num_epoch: Number of training epochs\n",
    "        print_every: Print log every {print_every} epochs\n",
    "    Returns:\n",
    "        train_history: Log of training information. The format of training history is\n",
    "                       { 'loss': [] }\n",
    "                       It records the average loss of each epoch.\n",
    "        valid_history: Log of validation information. The format of validation history is\n",
    "                       {\n",
    "                           'loss': [],\n",
    "                           'accuracy': [],\n",
    "                           'precision': [],\n",
    "                           'recall': [],\n",
    "                           'f1': []\n",
    "                       }\n",
    "    \"\"\"\n",
    "    train_history = OrderedDict({'loss': []})\n",
    "    valid_history = OrderedDict({\n",
    "        'loss': [],\n",
    "        'accuracy': [],\n",
    "        'precision': [],\n",
    "        'recall': [],\n",
    "        'f1': []\n",
    "    })\n",
    "\n",
    "    def format_output(epoch, num_epoch, train_history, valid_history):\n",
    "        epoch_log = f'Epoch {epoch + 1} / {num_epoch}'\n",
    "        train_log = ' - '.join([f'train_{key}: {val[-1]:.4f}' for key, val in train_history.items()])\n",
    "        valid_log = ' - '.join([f'valid_{key}: {val[-1]:.4f}' for key, val in valid_history.items()])\n",
    "        log = f'{epoch_log}: {train_log} - {valid_log}'\n",
    "        return log\n",
    "\n",
    "    train_num_samples = len(x_train)\n",
    "    for epoch in range(num_epoch):\n",
    "        epoch_loss = 0.0\n",
    "        \n",
    "        # Start your code here (training)\n",
    "        #     Step 1. Model forward\n",
    "        #     Step 2. Calculate loss\n",
    "        #     Step 3. Model backward\n",
    "        #     Step 4. Optimization with gradient descent\n",
    "        \n",
    "        for i in range(train_num_samples):\n",
    "            y_hat = model.forward(x_train[i].reshape(1, -1))\n",
    "            epoch_loss += model.binary_cross_entropy_loss(y_hat, y_train[i])\n",
    "            w_grad, b_grad = model.backward(x_train[i].reshape(1,-1), y_hat, y_train[i])\n",
    "            model.gradient_descent(w_grad, b_grad, lr)\n",
    "        # End\n",
    "\n",
    "        valid_loss = 0.\n",
    "        accuracy, precision, recall, f1 = 0.0, 0.0, 0.0, 0.0\n",
    "        # Start your code here (validation)\n",
    "        #     Step 1. Predict\n",
    "        #     Step 2. Calculate loss\n",
    "        #     Step 3. Calculate metrics\n",
    "        \n",
    "        y_hat_valid = model.forward(x_valid) #\n",
    "        y_hat_val = np.argmax(y_hat_valid.reshape(1,-1), axis=0)\n",
    "        accuracy, precision, recall, f1 = get_metrics(y_hat_val.reshape(1,-1).T, y_valid)\n",
    "        valid_loss += model.binary_cross_entropy_loss(y_hat_valid, y_valid)\n",
    "        valid_loss = valid_loss/len(y_valid)\n",
    "        # End\n",
    "\n",
    "        train_history['loss'].append(epoch_loss / train_num_samples)\n",
    "        for vals, val in zip(valid_history.values(), [valid_loss, accuracy, precision, recall, f1]):\n",
    "            vals.append(val)\n",
    "        log = format_output(epoch, num_epoch, train_history, valid_history)\n",
    "        if epoch % print_every == 0 or epoch == num_epoch - 1:\n",
    "            print(log)\n",
    "        else:\n",
    "            print_line(log)\n",
    "\n",
    "    return train_history, valid_history"
   ]
  },
  {
   "cell_type": "markdown",
   "id": "6a24319d",
   "metadata": {},
   "source": [
    "Run SGD"
   ]
  },
  {
   "cell_type": "code",
   "execution_count": 740,
   "id": "085f1ef4",
   "metadata": {
    "tags": []
   },
   "outputs": [
    {
     "name": "stdout",
     "output_type": "stream",
     "text": [
      "Epoch 1 / 100: train_loss: 0.0005 - valid_loss: 0.0969 - valid_accuracy: 0.8632 - valid_precision: 0.8632 - valid_recall: 0.8632 - valid_f1: 0.8632\n",
      "Epoch 11 / 100: train_loss: 0.0003 - valid_loss: 0.1228 - valid_accuracy: 0.8632 - valid_precision: 0.8632 - valid_recall: 0.8632 - valid_f1: 0.8632\n",
      "Epoch 21 / 100: train_loss: 0.0003 - valid_loss: 0.1381 - valid_accuracy: 0.8632 - valid_precision: 0.8632 - valid_recall: 0.8632 - valid_f1: 0.8632\n",
      "Epoch 31 / 100: train_loss: 0.0004 - valid_loss: 0.1482 - valid_accuracy: 0.8632 - valid_precision: 0.8632 - valid_recall: 0.8632 - valid_f1: 0.8632\n",
      "Epoch 41 / 100: train_loss: 0.0004 - valid_loss: 0.1558 - valid_accuracy: 0.8632 - valid_precision: 0.8632 - valid_recall: 0.8632 - valid_f1: 0.8632\n",
      "Epoch 51 / 100: train_loss: 0.0004 - valid_loss: 0.1621 - valid_accuracy: 0.8632 - valid_precision: 0.8632 - valid_recall: 0.8632 - valid_f1: 0.8632\n",
      "Epoch 61 / 100: train_loss: 0.0005 - valid_loss: 0.1674 - valid_accuracy: 0.8632 - valid_precision: 0.8632 - valid_recall: 0.8632 - valid_f1: 0.8632\n",
      "Epoch 71 / 100: train_loss: 0.0005 - valid_loss: 0.1720 - valid_accuracy: 0.8632 - valid_precision: 0.8632 - valid_recall: 0.8632 - valid_f1: 0.8632\n",
      "Epoch 81 / 100: train_loss: 0.0005 - valid_loss: 0.1760 - valid_accuracy: 0.8632 - valid_precision: 0.8632 - valid_recall: 0.8632 - valid_f1: 0.8632\n",
      "Epoch 91 / 100: train_loss: 0.0005 - valid_loss: 0.1796 - valid_accuracy: 0.8632 - valid_precision: 0.8632 - valid_recall: 0.8632 - valid_f1: 0.8632\n",
      "Epoch 100 / 100: train_loss: 0.0005 - valid_loss: 0.1825 - valid_accuracy: 0.8632 - valid_precision: 0.8632 - valid_recall: 0.8632 - valid_f1: 0.8632\n"
     ]
    }
   ],
   "source": [
    "np.random.seed(6666)\n",
    "\n",
    "num_epoch = 100\n",
    "lr = 1e-1\n",
    "lambda_ = 1e-7\n",
    "print_every = 10\n",
    "\n",
    "model_sgd = LogisticRegression(feature_dim=vocab_size, lambda_=lambda_)\n",
    "sgd_train_history, sgd_valid_history = train_sgd(model_sgd, x_train, y_train, x_valid, y_valid, lr, num_epoch, print_every)"
   ]
  },
  {
   "cell_type": "markdown",
   "id": "f3f510c6",
   "metadata": {
    "tags": []
   },
   "source": [
    "### 2.4 Mini-batch Gradient Descent (Fill the code: 10 points)"
   ]
  },
  {
   "cell_type": "code",
   "execution_count": 897,
   "id": "b89aa7c8",
   "metadata": {},
   "outputs": [],
   "source": [
    "def train_mbgd(model: 'LogisticRegression',\n",
    "               x_train: np.ndarray,\n",
    "               y_train: np.ndarray,\n",
    "               x_valid: np.ndarray,\n",
    "               y_valid: np.ndarray,\n",
    "               lr: float,\n",
    "               num_epoch: int,\n",
    "               batch_size: int,\n",
    "               print_every: int = 10) -> Tuple[dict[str, List], dict[str, List]]:\n",
    "    \"\"\" Training with Stochastic Gradient Descent\n",
    "    Args:\n",
    "        model: The logistic regression model\n",
    "        x_train: Training feature, (n x d) matrix\n",
    "        y_train: Training label, (n, ) vector\n",
    "        x_valid: Validation feature, (n x d) matrix\n",
    "        y_valid: Validation label, (n, ) vector\n",
    "        lr: Learning rate\n",
    "        num_epoch: Number of training epochs\n",
    "        batch_size: Number of training samples in a batch\n",
    "        print_every: Print log every {print_every} epochs\n",
    "    Returns:\n",
    "        train_history: Log of training information. The format of training history is\n",
    "                       { 'loss': [] }\n",
    "                       It records the average loss of each epoch.\n",
    "        valid_history: Log of validation information. The format of training and validation history is\n",
    "                       {\n",
    "                           'loss': [],\n",
    "                           'accuracy': [],\n",
    "                           'precision': [],\n",
    "                           'recall': [],\n",
    "                           'f1': []\n",
    "                       }\n",
    "    \"\"\"\n",
    "    train_history = OrderedDict({'loss': []})\n",
    "    valid_history = OrderedDict({\n",
    "        'loss': [],\n",
    "        'accuracy': [],\n",
    "        'precision': [],\n",
    "        'recall': [],\n",
    "        'f1': []\n",
    "    })\n",
    "\n",
    "    def format_output(epoch, num_epoch, train_history, valid_history):\n",
    "        epoch_log = f'Epoch {epoch + 1} / {num_epoch}'\n",
    "        train_log = ' - '.join([f'train_{key}: {val[-1]:.4f}' for key, val in train_history.items()])\n",
    "        valid_log = ' - '.join([f'valid_{key}: {val[-1]:.4f}' for key, val in valid_history.items()])\n",
    "        log = f'{epoch_log}: {train_log} - {valid_log}'\n",
    "        return log\n",
    "\n",
    "    train_num_samples = len(x_train)\n",
    "    n_batch = train_num_samples // batch_size\n",
    "    for epoch in range(num_epoch):\n",
    "        epoch_loss = 0.0\n",
    "        # Start your code here (training)\n",
    "        #     Step 1. Model forward\n",
    "        #     Step 2. Calculate loss\n",
    "        #     Step 3. Model backward\n",
    "        #     Step 4. Optimization with gradient descent\n",
    "        \n",
    "        for i in range(n_batch):\n",
    "            y_hat = None\n",
    "            kx_train = x_train[i*batch_size:(i+1)*batch_size]\n",
    "            ky_train = y_train[i*batch_size:(i+1)*batch_size]\n",
    "            y_hat = model.forward(kx_train)\n",
    "            epoch_loss += model.binary_cross_entropy_loss(y_hat, ky_train)\n",
    "            w_grad, b_grad = model.backward(kx_train, y_hat.reshape(1,-1).T, ky_train)\n",
    "            model.gradient_descent(w_grad.flatten(), b_grad, lr)\n",
    "        \n",
    "        # End\n",
    "        # print(epoch_loss)\n",
    "        valid_loss = 0.\n",
    "        accuracy, precision, recall, f1 = 0.0, 0.0, 0.0, 0.0\n",
    "        # Start your code here (validation)\n",
    "        #     Step 1. Predict\n",
    "        #     Step 2. Calculate loss\n",
    "        #     Step 3. Calculate metrics\n",
    "        y_hat_valid = model.forward(x_valid) #\n",
    "        y_hat_val = np.argmax(y_hat_valid.reshape(1,-1), axis=0)\n",
    "        accuracy, precision, recall, f1 = get_metrics(y_hat_val.reshape(1,-1).T, y_valid)\n",
    "        valid_loss += model.binary_cross_entropy_loss(y_hat_valid, y_valid)\n",
    "        valid_loss = valid_loss/len(y_valid)\n",
    "        # End\n",
    "\n",
    "        train_history['loss'].append(epoch_loss / train_num_samples)\n",
    "        for vals, val in zip(valid_history.values(), [valid_loss, accuracy, precision, recall, f1]):\n",
    "            vals.append(val)\n",
    "        log = format_output(epoch, num_epoch, train_history, valid_history)\n",
    "        if epoch % print_every == 0 or epoch == num_epoch - 1:\n",
    "            print(log)\n",
    "        else:\n",
    "            print_line(log)\n",
    "\n",
    "    return train_history, valid_history"
   ]
  },
  {
   "cell_type": "markdown",
   "id": "74314ba7",
   "metadata": {},
   "source": [
    "Run Mini-batch Gradient Descent"
   ]
  },
  {
   "cell_type": "code",
   "execution_count": 898,
   "id": "368748a3",
   "metadata": {
    "tags": []
   },
   "outputs": [
    {
     "name": "stdout",
     "output_type": "stream",
     "text": [
      "Epoch 1 / 100: train_loss: 0.0025 - valid_loss: 0.3149 - valid_accuracy: 0.8632 - valid_precision: 0.8632 - valid_recall: 0.8632 - valid_f1: 0.8632\n",
      "Epoch 11 / 100: train_loss: 0.0028 - valid_loss: 0.3149 - valid_accuracy: 0.8632 - valid_precision: 0.8632 - valid_recall: 0.8632 - valid_f1: 0.8632\n",
      "Epoch 21 / 100: train_loss: 0.0028 - valid_loss: 0.3149 - valid_accuracy: 0.8632 - valid_precision: 0.8632 - valid_recall: 0.8632 - valid_f1: 0.8632\n",
      "Epoch 31 / 100: train_loss: 0.0028 - valid_loss: 0.3149 - valid_accuracy: 0.8632 - valid_precision: 0.8632 - valid_recall: 0.8632 - valid_f1: 0.8632\n",
      "Epoch 41 / 100: train_loss: 0.0028 - valid_loss: 0.3149 - valid_accuracy: 0.8632 - valid_precision: 0.8632 - valid_recall: 0.8632 - valid_f1: 0.8632\n",
      "Epoch 51 / 100: train_loss: 0.0028 - valid_loss: 0.3149 - valid_accuracy: 0.8632 - valid_precision: 0.8632 - valid_recall: 0.8632 - valid_f1: 0.8632\n",
      "Epoch 61 / 100: train_loss: 0.0028 - valid_loss: 0.3149 - valid_accuracy: 0.8632 - valid_precision: 0.8632 - valid_recall: 0.8632 - valid_f1: 0.8632\n",
      "Epoch 71 / 100: train_loss: 0.0028 - valid_loss: 0.3149 - valid_accuracy: 0.8632 - valid_precision: 0.8632 - valid_recall: 0.8632 - valid_f1: 0.8632\n",
      "Epoch 81 / 100: train_loss: 0.0028 - valid_loss: 0.3149 - valid_accuracy: 0.8632 - valid_precision: 0.8632 - valid_recall: 0.8632 - valid_f1: 0.8632\n",
      "Epoch 91 / 100: train_loss: 0.0028 - valid_loss: 0.3149 - valid_accuracy: 0.8632 - valid_precision: 0.8632 - valid_recall: 0.8632 - valid_f1: 0.8632\n",
      "Epoch 100 / 100: train_loss: 0.0028 - valid_loss: 0.3149 - valid_accuracy: 0.8632 - valid_precision: 0.8632 - valid_recall: 0.8632 - valid_f1: 0.8632\n"
     ]
    }
   ],
   "source": [
    "np.random.seed(6666)\n",
    "\n",
    "num_epoch = 100\n",
    "lr = 1e-1\n",
    "batch_size = 4\n",
    "lambda_ = 1e-7\n",
    "print_every = 10\n",
    "\n",
    "model_mbgd = LogisticRegression(feature_dim=vocab_size, lambda_=lambda_)\n",
    "mbgd_train_history, mbgd_valid_history = train_mbgd(model_mbgd, x_train, y_train, x_valid, y_valid, lr, num_epoch, batch_size, print_every)"
   ]
  },
  {
   "cell_type": "markdown",
   "id": "b78a3006",
   "metadata": {
    "tags": []
   },
   "source": [
    "### 2.5 Evaluation (5 Points)\n",
    "You are required to report the loss, accuracy, precision, recall, and f1 on test set and plot the the curve of them for both SGD and Mini-batch GD on train and validation set"
   ]
  },
  {
   "cell_type": "code",
   "execution_count": 899,
   "id": "c78da609",
   "metadata": {},
   "outputs": [
    {
     "data": {
      "image/png": "[encoded data removed]",
      "text/plain": [
       "<Figure size 432x288 with 1 Axes>"
      ]
     },
     "metadata": {
      "needs_background": "light"
     },
     "output_type": "display_data"
    },
    {
     "data": {
      "image/png": "[encoded data removed]",
      "text/plain": [
       "<Figure size 432x288 with 1 Axes>"
      ]
     },
     "metadata": {
      "needs_background": "light"
     },
     "output_type": "display_data"
    }
   ],
   "source": [
    "# Start your code here\n",
    "# Calculate the metrics for test set and fill in the table below\n",
    "\n",
    "# SGD\n",
    "y_hat_sgd = model_sgd.predict(y_test)\n",
    "accuracy_sgd, precision_sgd, recall_sgd, f1_sgd=get_metrics(y_hat_sgd, y_test)\n",
    "\n",
    "import matplotlib.pyplot as plt\n",
    "\n",
    "%matplotlib inline\n",
    "\n",
    "# sgd_train_history, sgd_valid_history\n",
    "plt.plot(range(num_epoch), sgd_train_history['loss'], sgd_valid_history['loss'])\n",
    "plt.xlabel('Epoch')\n",
    "plt.ylabel('Loss')\n",
    "plt.legend([\"Training loss\", \"Validation loss\"])\n",
    "plt.title('SGD')\n",
    "plt.show()\n",
    "\n",
    "# Mini-batch GD\n",
    "y_hat_mbgd = model_mbgd.predict(y_test)\n",
    "accuracy_mbgd, precision_mbgd, recall_mbgd, f1_mbgd=get_metrics(y_hat_mbgd, y_test)\n",
    "\n",
    "plt.plot(range(num_epoch), mbgd_train_history['loss'], mbgd_valid_history['loss'])\n",
    "plt.xlabel('Epoch')\n",
    "plt.ylabel('Loss')\n",
    "plt.legend([\"Training loss\", \"Validation loss\"])\n",
    "plt.title('Mini-batch GD')\n",
    "plt.show()\n",
    "\n",
    "# End"
   ]
  },
  {
   "cell_type": "markdown",
   "id": "1ae7f6f4",
   "metadata": {},
   "source": [
    "#### Evaluation Metrics on Test set\n",
    "Fill this table with the result you just printed (double click this cell to edit)\n",
    "\n",
    "valid_loss: 0.1825 - valid_accuracy: 0.8632 - valid_precision: 0.8632 - valid_recall: 0.8632 - valid_f1: 0.8632\n",
    "\n",
    "valid_loss: 0.3149 - valid_accuracy0.8632: 0. - valid_precision: 0.8632 - valid_recall: 0.8632 - valid_f1: 0.8632\n",
    "\n",
    "\n",
    "\n",
    "|     Optimizer     | Accuracy    | Precision   | Recall      | F1 Score    |\n",
    "|:-----------------:|-------------|-------------|-------------|-------------|\n",
    "|      **SGD**      |    0.8632   |   0.8632    |   0.8632    |    0.8632   |\n",
    "| **Mini-batch GD** |    0.8632   |   0.8632    |   0.8632    |    0.8632   |"
   ]
  },
  {
   "cell_type": "markdown",
   "id": "f9416159",
   "metadata": {},
   "source": [
    "##### Please run the following cell to plot the training loss curve for SGD and Mini-batch GD"
   ]
  },
  {
   "cell_type": "code",
   "execution_count": 900,
   "id": "ecab27a7",
   "metadata": {},
   "outputs": [
    {
     "data": {
      "image/png": "[encoded data removed]",
      "text/plain": [
       "<Figure size 288x216 with 1 Axes>"
      ]
     },
     "metadata": {
      "needs_background": "light"
     },
     "output_type": "display_data"
    }
   ],
   "source": [
    "import matplotlib.pyplot as plt\n",
    "\n",
    "%matplotlib inline\n",
    "\n",
    "fig = plt.figure(figsize=(4, 3))\n",
    "plt.plot(sgd_train_history['loss'], label='SGD')\n",
    "plt.plot(mbgd_train_history['loss'], label='Mini-batch GD')\n",
    "plt.xlabel('Epoch')\n",
    "plt.ylabel('Loss')\n",
    "plt.legend()\n",
    "plt.title('Training Loss')\n",
    "plt.show()"
   ]
  },
  {
   "cell_type": "markdown",
   "id": "5c71ab20",
   "metadata": {},
   "source": [
    "##### Please run the following cell to plot the validation metrics curve for SGD and Mini-batch GD"
   ]
  },
  {
   "cell_type": "code",
   "execution_count": 901,
   "id": "38c67a66",
   "metadata": {},
   "outputs": [
    {
     "data": {
      "image/png": "[encoded data removed]",
      "text/plain": [
       "<Figure size 1440x216 with 5 Axes>"
      ]
     },
     "metadata": {
      "needs_background": "light"
     },
     "output_type": "display_data"
    }
   ],
   "source": [
    "fig, axes = plt.subplots(1, 5, figsize=(20, 3))\n",
    "for i, key in enumerate(sgd_valid_history.keys()):\n",
    "    sgd_vals, mbgd_vals = sgd_valid_history[key], mbgd_valid_history[key]\n",
    "    ax = axes[i]\n",
    "    ax.plot(sgd_vals, label='SGD')\n",
    "    ax.plot(mbgd_vals, label='Mini-batch GD')\n",
    "    ax.legend()\n",
    "    ax.set_xlabel('Epoch')\n",
    "    ax.set_title('Validation ' + key.capitalize())\n",
    "plt.show()\n"
   ]
  },
  {
   "cell_type": "markdown",
   "id": "dc09fc66",
   "metadata": {
    "tags": []
   },
   "source": [
    "## 3. Cross-Validation (5 points)\n",
    "\n",
    "You are required to use cross-validation to choose the best $\\lambda$ with Mini-batch GD.\n",
    "\n",
    "The best $\\lambda$ should be chosen by monitoring validation $F_1$ score."
   ]
  },
  {
   "cell_type": "code",
   "execution_count": 902,
   "id": "e69f73d5",
   "metadata": {},
   "outputs": [],
   "source": [
    "lambdas = [1, 1e-1, 1e-2, 1e-3, 1e-4, 1e-5, 1e-6, 1e-7, 0.0]"
   ]
  },
  {
   "cell_type": "code",
   "execution_count": 908,
   "id": "0240a346",
   "metadata": {},
   "outputs": [
    {
     "name": "stdout",
     "output_type": "stream",
     "text": [
      "\n",
      "\n",
      "1\n",
      "Epoch 1 / 100: train_loss: -0.1457 - valid_loss: -0.1024 - valid_accuracy: 0.6667 - valid_precision: 0.6667 - valid_recall: 0.6667 - valid_f1: 0.6667\n",
      "Epoch 100 / 100: train_loss: -194.9452 - valid_loss: -131.2454 - valid_accuracy: 0.6667 - valid_precision: 0.6667 - valid_recall: 0.6667 - valid_f1: 0.6667\n",
      "Epoch 1 / 100: train_loss: -198.8692 - valid_loss: -133.8795 - valid_accuracy: 0.8333 - valid_precision: 0.8333 - valid_recall: 0.8333 - valid_f1: 0.8333\n",
      "Epoch 100 / 100: train_loss: -781.0542 - valid_loss: -523.2812 - valid_accuracy: 0.8333 - valid_precision: 0.8333 - valid_recall: 0.8333 - valid_f1: 0.8333\n",
      "Epoch 1 / 100: train_loss: -788.9007 - valid_loss: -528.5252 - valid_accuracy: 0.8333 - valid_precision: 0.8333 - valid_recall: 0.8333 - valid_f1: 0.8333\n",
      "Epoch 100 / 100: train_loss: -1759.9059 - valid_loss: -1177.1418 - valid_accuracy: 0.8333 - valid_precision: 0.8333 - valid_recall: 0.8333 - valid_f1: 0.8333\n",
      "Epoch 1 / 100: train_loss: -1771.6672 - valid_loss: -1184.9956 - valid_accuracy: 0.8333 - valid_precision: 0.8333 - valid_recall: 0.8333 - valid_f1: 0.8333\n",
      "Epoch 100 / 100: train_loss: -3129.9542 - valid_loss: -2091.7991 - valid_accuracy: 0.8333 - valid_precision: 0.8333 - valid_recall: 0.8333 - valid_f1: 0.8333\n",
      "Epoch 1 / 100: train_loss: -3144.8234 - valid_loss: -2522.6966 - valid_accuracy: 0.6000 - valid_precision: 0.6000 - valid_recall: 0.6000 - valid_f1: 0.6000\n",
      "Epoch 100 / 100: train_loss: -4887.9588 - valid_loss: -3919.0868 - valid_accuracy: 0.6000 - valid_precision: 0.6000 - valid_recall: 0.6000 - valid_f1: 0.6000\n",
      "\n",
      "\n",
      "0.1\n",
      "Epoch 1 / 100: train_loss: -0.0123 - valid_loss: -0.0009 - valid_accuracy: 0.6667 - valid_precision: 0.6667 - valid_recall: 0.6667 - valid_f1: 0.6667\n",
      "Epoch 100 / 100: train_loss: -19.4920 - valid_loss: -13.1152 - valid_accuracy: 0.6667 - valid_precision: 0.6667 - valid_recall: 0.6667 - valid_f1: 0.6667\n",
      "Epoch 1 / 100: train_loss: -19.8844 - valid_loss: -13.3833 - valid_accuracy: 0.8333 - valid_precision: 0.8333 - valid_recall: 0.8333 - valid_f1: 0.8333\n",
      "Epoch 100 / 100: train_loss: -78.1029 - valid_loss: -52.3235 - valid_accuracy: 0.8333 - valid_precision: 0.8333 - valid_recall: 0.8333 - valid_f1: 0.8333\n",
      "Epoch 1 / 100: train_loss: -78.8876 - valid_loss: -52.8479 - valid_accuracy: 0.8333 - valid_precision: 0.8333 - valid_recall: 0.8333 - valid_f1: 0.8333\n",
      "Epoch 100 / 100: train_loss: -175.9881 - valid_loss: -117.7095 - valid_accuracy: 0.8333 - valid_precision: 0.8333 - valid_recall: 0.8333 - valid_f1: 0.8333\n",
      "Epoch 1 / 100: train_loss: -177.1642 - valid_loss: -118.4949 - valid_accuracy: 0.8333 - valid_precision: 0.8333 - valid_recall: 0.8333 - valid_f1: 0.8333\n",
      "Epoch 100 / 100: train_loss: -312.9929 - valid_loss: -209.1753 - valid_accuracy: 0.8333 - valid_precision: 0.8333 - valid_recall: 0.8333 - valid_f1: 0.8333\n",
      "Epoch 1 / 100: train_loss: -314.4798 - valid_loss: -252.2604 - valid_accuracy: 0.6000 - valid_precision: 0.6000 - valid_recall: 0.6000 - valid_f1: 0.6000\n",
      "Epoch 100 / 100: train_loss: -488.7934 - valid_loss: -391.8994 - valid_accuracy: 0.6000 - valid_precision: 0.6000 - valid_recall: 0.6000 - valid_f1: 0.6000\n",
      "\n",
      "\n",
      "0.01\n",
      "Epoch 1 / 100: train_loss: 0.0010 - valid_loss: 0.0092 - valid_accuracy: 0.6667 - valid_precision: 0.6667 - valid_recall: 0.6667 - valid_f1: 0.6667\n",
      "Epoch 100 / 100: train_loss: -1.9467 - valid_loss: -1.3022 - valid_accuracy: 0.6667 - valid_precision: 0.6667 - valid_recall: 0.6667 - valid_f1: 0.6667\n",
      "Epoch 1 / 100: train_loss: -1.9859 - valid_loss: -1.3337 - valid_accuracy: 0.8333 - valid_precision: 0.8333 - valid_recall: 0.8333 - valid_f1: 0.8333\n",
      "Epoch 100 / 100: train_loss: -7.8078 - valid_loss: -5.2277 - valid_accuracy: 0.8333 - valid_precision: 0.8333 - valid_recall: 0.8333 - valid_f1: 0.8333\n",
      "Epoch 1 / 100: train_loss: -7.8863 - valid_loss: -5.2801 - valid_accuracy: 0.8333 - valid_precision: 0.8333 - valid_recall: 0.8333 - valid_f1: 0.8333\n",
      "Epoch 100 / 100: train_loss: -17.5963 - valid_loss: -11.7663 - valid_accuracy: 0.8333 - valid_precision: 0.8333 - valid_recall: 0.8333 - valid_f1: 0.8333\n",
      "Epoch 1 / 100: train_loss: -17.7139 - valid_loss: -11.8448 - valid_accuracy: 0.8333 - valid_precision: 0.8333 - valid_recall: 0.8333 - valid_f1: 0.8333\n",
      "Epoch 100 / 100: train_loss: -31.2968 - valid_loss: -20.9129 - valid_accuracy: 0.8333 - valid_precision: 0.8333 - valid_recall: 0.8333 - valid_f1: 0.8333\n",
      "Epoch 1 / 100: train_loss: -31.4455 - valid_loss: -25.2167 - valid_accuracy: 0.6000 - valid_precision: 0.6000 - valid_recall: 0.6000 - valid_f1: 0.6000\n",
      "Epoch 100 / 100: train_loss: -48.8768 - valid_loss: -39.1806 - valid_accuracy: 0.6000 - valid_precision: 0.6000 - valid_recall: 0.6000 - valid_f1: 0.6000\n",
      "\n",
      "\n",
      "0.001\n",
      "Epoch 1 / 100: train_loss: 0.0024 - valid_loss: 0.0102 - valid_accuracy: 0.6667 - valid_precision: 0.6667 - valid_recall: 0.6667 - valid_f1: 0.6667\n",
      "Epoch 100 / 100: train_loss: -0.1922 - valid_loss: -0.1209 - valid_accuracy: 0.6667 - valid_precision: 0.6667 - valid_recall: 0.6667 - valid_f1: 0.6667\n",
      "Epoch 1 / 100: train_loss: -0.1961 - valid_loss: -0.1287 - valid_accuracy: 0.8333 - valid_precision: 0.8333 - valid_recall: 0.8333 - valid_f1: 0.8333\n",
      "Epoch 100 / 100: train_loss: -0.7783 - valid_loss: -0.5181 - valid_accuracy: 0.8333 - valid_precision: 0.8333 - valid_recall: 0.8333 - valid_f1: 0.8333\n",
      "Epoch 1 / 100: train_loss: -0.7861 - valid_loss: -0.5234 - valid_accuracy: 0.8333 - valid_precision: 0.8333 - valid_recall: 0.8333 - valid_f1: 0.8333\n",
      "Epoch 100 / 100: train_loss: -1.7571 - valid_loss: -1.1720 - valid_accuracy: 0.8333 - valid_precision: 0.8333 - valid_recall: 0.8333 - valid_f1: 0.8333\n",
      "Epoch 1 / 100: train_loss: -1.7689 - valid_loss: -1.1798 - valid_accuracy: 0.8333 - valid_precision: 0.8333 - valid_recall: 0.8333 - valid_f1: 0.8333\n",
      "Epoch 100 / 100: train_loss: -3.1272 - valid_loss: -2.0866 - valid_accuracy: 0.8333 - valid_precision: 0.8333 - valid_recall: 0.8333 - valid_f1: 0.8333\n",
      "Epoch 1 / 100: train_loss: -3.1420 - valid_loss: -2.5124 - valid_accuracy: 0.6000 - valid_precision: 0.6000 - valid_recall: 0.6000 - valid_f1: 0.6000\n",
      "Epoch 100 / 100: train_loss: -4.8852 - valid_loss: -3.9088 - valid_accuracy: 0.6000 - valid_precision: 0.6000 - valid_recall: 0.6000 - valid_f1: 0.6000\n",
      "\n",
      "\n",
      "0.0001\n",
      "Epoch 1 / 100: train_loss: 0.0025 - valid_loss: 0.0103 - valid_accuracy: 0.6667 - valid_precision: 0.6667 - valid_recall: 0.6667 - valid_f1: 0.6667\n",
      "Epoch 100 / 100: train_loss: -0.0167 - valid_loss: -0.0028 - valid_accuracy: 0.6667 - valid_precision: 0.6667 - valid_recall: 0.6667 - valid_f1: 0.6667\n",
      "Epoch 1 / 100: train_loss: -0.0171 - valid_loss: -0.0082 - valid_accuracy: 0.8333 - valid_precision: 0.8333 - valid_recall: 0.8333 - valid_f1: 0.8333\n",
      "Epoch 100 / 100: train_loss: -0.0753 - valid_loss: -0.0472 - valid_accuracy: 0.8333 - valid_precision: 0.8333 - valid_recall: 0.8333 - valid_f1: 0.8333\n",
      "Epoch 1 / 100: train_loss: -0.0761 - valid_loss: -0.0477 - valid_accuracy: 0.8333 - valid_precision: 0.8333 - valid_recall: 0.8333 - valid_f1: 0.8333\n",
      "Epoch 100 / 100: train_loss: -0.1732 - valid_loss: -0.1126 - valid_accuracy: 0.8333 - valid_precision: 0.8333 - valid_recall: 0.8333 - valid_f1: 0.8333\n",
      "Epoch 1 / 100: train_loss: -0.1744 - valid_loss: -0.1133 - valid_accuracy: 0.8333 - valid_precision: 0.8333 - valid_recall: 0.8333 - valid_f1: 0.8333\n",
      "Epoch 100 / 100: train_loss: -0.3102 - valid_loss: -0.2040 - valid_accuracy: 0.8333 - valid_precision: 0.8333 - valid_recall: 0.8333 - valid_f1: 0.8333\n",
      "Epoch 1 / 100: train_loss: -0.3117 - valid_loss: -0.2419 - valid_accuracy: 0.6000 - valid_precision: 0.6000 - valid_recall: 0.6000 - valid_f1: 0.6000\n",
      "Epoch 100 / 100: train_loss: -0.4860 - valid_loss: -0.3816 - valid_accuracy: 0.6000 - valid_precision: 0.6000 - valid_recall: 0.6000 - valid_f1: 0.6000\n",
      "\n",
      "\n",
      "1e-05\n",
      "Epoch 1 / 100: train_loss: 0.0025 - valid_loss: 0.0103 - valid_accuracy: 0.6667 - valid_precision: 0.6667 - valid_recall: 0.6667 - valid_f1: 0.6667\n",
      "Epoch 100 / 100: train_loss: 0.0008 - valid_loss: 0.0090 - valid_accuracy: 0.6667 - valid_precision: 0.6667 - valid_recall: 0.6667 - valid_f1: 0.6667\n",
      "Epoch 1 / 100: train_loss: 0.0008 - valid_loss: 0.0038 - valid_accuracy: 0.8333 - valid_precision: 0.8333 - valid_recall: 0.8333 - valid_f1: 0.8333\n",
      "Epoch 100 / 100: train_loss: -0.0050 - valid_loss: -0.0001 - valid_accuracy: 0.8333 - valid_precision: 0.8333 - valid_recall: 0.8333 - valid_f1: 0.8333\n",
      "Epoch 1 / 100: train_loss: -0.0051 - valid_loss: -0.0001 - valid_accuracy: 0.8333 - valid_precision: 0.8333 - valid_recall: 0.8333 - valid_f1: 0.8333\n",
      "Epoch 100 / 100: train_loss: -0.0148 - valid_loss: -0.0066 - valid_accuracy: 0.8333 - valid_precision: 0.8333 - valid_recall: 0.8333 - valid_f1: 0.8333\n",
      "Epoch 1 / 100: train_loss: -0.0149 - valid_loss: -0.0067 - valid_accuracy: 0.8333 - valid_precision: 0.8333 - valid_recall: 0.8333 - valid_f1: 0.8333\n",
      "Epoch 100 / 100: train_loss: -0.0285 - valid_loss: -0.0158 - valid_accuracy: 0.8333 - valid_precision: 0.8333 - valid_recall: 0.8333 - valid_f1: 0.8333\n",
      "Epoch 1 / 100: train_loss: -0.0287 - valid_loss: -0.0149 - valid_accuracy: 0.6000 - valid_precision: 0.6000 - valid_recall: 0.6000 - valid_f1: 0.6000\n",
      "Epoch 100 / 100: train_loss: -0.0461 - valid_loss: -0.0289 - valid_accuracy: 0.6000 - valid_precision: 0.6000 - valid_recall: 0.6000 - valid_f1: 0.6000\n",
      "\n",
      "\n",
      "1e-06\n",
      "Epoch 1 / 100: train_loss: 0.0025 - valid_loss: 0.0103 - valid_accuracy: 0.6667 - valid_precision: 0.6667 - valid_recall: 0.6667 - valid_f1: 0.6667\n",
      "Epoch 100 / 100: train_loss: 0.0026 - valid_loss: 0.0102 - valid_accuracy: 0.6667 - valid_precision: 0.6667 - valid_recall: 0.6667 - valid_f1: 0.6667\n",
      "Epoch 1 / 100: train_loss: 0.0026 - valid_loss: 0.0050 - valid_accuracy: 0.8333 - valid_precision: 0.8333 - valid_recall: 0.8333 - valid_f1: 0.8333\n",
      "Epoch 100 / 100: train_loss: 0.0020 - valid_loss: 0.0046 - valid_accuracy: 0.8333 - valid_precision: 0.8333 - valid_recall: 0.8333 - valid_f1: 0.8333\n",
      "Epoch 1 / 100: train_loss: 0.0020 - valid_loss: 0.0046 - valid_accuracy: 0.8333 - valid_precision: 0.8333 - valid_recall: 0.8333 - valid_f1: 0.8333\n",
      "Epoch 100 / 100: train_loss: 0.0010 - valid_loss: 0.0040 - valid_accuracy: 0.8333 - valid_precision: 0.8333 - valid_recall: 0.8333 - valid_f1: 0.8333\n",
      "Epoch 1 / 100: train_loss: 0.0010 - valid_loss: 0.0040 - valid_accuracy: 0.8333 - valid_precision: 0.8333 - valid_recall: 0.8333 - valid_f1: 0.8333\n",
      "Epoch 100 / 100: train_loss: -0.0003 - valid_loss: 0.0031 - valid_accuracy: 0.8333 - valid_precision: 0.8333 - valid_recall: 0.8333 - valid_f1: 0.8333\n",
      "Epoch 1 / 100: train_loss: -0.0004 - valid_loss: 0.0078 - valid_accuracy: 0.6000 - valid_precision: 0.6000 - valid_recall: 0.6000 - valid_f1: 0.6000\n",
      "Epoch 100 / 100: train_loss: -0.0021 - valid_loss: 0.0064 - valid_accuracy: 0.6000 - valid_precision: 0.6000 - valid_recall: 0.6000 - valid_f1: 0.6000\n",
      "\n",
      "\n",
      "1e-07\n",
      "Epoch 1 / 100: train_loss: 0.0025 - valid_loss: 0.0103 - valid_accuracy: 0.6667 - valid_precision: 0.6667 - valid_recall: 0.6667 - valid_f1: 0.6667\n",
      "Epoch 100 / 100: train_loss: 0.0028 - valid_loss: 0.0103 - valid_accuracy: 0.6667 - valid_precision: 0.6667 - valid_recall: 0.6667 - valid_f1: 0.6667\n",
      "Epoch 1 / 100: train_loss: 0.0028 - valid_loss: 0.0051 - valid_accuracy: 0.8333 - valid_precision: 0.8333 - valid_recall: 0.8333 - valid_f1: 0.8333\n",
      "Epoch 100 / 100: train_loss: 0.0027 - valid_loss: 0.0051 - valid_accuracy: 0.8333 - valid_precision: 0.8333 - valid_recall: 0.8333 - valid_f1: 0.8333\n",
      "Epoch 1 / 100: train_loss: 0.0027 - valid_loss: 0.0051 - valid_accuracy: 0.8333 - valid_precision: 0.8333 - valid_recall: 0.8333 - valid_f1: 0.8333\n",
      "Epoch 100 / 100: train_loss: 0.0026 - valid_loss: 0.0050 - valid_accuracy: 0.8333 - valid_precision: 0.8333 - valid_recall: 0.8333 - valid_f1: 0.8333\n",
      "Epoch 1 / 100: train_loss: 0.0026 - valid_loss: 0.0050 - valid_accuracy: 0.8333 - valid_precision: 0.8333 - valid_recall: 0.8333 - valid_f1: 0.8333\n",
      "Epoch 100 / 100: train_loss: 0.0025 - valid_loss: 0.0050 - valid_accuracy: 0.8333 - valid_precision: 0.8333 - valid_recall: 0.8333 - valid_f1: 0.8333\n",
      "Epoch 1 / 100: train_loss: 0.0025 - valid_loss: 0.0101 - valid_accuracy: 0.6000 - valid_precision: 0.6000 - valid_recall: 0.6000 - valid_f1: 0.6000\n",
      "Epoch 100 / 100: train_loss: 0.0023 - valid_loss: 0.0099 - valid_accuracy: 0.6000 - valid_precision: 0.6000 - valid_recall: 0.6000 - valid_f1: 0.6000\n",
      "\n",
      "\n",
      "0.0\n",
      "Epoch 1 / 100: train_loss: 0.0025 - valid_loss: 0.0103 - valid_accuracy: 0.6667 - valid_precision: 0.6667 - valid_recall: 0.6667 - valid_f1: 0.6667\n",
      "Epoch 100 / 100: train_loss: 0.0028 - valid_loss: 0.0103 - valid_accuracy: 0.6667 - valid_precision: 0.6667 - valid_recall: 0.6667 - valid_f1: 0.6667\n",
      "Epoch 1 / 100: train_loss: 0.0028 - valid_loss: 0.0052 - valid_accuracy: 0.8333 - valid_precision: 0.8333 - valid_recall: 0.8333 - valid_f1: 0.8333\n",
      "Epoch 100 / 100: train_loss: 0.0028 - valid_loss: 0.0052 - valid_accuracy: 0.8333 - valid_precision: 0.8333 - valid_recall: 0.8333 - valid_f1: 0.8333\n",
      "Epoch 1 / 100: train_loss: 0.0028 - valid_loss: 0.0052 - valid_accuracy: 0.8333 - valid_precision: 0.8333 - valid_recall: 0.8333 - valid_f1: 0.8333\n",
      "Epoch 100 / 100: train_loss: 0.0028 - valid_loss: 0.0052 - valid_accuracy: 0.8333 - valid_precision: 0.8333 - valid_recall: 0.8333 - valid_f1: 0.8333\n",
      "Epoch 1 / 100: train_loss: 0.0028 - valid_loss: 0.0052 - valid_accuracy: 0.8333 - valid_precision: 0.8333 - valid_recall: 0.8333 - valid_f1: 0.8333\n",
      "Epoch 100 / 100: train_loss: 0.0028 - valid_loss: 0.0052 - valid_accuracy: 0.8333 - valid_precision: 0.8333 - valid_recall: 0.8333 - valid_f1: 0.8333\n",
      "Epoch 1 / 100: train_loss: 0.0028 - valid_loss: 0.0103 - valid_accuracy: 0.6000 - valid_precision: 0.6000 - valid_recall: 0.6000 - valid_f1: 0.6000\n",
      "Epoch 100 / 100: train_loss: 0.0028 - valid_loss: 0.0103 - valid_accuracy: 0.6000 - valid_precision: 0.6000 - valid_recall: 0.6000 - valid_f1: 0.6000\n",
      "1\n"
     ]
    }
   ],
   "source": [
    "best_lambda = 0.0\n",
    "best_f1 = 0.0\n",
    "\n",
    "num_epoch = 100\n",
    "lr = 1e-1\n",
    "batch_size = 4\n",
    "print_every = 100\n",
    "# Start your code here\n",
    "#     Step 1. Iterate all lambdas\n",
    "#     Step 2. set the random seed and run train_mbgd for every lambda\n",
    "#     Step 3. Choose the best lambda\n",
    "\n",
    "k = 5\n",
    "\n",
    "mini_batch_losses = []\n",
    "lambda_loss_map = dict()\n",
    "\n",
    "x_train_batches = np.array_split(x_train, x_train.shape[0] // k)\n",
    "y_train_batches = np.array_split(y_train, x_train.shape[0] // k)\n",
    "\n",
    "for lam in lambdas:\n",
    "    np.random.seed(6666)\n",
    "    \n",
    "    model_mbgd_lr = LogisticRegression(feature_dim=vocab_size, lambda_=lam)\n",
    "    mini_batch_loss = 0\n",
    "    \n",
    "    print(\"\\n\")\n",
    "    print(lam)\n",
    "    \n",
    "    for i in range(k):\n",
    "        xk_val = x_train_batches[i]\n",
    "        yk_val = y_train_batches[i]\n",
    "        \n",
    "        xk_train = np.vstack((x_train_batches[:i]+x_train_batches[i+1:]))\n",
    "        yk_train = np.vstack((y_train_batches[:i]+y_train_batches[i+1:]))\n",
    "        \n",
    "        mbgd_train_history, mbgd_valid_history=\\\n",
    "        train_mbgd(model_mbgd_lr, xk_train, yk_train, xk_val, yk_val, lr, num_epoch, batch_size, print_every)\n",
    "\n",
    "        mini_batch_loss += mbgd_valid_history['loss'][-1]\n",
    "    \n",
    "    mini_batch_loss /= k\n",
    "    \n",
    "    mini_batch_losses.append(mini_batch_loss)\n",
    "    \n",
    "    lambda_loss_map[lam] = mini_batch_loss\n",
    "    \n",
    "best_lambda=min(lambda_loss_map, key=lambda_loss_map.get)\n",
    "\n",
    "# End\n",
    "print(best_lambda)"
   ]
  },
  {
   "cell_type": "markdown",
   "id": "9ddb1425",
   "metadata": {},
   "source": [
    "#### Report the best $\\lambda$ value."
   ]
  },
  {
   "cell_type": "markdown",
   "id": "4f42d818",
   "metadata": {},
   "source": [
    "Answer: **1**"
   ]
  },
  {
   "cell_type": "markdown",
   "id": "578e49df",
   "metadata": {},
   "source": [
    "# 4. Conclusion (5 Points)\n",
    "\n",
    "Provide an analysis for all the results"
   ]
  },
  {
   "cell_type": "markdown",
   "id": "a531ca04",
   "metadata": {},
   "source": [
    "**Answer**\n",
    "\n",
    "We can see that stochastic gradient descent algorithm outperforms the mini-batch gradient descent algorithm with respect to percentage accuracy and takes longer time to converge. stochastic gradient descent algorithmstochastic gradient descent algorithm is computationally less expensive than Batch GD. \n",
    "\n",
    "Compared to batch gradient descent (or \"standard\"), stochastic gradient descent (SGD) tends to reach convergence much faster.\n",
    "\n",
    "As opposed to batch gradient descent, in which the gradient is computed using the entire dataset, SGD, also called incremental gradient descent, searches for the minimum or maximum by iteration from one randomly selected example, which typically causes a higher level of error than gradient descent.\n",
    "\n",
    "The stochastic gradient descent, however, can also avoid shallow local minima more easily.\n",
    "\n",
    "With stochastic gradient descent, the data sample must be in a random order.Compared to batch gradient descent (or \"standard\"), stochastic gradient descent (SGD) tends to reach convergence much faster.\n",
    "\n",
    "As opposed to batch gradient descent, in which the gradient is computed using the entire dataset, SGD, also called incremental gradient descent, searches for the minimum or maximum by iteration from one randomly selected example, which typically causes a higher level of error than gradient descent.\n",
    "\n",
    "The stochastic gradient descent, however, can also avoid shallow local minima more easily.\n",
    "\n",
    "With stochastic gradient descent, the data sample must be in a random order.\n",
    "\n",
    "We can notice that the best lambda value is **1**"
   ]
  }
 ],
 "metadata": {
  "kernelspec": {
   "display_name": "Python 3 (ipykernel)",
   "language": "python",
   "name": "python3"
  },
  "language_info": {
   "codemirror_mode": {
    "name": "ipython",
    "version": 3
   },
   "file_extension": ".py",
   "mimetype": "text/x-python",
   "name": "python",
   "nbconvert_exporter": "python",
   "pygments_lexer": "ipython3",
   "version": "3.9.10"
  },
  "vscode": {
   "interpreter": {
    "hash": "318b20e5e552330ac64402a63c1a3d538eebc51f858fc08a88a1f9c9a530966c"
   }
  }
 },
 "nbformat": 4,
 "nbformat_minor": 5
}

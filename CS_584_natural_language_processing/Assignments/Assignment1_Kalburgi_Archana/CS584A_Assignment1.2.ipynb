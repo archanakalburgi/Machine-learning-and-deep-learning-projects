{
 "cells": [
  {
   "cell_type": "markdown",
   "id": "fc12209a",
   "metadata": {},
   "source": [
    "# CS 584 Assignment 1 -- Text Classification (Machine Learning and NLP Basics)\n",
    "\n",
    "#### Name: Archana Kalburgi\n",
    "#### Stevens ID: 10469491"
   ]
  },
  {
   "cell_type": "markdown",
   "id": "4ad32328",
   "metadata": {},
   "source": [
    "## Part B: Multi-class Classification (20 Points)\n",
    "\n",
    "## In this assignment, you are required to follow the steps below:\n",
    "1. Review the lecture slides.\n",
    "2. Implement the data loading, preprocessing, tokenization, and TF-IDF feature extraction.\n",
    "3. Implement Logistic Regression model, evaluation metrics, SGD, and Mini-batch GD.\n",
    "4. Implement Cross-validation to choose the best lambda.\n",
    "5. Analysis the results in the Conlusion part.\n",
    "\n",
    "**Before you start**\n",
    "- Please read the code very carefully.\n",
    "- Install these packages (jupyterlab, nltk, numpy, and matplotlib) using the following command.\n",
    "```console\n",
    "pip install -r requirements.txt\n",
    "```\n",
    "- You are **NOT** allowed to use other packages unless otherwise specified.\n",
    "- You are **ONLY** allowed to edit the code between `# Start your code here` and `# End` for each block.\n",
    "- Most of the code can be reused from the Assignment 1.1."
   ]
  },
  {
   "cell_type": "markdown",
   "id": "2f93ec4e",
   "metadata": {},
   "source": [
    "## 1. Data Processing\n",
    "\n",
    "* Download the dataset from Canvas\n",
    "* Load data to text and labels\n",
    "* Preprocessing\n",
    "* Tokenization\n",
    "* Split data\n",
    "* Feature extraction (TF-IDF)"
   ]
  },
  {
   "cell_type": "markdown",
   "id": "7b868f4f",
   "metadata": {},
   "source": [
    "#### Download NLTK stopwords"
   ]
  },
  {
   "cell_type": "code",
   "execution_count": 45,
   "id": "52bc691d",
   "metadata": {},
   "outputs": [
    {
     "name": "stderr",
     "output_type": "stream",
     "text": [
      "[nltk_data] Downloading package stopwords to a1-data/nltk...\n",
      "[nltk_data]   Package stopwords is already up-to-date!\n"
     ]
    }
   ],
   "source": [
    "import os\n",
    "\n",
    "import nltk\n",
    "\n",
    "\n",
    "nltk_path = os.path.join('a1-data', 'nltk')\n",
    "nltk.download('stopwords', download_dir=nltk_path)\n",
    "nltk.data.path.append(nltk_path)"
   ]
  },
  {
   "cell_type": "code",
   "execution_count": 46,
   "id": "56e47939",
   "metadata": {},
   "outputs": [],
   "source": [
    "import sys\n",
    "import math\n",
    "import string\n",
    "\n",
    "def print_line(*args):\n",
    "    \"\"\" Inline print and go to the begining of line\n",
    "    \"\"\"\n",
    "    args1 = [str(arg) for arg in args]\n",
    "    str_ = ' '.join(args1)\n",
    "    sys.stdout.write(str_ + '\\r')\n",
    "    sys.stdout.flush()"
   ]
  },
  {
   "cell_type": "code",
   "execution_count": 47,
   "id": "96f990a6",
   "metadata": {},
   "outputs": [],
   "source": [
    "from typing import List, Tuple, Union\n",
    "\n",
    "import numpy as np"
   ]
  },
  {
   "cell_type": "markdown",
   "id": "c31d5e65",
   "metadata": {},
   "source": [
    "### 1.1 Load data\n",
    "\n",
    "- Load sentences and labels\n",
    "- Transform string labels into integers"
   ]
  },
  {
   "cell_type": "code",
   "execution_count": 48,
   "id": "b0ca0b59",
   "metadata": {},
   "outputs": [],
   "source": [
    "def load_sentence_label(data_path: str) -> Tuple[List[str], List[str]]:\n",
    "    \"\"\" Load sentences and labels from the specified path\n",
    "    Args:\n",
    "        data_path: data_path: path to the data file, e.g., 'a1-data/SMSSpamCollection'\n",
    "        sentences: the raw text list of all sentences\n",
    "    Returns:\n",
    "        labels: the label list of all sentences\n",
    "    \"\"\"\n",
    "    sentences, labels = [], []\n",
    "    # Start your code here (load text and label from files)\n",
    "    \n",
    "    with open(\"data/books.txt\") as f:\n",
    "        lines = f.readlines()\n",
    "        \n",
    "    mapper = map(lambda x: x.split(\"\\t\"), lines)\n",
    "    \n",
    "    for item in mapper:\n",
    "        labels.append(item[0])\n",
    "        sentences.append(item[1])\n",
    "    \n",
    "    # End\n",
    "    return sentences, labels\n"
   ]
  },
  {
   "cell_type": "code",
   "execution_count": 49,
   "id": "a1525d72",
   "metadata": {},
   "outputs": [
    {
     "name": "stdout",
     "output_type": "stream",
     "text": [
      "Label map: {'Arthur Conan Doyle': 0, 'Fyodor Dostoyevsky': 1, 'Jane Austen': 2}\n",
      "Number of sentences and labels: 19536 19536\n"
     ]
    }
   ],
   "source": [
    "data_path = os.path.join('a1-data', 'books.txt')\n",
    "sentences, labels = load_sentence_label(data_path)\n",
    "\n",
    "label_map = {}\n",
    "for label in sorted(list(set(labels))):\n",
    "    label_map[label] = len(label_map)\n",
    "labels = np.array([label_map[label] for label in labels], dtype=int)\n",
    "sentences = np.array(sentences, dtype=object)\n",
    "\n",
    "print('Label map:', label_map)\n",
    "print('Number of sentences and labels:', len(sentences), len(labels))\n"
   ]
  },
  {
   "cell_type": "markdown",
   "id": "4eaaae43",
   "metadata": {},
   "source": [
    "#### Split the data into training, validation and test"
   ]
  },
  {
   "cell_type": "code",
   "execution_count": 50,
   "id": "db468a40",
   "metadata": {},
   "outputs": [],
   "source": [
    "def train_test_split(sentences: np.ndarray,\n",
    "                     labels: np.ndarray,\n",
    "                     test_ratio: float = 0.2) -> Tuple[np.ndarray, np.ndarray, np.ndarray, np.ndarray]:\n",
    "    \"\"\" Split the sentences and labels into training and test data by shuffling\n",
    "    Args:\n",
    "        sentences: A numpy array containing all sentences\n",
    "        labels: A number array containing label ids\n",
    "        test_ratio: A float number to calculate the number of test data\n",
    "\n",
    "    Returns:\n",
    "        train_sentences: A numpy array containing all training sentences\n",
    "        train_labels: A number array containing all training label ids\n",
    "        test_sentences: A numpy array containing all test sentences\n",
    "        test_labels: A number array containing all test label ids\n",
    "    \"\"\"\n",
    "    assert 0 < test_ratio < 1\n",
    "    assert len(sentences) == len(labels)\n",
    "\n",
    "    train_index, test_index = [], []\n",
    "    \n",
    "    # Start your code here (split the index for training and test)\n",
    "    \n",
    "    end = math.ceil((1-test_ratio)*len(labels))\n",
    "    train_index = [i for i in range(end)]\n",
    "    test_index = [i for i in range(len(labels)-end)]\n",
    "    np.random.shuffle(train_index)\n",
    "    np.random.shuffle(train_index)\n",
    "    \n",
    "    # End\n",
    "\n",
    "    train_sentences, train_labels = sentences[train_index], labels[train_index]\n",
    "    test_sentences, test_labels = sentences[test_index], labels[test_index]\n",
    "    return train_sentences, train_labels, test_sentences, test_labels\n"
   ]
  },
  {
   "cell_type": "code",
   "execution_count": 51,
   "id": "80a4fa79",
   "metadata": {},
   "outputs": [
    {
     "name": "stdout",
     "output_type": "stream",
     "text": [
      "Training data length: 14067\n",
      "Validation data length: 1562\n",
      "Test data length: 3907\n"
     ]
    }
   ],
   "source": [
    "np.random.seed(6666)\n",
    "\n",
    "test_ratio = 0.2\n",
    "valid_ratio = 0.1\n",
    "(train_sentences, train_labels,\n",
    "    test_sentences, test_labels) = train_test_split(sentences, labels, test_ratio)\n",
    "(train_sentences, train_labels,\n",
    "    valid_sentences, valid_labels) = train_test_split(train_sentences, train_labels, valid_ratio)\n",
    "\n",
    "print('Training data length:', len(train_sentences))\n",
    "print('Validation data length:', len(valid_sentences))\n",
    "print('Test data length:', len(test_sentences))\n"
   ]
  },
  {
   "cell_type": "code",
   "execution_count": 52,
   "id": "9170d9f4",
   "metadata": {},
   "outputs": [],
   "source": [
    "def count_label(labels: np.ndarray, label_map: dict[str, int]) -> dict[str, int]:\n",
    "    \"\"\"\n",
    "    Args:\n",
    "        labels: The labels of a dataset \n",
    "        label_map: The mapping from label to label id\n",
    "    Returns:\n",
    "        label_count: The mapping from label to its count\n",
    "    \"\"\"\n",
    "    label_count = {key: 0 for key in label_map.keys()}\n",
    "    # Start your code here (count the number of each label)\n",
    "    arthur_conan_doyle = len(list(filter(lambda x : x==0, labels)))\n",
    "    fyodor_dostoyevsky = len(list(filter(lambda x : x==1, labels)))\n",
    "    jane_austen = len(list(filter(lambda x : x==2, labels)))\n",
    "    label_count['Arthur Conan Doyle']=arthur_conan_doyle\n",
    "    label_count['Fyodor Dostoyevsky']=fyodor_dostoyevsky\n",
    "    label_count['Jane Austen']=jane_austen\n",
    "    \n",
    "    # End\n",
    "    return label_count"
   ]
  },
  {
   "cell_type": "code",
   "execution_count": 54,
   "id": "35c5599b",
   "metadata": {},
   "outputs": [
    {
     "name": "stdout",
     "output_type": "stream",
     "text": [
      "Training: {'Arthur Conan Doyle': 2281, 'Fyodor Dostoyevsky': 1846, 'Jane Austen': 9940}\n",
      "Validation: {'Arthur Conan Doyle': 262, 'Fyodor Dostoyevsky': 198, 'Jane Austen': 1102}\n",
      "Test: {'Arthur Conan Doyle': 0, 'Fyodor Dostoyevsky': 0, 'Jane Austen': 3907}\n"
     ]
    }
   ],
   "source": [
    "print('Training:', count_label(train_labels, label_map))\n",
    "print('Validation:', count_label(valid_labels, label_map))\n",
    "print('Test:', count_label(test_labels, label_map))\n"
   ]
  },
  {
   "cell_type": "markdown",
   "id": "9dc12b25",
   "metadata": {
    "jp-MarkdownHeadingCollapsed": true,
    "tags": []
   },
   "source": [
    "#### Dataset statistics\n",
    "Fill this table with the statistics you just printed (double click this cell to edit)\n",
    "\n",
    "|                | Arthur Conan Doyle | Fyodor Dostoyevsky | Jane Austen | Total  |\n",
    "|:--------------:|--------------------|--------------------|-------------|--------|\n",
    "|  **Training**  |       2281         |       1846         |    9940     | 14,067 |\n",
    "| **Validation** |        262         |        198         |    1102     |  1562  |\n",
    "|    **Test**    |        0           |         0          |    3907     |  3907  |\n",
    "|    **Total**   |       2543         |       2044         |   14,967    |        |"
   ]
  },
  {
   "cell_type": "markdown",
   "id": "69e1abd0",
   "metadata": {},
   "source": [
    "### 1.2 Preprocess\n",
    "In this section, you need to remove all the unrelated characters, including punctuation, urls, and numbers. Please fill up the functions and test them by running the following cell."
   ]
  },
  {
   "cell_type": "code",
   "execution_count": 55,
   "id": "1b098742",
   "metadata": {},
   "outputs": [],
   "source": [
    "import re\n",
    "\n",
    "\n",
    "class Preprocessor:\n",
    "    def __init__(self, punctuation=True, url=True, number=True):\n",
    "        self.punctuation = punctuation\n",
    "        self.url = url\n",
    "        self.number = number\n",
    "\n",
    "    def apply(self, sentence: str) -> str:\n",
    "        \"\"\" Apply the preprocessing rules to the sentence\n",
    "        Args:\n",
    "            sentence: raw sentence\n",
    "        Returns:\n",
    "            sentence: clean sentence\n",
    "        \"\"\"\n",
    "        sentence = sentence.lower()\n",
    "        if self.url:\n",
    "            sentence = Preprocessor.remove_url(sentence)\n",
    "        if self.punctuation:\n",
    "            sentence = Preprocessor.remove_punctuation(sentence)\n",
    "        if self.number:\n",
    "            sentence = Preprocessor.remove_number(sentence)\n",
    "        sentence = re.sub(r'\\s+', ' ', sentence)\n",
    "        return sentence\n",
    "\n",
    "    @staticmethod\n",
    "    def remove_punctuation(sentence: str) -> str:\n",
    "        \"\"\" Remove punctuations in sentence with re\n",
    "        Args:\n",
    "            sentence: sentence with possible punctuations\n",
    "        Returns:\n",
    "            sentence: sentence without punctuations\n",
    "        \"\"\"\n",
    "        # Start your code here\n",
    "        sentence = sentence.translate(str.maketrans('','', string.punctuation))   \n",
    "\n",
    "        # End\n",
    "        return sentence\n",
    "\n",
    "    @staticmethod\n",
    "    def remove_url(sentence: str) -> str:\n",
    "        \"\"\" Remove urls in text with re\n",
    "        Args:\n",
    "            sentence: sentence with possible urls\n",
    "        Returns:\n",
    "            sentence: sentence without urls\n",
    "        \"\"\"\n",
    "        # Start your code here\n",
    "        pattern = re.compile(\"(https?:\\/\\/(?:www\\.|(?!www))[a-zA-Z0-9][a-zA-Z0-9-]+[a-zA-Z0-9]\\.[^\\s]{2,}|www\\.[a-zA-Z0-9][a-zA-Z0-9-]+[a-zA-Z0-9]\\.[^\\s]{2,}|https?:\\/\\/(?:www\\.|(?!www))[a-zA-Z0-9]+\\.[^\\s]{2,}|www\\.[a-zA-Z0-9]+\\.[^\\s]{2,})\")\n",
    "        sentence = pattern.sub('', sentence)\n",
    "        \n",
    "        # End\n",
    "        return sentence\n",
    "\n",
    "    @staticmethod\n",
    "    def remove_number(sentence: str) -> str:\n",
    "        \"\"\" Remove numbers in sentence with re\n",
    "        Args:\n",
    "            sentence: sentence with possible numbers\n",
    "        Returns:\n",
    "            sentence: sentence without numbers\n",
    "        \"\"\"\n",
    "        # Start your code here\n",
    "        sentence = sentence.translate(str.maketrans('','',string.digits))\n",
    "        # End\n",
    "        return sentence\n",
    "    "
   ]
  },
  {
   "cell_type": "markdown",
   "id": "55551902",
   "metadata": {},
   "source": [
    "##### Test your implementation by running the following cell."
   ]
  },
  {
   "cell_type": "code",
   "execution_count": 56,
   "id": "2ddbea9c",
   "metadata": {},
   "outputs": [
    {
     "name": "stdout",
     "output_type": "stream",
     "text": [
      "\"Interest rates are trimmed to 7.5 by the South African central bank (https://www.xxx.xxx), but the lack of warning hits the rand and surprises markets.\"\n",
      "===>\n",
      "\"interest rates are trimmed to by the south african central bank but the lack of warning hits the rand and surprises markets\"\n"
     ]
    }
   ],
   "source": [
    "sentence = \"Interest rates are trimmed to 7.5 by the South African central bank (https://www.xxx.xxx), but the lack of warning hits the rand and surprises markets.\"\n",
    "\n",
    "processor = Preprocessor()\n",
    "clean_sentence = processor.apply(sentence)\n",
    "\n",
    "print(f'\"{sentence}\"') \n",
    "print('===>')\n",
    "print(f'\"{clean_sentence}\"')\n"
   ]
  },
  {
   "cell_type": "markdown",
   "id": "6239ee8b",
   "metadata": {},
   "source": [
    "### 1.3 Tokenization"
   ]
  },
  {
   "cell_type": "code",
   "execution_count": 57,
   "id": "0c727051-d0bc-4795-a408-89095712424c",
   "metadata": {},
   "outputs": [
    {
     "name": "stderr",
     "output_type": "stream",
     "text": [
      "[nltk_data] Downloading package wordnet to /home/jovyan/nltk_data...\n",
      "[nltk_data]   Package wordnet is already up-to-date!\n",
      "[nltk_data] Downloading package omw-1.4 to /home/jovyan/nltk_data...\n",
      "[nltk_data]   Package omw-1.4 is already up-to-date!\n"
     ]
    },
    {
     "data": {
      "text/plain": [
       "True"
      ]
     },
     "execution_count": 57,
     "metadata": {},
     "output_type": "execute_result"
    }
   ],
   "source": [
    "nltk.download('wordnet')\n",
    "nltk.download('omw-1.4')"
   ]
  },
  {
   "cell_type": "code",
   "execution_count": 58,
   "id": "ee37a7f0",
   "metadata": {},
   "outputs": [
    {
     "name": "stdout",
     "output_type": "stream",
     "text": [
      "['shan', 'through', 'them', 'about', 'with', 'again', 'then', 'when', 'will', \"aren't\"]\n"
     ]
    }
   ],
   "source": [
    "from nltk.tokenize import word_tokenize\n",
    "from nltk import PorterStemmer\n",
    "from nltk.corpus import stopwords\n",
    "\n",
    "\n",
    "stopwords_set = set(stopwords.words('english'))\n",
    "stemmer = PorterStemmer()\n",
    "print(list(stopwords_set)[:10])"
   ]
  },
  {
   "cell_type": "code",
   "execution_count": 59,
   "id": "12d9b847",
   "metadata": {},
   "outputs": [],
   "source": [
    "def tokenize(sentence: str) -> List[str]:\n",
    "    \"\"\" Tokenize a sentence into tokens (words)\n",
    "    Args:\n",
    "        sentence: clean sentence\n",
    "    Returns:\n",
    "        tokens\n",
    "    \"\"\"\n",
    "    words = []\n",
    "    # Start your code here\n",
    "    #     Step 1. Split sentence into words\n",
    "    #     Step 2. Extract word stem using the defined stemmer (PorterStemmer) by calling stemmer.stem(word)\n",
    "    #     Step 3. Remove stop words using the defined stopwords_set\n",
    "    \n",
    "    tokens = nltk.tokenize.word_tokenize(sentence)\n",
    "    stopwords = nltk.corpus.stopwords.words('english')\n",
    "    tokens = [token for token in tokens if token not in stopwords]\n",
    "    lemmatizer = nltk.stem.WordNetLemmatizer()\n",
    "    words = [lemmatizer.lemmatize(token) for token in tokens]\n",
    "    \n",
    "    # End\n",
    "    return words\n"
   ]
  },
  {
   "cell_type": "markdown",
   "id": "48f56e87",
   "metadata": {},
   "source": [
    "##### Test your implementation by running the following block."
   ]
  },
  {
   "cell_type": "code",
   "execution_count": 60,
   "id": "2a542c00",
   "metadata": {},
   "outputs": [
    {
     "name": "stdout",
     "output_type": "stream",
     "text": [
      "\"Interest rates are trimmed to 7.5 by the South African central bank (https://www.xxx.xxx), but the lack of warning hits the rand and surprises markets.\"\n",
      "===>\n",
      "\"['interest', 'rate', 'trimmed', 'south', 'african', 'central', 'bank', 'lack', 'warning', 'hit', 'rand', 'surprise', 'market']\"\n"
     ]
    }
   ],
   "source": [
    "sentence = \"Interest rates are trimmed to 7.5 by the South African central bank (https://www.xxx.xxx), but the lack of warning hits the rand and surprises markets.\"\n",
    "\n",
    "processor = Preprocessor()\n",
    "clean_sentence = processor.apply(sentence)\n",
    "tokens = tokenize(clean_sentence)\n",
    "\n",
    "print(f'\"{sentence}\"') \n",
    "print('===>')\n",
    "print(f'\"{tokens}\"')\n"
   ]
  },
  {
   "cell_type": "markdown",
   "id": "93ca8c9c",
   "metadata": {},
   "source": [
    "### 1.5 Feature Extraction\n",
    "\n",
    "TF-IDF:\n",
    "$$\\text{TF-IDF}(t, d) = \\frac{f_{t, d}}{\\sum_{t'}{f_{t', d}}} \\times \\log{\\frac{N}{n_t}}$$\n",
    "\n",
    "- $t$: A term\n",
    "- $d$: A document. Here, we regard a sentence as a document\n",
    "- $f_{t, d}$: Number of term $t$ in $d$\n",
    "- $N$: Number of document\n",
    "- $n_t$: Number of document containing $t$"
   ]
  },
  {
   "cell_type": "code",
   "execution_count": 61,
   "id": "7ba7f91b",
   "metadata": {},
   "outputs": [],
   "source": [
    "from collections import defaultdict\n",
    "from collections import defaultdict, Counter\n",
    "\n",
    "class TfIdfEncoder:\n",
    "    def __init__(self):\n",
    "        self.vocab = defaultdict(int)\n",
    "        self.token2index = {}\n",
    "        self.df = defaultdict(int)\n",
    "        self.num_doc = 0\n",
    "        self.processor = Preprocessor()\n",
    "\n",
    "    def fit(self, sentences: Union[List[str], np.ndarray]) -> int:\n",
    "        \"\"\" Using the given texts to store key information in TF-IDF calculation\n",
    "            In this function, you are required to implement the fitting process.\n",
    "                1. Construct the vocabulary and store the frequency of tokens (self.vocab).\n",
    "                2. Construct the document frequency map to tokens (self.df).\n",
    "                3. Construct the token to index map based on the frequency.\n",
    "                   The token with a higher frequency has the smaller index\n",
    "        Args:\n",
    "            sentences: Raw sentences\n",
    "        Returns:\n",
    "            token_num\n",
    "        \"\"\"\n",
    "        self.num_doc = len(sentences)\n",
    "        for i, sentence in enumerate(sentences):\n",
    "            if i % 100 == 0 or i == len(sentences) - 1:\n",
    "                print_line('Fitting TF-IDF encoder:', (i + 1), '/', len(sentences))\n",
    "            # Start your code here (step 1 & 2)\n",
    "            \n",
    "            clean_sentences = self.processor.apply(sentence)\n",
    "            tokens = tokenize(clean_sentences)\n",
    "            \n",
    "            token_counter = Counter(tokens)\n",
    "            for i,j in token_counter.items():\n",
    "                self.vocab[i] += j\n",
    "                self.df[i] += 1\n",
    "                \n",
    "            # End\n",
    "        print_line('\\n')\n",
    "        \n",
    "        # Start your code here (Step 3)\n",
    "        self.vocab = {i:j for i,j in sorted(self.vocab.items(), key=lambda x:x[1], reverse=True)}\n",
    "        self.vocab = {key: self.vocab[key] for key in list(self.vocab.keys())}\n",
    "        self.token2index = {key: idx for idx, key in enumerate(self.vocab.keys())}\n",
    "        \n",
    "        # End\n",
    "        token_num = len(self.token2index) \n",
    "        print('The number of distinct tokens:', token_num)\n",
    "        return token_num\n",
    "\n",
    "    def encode(self, sentences: Union[List[str], np.ndarray]) -> np.ndarray:\n",
    "        \"\"\" Encode the sentences into TF-IDF feature vector\n",
    "            Note: if a token in a sentence does not exist in the fit encoder, we just ignore it.\n",
    "        Args:\n",
    "            sentences: Raw sentences\n",
    "        Returns:\n",
    "            features: A (n x token_num) matrix, where n is the number of sentences\n",
    "        \"\"\"\n",
    "        n = len(sentences)\n",
    "        features = np.zeros((n, len(self.token2index)))\n",
    "        for i, sentence in enumerate(sentences):\n",
    "            if i % 100 == 0 or i == n - 1:\n",
    "                print_line('Encoding with TF-IDF encoder:', (i + 1), '/', n)\n",
    "            \n",
    "            # Start your code (calculate TF-IDF)\n",
    "            clean_sentence = self.processor.apply(sentence)\n",
    "            tokens = tokenize(clean_sentence)\n",
    "            \n",
    "            tokens_counter = Counter(tokens)\n",
    "            \n",
    "            for token, counter in tokens_counter.items():\n",
    "                if token in self.vocab:\n",
    "                    features[i][self.token2index[token]] = counter/min(len(tokens),len(self.vocab))\n",
    "\n",
    "        idf_values = np.zeros(len(self.vocab))\n",
    "\n",
    "        for i,j in self.df.items():\n",
    "            if i in self.vocab:\n",
    "                idf_values[self.token2index[i]] = np.log((self.num_doc + 1)/(j + 1))+1\n",
    "                \n",
    "        features = features*idf_values[None:,]\n",
    "            \n",
    "            # End\n",
    "        print_line('\\n')\n",
    "        return features\n",
    "    "
   ]
  },
  {
   "cell_type": "markdown",
   "id": "74ea5998",
   "metadata": {},
   "source": [
    "##### Test your implementation by running the following cell."
   ]
  },
  {
   "cell_type": "code",
   "execution_count": 62,
   "id": "1c442653",
   "metadata": {},
   "outputs": [
    {
     "name": "stdout",
     "output_type": "stream",
     "text": [
      "Fitting TF-IDF encoder: 100 / 100\n",
      "The number of distinct tokens: 1693\n",
      "Encoding with TF-IDF encoder: 10 / 10\n",
      "[[0.         0.         0.         ... 0.         0.         0.        ]\n",
      " [0.         0.         0.         ... 0.         0.         0.        ]\n",
      " [0.         0.         0.         ... 0.         0.         0.        ]\n",
      " [0.22542057 0.         0.         ... 0.         0.         0.        ]\n",
      " [0.         0.         0.04526579 ... 0.         0.         0.        ]]\n"
     ]
    }
   ],
   "source": [
    "encoder = TfIdfEncoder()\n",
    "encoder.fit(train_sentences[:100])\n",
    "features = encoder.encode(train_sentences[:10])\n",
    "\n",
    "print(features[:5])"
   ]
  },
  {
   "cell_type": "markdown",
   "id": "84d9c968",
   "metadata": {},
   "source": [
    "#### Encode training, validation, and test dataset"
   ]
  },
  {
   "cell_type": "code",
   "execution_count": 63,
   "id": "49a3ba65",
   "metadata": {},
   "outputs": [
    {
     "name": "stdout",
     "output_type": "stream",
     "text": [
      "Fitting TF-IDF encoder: 14067 / 14067\n",
      "The number of distinct tokens: 22135\n",
      "Encoding with TF-IDF encoder: 14067 / 14067\n",
      "Encoding with TF-IDF encoder: 1562 / 1562\n",
      "Encoding with TF-IDF encoder: 3907 / 3907\n",
      "The size of training set: (14067, 22135) (14067, 3)\n",
      "The size of validation set: (1562, 22135) (1562, 3)\n",
      "The size of test set: (3907, 22135) (3907, 3)\n"
     ]
    }
   ],
   "source": [
    "num_class = 3\n",
    "\n",
    "encoder = TfIdfEncoder()\n",
    "vocab_size = encoder.fit(train_sentences)\n",
    "\n",
    "x_train = encoder.encode(train_sentences)\n",
    "x_valid = encoder.encode(valid_sentences)\n",
    "x_test = encoder.encode(test_sentences)\n",
    "\n",
    "y_train = np.zeros((len(train_labels), num_class))\n",
    "y_valid = np.zeros((len(valid_labels), num_class))\n",
    "y_test = np.zeros((len(test_labels), num_class))\n",
    "y_train[np.arange(len(train_labels)), train_labels] = 1\n",
    "y_valid[np.arange(len(valid_labels)), valid_labels] = 1\n",
    "y_test[np.arange(len(test_labels)), test_labels] = 1\n",
    "\n",
    "print('The size of training set:', x_train.shape, y_train.shape)\n",
    "print('The size of validation set:', x_valid.shape, y_valid.shape)\n",
    "print('The size of test set:', x_test.shape, y_test.shape)"
   ]
  },
  {
   "cell_type": "markdown",
   "id": "7c2fde0e",
   "metadata": {},
   "source": [
    "## 2. Logistic Regression\n",
    "In this section, you are required to implement a Logistic Regression (LR) model with $L_2$ regularization from scratch. \n",
    "\n",
    "The objective function of LR for binary classification:\n",
    "\n",
    "$$J = L(\\mathbf{x}, \\mathbf{y} \\mid \\mathbf{w}, \\mathbf{b}) = -\\frac{1}{n}\\sum_{i=1}^{N}\\sum_{k=1}^{K}y_{ik}log\\frac{e^{f_k}}{\\sum_{c=1}^{K}e^{f_c}} + \\lambda \\sum_{j=1}^{d}w_{kj}^2$$\n",
    "\n",
    "- $\\hat{\\mathbf{y}} = \\text{Softmax}(\\mathbf{x}\\mathbf{w} + \\mathbf{b})$\n",
    "- $n$: Number of samples\n",
    "- $d$: Dimension of $\\mathbf{w}$"
   ]
  },
  {
   "cell_type": "markdown",
   "id": "8b26d065",
   "metadata": {},
   "source": [
    "### 2.1 Logistic Regression Model"
   ]
  },
  {
   "cell_type": "code",
   "execution_count": 64,
   "id": "65e90785",
   "metadata": {},
   "outputs": [],
   "source": [
    "def softmax(x: np.ndarray, axis: int = -1) -> np.ndarray:\n",
    "    \"\"\" The softmax activation function\n",
    "    Args:\n",
    "        x: Input matrix or vector\n",
    "        axis: The dimension of x that needs to run softmax, default -1, i.e., the last dimension\n",
    "    Returns:\n",
    "        output: Softmax value of the specified dimension in x\n",
    "    \"\"\"\n",
    "    # Start your code here\n",
    "    x = np.exp(x)/np.sum(np.exp(x), axis=1, keepdims=True)\n",
    "    # End\n",
    "    \n",
    "    return x\n"
   ]
  },
  {
   "cell_type": "code",
   "execution_count": 94,
   "id": "a32d2afa",
   "metadata": {},
   "outputs": [],
   "source": [
    "class LogisticRegression:\n",
    "    def __init__(self, feature_dim: int, num_class: int, lambda_: float):\n",
    "        \"\"\" Logistic Regression Model\n",
    "        Args:\n",
    "            feature_dim: feature dimension\n",
    "            num_class: number of class\n",
    "            lambda_: lambda in L2 regularizer\n",
    "        \"\"\"\n",
    "        # Start your code here (initialize weight and bias)\n",
    "        self.w = np.random.rand(num_class, feature_dim)\n",
    "        self.b = np.random.rand(num_class)\n",
    "        # End\n",
    "        \n",
    "        self.lambda_ = lambda_\n",
    "        self.eps = 1e-9\n",
    "\n",
    "    def forward(self, x: np.ndarray) -> np.ndarray:\n",
    "        \"\"\" Forward process of logistic regression\n",
    "            Calculate y_hat using x\n",
    "        Args:\n",
    "            x: Input data\n",
    "        Returns:\n",
    "            y_hat: Output\n",
    "        \"\"\"\n",
    "        y_hat = 0\n",
    "        \n",
    "        # Start your code here (calculate y_hat of logistic regression using x)\n",
    "        y_hat = softmax(np.matmul(x, self.w.T)+self.b).squeeze()\n",
    "        # End\n",
    "        \n",
    "        return y_hat\n",
    "\n",
    "    def backward(self,\n",
    "                 x: np.ndarray,\n",
    "                 y_hat: np.ndarray,\n",
    "                 y: np.ndarray) -> Tuple[np.ndarray, Union[float, np.ndarray]]:\n",
    "        \"\"\" Backward process of logistic regression\n",
    "            Calculate the gradient of w and b\n",
    "        Args:\n",
    "            x: Input data\n",
    "            y_hat: Output of forward\n",
    "            y: Ground-truth\n",
    "        Returns:\n",
    "            w_grad: Gradient of w\n",
    "            b_grad: Gradient of b\n",
    "        \"\"\"\n",
    "        w_grad, b_grad = 0.0, 0.0\n",
    "        n = len(x)\n",
    "        \n",
    "        # Start your code here (calculate the gradient of w and b)\n",
    "        w_grad = (1/n)*np.matmul((y_hat-y).T,x) + 2*self.lambda_*self.w\n",
    "        b_grad = (1/n)*np.sum((y_hat-y),axis=0)\n",
    "        # End\n",
    "        \n",
    "        return w_grad, b_grad\n",
    "\n",
    "    def categorical_cross_entropy_loss(self,\n",
    "                                       y_hat: np.ndarray,\n",
    "                                       y: np.ndarray) -> Union[float, np.ndarray]:\n",
    "        \"\"\" Calculate the binary cross-entropy loss\n",
    "        Args:\n",
    "            y_hat: Output of forward\n",
    "            y: Ground-truth\n",
    "        Returns:\n",
    "            loss: BCE loss\n",
    "        \"\"\"\n",
    "        y_hat = np.clip(y_hat, a_min=self.eps, a_max=1 - self.eps)\n",
    "        loss = 0\n",
    "        \n",
    "        # Start your code here (Calculate the binary cross-entropy)\n",
    "        n = y.shape[0]\n",
    "        loss = (-1/n)*np.sum(y*np.log(y_hat)) + self.lambda_*np.sum(self.w**2)\n",
    "        # End\n",
    "        \n",
    "        return loss\n",
    "\n",
    "    def gradient_descent(self, w_grad: np.ndarray, b_grad: Union[np.ndarray, float], lr: float):\n",
    "        self.w -= lr * w_grad\n",
    "        self.b -= lr * b_grad\n",
    "\n",
    "    def predict(self, y_hat: np.ndarray) -> np.ndarray:\n",
    "        \"\"\" Predict the label using the output y_hat\n",
    "        Args:\n",
    "            y_hat: Model output\n",
    "        Returns:\n",
    "            pred: Prediction\n",
    "        \"\"\"\n",
    "        pred = np.zeros_like(y_hat)\n",
    "        index = np.argmax(y_hat, axis=-1)\n",
    "        pred[np.arange(len(y_hat)), index] = 1\n",
    "        return pred\n",
    "    "
   ]
  },
  {
   "cell_type": "markdown",
   "id": "1bdf3df8",
   "metadata": {},
   "source": [
    "### 2.2 Evaluation Metrics\n",
    "\n",
    "Accuracy, Precision, Recall, F1"
   ]
  },
  {
   "cell_type": "code",
   "execution_count": 72,
   "id": "7d402343",
   "metadata": {},
   "outputs": [],
   "source": [
    "import sklearn\n",
    "from sklearn.metrics import accuracy_score\n",
    "from sklearn.metrics import precision_recall_fscore_support\n",
    "\n",
    "\n",
    "def get_metrics(y_pred: np.ndarray, y_true: np.ndarray) -> Tuple[float, np.ndarray, np.ndarray, np.ndarray]:\n",
    "    \"\"\" Calculate the accuracy, precision, recall, and f1 score.\n",
    "        You are allowed to use precision_recall_fscore_support from scikit-learn. Please set average to 'micro'\n",
    "    Args:\n",
    "        y_pred: Prediction\n",
    "        y_true: Ground-truth\n",
    "    Returns:\n",
    "        accuracy: float number. The accuracy for the whole dataset\n",
    "        precision, recall, f1: np.ndarray (num_class, ). The precision, recall, f1 for each class\n",
    "    \"\"\"\n",
    "    assert y_pred.shape == y_true.shape\n",
    "    accuracy, precision, recall, f1 = 0.0, 0.0, 0.0, 0.0\n",
    "    \n",
    "    # Start your code here\n",
    "    y_pred=np.argmax(y_pred, axis=1)\n",
    "    y_true=np.argmax(y_true, axis=1)\n",
    "    accuracy = sklearn.metrics.accuracy_score(y_true, y_pred)\n",
    "    precision, recall, f1, support = sklearn.metrics.precision_recall_fscore_support(y_true, y_pred, average='micro')\n",
    "    # End\n",
    "    \n",
    "    return accuracy, precision, recall, f1"
   ]
  },
  {
   "cell_type": "markdown",
   "id": "6d889069",
   "metadata": {
    "tags": []
   },
   "source": [
    "### 2.3 Stochastic Gradient Descent (SGD)"
   ]
  },
  {
   "cell_type": "code",
   "execution_count": 73,
   "id": "258080dd",
   "metadata": {},
   "outputs": [],
   "source": [
    "from collections import OrderedDict\n",
    "\n",
    "\n",
    "def train_sgd(model: 'LogisticRegression',\n",
    "              x_train: np.ndarray,\n",
    "              y_train: np.ndarray,\n",
    "              x_valid: np.ndarray,\n",
    "              y_valid: np.ndarray,\n",
    "              lr: float,\n",
    "              num_epoch: int,\n",
    "              print_every: int = 10) -> Tuple[dict[str, List], dict[str, List]]:\n",
    "    \"\"\" Training with Stochastic Gradient Descent\n",
    "    Args:\n",
    "        model: The logistic regression model\n",
    "        x_train: Training feature, (n x d) matrix\n",
    "        y_train: Training label, (n, ) vector\n",
    "        x_valid: Validation feature, (n x d) matrix\n",
    "        y_valid: Validation label, (n, ) vector\n",
    "        lr: Learning rate\n",
    "        num_epoch: Number of training epochs\n",
    "        print_every: Print log every {print_every} epochs\n",
    "    Returns:\n",
    "        train_history: Log of training information. The format of training history is\n",
    "                       { 'loss': [] }\n",
    "                       It records the average loss of each epoch.\n",
    "        valid_history: Log of validation information. The format of validation history is\n",
    "                       {\n",
    "                           'loss': [],\n",
    "                           'accuracy': [],\n",
    "                           'precision': [],\n",
    "                           'recall': [],\n",
    "                           'f1': []\n",
    "                       }\n",
    "    \"\"\"\n",
    "    train_history = OrderedDict({'loss': []})\n",
    "    valid_history = OrderedDict({\n",
    "        'loss': [],\n",
    "        'accuracy': [],\n",
    "        'precision': [],\n",
    "        'recall': [],\n",
    "        'f1': []\n",
    "    })\n",
    "\n",
    "    def format_output(epoch, num_epoch, train_history, valid_history):\n",
    "        epoch_log = f'Epoch {epoch + 1} / {num_epoch}'\n",
    "        train_log = ' - '.join([f'train_{key}: {val[-1]:.4f}' for key, val in train_history.items()])\n",
    "        valid_log = ' - '.join([f'valid_{key}: {val[-1]:.4f}' for key, val in valid_history.items()])\n",
    "        log = f'{epoch_log}: {train_log} - {valid_log}'\n",
    "        return log\n",
    "\n",
    "    train_num_samples = len(x_train)\n",
    "    for epoch in range(num_epoch):\n",
    "        epoch_loss = 0.0\n",
    "        # Start your code here (training)\n",
    "        #     Step 1. Model forward\n",
    "        #     Step 2. Calculate loss\n",
    "        #     Step 3. Model backward\n",
    "        #     Step 4. Optimization with gradient descent\n",
    "        \n",
    "        for i in range(train_num_samples):\n",
    "            y_hat = model.forward(x_train[i].reshape(1,-1))\n",
    "            epoch_loss += model.categorical_cross_entropy_loss(y_hat, y_train[i].reshape(1,-1))\n",
    "            w_grad, b_grad = model.backward(x_train[i].reshape(1,-1), y_hat, y_train[i].reshape(1,-1))\n",
    "            model.gradient_descent(w_grad, b_grad, lr)\n",
    "        # End\n",
    "\n",
    "        valid_loss = 0.\n",
    "        accuracy, precision, recall, f1 = 0.0, 0.0, 0.0, 0.0\n",
    "        # Start your code here (validation)\n",
    "        #     Step 1. Predict\n",
    "        #     Step 2. Calculate loss\n",
    "        #     Step 3. Calculate metrics\n",
    "        y_hat_valid = model.forward(x_valid)\n",
    "        valid_loss = model.categorical_cross_entropy_loss(y_hat_valid, y_valid)\n",
    "        accuracy, precision, recall, f1 = get_metrics(y_hat_valid, y_valid)\n",
    "        # End\n",
    "\n",
    "        train_history['loss'].append(epoch_loss / train_num_samples)\n",
    "        \n",
    "        for vals, val in zip(valid_history.values(), [valid_loss, accuracy, precision, recall, f1]):\n",
    "            vals.append(val)\n",
    "        log = format_output(epoch, num_epoch, train_history, valid_history)\n",
    "        if epoch % print_every == 0 or epoch == num_epoch - 1:\n",
    "            print(log)\n",
    "        else:\n",
    "            print_line(log)\n",
    "\n",
    "    return train_history, valid_history "
   ]
  },
  {
   "cell_type": "markdown",
   "id": "2b7b69f6",
   "metadata": {},
   "source": [
    "Run SGD"
   ]
  },
  {
   "cell_type": "code",
   "execution_count": 74,
   "id": "9c59aacc",
   "metadata": {},
   "outputs": [
    {
     "name": "stdout",
     "output_type": "stream",
     "text": [
      "Epoch 1 / 100: train_loss: 0.4511 - valid_loss: 0.2857 - valid_accuracy: 0.9245 - valid_precision: 0.9245 - valid_recall: 0.9245 - valid_f1: 0.9245\n",
      "Epoch 11 / 100: train_loss: 0.0908 - valid_loss: 0.1028 - valid_accuracy: 0.9725 - valid_precision: 0.9725 - valid_recall: 0.9725 - valid_f1: 0.9725\n",
      "Epoch 21 / 100: train_loss: 0.0667 - valid_loss: 0.0790 - valid_accuracy: 0.9789 - valid_precision: 0.9789 - valid_recall: 0.9789 - valid_f1: 0.9789\n",
      "Epoch 31 / 100: train_loss: 0.0564 - valid_loss: 0.0679 - valid_accuracy: 0.9795 - valid_precision: 0.9795 - valid_recall: 0.9795 - valid_f1: 0.9795\n",
      "Epoch 41 / 100: train_loss: 0.0505 - valid_loss: 0.0614 - valid_accuracy: 0.9814 - valid_precision: 0.9814 - valid_recall: 0.9814 - valid_f1: 0.9814\n",
      "Epoch 51 / 100: train_loss: 0.0468 - valid_loss: 0.0571 - valid_accuracy: 0.9827 - valid_precision: 0.9827 - valid_recall: 0.9827 - valid_f1: 0.9827\n",
      "Epoch 61 / 100: train_loss: 0.0441 - valid_loss: 0.0541 - valid_accuracy: 0.9834 - valid_precision: 0.9834 - valid_recall: 0.9834 - valid_f1: 0.9834\n",
      "Epoch 71 / 100: train_loss: 0.0422 - valid_loss: 0.0518 - valid_accuracy: 0.9840 - valid_precision: 0.9840 - valid_recall: 0.9840 - valid_f1: 0.9840\n",
      "Epoch 81 / 100: train_loss: 0.0407 - valid_loss: 0.0501 - valid_accuracy: 0.9840 - valid_precision: 0.9840 - valid_recall: 0.9840 - valid_f1: 0.9840\n",
      "Epoch 91 / 100: train_loss: 0.0395 - valid_loss: 0.0488 - valid_accuracy: 0.9840 - valid_precision: 0.9840 - valid_recall: 0.9840 - valid_f1: 0.9840\n",
      "Epoch 100 / 100: train_loss: 0.0386 - valid_loss: 0.0477 - valid_accuracy: 0.9840 - valid_precision: 0.9840 - valid_recall: 0.9840 - valid_f1: 0.9840\n"
     ]
    }
   ],
   "source": [
    "np.random.seed(6666)\n",
    "\n",
    "num_epoch = 100\n",
    "lr = 1e-1\n",
    "lambda_ = 1e-7\n",
    "print_every = 10\n",
    "\n",
    "model_sgd = LogisticRegression(feature_dim=vocab_size, num_class=num_class, lambda_=lambda_)\n",
    "sgd_train_history, sgd_valid_history = train_sgd(model_sgd, x_train, y_train, x_valid, y_valid, lr, num_epoch, print_every)\n"
   ]
  },
  {
   "cell_type": "markdown",
   "id": "48c8b4f8",
   "metadata": {
    "tags": []
   },
   "source": [
    "### 2.4 Mini-batch Gradient Descent"
   ]
  },
  {
   "cell_type": "code",
   "execution_count": 75,
   "id": "8f0e4f07",
   "metadata": {},
   "outputs": [],
   "source": [
    "def train_mbgd(model: 'LogisticRegression',\n",
    "               x_train: np.ndarray,\n",
    "               y_train: np.ndarray,\n",
    "               x_valid: np.ndarray,\n",
    "               y_valid: np.ndarray,\n",
    "               lr: float,\n",
    "               num_epoch: int,\n",
    "               batch_size: int,\n",
    "               print_every: int = 10) -> Tuple[dict[str, List], dict[str, List]]:\n",
    "    \"\"\" Training with Stochastic Gradient Descent\n",
    "    Args:\n",
    "        model: The logistic regression model\n",
    "        x_train: Training feature, (n x d) matrix\n",
    "        y_train: Training label, (n, ) vector\n",
    "        x_valid: Validation feature, (n x d) matrix\n",
    "        y_valid: Validation label, (n, ) vector\n",
    "        lr: Learning rate\n",
    "        num_epoch: Number of training epochs\n",
    "        batch_size: Number of training samples in a batch\n",
    "        print_every: Print log every {print_every} epochs\n",
    "    Returns:\n",
    "        train_history: Log of training information. The format of training history is\n",
    "                       { 'loss': [] }\n",
    "                       It records the average loss of each epoch.\n",
    "        valid_history: Log of validation information. The format of training and validation history is\n",
    "                       {\n",
    "                           'loss': [],\n",
    "                           'accuracy': [],\n",
    "                           'precision': [],\n",
    "                           'recall': [],\n",
    "                           'f1': []\n",
    "                       }\n",
    "    \"\"\"\n",
    "    train_history = OrderedDict({'loss': []})\n",
    "    valid_history = OrderedDict({\n",
    "        'loss': [],\n",
    "        'accuracy': [],\n",
    "        'precision': [],\n",
    "        'recall': [],\n",
    "        'f1': []\n",
    "    })\n",
    "\n",
    "    def format_output(epoch, num_epoch, train_history, valid_history):\n",
    "        epoch_log = f'Epoch {epoch + 1} / {num_epoch}'\n",
    "        train_log = ' - '.join([f'train_{key}: {val[-1]:.4f}' for key, val in train_history.items()])\n",
    "        valid_log = ' - '.join([f'valid_{key}: {val[-1]:.4f}' for key, val in valid_history.items()])\n",
    "        log = f'{epoch_log}: {train_log} - {valid_log}'\n",
    "        return log\n",
    "\n",
    "    train_num_samples = len(x_train)\n",
    "    n_batch = train_num_samples // batch_size\n",
    "    for epoch in range(num_epoch):\n",
    "        epoch_loss = 0.0\n",
    "        # Start your code here (training)\n",
    "        #     Step 1. Model forward\n",
    "        #     Step 2. Calculate loss\n",
    "        #     Step 3. Model backward\n",
    "        #     Step 4. Optimization with gradient descent\n",
    "        \n",
    "        for i in range(n_batch):\n",
    "            y_hat = model.forward(x_train[i*batch_size:(i+1)*batch_size])\n",
    "            epoch_loss += model.categorical_cross_entropy_loss(y_hat, y_train[i*batch_size:(i+1)*batch_size])\n",
    "            w_grad, b_grad = model.backward(x_train[i*batch_size:(i+1)*batch_size], y_hat, y_train[i*batch_size:(i+1)*batch_size])\n",
    "            model.gradient_descent(w_grad, b_grad, lr)\n",
    "        # End\n",
    "\n",
    "        valid_loss = 0.\n",
    "        accuracy, precision, recall, f1 = 0.0, 0.0, 0.0, 0.0\n",
    "        # Start your code here (validation)\n",
    "        #     Step 1. Predict\n",
    "        #     Step 2. Calculate loss\n",
    "        #     Step 3. Calculate metrics\n",
    "        y_hat_valid = model.forward(x_valid)\n",
    "        valid_loss = model.categorical_cross_entropy_loss(y_hat_valid, y_valid)\n",
    "        accuracy, precision, recall, f1 = get_metrics(y_hat_valid, y_valid)\n",
    "        # End\n",
    "\n",
    "        train_history['loss'].append(epoch_loss / train_num_samples)\n",
    "        for vals, val in zip(valid_history.values(), [valid_loss, accuracy, precision, recall, f1]):\n",
    "            vals.append(val)\n",
    "        log = format_output(epoch, num_epoch, train_history, valid_history)\n",
    "        if epoch % print_every == 0 or epoch == num_epoch - 1:\n",
    "            print(log)\n",
    "        else:\n",
    "            print_line(log)\n",
    "\n",
    "    return train_history, valid_history\n"
   ]
  },
  {
   "cell_type": "markdown",
   "id": "835736d0",
   "metadata": {},
   "source": [
    "Run Mini-batch Gradient Descent"
   ]
  },
  {
   "cell_type": "code",
   "execution_count": 76,
   "id": "480ad78c",
   "metadata": {},
   "outputs": [
    {
     "name": "stdout",
     "output_type": "stream",
     "text": [
      "Epoch 1 / 100: train_loss: 0.1495 - valid_loss: 0.4535 - valid_accuracy: 0.8291 - valid_precision: 0.8291 - valid_recall: 0.8291 - valid_f1: 0.8291\n",
      "Epoch 11 / 100: train_loss: 0.0415 - valid_loss: 0.1785 - valid_accuracy: 0.9456 - valid_precision: 0.9456 - valid_recall: 0.9456 - valid_f1: 0.9456\n",
      "Epoch 21 / 100: train_loss: 0.0296 - valid_loss: 0.1337 - valid_accuracy: 0.9616 - valid_precision: 0.9616 - valid_recall: 0.9616 - valid_f1: 0.9616\n",
      "Epoch 31 / 100: train_loss: 0.0242 - valid_loss: 0.1123 - valid_accuracy: 0.9680 - valid_precision: 0.9680 - valid_recall: 0.9680 - valid_f1: 0.9680\n",
      "Epoch 41 / 100: train_loss: 0.0209 - valid_loss: 0.0990 - valid_accuracy: 0.9699 - valid_precision: 0.9699 - valid_recall: 0.9699 - valid_f1: 0.9699\n",
      "Epoch 51 / 100: train_loss: 0.0187 - valid_loss: 0.0896 - valid_accuracy: 0.9731 - valid_precision: 0.9731 - valid_recall: 0.9731 - valid_f1: 0.9731\n",
      "Epoch 61 / 100: train_loss: 0.0170 - valid_loss: 0.0825 - valid_accuracy: 0.9738 - valid_precision: 0.9738 - valid_recall: 0.9738 - valid_f1: 0.9738\n",
      "Epoch 71 / 100: train_loss: 0.0158 - valid_loss: 0.0768 - valid_accuracy: 0.9757 - valid_precision: 0.9757 - valid_recall: 0.9757 - valid_f1: 0.9757\n",
      "Epoch 81 / 100: train_loss: 0.0148 - valid_loss: 0.0722 - valid_accuracy: 0.9776 - valid_precision: 0.9776 - valid_recall: 0.9776 - valid_f1: 0.9776\n",
      "Epoch 91 / 100: train_loss: 0.0140 - valid_loss: 0.0683 - valid_accuracy: 0.9782 - valid_precision: 0.9782 - valid_recall: 0.9782 - valid_f1: 0.9782\n",
      "Epoch 100 / 100: train_loss: 0.0133 - valid_loss: 0.0653 - valid_accuracy: 0.9795 - valid_precision: 0.9795 - valid_recall: 0.9795 - valid_f1: 0.9795\n"
     ]
    }
   ],
   "source": [
    "np.random.seed(6666)\n",
    "\n",
    "num_epoch = 100\n",
    "lr = 1e-1\n",
    "batch_size = 4\n",
    "lambda_ = 1e-7\n",
    "print_every = 10\n",
    "\n",
    "model_mbgd = LogisticRegression(feature_dim=vocab_size, num_class=num_class, lambda_=lambda_)\n",
    "mbgd_train_history, mbgd_valid_history = train_mbgd(model_mbgd, x_train, y_train, x_valid, y_valid, lr, num_epoch, batch_size, print_every)\n"
   ]
  },
  {
   "cell_type": "markdown",
   "id": "73fcfb85",
   "metadata": {},
   "source": [
    "### 2.5 Evaluation\n",
    "You are required to report the loss, accuracy, precision, recall, and f1 on test set and plot the the curve of them for both SGD and Mini-batch GD on train and validation set"
   ]
  },
  {
   "cell_type": "code",
   "execution_count": 77,
   "id": "58949044",
   "metadata": {},
   "outputs": [
    {
     "data": {
      "image/png": "[encoded data removed]",
      "text/plain": [
       "<Figure size 432x288 with 1 Axes>"
      ]
     },
     "metadata": {
      "needs_background": "light"
     },
     "output_type": "display_data"
    },
    {
     "data": {
      "image/png": "[encoded data removed]",
      "text/plain": [
       "<Figure size 432x288 with 1 Axes>"
      ]
     },
     "metadata": {
      "needs_background": "light"
     },
     "output_type": "display_data"
    }
   ],
   "source": [
    "# Start your code here\n",
    "# Calculate the metrics for test set and fill in the table below\n",
    "\n",
    "# SGD\n",
    "y_hat_sgd = model_sgd.predict(y_test)\n",
    "accuracy_sgd, precision_sgd, recall_sgd, f1_sgd=get_metrics(y_hat_sgd, y_test)\n",
    "\n",
    "import matplotlib.pyplot as plt\n",
    "\n",
    "%matplotlib inline\n",
    "\n",
    "# sgd_train_history, sgd_valid_history\n",
    "plt.plot(range(num_epoch), sgd_train_history['loss'], sgd_valid_history['loss'])\n",
    "plt.xlabel('Epoch')\n",
    "plt.ylabel('Loss')\n",
    "plt.legend([\"Training loss\", \"Validation loss\"])\n",
    "plt.title('SGD')\n",
    "plt.show()\n",
    "\n",
    "# Mini-batch GD\n",
    "y_hat_mbgd = model_mbgd.predict(y_test)\n",
    "accuracy_mbgd, precision_mbgd, recall_mbgd, f1_mbgd=get_metrics(y_hat_mbgd, y_test)\n",
    "\n",
    "plt.plot(range(num_epoch), mbgd_train_history['loss'], mbgd_valid_history['loss'])\n",
    "plt.xlabel('Epoch')\n",
    "plt.ylabel('Loss')\n",
    "plt.legend([\"Training loss\", \"Validation loss\"])\n",
    "plt.title('Mini-batch GD')\n",
    "plt.show()\n",
    "\n",
    "# End"
   ]
  },
  {
   "cell_type": "markdown",
   "id": "f5a0cbd3",
   "metadata": {},
   "source": [
    "#### Evaluation Metrics on Test set\n",
    "Fill this table with the result you just printed (double click this cell to edit)\n",
    "\n",
    "|     Optimizer     | Accuracy    | Precision   | Recall      | F1 Score    |\n",
    "|:-----------------:|-------------|-------------|-------------|-------------|\n",
    "|      **SGD**      |     0.9840  |  0.9840     |  0.9840     |  0.9840     |\n",
    "| **Mini-batch GD** |     0.9795  |  0.9795     |  0.9795     |  0.9795     |\n"
   ]
  },
  {
   "cell_type": "markdown",
   "id": "73f07655",
   "metadata": {},
   "source": [
    "##### Please run the following cell to plot the training loss curve for SGD and Mini-batch GD"
   ]
  },
  {
   "cell_type": "code",
   "execution_count": 78,
   "id": "669a12b5",
   "metadata": {},
   "outputs": [
    {
     "data": {
      "image/png": "[encoded data removed]",
      "text/plain": [
       "<Figure size 288x216 with 1 Axes>"
      ]
     },
     "metadata": {
      "needs_background": "light"
     },
     "output_type": "display_data"
    }
   ],
   "source": [
    "import matplotlib.pyplot as plt\n",
    "\n",
    "%matplotlib inline\n",
    "\n",
    "fig = plt.figure(figsize=(4, 3))\n",
    "plt.plot(sgd_train_history['loss'], label='SGD')\n",
    "plt.plot(mbgd_train_history['loss'], label='Mini-batch GD')\n",
    "plt.xlabel('Epoch')\n",
    "plt.ylabel('Loss')\n",
    "plt.legend()\n",
    "plt.title('Training Loss')\n",
    "plt.show()"
   ]
  },
  {
   "cell_type": "markdown",
   "id": "7d3e1984",
   "metadata": {},
   "source": [
    "##### Please run the following cell to plot the validation metrics curve for SGD and Mini-batch GD"
   ]
  },
  {
   "cell_type": "code",
   "execution_count": 79,
   "id": "1b701d9d",
   "metadata": {},
   "outputs": [
    {
     "data": {
      "image/png": "[encoded data removed]",
      "text/plain": [
       "<Figure size 1440x216 with 5 Axes>"
      ]
     },
     "metadata": {
      "needs_background": "light"
     },
     "output_type": "display_data"
    }
   ],
   "source": [
    "fig, axes = plt.subplots(1, 5, figsize=(20, 3))\n",
    "for i, key in enumerate(sgd_valid_history.keys()):\n",
    "    sgd_vals, mbgd_vals = sgd_valid_history[key], mbgd_valid_history[key]\n",
    "    ax = axes[i]\n",
    "    ax.plot(sgd_vals, label='SGD')\n",
    "    ax.plot(mbgd_vals, label='Mini-batch GD')\n",
    "    ax.legend()\n",
    "    ax.set_xlabel('Epoch')\n",
    "    ax.set_title('Validation ' + key.capitalize())\n",
    "plt.show()\n"
   ]
  },
  {
   "cell_type": "markdown",
   "id": "c4569250",
   "metadata": {},
   "source": [
    "## 3. Cross-Validation\n",
    "\n",
    "You are required to use cross-validation to choose the best $\\lambda$ with Mini-batch GD.\n",
    "\n",
    "The best $\\lambda$ should be chosen by monitoring validation $F_1$ score."
   ]
  },
  {
   "cell_type": "code",
   "execution_count": 80,
   "id": "f714ca94",
   "metadata": {},
   "outputs": [],
   "source": [
    "lambdas = [1, 1e-1, 1e-2, 1e-3, 1e-4, 1e-5, 1e-6, 1e-7, 0.0]"
   ]
  },
  {
   "cell_type": "code",
   "execution_count": 92,
   "id": "5792de77",
   "metadata": {},
   "outputs": [
    {
     "name": "stdout",
     "output_type": "stream",
     "text": [
      "\n",
      "\n",
      "1\n",
      "Epoch 1 / 100: train_loss: 4.5784 - valid_loss: 0.8411 - valid_accuracy: 0.6667 - valid_precision: 0.6667 - valid_recall: 0.6667 - valid_f1: 0.6667\n",
      "Epoch 100 / 100: train_loss: 0.2066 - valid_loss: 0.8411 - valid_accuracy: 0.6667 - valid_precision: 0.6667 - valid_recall: 0.6667 - valid_f1: 0.6667\n",
      "Epoch 1 / 100: train_loss: 0.2066 - valid_loss: 0.9224 - valid_accuracy: 0.6667 - valid_precision: 0.6667 - valid_recall: 0.6667 - valid_f1: 0.6667\n",
      "Epoch 100 / 100: train_loss: 0.2066 - valid_loss: 0.9224 - valid_accuracy: 0.6667 - valid_precision: 0.6667 - valid_recall: 0.6667 - valid_f1: 0.6667\n",
      "Epoch 1 / 100: train_loss: 0.2066 - valid_loss: 0.6570 - valid_accuracy: 0.8000 - valid_precision: 0.8000 - valid_recall: 0.8000 - valid_f1: 0.8000\n",
      "Epoch 100 / 100: train_loss: 0.2066 - valid_loss: 0.6570 - valid_accuracy: 0.8000 - valid_precision: 0.8000 - valid_recall: 0.8000 - valid_f1: 0.8000\n",
      "Epoch 1 / 100: train_loss: 0.2066 - valid_loss: 0.9768 - valid_accuracy: 0.6000 - valid_precision: 0.6000 - valid_recall: 0.6000 - valid_f1: 0.6000\n",
      "Epoch 100 / 100: train_loss: 0.2066 - valid_loss: 0.9768 - valid_accuracy: 0.6000 - valid_precision: 0.6000 - valid_recall: 0.6000 - valid_f1: 0.6000\n",
      "Epoch 1 / 100: train_loss: 0.2066 - valid_loss: 1.2082 - valid_accuracy: 0.4000 - valid_precision: 0.4000 - valid_recall: 0.4000 - valid_f1: 0.4000\n",
      "Epoch 100 / 100: train_loss: 0.2066 - valid_loss: 1.2082 - valid_accuracy: 0.4000 - valid_precision: 0.4000 - valid_recall: 0.4000 - valid_f1: 0.4000\n",
      "\n",
      "\n",
      "0.1\n",
      "Epoch 1 / 100: train_loss: 4.1922 - valid_loss: 0.8488 - valid_accuracy: 0.6667 - valid_precision: 0.6667 - valid_recall: 0.6667 - valid_f1: 0.6667\n",
      "Epoch 100 / 100: train_loss: 0.2033 - valid_loss: 0.8488 - valid_accuracy: 0.6667 - valid_precision: 0.6667 - valid_recall: 0.6667 - valid_f1: 0.6667\n",
      "Epoch 1 / 100: train_loss: 0.2033 - valid_loss: 0.9315 - valid_accuracy: 0.6667 - valid_precision: 0.6667 - valid_recall: 0.6667 - valid_f1: 0.6667\n",
      "Epoch 100 / 100: train_loss: 0.2033 - valid_loss: 0.9315 - valid_accuracy: 0.6667 - valid_precision: 0.6667 - valid_recall: 0.6667 - valid_f1: 0.6667\n",
      "Epoch 1 / 100: train_loss: 0.2033 - valid_loss: 0.6741 - valid_accuracy: 0.8000 - valid_precision: 0.8000 - valid_recall: 0.8000 - valid_f1: 0.8000\n",
      "Epoch 100 / 100: train_loss: 0.2033 - valid_loss: 0.6741 - valid_accuracy: 0.8000 - valid_precision: 0.8000 - valid_recall: 0.8000 - valid_f1: 0.8000\n",
      "Epoch 1 / 100: train_loss: 0.2032 - valid_loss: 0.9702 - valid_accuracy: 0.6000 - valid_precision: 0.6000 - valid_recall: 0.6000 - valid_f1: 0.6000\n",
      "Epoch 100 / 100: train_loss: 0.2032 - valid_loss: 0.9702 - valid_accuracy: 0.6000 - valid_precision: 0.6000 - valid_recall: 0.6000 - valid_f1: 0.6000\n",
      "Epoch 1 / 100: train_loss: 0.2032 - valid_loss: 1.2092 - valid_accuracy: 0.4000 - valid_precision: 0.4000 - valid_recall: 0.4000 - valid_f1: 0.4000\n",
      "Epoch 100 / 100: train_loss: 0.2032 - valid_loss: 1.2092 - valid_accuracy: 0.4000 - valid_precision: 0.4000 - valid_recall: 0.4000 - valid_f1: 0.4000\n",
      "\n",
      "\n",
      "0.01\n",
      "Epoch 1 / 100: train_loss: 4.1354 - valid_loss: 0.8959 - valid_accuracy: 0.6667 - valid_precision: 0.6667 - valid_recall: 0.6667 - valid_f1: 0.6667\n",
      "Epoch 100 / 100: train_loss: 0.1843 - valid_loss: 0.8956 - valid_accuracy: 0.6667 - valid_precision: 0.6667 - valid_recall: 0.6667 - valid_f1: 0.6667\n",
      "Epoch 1 / 100: train_loss: 0.1843 - valid_loss: 0.9348 - valid_accuracy: 0.6667 - valid_precision: 0.6667 - valid_recall: 0.6667 - valid_f1: 0.6667\n",
      "Epoch 100 / 100: train_loss: 0.1843 - valid_loss: 0.9348 - valid_accuracy: 0.6667 - valid_precision: 0.6667 - valid_recall: 0.6667 - valid_f1: 0.6667\n",
      "Epoch 1 / 100: train_loss: 0.1843 - valid_loss: 0.6774 - valid_accuracy: 0.8000 - valid_precision: 0.8000 - valid_recall: 0.8000 - valid_f1: 0.8000\n",
      "Epoch 100 / 100: train_loss: 0.1843 - valid_loss: 0.6774 - valid_accuracy: 0.8000 - valid_precision: 0.8000 - valid_recall: 0.8000 - valid_f1: 0.8000\n",
      "Epoch 1 / 100: train_loss: 0.1843 - valid_loss: 0.8649 - valid_accuracy: 0.6000 - valid_precision: 0.6000 - valid_recall: 0.6000 - valid_f1: 0.6000\n",
      "Epoch 100 / 100: train_loss: 0.1843 - valid_loss: 0.8649 - valid_accuracy: 0.6000 - valid_precision: 0.6000 - valid_recall: 0.6000 - valid_f1: 0.6000\n",
      "Epoch 1 / 100: train_loss: 0.1843 - valid_loss: 1.2113 - valid_accuracy: 0.4000 - valid_precision: 0.4000 - valid_recall: 0.4000 - valid_f1: 0.4000\n",
      "Epoch 100 / 100: train_loss: 0.1843 - valid_loss: 1.2113 - valid_accuracy: 0.4000 - valid_precision: 0.4000 - valid_recall: 0.4000 - valid_f1: 0.4000\n",
      "\n",
      "\n",
      "0.001\n",
      "Epoch 1 / 100: train_loss: 3.1367 - valid_loss: 6.5047 - valid_accuracy: 0.6667 - valid_precision: 0.6667 - valid_recall: 0.6667 - valid_f1: 0.6667\n",
      "Epoch 100 / 100: train_loss: 0.1334 - valid_loss: 0.9659 - valid_accuracy: 0.6667 - valid_precision: 0.6667 - valid_recall: 0.6667 - valid_f1: 0.6667\n",
      "Epoch 1 / 100: train_loss: 0.1334 - valid_loss: 0.8324 - valid_accuracy: 0.6667 - valid_precision: 0.6667 - valid_recall: 0.6667 - valid_f1: 0.6667\n",
      "Epoch 100 / 100: train_loss: 0.1334 - valid_loss: 0.8364 - valid_accuracy: 0.6667 - valid_precision: 0.6667 - valid_recall: 0.6667 - valid_f1: 0.6667\n",
      "Epoch 1 / 100: train_loss: 0.1334 - valid_loss: 0.5582 - valid_accuracy: 0.8000 - valid_precision: 0.8000 - valid_recall: 0.8000 - valid_f1: 0.8000\n",
      "Epoch 100 / 100: train_loss: 0.1334 - valid_loss: 0.5671 - valid_accuracy: 0.8000 - valid_precision: 0.8000 - valid_recall: 0.8000 - valid_f1: 0.8000\n",
      "Epoch 1 / 100: train_loss: 0.1334 - valid_loss: 0.5920 - valid_accuracy: 0.8000 - valid_precision: 0.8000 - valid_recall: 0.8000 - valid_f1: 0.8000\n",
      "Epoch 100 / 100: train_loss: 0.1334 - valid_loss: 0.5996 - valid_accuracy: 0.8000 - valid_precision: 0.8000 - valid_recall: 0.8000 - valid_f1: 0.8000\n",
      "Epoch 1 / 100: train_loss: 0.1334 - valid_loss: 1.0060 - valid_accuracy: 0.4000 - valid_precision: 0.4000 - valid_recall: 0.4000 - valid_f1: 0.4000\n",
      "Epoch 100 / 100: train_loss: 0.1334 - valid_loss: 1.0167 - valid_accuracy: 0.4000 - valid_precision: 0.4000 - valid_recall: 0.4000 - valid_f1: 0.4000\n",
      "\n",
      "\n",
      "0.0001\n",
      "Epoch 1 / 100: train_loss: 0.6634 - valid_loss: 2.9958 - valid_accuracy: 0.6667 - valid_precision: 0.6667 - valid_recall: 0.6667 - valid_f1: 0.6667\n",
      "Epoch 100 / 100: train_loss: 0.0702 - valid_loss: 1.2120 - valid_accuracy: 0.8333 - valid_precision: 0.8333 - valid_recall: 0.8333 - valid_f1: 0.8333\n",
      "Epoch 1 / 100: train_loss: 0.0703 - valid_loss: 0.4810 - valid_accuracy: 0.8333 - valid_precision: 0.8333 - valid_recall: 0.8333 - valid_f1: 0.8333\n",
      "Epoch 100 / 100: train_loss: 0.0702 - valid_loss: 0.5246 - valid_accuracy: 0.8333 - valid_precision: 0.8333 - valid_recall: 0.8333 - valid_f1: 0.8333\n",
      "Epoch 1 / 100: train_loss: 0.0703 - valid_loss: 0.3321 - valid_accuracy: 0.8000 - valid_precision: 0.8000 - valid_recall: 0.8000 - valid_f1: 0.8000\n",
      "Epoch 100 / 100: train_loss: 0.0702 - valid_loss: 0.4802 - valid_accuracy: 0.8000 - valid_precision: 0.8000 - valid_recall: 0.8000 - valid_f1: 0.8000\n",
      "Epoch 1 / 100: train_loss: 0.0703 - valid_loss: 0.2761 - valid_accuracy: 1.0000 - valid_precision: 1.0000 - valid_recall: 1.0000 - valid_f1: 1.0000\n",
      "Epoch 100 / 100: train_loss: 0.0703 - valid_loss: 0.3207 - valid_accuracy: 1.0000 - valid_precision: 1.0000 - valid_recall: 1.0000 - valid_f1: 1.0000\n",
      "Epoch 1 / 100: train_loss: 0.0702 - valid_loss: 0.6044 - valid_accuracy: 0.8000 - valid_precision: 0.8000 - valid_recall: 0.8000 - valid_f1: 0.8000\n",
      "Epoch 100 / 100: train_loss: 0.0702 - valid_loss: 0.6827 - valid_accuracy: 0.6000 - valid_precision: 0.6000 - valid_recall: 0.6000 - valid_f1: 0.6000\n",
      "\n",
      "\n",
      "1e-05\n",
      "Epoch 1 / 100: train_loss: 0.2062 - valid_loss: 1.0417 - valid_accuracy: 0.8333 - valid_precision: 0.8333 - valid_recall: 0.8333 - valid_f1: 0.8333\n",
      "Epoch 100 / 100: train_loss: 0.0421 - valid_loss: 1.6589 - valid_accuracy: 0.8333 - valid_precision: 0.8333 - valid_recall: 0.8333 - valid_f1: 0.8333\n",
      "Epoch 1 / 100: train_loss: 0.0420 - valid_loss: 0.2267 - valid_accuracy: 1.0000 - valid_precision: 1.0000 - valid_recall: 1.0000 - valid_f1: 1.0000\n",
      "Epoch 100 / 100: train_loss: 0.0316 - valid_loss: 0.2135 - valid_accuracy: 1.0000 - valid_precision: 1.0000 - valid_recall: 1.0000 - valid_f1: 1.0000\n",
      "Epoch 1 / 100: train_loss: 0.0316 - valid_loss: 0.1220 - valid_accuracy: 1.0000 - valid_precision: 1.0000 - valid_recall: 1.0000 - valid_f1: 1.0000\n",
      "Epoch 100 / 100: train_loss: 0.0291 - valid_loss: 0.3076 - valid_accuracy: 0.8000 - valid_precision: 0.8000 - valid_recall: 0.8000 - valid_f1: 0.8000\n",
      "Epoch 1 / 100: train_loss: 0.0291 - valid_loss: 0.0902 - valid_accuracy: 1.0000 - valid_precision: 1.0000 - valid_recall: 1.0000 - valid_f1: 1.0000\n",
      "Epoch 100 / 100: train_loss: 0.0285 - valid_loss: 0.1163 - valid_accuracy: 1.0000 - valid_precision: 1.0000 - valid_recall: 1.0000 - valid_f1: 1.0000\n",
      "Epoch 1 / 100: train_loss: 0.0285 - valid_loss: 0.2720 - valid_accuracy: 1.0000 - valid_precision: 1.0000 - valid_recall: 1.0000 - valid_f1: 1.0000\n",
      "Epoch 100 / 100: train_loss: 0.0283 - valid_loss: 0.3978 - valid_accuracy: 0.8000 - valid_precision: 0.8000 - valid_recall: 0.8000 - valid_f1: 0.8000\n",
      "\n",
      "\n",
      "1e-06\n",
      "Epoch 1 / 100: train_loss: 0.1558 - valid_loss: 0.8847 - valid_accuracy: 0.8333 - valid_precision: 0.8333 - valid_recall: 0.8333 - valid_f1: 0.8333\n",
      "Epoch 100 / 100: train_loss: 0.0194 - valid_loss: 1.9243 - valid_accuracy: 0.8333 - valid_precision: 0.8333 - valid_recall: 0.8333 - valid_f1: 0.8333\n",
      "Epoch 1 / 100: train_loss: 0.0195 - valid_loss: 0.0999 - valid_accuracy: 1.0000 - valid_precision: 1.0000 - valid_recall: 1.0000 - valid_f1: 1.0000\n",
      "Epoch 100 / 100: train_loss: 0.0162 - valid_loss: 0.0820 - valid_accuracy: 1.0000 - valid_precision: 1.0000 - valid_recall: 1.0000 - valid_f1: 1.0000\n",
      "Epoch 1 / 100: train_loss: 0.0162 - valid_loss: 0.0496 - valid_accuracy: 1.0000 - valid_precision: 1.0000 - valid_recall: 1.0000 - valid_f1: 1.0000\n",
      "Epoch 100 / 100: train_loss: 0.0149 - valid_loss: 0.0745 - valid_accuracy: 1.0000 - valid_precision: 1.0000 - valid_recall: 1.0000 - valid_f1: 1.0000\n",
      "Epoch 1 / 100: train_loss: 0.0149 - valid_loss: 0.0361 - valid_accuracy: 1.0000 - valid_precision: 1.0000 - valid_recall: 1.0000 - valid_f1: 1.0000\n",
      "Epoch 100 / 100: train_loss: 0.0141 - valid_loss: 0.0364 - valid_accuracy: 1.0000 - valid_precision: 1.0000 - valid_recall: 1.0000 - valid_f1: 1.0000\n",
      "Epoch 1 / 100: train_loss: 0.0141 - valid_loss: 0.1312 - valid_accuracy: 1.0000 - valid_precision: 1.0000 - valid_recall: 1.0000 - valid_f1: 1.0000\n",
      "Epoch 100 / 100: train_loss: 0.0135 - valid_loss: 0.1579 - valid_accuracy: 1.0000 - valid_precision: 1.0000 - valid_recall: 1.0000 - valid_f1: 1.0000\n",
      "\n",
      "\n",
      "1e-07\n",
      "Epoch 1 / 100: train_loss: 0.1491 - valid_loss: 1.0999 - valid_accuracy: 0.6667 - valid_precision: 0.6667 - valid_recall: 0.6667 - valid_f1: 0.6667\n",
      "Epoch 100 / 100: train_loss: 0.0132 - valid_loss: 1.8198 - valid_accuracy: 0.8333 - valid_precision: 0.8333 - valid_recall: 0.8333 - valid_f1: 0.8333\n",
      "Epoch 1 / 100: train_loss: 0.0133 - valid_loss: 0.0795 - valid_accuracy: 1.0000 - valid_precision: 1.0000 - valid_recall: 1.0000 - valid_f1: 1.0000\n",
      "Epoch 100 / 100: train_loss: 0.0098 - valid_loss: 0.0553 - valid_accuracy: 1.0000 - valid_precision: 1.0000 - valid_recall: 1.0000 - valid_f1: 1.0000\n",
      "Epoch 1 / 100: train_loss: 0.0098 - valid_loss: 0.0236 - valid_accuracy: 1.0000 - valid_precision: 1.0000 - valid_recall: 1.0000 - valid_f1: 1.0000\n",
      "Epoch 100 / 100: train_loss: 0.0084 - valid_loss: 0.0381 - valid_accuracy: 1.0000 - valid_precision: 1.0000 - valid_recall: 1.0000 - valid_f1: 1.0000\n",
      "Epoch 1 / 100: train_loss: 0.0084 - valid_loss: 0.0110 - valid_accuracy: 1.0000 - valid_precision: 1.0000 - valid_recall: 1.0000 - valid_f1: 1.0000\n",
      "Epoch 100 / 100: train_loss: 0.0077 - valid_loss: 0.0106 - valid_accuracy: 1.0000 - valid_precision: 1.0000 - valid_recall: 1.0000 - valid_f1: 1.0000\n",
      "Epoch 1 / 100: train_loss: 0.0077 - valid_loss: 0.0921 - valid_accuracy: 1.0000 - valid_precision: 1.0000 - valid_recall: 1.0000 - valid_f1: 1.0000\n",
      "Epoch 100 / 100: train_loss: 0.0073 - valid_loss: 0.1065 - valid_accuracy: 1.0000 - valid_precision: 1.0000 - valid_recall: 1.0000 - valid_f1: 1.0000\n",
      "\n",
      "\n",
      "0.0\n",
      "Epoch 1 / 100: train_loss: 0.1517 - valid_loss: 1.1125 - valid_accuracy: 0.6667 - valid_precision: 0.6667 - valid_recall: 0.6667 - valid_f1: 0.6667\n",
      "Epoch 100 / 100: train_loss: 0.0125 - valid_loss: 1.9039 - valid_accuracy: 0.8333 - valid_precision: 0.8333 - valid_recall: 0.8333 - valid_f1: 0.8333\n",
      "Epoch 1 / 100: train_loss: 0.0126 - valid_loss: 0.0676 - valid_accuracy: 1.0000 - valid_precision: 1.0000 - valid_recall: 1.0000 - valid_f1: 1.0000\n",
      "Epoch 100 / 100: train_loss: 0.0089 - valid_loss: 0.0449 - valid_accuracy: 1.0000 - valid_precision: 1.0000 - valid_recall: 1.0000 - valid_f1: 1.0000\n",
      "Epoch 1 / 100: train_loss: 0.0089 - valid_loss: 0.0204 - valid_accuracy: 1.0000 - valid_precision: 1.0000 - valid_recall: 1.0000 - valid_f1: 1.0000\n",
      "Epoch 100 / 100: train_loss: 0.0075 - valid_loss: 0.0343 - valid_accuracy: 1.0000 - valid_precision: 1.0000 - valid_recall: 1.0000 - valid_f1: 1.0000\n",
      "Epoch 1 / 100: train_loss: 0.0075 - valid_loss: 0.0085 - valid_accuracy: 1.0000 - valid_precision: 1.0000 - valid_recall: 1.0000 - valid_f1: 1.0000\n",
      "Epoch 100 / 100: train_loss: 0.0067 - valid_loss: 0.0078 - valid_accuracy: 1.0000 - valid_precision: 1.0000 - valid_recall: 1.0000 - valid_f1: 1.0000\n",
      "Epoch 1 / 100: train_loss: 0.0067 - valid_loss: 0.0881 - valid_accuracy: 1.0000 - valid_precision: 1.0000 - valid_recall: 1.0000 - valid_f1: 1.0000\n",
      "Epoch 100 / 100: train_loss: 0.0062 - valid_loss: 0.1018 - valid_accuracy: 1.0000 - valid_precision: 1.0000 - valid_recall: 1.0000 - valid_f1: 1.0000\n",
      "\n",
      "\n",
      "1e-07\n"
     ]
    }
   ],
   "source": [
    "best_lambda = 0.0\n",
    "best_f1 = 0.0\n",
    "\n",
    "num_epoch = 100\n",
    "lr = 1e-1\n",
    "batch_size = 4\n",
    "print_every = 100\n",
    "\n",
    "# Start your code here\n",
    "#     Step 1. Iterate all lambdas\n",
    "#     Step 2. set the random seed and run train_mbgd for every lambda\n",
    "#     Step 3. Choose the best lambda\n",
    "\n",
    "k = 5\n",
    "num_class = 3\n",
    "\n",
    "mini_batch_losses = []\n",
    "lambda_loss_map = dict()\n",
    "\n",
    "x_train_batches = np.array_split(x_train, x_train.shape[0] // k)\n",
    "y_train_batches = np.array_split(y_train, x_train.shape[0] // k)\n",
    "\n",
    "for lam in lambdas:\n",
    "    np.random.seed(6666)\n",
    "    \n",
    "    model_mbgd_lr = LogisticRegression(feature_dim=vocab_size, num_class=num_class, lambda_=lam)\n",
    "    mini_batch_loss = 0\n",
    "    \n",
    "    print(\"\\n\")\n",
    "    print(lam)\n",
    "    \n",
    "    for i in range(k):\n",
    "        xk_val = x_train_batches[i]\n",
    "        yk_val = y_train_batches[i]\n",
    "        \n",
    "        xk_train = np.vstack((x_train_batches[:i]+x_train_batches[i+1:]))\n",
    "        yk_train = np.vstack((y_train_batches[:i]+y_train_batches[i+1:]))\n",
    "        \n",
    "        mbgd_train_history, mbgd_valid_history=\\\n",
    "        train_mbgd(model_mbgd_lr, xk_train, yk_train, xk_val, yk_val, lr, num_epoch, batch_size, print_every)\n",
    "\n",
    "        mini_batch_loss += mbgd_valid_history['loss'][-1]\n",
    "    \n",
    "    mini_batch_loss /= k\n",
    "    \n",
    "    mini_batch_losses.append(mini_batch_loss)\n",
    "    \n",
    "    lambda_loss_map[lam] = mini_batch_loss\n",
    "    \n",
    "best_lambda=min(lambda_loss_map, key=lambda_loss_map.get)\n",
    "    \n",
    "# End\n",
    "print(\"\\n\")\n",
    "print(best_lambda)\n"
   ]
  },
  {
   "cell_type": "markdown",
   "id": "3f9ae4ad",
   "metadata": {},
   "source": [
    "#### Report the best $\\lambda$ value."
   ]
  },
  {
   "cell_type": "markdown",
   "id": "81b56eab",
   "metadata": {},
   "source": [
    "Answer:  **1e-07**"
   ]
  },
  {
   "cell_type": "markdown",
   "id": "8bb2f099",
   "metadata": {},
   "source": [
    "# 4. Conclusion\n",
    "\n",
    "Provide an analysis for all the results"
   ]
  },
  {
   "cell_type": "markdown",
   "id": "49d5d12c",
   "metadata": {},
   "source": [
    "**Answer**\n",
    "\n",
    "Some of the key observations made while solving this exercise is that with SDG we can approach optimum _w_ and _b_ within less number of iterations compared to Mini batch gradient descent, this can also be verified from the above graph.\\\n",
    "    SDG takes longer time compared to Mini batch to train the model. This is because it had to update the _w_ and _b_ parameters for every single observation, compared to mini batch where parameters are updated for each batches.\\\n",
    "    With K-cross validation it can be seen that the best lambda value is : **1e-07**\\\n",
    "Since we are suppposed to select a lambda that has lowest loss, In this case, the loss function decreases fast when the learning rate is 1e-07"
   ]
  },
  {
   "cell_type": "code",
   "execution_count": null,
   "id": "b2788032-2b06-44be-a8c6-d3969175593b",
   "metadata": {},
   "outputs": [],
   "source": []
  }
 ],
 "metadata": {
  "kernelspec": {
   "display_name": "Python 3 (ipykernel)",
   "language": "python",
   "name": "python3"
  },
  "language_info": {
   "codemirror_mode": {
    "name": "ipython",
    "version": 3
   },
   "file_extension": ".py",
   "mimetype": "text/x-python",
   "name": "python",
   "nbconvert_exporter": "python",
   "pygments_lexer": "ipython3",
   "version": "3.9.10"
  }
 },
 "nbformat": 4,
 "nbformat_minor": 5
}

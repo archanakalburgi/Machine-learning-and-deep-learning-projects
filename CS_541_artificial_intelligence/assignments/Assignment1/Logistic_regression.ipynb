{
  "nbformat": 4,
  "nbformat_minor": 0,
  "metadata": {
    "colab": {
      "name": "Assign_v1.ipynb",
      "provenance": [],
      "collapsed_sections": []
    },
    "kernelspec": {
      "name": "python3",
      "display_name": "Python 3"
    },
    "language_info": {
      "name": "python"
    }
  },
  "cells": [
    {
      "cell_type": "code",
      "source": [
        "from google.colab import drive\n",
        "drive.mount('/content/drive')"
      ],
      "metadata": {
        "colab": {
          "base_uri": "https://localhost:8080/"
        },
        "id": "BC_653qjbddQ",
        "outputId": "34a131eb-43f8-4a08-d3d8-3b19bc0dfffd"
      },
      "execution_count": null,
      "outputs": [
        {
          "output_type": "stream",
          "name": "stdout",
          "text": [
            "Drive already mounted at /content/drive; to attempt to forcibly remount, call drive.mount(\"/content/drive\", force_remount=True).\n"
          ]
        }
      ]
    },
    {
      "cell_type": "code",
      "execution_count": null,
      "metadata": {
        "id": "BxfH_3lObZ4s"
      },
      "outputs": [],
      "source": [
        "import numpy as np\n",
        "import pandas as pd\n",
        "import math "
      ]
    },
    {
      "cell_type": "code",
      "source": [
        "train_df = pd.read_csv(\"/content/drive/MyDrive/cs541/swad_train.csv\")\n",
        "train_text = train_df[\"Tweet\"].to_numpy()\n",
        "train_labels = train_df[\"Label\"].to_numpy()"
      ],
      "metadata": {
        "id": "tJgqzDSxbqXl"
      },
      "execution_count": null,
      "outputs": []
    },
    {
      "cell_type": "code",
      "source": [
        "test_df = pd.read_csv(\"/content/drive/MyDrive/cs541/swad_test.csv\")\n",
        "test_text = train_df[\"Tweet\"].to_numpy()\n",
        "test_labels = train_df[\"Label\"].to_numpy()"
      ],
      "metadata": {
        "id": "yczB56kP6wRj"
      },
      "execution_count": null,
      "outputs": []
    },
    {
      "cell_type": "code",
      "source": [
        "def get_stopwords():\n",
        "    words = set()\n",
        "    with open('/content/drive/MyDrive/cs541/stopwords.txt') as f:\n",
        "        lines = f.read()\n",
        "        line_list=lines.split(\"\\n\")\n",
        "        for word in line_list:\n",
        "            words.add(word)\n",
        "    return words\n",
        "stop_words = get_stopwords()"
      ],
      "metadata": {
        "id": "eQrRQDYubxOq"
      },
      "execution_count": null,
      "outputs": []
    },
    {
      "cell_type": "code",
      "source": [
        "def get_punctuation():\n",
        "    puncts = set()\n",
        "    with open(\"/content/drive/MyDrive/cs541/punctuations.txt\") as f:\n",
        "        lines = f.read()\n",
        "        line_list=lines.split(\"\\n\")\n",
        "        for mark in line_list:\n",
        "            puncts.add(mark)\n",
        "    return puncts\n",
        "punctuations = get_punctuation()"
      ],
      "metadata": {
        "id": "UrdYEWgAcBjg"
      },
      "execution_count": null,
      "outputs": []
    },
    {
      "cell_type": "code",
      "source": [
        "def pre_process(corpus, stop_words, punctuations):\n",
        "  text = []\n",
        "  for line in corpus:\n",
        "    tokens = []\n",
        "    for word in line.split(\" \"):\n",
        "      if word not in stop_words:\n",
        "        if word in punctuations:\n",
        "          tokens.append(\" \")\n",
        "          tokens.append(word)\n",
        "          tokens.append(\" \")\n",
        "        else:\n",
        "          tokens.append(word.lower())\n",
        "      \n",
        "    string = \" \".join(tokens)\n",
        "    text.append(string)\n",
        "  return text "
      ],
      "metadata": {
        "id": "VfAuTjbhc1D-"
      },
      "execution_count": null,
      "outputs": []
    },
    {
      "cell_type": "code",
      "source": [
        "train_corpus = pre_process(train_text, stop_words, punctuations)\n",
        "test_corpus = pre_process(test_text, stop_words, punctuations)"
      ],
      "metadata": {
        "id": "5wcc4PGmh5YD"
      },
      "execution_count": null,
      "outputs": []
    },
    {
      "cell_type": "code",
      "source": [
        "def label_encoding(categorical_labels):\n",
        "  return [0 if label == \"No\" else 1 for label in categorical_labels] "
      ],
      "metadata": {
        "id": "WxUxerBk72Fw"
      },
      "execution_count": null,
      "outputs": []
    },
    {
      "cell_type": "code",
      "source": [
        "from numpy import matrix\n",
        "import collections\n",
        "import math\n",
        "class MyVectorizer():\n",
        "  def __init__(self):\n",
        "    self.unique_idx = {}\n",
        "    self.doc_freq = collections.defaultdict(int)\n",
        "    self.unique_words = set()\n",
        "\n",
        "  def get_unique_words(self, corpus):\n",
        "    uniq = set()\n",
        "    for line in corpus:\n",
        "      for word in line.split(\" \"):\n",
        "        uniq.add(word.lower())\n",
        "    return uniq\n",
        "\n",
        "  def idf(self, doc_freq, word, no_docs): #???\n",
        "    idf_value = math.log( (1 + no_docs) / (1 + doc_freq[word])) + 1\n",
        "    return idf_value\n",
        "\n",
        "\n",
        "  def fit_transform(self, corpus):\n",
        "    self.unique_words = self.get_unique_words(corpus)\n",
        "    # unique_idx = {}\n",
        "    for idx, word in enumerate(self.unique_words):\n",
        "      self.unique_idx[word] = idx\n",
        "\n",
        "    matrix = [[0 for _ in range(len(self.unique_words))] for _ in range(len(corpus))]\n",
        "    # doc_freq = collections.defaultdict(int)\n",
        "\n",
        "    for i, line in enumerate(corpus):\n",
        "      for j, word in enumerate(line.split(\" \")):\n",
        "        matrix[i][self.unique_idx[word]] += 1\n",
        "        self.doc_freq[word] += 1\n",
        "    \n",
        "    for i, line in enumerate(corpus):\n",
        "      for j, word in enumerate(line.split(\" \")):\n",
        "        matrix[i][self.unique_idx[word]] = self.idf(self.doc_freq, word, len(corpus)) * matrix[i][self.unique_idx[word]]\n",
        "                                                                           \n",
        "    return self.l2_normalize(matrix)\n",
        "  \n",
        "  def l2_normalize(self, vectors):\n",
        "    \"\"\"\n",
        "    return - vector or same size\n",
        "    \"\"\"\n",
        "    vect_normalised = [[0 for _ in range(len(vectors[0]))] for _ in range(len(vectors))]\n",
        "    for i, vec in enumerate(vectors):\n",
        "      vec_mag = math.sqrt(sum([x*x for x in vec]))\n",
        "      vect_normalised[i] = [x/vec_mag for x in vec]\n",
        "    return vect_normalised\n",
        "  \n",
        "  def transform(self, test_corpus):\n",
        "    test_matrix = [[0 for _ in range(len(self.unique_words))] for _ in range(len(test_corpus))]\n",
        "    for i, line in enumerate(test_corpus):\n",
        "      for j, word in enumerate(line.split(\" \")):\n",
        "        if word in self.doc_freq and word in self.unique_idx:\n",
        "          test_matrix[i][self.unique_idx[word]] = self.idf(self.doc_freq, word, len(test_corpus)) * self.doc_freq[word]\n",
        "    return self.l2_normalize(test_matrix)\n",
        "\n",
        "  \n",
        "      "
      ],
      "metadata": {
        "id": "NoyVXAoTiV6W"
      },
      "execution_count": null,
      "outputs": []
    },
    {
      "cell_type": "code",
      "source": [
        "vectorizer = MyVectorizer()\n",
        "x_train = vectorizer.fit_transform(train_corpus)\n",
        "y_train = label_encoding(train_labels)\n",
        "X_train = np.array(x_train)\n",
        "y_train = np.array(y_train)"
      ],
      "metadata": {
        "id": "zv1IGtsNkF6e"
      },
      "execution_count": null,
      "outputs": []
    },
    {
      "cell_type": "code",
      "source": [
        "x_test = vectorizer.transform(test_corpus)\n",
        "y_test = label_encoding(test_labels)\n",
        "X_test = np.array(x_test)\n",
        "y_test = np.array(y_test)"
      ],
      "metadata": {
        "id": "OAv5-r2OlEzt"
      },
      "execution_count": null,
      "outputs": []
    },
    {
      "cell_type": "code",
      "source": [
        "class LR_Model2():\n",
        "  def __init__(self):\n",
        "    self.W = 0\n",
        "  \n",
        "  def weight_updates(self, lr):\n",
        "    A = 1 / ( 1 + np.exp( - ( self.X.dot( self.W ) + self.b ) ) )\n",
        "    A1 = (A- self.y.T)\n",
        "    A1 = np.reshape(A1, self.n_samples)\n",
        "    dW = np.dot(self.X.T, A1) / self.n_samples\n",
        "    dB = np.sum(A1) / self.n_features\n",
        "\n",
        "    self.W = self.W  - lr*dW\n",
        "    self.b = self.b - lr*dB\n",
        "    return\n",
        "\n",
        "  def fit_train(self, X, y, epochs, lr):\n",
        "    self.n_samples, self.n_features = X.shape\n",
        "    self.W = np.zeros(self.n_features)\n",
        "    self.b = 0\n",
        "    self.X = X\n",
        "    self.y = y\n",
        "\n",
        "    for i in range(epochs):\n",
        "      self.weight_updates(lr)\n",
        "    return\n",
        "\n",
        "  def pred(self, X):\n",
        "    Z = 1 / ( 1 + np.exp( - ( X.dot( self.W ) + self.b ) ) )\n",
        "    Yhat = np.where( Z > 0.5, 1, 0 )\n",
        "    return Yhat"
      ],
      "metadata": {
        "id": "IyiMfwWseoSk"
      },
      "execution_count": null,
      "outputs": []
    },
    {
      "cell_type": "code",
      "source": [
        "lr_model = LR_Model2()\n",
        "lr_model.fit_train(X_train, y_train, 20, 0.01)"
      ],
      "metadata": {
        "id": "CBgVmp7Ugi8C"
      },
      "execution_count": null,
      "outputs": []
    },
    {
      "cell_type": "code",
      "source": [
        "# Precit on test data\n",
        "y_pred =  lr_model.pred(X_test)\n",
        "corr_cnt = 0\n",
        "for i in range(np.size(y_pred)):\n",
        "  if y_pred[i] == y_test[i]:\n",
        "    corr_cnt += 1\n",
        "acc = (corr_cnt / len(y_test)) * 100\n",
        "print(f\"Correctly predicted: {corr_cnt}\")\n",
        "print(f\"Accuracy is: {acc}\")\n"
      ],
      "metadata": {
        "colab": {
          "base_uri": "https://localhost:8080/"
        },
        "id": "KPtVK23DXcfT",
        "outputId": "4ee7d720-9e9a-4a79-b656-84d4cd375e66"
      },
      "execution_count": null,
      "outputs": [
        {
          "output_type": "stream",
          "name": "stdout",
          "text": [
            "Correctly predicted: 2307\n",
            "Accuracy is: 64.27974366118696\n"
          ]
        }
      ]
    }
  ]
}
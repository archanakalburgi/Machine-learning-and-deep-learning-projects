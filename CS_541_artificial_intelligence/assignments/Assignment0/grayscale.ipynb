{
  "cells": [
    {
      "cell_type": "code",
      "execution_count": 100,
      "metadata": {
        "id": "K5UH_U22t9iz"
      },
      "outputs": [],
      "source": [
        "import cv2\n",
        "import numpy as np"
      ]
    },
    {
      "cell_type": "code",
      "execution_count": 101,
      "metadata": {
        "id": "AkHaRxZ9EKMB"
      },
      "outputs": [],
      "source": [
        "def rgb2gray(image):\n",
        "    g = list()\n",
        "    row,col,channel = image.shape\n",
        "    for i in range(row) :\n",
        "        for j in range(col):\n",
        "            a = (image[i,j,0]*0.2989 + image[i,j,1]*0.5870 + image[i,j,2] *0.1140) \n",
        "            g.append(a)\n",
        "    gr = np.array(g)\n",
        "    return gr.reshape(row,col)\n"
      ]
    },
    {
      "cell_type": "code",
      "execution_count": 102,
      "metadata": {
        "colab": {
          "base_uri": "https://localhost:8080/"
        },
        "id": "NCSR-4ACEytU",
        "outputId": "8eeba9dc-f93f-4421-eb52-559efe48a2ec"
      },
      "outputs": [
        {
          "data": {
            "text/plain": [
              "True"
            ]
          },
          "execution_count": 102,
          "metadata": {},
          "output_type": "execute_result"
        }
      ],
      "source": [
        "image_rgb = cv2.imread(\"/content/drive/MyDrive/image_rgb.jpg\")\n",
        "image_gray = rgb2gray(image_rgb)\n",
        "cv2.imwrite(\"/content/drive/MyDrive/image_gray.jpg\", image_gray)"
      ]
    }
  ],
  "metadata": {
    "colab": {
      "name": "grayscale.ipynb",
      "provenance": []
    },
    "kernelspec": {
      "display_name": "Python 3",
      "name": "python3"
    },
    "language_info": {
      "name": "python"
    }
  },
  "nbformat": 4,
  "nbformat_minor": 0
}

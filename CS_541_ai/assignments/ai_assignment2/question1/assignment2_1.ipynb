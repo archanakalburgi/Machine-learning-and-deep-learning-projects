{
 "cells": [
  {
   "cell_type": "markdown",
   "id": "a50ae93d-f3d7-43fc-a383-e40c7b55b6ad",
   "metadata": {},
   "source": [
    "### Question 1 : Part 1"
   ]
  },
  {
   "cell_type": "code",
   "execution_count": 1,
   "id": "851df8d1-37ec-47af-980a-62f141afa936",
   "metadata": {},
   "outputs": [],
   "source": [
    "import pandas as pd\n",
    "import warnings\n",
    "import time\n",
    "import csv\n",
    "import heapq\n",
    "from geopy.distance import geodesic as GD\n",
    "from collections import defaultdict \n",
    "warnings.filterwarnings('ignore')"
   ]
  },
  {
   "cell_type": "code",
   "execution_count": 2,
   "id": "8f417243-ac9a-4ffb-ac5d-06296bba58ac",
   "metadata": {},
   "outputs": [
    {
     "data": {
      "text/html": [
       "<div>\n",
       "<style scoped>\n",
       "    .dataframe tbody tr th:only-of-type {\n",
       "        vertical-align: middle;\n",
       "    }\n",
       "\n",
       "    .dataframe tbody tr th {\n",
       "        vertical-align: top;\n",
       "    }\n",
       "\n",
       "    .dataframe thead th {\n",
       "        text-align: right;\n",
       "    }\n",
       "</style>\n",
       "<table border=\"1\" class=\"dataframe\">\n",
       "  <thead>\n",
       "    <tr style=\"text-align: right;\">\n",
       "      <th></th>\n",
       "      <th>Unnamed: 0</th>\n",
       "      <th>tpep_pickup_datetime</th>\n",
       "      <th>tpep_dropoff_datetime</th>\n",
       "      <th>pickup_longitude</th>\n",
       "      <th>pickup_latitude</th>\n",
       "      <th>dropoff_longitude</th>\n",
       "      <th>dropoff_latitude</th>\n",
       "      <th>trip_distance</th>\n",
       "      <th>pickup_hrs</th>\n",
       "      <th>dropoff_hrs</th>\n",
       "      <th>day_week</th>\n",
       "      <th>tpep_pickup_timestamp</th>\n",
       "      <th>tpep_dropoff_timestamp</th>\n",
       "      <th>duration</th>\n",
       "      <th>speed</th>\n",
       "    </tr>\n",
       "  </thead>\n",
       "  <tbody>\n",
       "    <tr>\n",
       "      <th>0</th>\n",
       "      <td>0</td>\n",
       "      <td>2015-01-24 18:00:28</td>\n",
       "      <td>2015-01-24 18:10:07</td>\n",
       "      <td>-73.964111</td>\n",
       "      <td>40.761398</td>\n",
       "      <td>-73.977989</td>\n",
       "      <td>40.783093</td>\n",
       "      <td>2.40</td>\n",
       "      <td>18</td>\n",
       "      <td>18</td>\n",
       "      <td>5</td>\n",
       "      <td>1422122428</td>\n",
       "      <td>1422123007</td>\n",
       "      <td>579</td>\n",
       "      <td>14</td>\n",
       "    </tr>\n",
       "    <tr>\n",
       "      <th>1</th>\n",
       "      <td>1</td>\n",
       "      <td>2015-01-15 4:37:29</td>\n",
       "      <td>2015-01-15 4:58:14</td>\n",
       "      <td>-73.961479</td>\n",
       "      <td>40.760410</td>\n",
       "      <td>-73.943573</td>\n",
       "      <td>40.709702</td>\n",
       "      <td>5.00</td>\n",
       "      <td>4</td>\n",
       "      <td>4</td>\n",
       "      <td>3</td>\n",
       "      <td>1421296649</td>\n",
       "      <td>1421297894</td>\n",
       "      <td>1245</td>\n",
       "      <td>14</td>\n",
       "    </tr>\n",
       "    <tr>\n",
       "      <th>2</th>\n",
       "      <td>2</td>\n",
       "      <td>2015-01-09 5:14:31</td>\n",
       "      <td>2015-01-09 5:47:16</td>\n",
       "      <td>-73.986893</td>\n",
       "      <td>40.761726</td>\n",
       "      <td>-73.873169</td>\n",
       "      <td>40.774326</td>\n",
       "      <td>10.25</td>\n",
       "      <td>5</td>\n",
       "      <td>5</td>\n",
       "      <td>4</td>\n",
       "      <td>1420780471</td>\n",
       "      <td>1420782436</td>\n",
       "      <td>1965</td>\n",
       "      <td>18</td>\n",
       "    </tr>\n",
       "    <tr>\n",
       "      <th>3</th>\n",
       "      <td>3</td>\n",
       "      <td>2015-01-29 9:52:05</td>\n",
       "      <td>2015-01-29 10:16:33</td>\n",
       "      <td>-73.965759</td>\n",
       "      <td>40.758114</td>\n",
       "      <td>-74.010399</td>\n",
       "      <td>40.701965</td>\n",
       "      <td>5.46</td>\n",
       "      <td>9</td>\n",
       "      <td>10</td>\n",
       "      <td>3</td>\n",
       "      <td>1422525125</td>\n",
       "      <td>1422526593</td>\n",
       "      <td>1468</td>\n",
       "      <td>13</td>\n",
       "    </tr>\n",
       "    <tr>\n",
       "      <th>4</th>\n",
       "      <td>4</td>\n",
       "      <td>2015-01-02 2:20:01</td>\n",
       "      <td>2015-01-02 2:27:37</td>\n",
       "      <td>-73.955032</td>\n",
       "      <td>40.821857</td>\n",
       "      <td>-73.950897</td>\n",
       "      <td>40.808399</td>\n",
       "      <td>1.50</td>\n",
       "      <td>2</td>\n",
       "      <td>2</td>\n",
       "      <td>4</td>\n",
       "      <td>1420165201</td>\n",
       "      <td>1420165657</td>\n",
       "      <td>456</td>\n",
       "      <td>11</td>\n",
       "    </tr>\n",
       "  </tbody>\n",
       "</table>\n",
       "</div>"
      ],
      "text/plain": [
       "   Unnamed: 0 tpep_pickup_datetime tpep_dropoff_datetime  pickup_longitude  \\\n",
       "0           0  2015-01-24 18:00:28   2015-01-24 18:10:07        -73.964111   \n",
       "1           1   2015-01-15 4:37:29    2015-01-15 4:58:14        -73.961479   \n",
       "2           2   2015-01-09 5:14:31    2015-01-09 5:47:16        -73.986893   \n",
       "3           3   2015-01-29 9:52:05   2015-01-29 10:16:33        -73.965759   \n",
       "4           4   2015-01-02 2:20:01    2015-01-02 2:27:37        -73.955032   \n",
       "\n",
       "   pickup_latitude  dropoff_longitude  dropoff_latitude  trip_distance  \\\n",
       "0        40.761398         -73.977989         40.783093           2.40   \n",
       "1        40.760410         -73.943573         40.709702           5.00   \n",
       "2        40.761726         -73.873169         40.774326          10.25   \n",
       "3        40.758114         -74.010399         40.701965           5.46   \n",
       "4        40.821857         -73.950897         40.808399           1.50   \n",
       "\n",
       "   pickup_hrs  dropoff_hrs  day_week  tpep_pickup_timestamp  \\\n",
       "0          18           18         5             1422122428   \n",
       "1           4            4         3             1421296649   \n",
       "2           5            5         4             1420780471   \n",
       "3           9           10         3             1422525125   \n",
       "4           2            2         4             1420165201   \n",
       "\n",
       "   tpep_dropoff_timestamp  duration  speed  \n",
       "0              1422123007       579     14  \n",
       "1              1421297894      1245     14  \n",
       "2              1420782436      1965     18  \n",
       "3              1422526593      1468     13  \n",
       "4              1420165657       456     11  "
      ]
     },
     "execution_count": 2,
     "metadata": {},
     "output_type": "execute_result"
    }
   ],
   "source": [
    "df_all = pd.read_csv(\"nyc_taxi_trips/nyc_taxi_data.csv\")\n",
    "df_all.head()"
   ]
  },
  {
   "cell_type": "code",
   "execution_count": 3,
   "id": "f01d9b2d-3cce-4a67-996a-d50e439537d6",
   "metadata": {},
   "outputs": [
    {
     "data": {
      "text/html": [
       "<div>\n",
       "<style scoped>\n",
       "    .dataframe tbody tr th:only-of-type {\n",
       "        vertical-align: middle;\n",
       "    }\n",
       "\n",
       "    .dataframe tbody tr th {\n",
       "        vertical-align: top;\n",
       "    }\n",
       "\n",
       "    .dataframe thead th {\n",
       "        text-align: right;\n",
       "    }\n",
       "</style>\n",
       "<table border=\"1\" class=\"dataframe\">\n",
       "  <thead>\n",
       "    <tr style=\"text-align: right;\">\n",
       "      <th></th>\n",
       "      <th>pickup_longitude</th>\n",
       "      <th>pickup_latitude</th>\n",
       "      <th>dropoff_longitude</th>\n",
       "      <th>dropoff_latitude</th>\n",
       "      <th>trip_distance</th>\n",
       "    </tr>\n",
       "  </thead>\n",
       "  <tbody>\n",
       "    <tr>\n",
       "      <th>0</th>\n",
       "      <td>-73.964111</td>\n",
       "      <td>40.761398</td>\n",
       "      <td>-73.977989</td>\n",
       "      <td>40.783093</td>\n",
       "      <td>2.40</td>\n",
       "    </tr>\n",
       "    <tr>\n",
       "      <th>1</th>\n",
       "      <td>-73.961479</td>\n",
       "      <td>40.760410</td>\n",
       "      <td>-73.943573</td>\n",
       "      <td>40.709702</td>\n",
       "      <td>5.00</td>\n",
       "    </tr>\n",
       "    <tr>\n",
       "      <th>2</th>\n",
       "      <td>-73.986893</td>\n",
       "      <td>40.761726</td>\n",
       "      <td>-73.873169</td>\n",
       "      <td>40.774326</td>\n",
       "      <td>10.25</td>\n",
       "    </tr>\n",
       "    <tr>\n",
       "      <th>3</th>\n",
       "      <td>-73.965759</td>\n",
       "      <td>40.758114</td>\n",
       "      <td>-74.010399</td>\n",
       "      <td>40.701965</td>\n",
       "      <td>5.46</td>\n",
       "    </tr>\n",
       "    <tr>\n",
       "      <th>4</th>\n",
       "      <td>-73.955032</td>\n",
       "      <td>40.821857</td>\n",
       "      <td>-73.950897</td>\n",
       "      <td>40.808399</td>\n",
       "      <td>1.50</td>\n",
       "    </tr>\n",
       "  </tbody>\n",
       "</table>\n",
       "</div>"
      ],
      "text/plain": [
       "   pickup_longitude  pickup_latitude  dropoff_longitude  dropoff_latitude  \\\n",
       "0        -73.964111        40.761398         -73.977989         40.783093   \n",
       "1        -73.961479        40.760410         -73.943573         40.709702   \n",
       "2        -73.986893        40.761726         -73.873169         40.774326   \n",
       "3        -73.965759        40.758114         -74.010399         40.701965   \n",
       "4        -73.955032        40.821857         -73.950897         40.808399   \n",
       "\n",
       "   trip_distance  \n",
       "0           2.40  \n",
       "1           5.00  \n",
       "2          10.25  \n",
       "3           5.46  \n",
       "4           1.50  "
      ]
     },
     "execution_count": 3,
     "metadata": {},
     "output_type": "execute_result"
    }
   ],
   "source": [
    "df = df_all[['pickup_longitude','pickup_latitude','dropoff_longitude','dropoff_latitude','trip_distance']]\n",
    "df.head()"
   ]
  },
  {
   "cell_type": "code",
   "execution_count": 4,
   "id": "41822b4c-ccba-469c-91a8-cdf208cdd610",
   "metadata": {},
   "outputs": [],
   "source": [
    "# lat_long = df_all.iloc[:,3:8]\n",
    "lat_long = ['pickup_longitude','pickup_latitude','dropoff_longitude','dropoff_latitude'] \n",
    "for column in lat_long:\n",
    "    df[column] = df[column].apply(lambda x : round(x,4)) "
   ]
  },
  {
   "cell_type": "code",
   "execution_count": 5,
   "id": "421cee41-dd0a-43e7-9752-fc23fb69c011",
   "metadata": {},
   "outputs": [],
   "source": [
    "# graphs list\n",
    "subset_from_pickup = df[['pickup_longitude','pickup_latitude']].to_numpy()\n",
    "subset_from_dropoff = df[['dropoff_longitude','dropoff_latitude']].to_numpy()\n",
    "\n",
    "location_set = set()\n",
    "graph_nodes = dict()\n",
    "\n",
    "for location in subset_from_pickup:\n",
    "    location_set.add(tuple(location))\n",
    "    \n",
    "for loc in subset_from_dropoff:\n",
    "    location_set.add(tuple(loc))\n",
    "    \n",
    "for index, node in enumerate(location_set):\n",
    "    graph_nodes[node] = index\n",
    "    \n",
    "nodes_df = pd.DataFrame([(v, k[0], k[1]) for k, v in graph_nodes.items()], columns=['nodeid', 'lat', 'long'])\n",
    "nodes_df.to_csv(\"nyc_taxi_trips/nodes.csv\")\n"
   ]
  },
  {
   "cell_type": "markdown",
   "id": "dedd9520-d884-4105-92be-c8d89f08757b",
   "metadata": {},
   "source": [
    "### Question 1 : Part 2"
   ]
  },
  {
   "cell_type": "code",
   "execution_count": 6,
   "id": "6eb05130-09ae-46e9-b5b8-0dcc402fee29",
   "metadata": {},
   "outputs": [],
   "source": [
    "tuples_list1 = [tuple(x) for x in subset_from_pickup]\n",
    "tuples_list2 = [tuple(x) for x in subset_from_dropoff]\n",
    "cost = df[[\"trip_distance\"]]\n",
    "\n",
    "edges = []\n",
    "for i in range(len(tuples_list1)):\n",
    "    edges.append([graph_nodes[tuples_list1[i]], graph_nodes[tuples_list2[i]]]) \n"
   ]
  },
  {
   "cell_type": "code",
   "execution_count": 7,
   "id": "37114820-867c-4766-95c3-aa5c1796bc76",
   "metadata": {},
   "outputs": [],
   "source": [
    "edges_df = pd.DataFrame(edges, columns = ['nodeid1', 'nodeid2']) \n",
    "edges_df.to_csv(\"nyc_taxi_trips/edges.csv\")"
   ]
  },
  {
   "cell_type": "code",
   "execution_count": 8,
   "id": "2dc93cb1-f349-444b-be88-f842c4b61e20",
   "metadata": {},
   "outputs": [
    {
     "data": {
      "text/plain": [
       "array([[4.8293e+04, 2.8440e+04, 2.4000e+00],\n",
       "       [4.5189e+04, 6.6770e+03, 5.0000e+00],\n",
       "       [6.1317e+04, 6.0751e+04, 1.0250e+01],\n",
       "       ...,\n",
       "       [6.4343e+04, 8.8601e+04, 1.0000e+00],\n",
       "       [5.1248e+04, 1.0473e+04, 2.5800e+00],\n",
       "       [5.0716e+04, 2.4589e+04, 3.0700e+01]])"
      ]
     },
     "execution_count": 8,
     "metadata": {},
     "output_type": "execute_result"
    }
   ],
   "source": [
    "weighted_list = pd.concat([edges_df, cost], axis=1).to_numpy()\n",
    "weighted_list"
   ]
  },
  {
   "cell_type": "code",
   "execution_count": 9,
   "id": "d2598c2d-73f7-4aea-883d-ff493f454269",
   "metadata": {},
   "outputs": [],
   "source": [
    "def create_graph(weighted_list):\n",
    "    graph = defaultdict(dict)\n",
    "    for src,dest,cost in weighted_list:\n",
    "        graph[int(src)][int(dest)]=cost\n",
    "    return graph\n",
    "\n",
    "graph = create_graph(weighted_list)"
   ]
  },
  {
   "cell_type": "code",
   "execution_count": 10,
   "id": "dde46a11-7b19-45d4-bc2a-10ace2092025",
   "metadata": {},
   "outputs": [],
   "source": [
    "def helper(graph, src):\n",
    "    queue = [src]\n",
    "    min_cost = {k : float('inf') for k in graph}\n",
    "    min_cost[src] = 0\n",
    "    previous_nodes = {}\n",
    "    \n",
    "    while queue:\n",
    "        current_node = queue.pop(0)\n",
    "        for node in graph[current_node]:\n",
    "            if node in min_cost:\n",
    "                new_cost = min_cost[current_node] + graph[current_node][node]\n",
    "                if new_cost < min_cost[node]:\n",
    "                    min_cost[node] = min(new_cost, min_cost[node])\n",
    "                    queue.append(node)\n",
    "                    previous_nodes[node] = current_node\n",
    "    return min_cost, previous_nodes\n"
   ]
  },
  {
   "cell_type": "code",
   "execution_count": 11,
   "id": "1bd99b66-25fa-4fb6-bf67-6c2a730ef254",
   "metadata": {},
   "outputs": [],
   "source": [
    "def UCS(graph, src, dest):\n",
    "    time1 = time.time()\n",
    "    minDistances, predecessor = helper(graph, src)\n",
    "    \n",
    "    path = []\n",
    "    currentNode = dest\n",
    "    while currentNode != src:\n",
    "        if currentNode not in predecessor:\n",
    "            print(\"Path does not exist\")\n",
    "            break\n",
    "        else:\n",
    "            path.insert(0, currentNode)\n",
    "            currentNode = predecessor[currentNode]\n",
    "    path.insert(0, src)\n",
    "    \n",
    "    if dest in minDistances and minDistances[dest] != float(\"inf\"):\n",
    "        print('Cost ' + str(minDistances[dest]))\n",
    "        print('Path ' + str(path))\n",
    "    time2 = time.time()\n",
    "    print(\"Time taken by Uniform Cost Search is \" +str(round(time2-time1, 4)) +\" sec\")\n"
   ]
  },
  {
   "cell_type": "code",
   "execution_count": 12,
   "id": "a58d9129-b8b7-4f91-97e1-10a0bc6c07fb",
   "metadata": {},
   "outputs": [
    {
     "name": "stdout",
     "output_type": "stream",
     "text": [
      "Cost 0.82\n",
      "Path [48293, 38931]\n",
      "Time taken by Uniform Cost Search is 0.0108 sec\n"
     ]
    }
   ],
   "source": [
    "src = 48293\n",
    "dest = 38931\n",
    "min_cost, previous_nodes = helper(graph, src)\n",
    "UCS(graph, src, dest)"
   ]
  },
  {
   "cell_type": "markdown",
   "id": "218852c4-bd2c-44db-8b19-c61ff069063c",
   "metadata": {},
   "source": [
    "### Question 1 : Part 3"
   ]
  },
  {
   "cell_type": "code",
   "execution_count": 13,
   "id": "0f081329-8a88-450e-bc52-7bc85855ea57",
   "metadata": {},
   "outputs": [],
   "source": [
    "def get_heuristics(pickup_locations, dropoff_locations):\n",
    "    heuristics= []\n",
    "    for i in range(len(pickup_locations)):\n",
    "        distance =  GD(pickup_locations[i], dropoff_locations[i]).km \n",
    "        heuristics.append(distance)\n",
    "    return heuristics\n",
    "\n",
    "heuristics = get_heuristics(tuples_list1, tuples_list2)"
   ]
  },
  {
   "cell_type": "code",
   "execution_count": 14,
   "id": "7d794aac-28da-4ee3-9cc7-1d4556d20a48",
   "metadata": {},
   "outputs": [],
   "source": [
    "def a_star_graph(weighted_list, heuristics):\n",
    "    graph = defaultdict(dict)\n",
    "    for i in range(len(weighted_list)):\n",
    "        src = weighted_list[i][0]\n",
    "        dest = weighted_list[i][1]\n",
    "        cost = weighted_list[i][2]\n",
    "        graph[int(src)][int(dest)] = [cost, heuristics[i]] \n",
    "    return graph \n",
    "\n",
    "graph_a_star = a_star_graph(weighted_list, heuristics)"
   ]
  },
  {
   "cell_type": "code",
   "execution_count": 15,
   "id": "1c2793d7-90bb-4a0e-85d1-ecc1f5e19a90",
   "metadata": {},
   "outputs": [],
   "source": [
    "def astar(graph,start_node,end_node):\n",
    "    \n",
    "    time1 = time.time()\n",
    "    f_distance = {node:float('inf') for node in graph}\n",
    "    f_distance[start_node] = 0\n",
    "    \n",
    "    g_distance = {node:float('inf') for node in graph}\n",
    "    g_distance[start_node] = 0\n",
    "    \n",
    "    came_from = {node:None for node in graph}\n",
    "    came_from[start_node] = start_node\n",
    "    \n",
    "    queue = [(0,start_node)]\n",
    "    path = []\n",
    "    \n",
    "    while queue:\n",
    "        current_f_distance, current_node = heapq.heappop(queue)\n",
    "\n",
    "        if current_node == end_node:\n",
    "            time2 = time.time()\n",
    "            time_taken = time2-time1\n",
    "            return current_f_distance, path, time_taken\n",
    "        \n",
    "        for next_node,weights in graph[current_node].items():\n",
    "            temp_g_distance = g_distance[current_node] + weights[0]\n",
    "            if next_node in g_distance:\n",
    "                if temp_g_distance < g_distance[next_node]:\n",
    "                    g_distance[next_node] = temp_g_distance\n",
    "                    heuristic = weights[1]\n",
    "                    f_distance[next_node] = temp_g_distance + heuristic\n",
    "                    came_from[next_node] = current_node\n",
    "                    path.append(next_node)\n",
    "\n",
    "                    heapq.heappush(queue,(f_distance[next_node],next_node))\n",
    "    time2 = time.time()\n",
    "    time_taken = time2-time1\n",
    "    return current_f_distance, path, time_taken"
   ]
  },
  {
   "cell_type": "code",
   "execution_count": 16,
   "id": "ad3c490d-740c-4519-b347-5cbb97b0312e",
   "metadata": {},
   "outputs": [
    {
     "name": "stdout",
     "output_type": "stream",
     "text": [
      "Path [28440, 38931, 57087]\n",
      "Cost 1.8437\n",
      "Time taken by A* search 0.0263 sec\n"
     ]
    }
   ],
   "source": [
    "src = 48293\n",
    "dest = 38931\n",
    "cost, path, time_taken = astar(graph_a_star, src, dest)\n",
    "print(\"Path \"+str(path)) \n",
    "print(\"Cost \"+str(round(cost,4)))\n",
    "print(\"Time taken by A* search \" +str(round(time_taken,4)) +\" sec\")"
   ]
  },
  {
   "cell_type": "code",
   "execution_count": null,
   "id": "f727aaa8-3a73-43d4-83f5-242f80cf1be8",
   "metadata": {},
   "outputs": [],
   "source": []
  }
 ],
 "metadata": {
  "kernelspec": {
   "display_name": "Python 3 (ipykernel)",
   "language": "python",
   "name": "python3"
  },
  "language_info": {
   "codemirror_mode": {
    "name": "ipython",
    "version": 3
   },
   "file_extension": ".py",
   "mimetype": "text/x-python",
   "name": "python",
   "nbconvert_exporter": "python",
   "pygments_lexer": "ipython3",
   "version": "3.9.10"
  }
 },
 "nbformat": 4,
 "nbformat_minor": 5
}

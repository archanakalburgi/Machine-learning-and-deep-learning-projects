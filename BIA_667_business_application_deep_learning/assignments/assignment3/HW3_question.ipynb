{
 "cells": [
  {
   "cell_type": "markdown",
   "metadata": {
    "id": "GV42Dnaqs1l3"
   },
   "source": [
    "# HW 3: CNN for Image and Text Classification\n",
    "\n",
    "In this assignment, we'll have two experiments:\n",
    "- Image classification: Diagnose COVID-19 by CT images\n",
    "- Text classification: Let's redo the news classification task of HW #2 using CNN"
   ]
  },
  {
   "cell_type": "markdown",
   "metadata": {
    "id": "SG6wegcfs1l6"
   },
   "source": [
    "## Q1: Diagnose COVID-19 by CT images (7 points)\n",
    "\n",
    "Please first download the CT images\n",
    "- `COVID-19 CT scans`: https://github.com/UCSD-AI4H/COVID-CT/blob/master/Images-processed/CT_COVID.zip. In total, there are 349 images.\n",
    "- `Non-COVID-19 Scans`: https://github.com/UCSD-AI4H/COVID-CT/blob/master/Images-processed/CT_NonCOVID.zip. There are 397 images in total.\n",
    "\n",
    "This dataset may be a little small for CNN models. Let's just use this dataset to practice CNN models."
   ]
  },
  {
   "cell_type": "markdown",
   "metadata": {
    "id": "REjuP9BJs1l7"
   },
   "source": [
    "### Q1.1. Data Preprocessing (1 point)\n",
    "\n",
    "- Refer to CNN labs to read the image files and create datasets.\n",
    "- For each class, use 60% images for training, 20% for validation, and 20% for testing. The split has been created for you.\n",
    "- Create a Dataset class so that you can preprocess images and generate mini-batches for training. Since the CT scans are grayscale (only 1 channel), you can transform all images to grayscale. "
   ]
  },
  {
   "cell_type": "code",
   "execution_count": null,
   "metadata": {
    "ExecuteTime": {
     "end_time": "2020-11-12T08:59:53.163994Z",
     "start_time": "2020-11-12T08:59:50.479974Z"
    },
    "id": "VtyiMk6Ws1l7"
   },
   "outputs": [],
   "source": [
    "import os\n",
    "import glob\n",
    "import sklearn\n",
    "\n",
    "import numpy as np\n",
    "\n",
    "from PIL import Image\n",
    "\n",
    "# add your import here\n",
    "\n",
    "from IPython.core.interactiveshell import InteractiveShell\n",
    "InteractiveShell.ast_node_interactivity = \"all\"\n"
   ]
  },
  {
   "cell_type": "code",
   "execution_count": null,
   "metadata": {
    "id": "uxJYpmsjs1l8"
   },
   "outputs": [],
   "source": [
    "# set random seed to so that work can be replicated\n",
    "\n",
    "random_seed = 124\n",
    "np.random.seed(random_seed)\n",
    "\n",
    "torch.manual_seed(random_seed)\n",
    "torch.backends.cudnn.deterministic = True"
   ]
  },
  {
   "cell_type": "code",
   "execution_count": null,
   "metadata": {
    "id": "4nsLOYvHs1l8"
   },
   "outputs": [],
   "source": [
    "# load data and split data to train, evaluation and test\n",
    "\n",
    "pos_files = [Image.open(f) for f in glob.glob(os.path.join(cur_path, 'COVID/CT_COVID','*.*'))]\n",
    "neg_files = [Image.open(f) for f in  glob.glob(os.path.join(cur_path, 'COVID/CT_NonCOVID','*.*'))]\n",
    "\n",
    "images = pos_files + neg_files\n",
    "labels = np.array([1]*len(pos_files)+[0]*len(neg_files))\n",
    "\n",
    "images_tv, images_test, y_tv, y_test  = train_test_split(images, labels, shuffle=True, test_size=0.2, random_state=123)\n",
    "images_train, images_val, y_train, y_val  = train_test_split(images_tv, y_tv, shuffle=True, test_size=0.25, random_state=123)"
   ]
  },
  {
   "cell_type": "code",
   "execution_count": null,
   "metadata": {
    "colab": {
     "base_uri": "https://localhost:8080/"
    },
    "executionInfo": {
     "elapsed": 3,
     "status": "ok",
     "timestamp": 1634737200980,
     "user": {
      "displayName": "Rong Liu",
      "photoUrl": "https://lh3.googleusercontent.com/a/default-user=s64",
      "userId": "15250589813520096948"
     },
     "user_tz": 240
    },
    "id": "DeV04OaDs1l9",
    "outputId": "683a36f3-ab68-4af3-ca57-f4603a1594cb"
   },
   "outputs": [
    {
     "name": "stdout",
     "output_type": "stream",
     "text": [
      "447 149 150\n",
      "207 71 71\n"
     ]
    }
   ],
   "source": [
    "print(len(y_train), len(y_val), len(y_test))\n",
    "\n",
    "print(y_train.sum(), y_val.sum(), y_test.sum())"
   ]
  },
  {
   "cell_type": "code",
   "execution_count": null,
   "metadata": {
    "id": "gySW74Kys1l9"
   },
   "outputs": [],
   "source": [
    "# create Dataset class\n",
    "\n",
    "class CT_Dataset(Dataset):\n",
    "    \n",
    "    # add your code here\n",
    "    "
   ]
  },
  {
   "cell_type": "markdown",
   "metadata": {
    "id": "8-9dcNC0s1l9"
   },
   "source": [
    "### Q1.2. Build Model (2 points)\n",
    "\n",
    "- Create a CNN models with appropriate layers of `Convolution`, `MaxPooling2D`, and `Dense` layers. Use appropriate activation functions for these layers.\n",
    "- Since this dataset is small, it may be easily get overfitted. Leverage `Dropout` or other regularization techniques to fight overfitting\n",
    "- Configure your model with appropriate optimizer and loss function."
   ]
  },
  {
   "cell_type": "code",
   "execution_count": null,
   "metadata": {
    "id": "EuKB1BUqs1l-"
   },
   "outputs": [],
   "source": [
    "# define CNN mode\n",
    "\n",
    "class Convnet(nn.Module):\n",
    "    \n",
    "    # add your code here"
   ]
  },
  {
   "cell_type": "markdown",
   "metadata": {
    "id": "LKCZfOPPs1l-"
   },
   "source": [
    "### Q1.3. Fit your model (2 points)\n",
    "\n",
    "- Define a function to train the model until it converges. You should use the `evaluation dataset` to control the training process such that the model is not overfitted.\n",
    "- Plot the loss and accuracy of the model over the training and validation data\n",
    "- Test the model using `test dataset` and show the test accuracy. If everything goes well, the test accuracy should be 65% or higher"
   ]
  },
  {
   "cell_type": "code",
   "execution_count": null,
   "metadata": {
    "id": "2pLvlcL3s1l-"
   },
   "outputs": [],
   "source": [
    "# define training function\n",
    "\n",
    "def train_model(model, train_dataset, eval_dataset, test_dataset, device, \n",
    "                lr=0.0001, epochs=30, batch_size=32):\n",
    "    \n",
    "    \n",
    "    \n",
    "   # add your code here"
   ]
  },
  {
   "cell_type": "code",
   "execution_count": null,
   "metadata": {
    "colab": {
     "base_uri": "https://localhost:8080/"
    },
    "executionInfo": {
     "elapsed": 22052,
     "status": "ok",
     "timestamp": 1634737235927,
     "user": {
      "displayName": "Rong Liu",
      "photoUrl": "https://lh3.googleusercontent.com/a/default-user=s64",
      "userId": "15250589813520096948"
     },
     "user_tz": 240
    },
    "id": "3SPY8jGzs1l_",
    "outputId": "9b1030c6-34fe-4c23-852a-ecde18741001"
   },
   "outputs": [
    {
     "name": "stdout",
     "output_type": "stream",
     "text": [
      "Training Start\n",
      "Epoch:1 / 100, train loss:0.7500,        train_acc:0.5112, valid loss:0.6817 valid acc:0.4875\n",
      "model saved!\n",
      "Epoch:2 / 100, train loss:0.6715,        train_acc:0.5558, valid loss:0.6729 valid acc:0.5062\n",
      "model saved!\n",
      "Epoch:3 / 100, train loss:0.6540,        train_acc:0.6272, valid loss:0.6395 valid acc:0.5875\n",
      "model saved!\n",
      "Epoch:4 / 100, train loss:0.6264,        train_acc:0.6473, valid loss:0.6306 valid acc:0.5875\n",
      "Epoch:5 / 100, train loss:0.6156,        train_acc:0.6094, valid loss:0.6142 valid acc:0.6062\n",
      "model saved!\n",
      "Epoch:6 / 100, train loss:0.6005,        train_acc:0.6786, valid loss:0.6124 valid acc:0.6000\n",
      "Epoch:7 / 100, train loss:0.5706,        train_acc:0.6897, valid loss:0.5780 valid acc:0.6375\n",
      "model saved!\n",
      "Epoch:8 / 100, train loss:0.5539,        train_acc:0.6942, valid loss:0.5727 valid acc:0.6312\n",
      "Epoch:9 / 100, train loss:0.5308,        train_acc:0.7299, valid loss:0.5657 valid acc:0.6375\n",
      "Epoch:10 / 100, train loss:0.5298,        train_acc:0.7143, valid loss:0.5634 valid acc:0.6625\n",
      "model saved!\n",
      "Epoch:11 / 100, train loss:0.5051,        train_acc:0.7478, valid loss:0.5731 valid acc:0.6687\n",
      "model saved!\n",
      "Epoch:12 / 100, train loss:0.4792,        train_acc:0.7545, valid loss:0.5496 valid acc:0.6438\n",
      "Epoch:13 / 100, train loss:0.4779,        train_acc:0.7701, valid loss:0.5500 valid acc:0.6687\n",
      "Epoch:14 / 100, train loss:0.4659,        train_acc:0.7679, valid loss:0.5757 valid acc:0.6438\n",
      "Epoch:15 / 100, train loss:0.4572,        train_acc:0.7790, valid loss:0.5295 valid acc:0.6750\n",
      "model saved!\n",
      "Epoch:16 / 100, train loss:0.4694,        train_acc:0.7589, valid loss:0.5333 valid acc:0.6687\n",
      "Epoch:17 / 100, train loss:0.4237,        train_acc:0.7879, valid loss:0.5944 valid acc:0.6750\n",
      "Epoch:18 / 100, train loss:0.4333,        train_acc:0.7902, valid loss:0.5146 valid acc:0.6875\n",
      "model saved!\n",
      "Epoch:19 / 100, train loss:0.4127,        train_acc:0.7969, valid loss:0.5453 valid acc:0.6687\n",
      "Epoch:20 / 100, train loss:0.4197,        train_acc:0.7924, valid loss:0.5375 valid acc:0.7063\n",
      "model saved!\n",
      "Epoch:21 / 100, train loss:0.4200,        train_acc:0.8192, valid loss:0.5042 valid acc:0.7063\n",
      "Epoch:22 / 100, train loss:0.3889,        train_acc:0.8304, valid loss:0.5277 valid acc:0.6813\n",
      "Epoch:23 / 100, train loss:0.3740,        train_acc:0.8371, valid loss:0.5756 valid acc:0.6625\n",
      "Epoch:24 / 100, train loss:0.3890,        train_acc:0.8103, valid loss:0.5145 valid acc:0.6937\n",
      "Epoch:25 / 100, train loss:0.3671,        train_acc:0.8281, valid loss:0.5391 valid acc:0.6937\n",
      "Epoch:26 / 100, train loss:0.3541,        train_acc:0.8594, valid loss:0.5187 valid acc:0.6937\n",
      "Epoch:27 / 100, train loss:0.3319,        train_acc:0.8504, valid loss:0.5519 valid acc:0.6687\n",
      "Epoch:28 / 100, train loss:0.3462,        train_acc:0.8438, valid loss:0.5532 valid acc:0.6813\n",
      "Epoch:29 / 100, train loss:0.3281,        train_acc:0.8549, valid loss:0.5517 valid acc:0.6937\n",
      "Epoch:30 / 100, train loss:0.3591,        train_acc:0.8326, valid loss:0.5364 valid acc:0.6813\n",
      "early stopping!\n",
      "Test acc: 0.7188\n"
     ]
    }
   ],
   "source": [
    "# Train the CNN model\n",
    "\n",
    "\n",
    "# add your code here "
   ]
  },
  {
   "cell_type": "code",
   "execution_count": null,
   "metadata": {
    "colab": {
     "base_uri": "https://localhost:8080/",
     "height": 592
    },
    "executionInfo": {
     "elapsed": 972,
     "status": "ok",
     "timestamp": 1634737241872,
     "user": {
      "displayName": "Rong Liu",
      "photoUrl": "https://lh3.googleusercontent.com/a/default-user=s64",
      "userId": "15250589813520096948"
     },
     "user_tz": 240
    },
    "id": "9UM69BMws1mA",
    "outputId": "3ff8b60b-67b8-478a-f3e2-880834a521dc"
   },
   "outputs": [
    {
     "data": {
      "image/png": "[encoded data removed]",
      "text/plain": [
       "<Figure size 432x288 with 1 Axes>"
      ]
     },
     "metadata": {
      "needs_background": "light"
     },
     "output_type": "display_data"
    },
    {
     "data": {
      "image/png": "[encoded data removed]",
      "text/plain": [
       "<Figure size 432x288 with 1 Axes>"
      ]
     },
     "metadata": {
      "needs_background": "light"
     },
     "output_type": "display_data"
    }
   ],
   "source": [
    "# plot training curves\n",
    "\n",
    "epochs = range(1, len(hista['train_loss']) + 1)\n",
    "\n",
    "plt.plot(epochs, hista['train_loss'], 'r-', label='Train')\n",
    "plt.plot(epochs, hista['eval_loss'], 'b-', label='Evaluation')\n",
    "\n",
    "plt.title('Loss')\n",
    "plt.xlabel('Epochs')\n",
    "plt.ylabel('Loss')\n",
    "plt.legend()\n",
    "\n",
    "plt.show()\n",
    "\n",
    "plt.plot(epochs, hista['train_acc'], 'r-', label='Train')\n",
    "plt.plot(epochs, hista['eval_acc'], 'b-', label='Evaluation')\n",
    "\n",
    "plt.title('Accuracy')\n",
    "plt.xlabel('Epochs')\n",
    "plt.ylabel('Acc')\n",
    "plt.legend()\n",
    "\n",
    "plt.show()"
   ]
  },
  {
   "cell_type": "markdown",
   "metadata": {
    "id": "8bHxP9ijs1mB"
   },
   "source": [
    "### Q1.4. Using data augmentation (2 points)\n",
    "\n",
    "Since we have a small dataset, a thought is that perhaps we can improve the performance by data augmentation\n",
    "\n",
    "\n",
    "- Modify your Dataset class to add appropriate data augumentation. Check the augmentation techniques here: https://pytorch.org/vision/stable/transforms.html\n",
    "- Try 2 augmentation techniques to see if this can improve model performance on testing\n",
    "- Note that CT scans usually are well positioned. Just try minor adjustment without unrealistic changes to images. \n",
    "\n",
    "- Repeat Task 1.3 with the augmented data \n",
    "\n",
    "- For this CT image dataset, it is not guranteed that augmentation may help. Just give a try and anazye why your augmentation techniques may (or may not) help."
   ]
  },
  {
   "cell_type": "code",
   "execution_count": null,
   "metadata": {},
   "outputs": [],
   "source": [
    "# add augmentation\n",
    "\n",
    "# train the model with augmented data\n"
   ]
  },
  {
   "cell_type": "markdown",
   "metadata": {
    "id": "caXcDR-Os1mB"
   },
   "source": [
    "## Q2: News Classification by CNN (3 points)\n",
    "\n",
    "In HW #2, You have used linear layers to classify text. This time, let's use CNN model to see if the performance can be improved.\n",
    "\n"
   ]
  },
  {
   "cell_type": "markdown",
   "metadata": {
    "id": "10r56UOqs1mC"
   },
   "source": [
    "### Q2.1 Data Processing (1 point)\n",
    "\n",
    "Since the embedding layer expects a sentences with uniform length, you need to pad or truncate the sentences to the same length. Properly decide the maximum length of the sentence so that most of sentences are kept intact after processing. However, do not set the maximum length too big, which reduces the computational efficiency."
   ]
  },
  {
   "cell_type": "code",
   "execution_count": null,
   "metadata": {
    "id": "OcMC5Z3Ls1mC"
   },
   "outputs": [],
   "source": [
    "import keras\n",
    "from keras.datasets import reuters\n",
    "import pandas as pd"
   ]
  },
  {
   "cell_type": "code",
   "execution_count": null,
   "metadata": {
    "colab": {
     "base_uri": "https://localhost:8080/",
     "height": 216
    },
    "executionInfo": {
     "elapsed": 1374,
     "status": "ok",
     "timestamp": 1634737379773,
     "user": {
      "displayName": "Rong Liu",
      "photoUrl": "https://lh3.googleusercontent.com/a/default-user=s64",
      "userId": "15250589813520096948"
     },
     "user_tz": 240
    },
    "id": "UDZ6uQdks1mC",
    "outputId": "1a9691df-ff17-4a74-a3a2-cd5a818bff2a"
   },
   "outputs": [
    {
     "name": "stdout",
     "output_type": "stream",
     "text": [
      "Downloading data from https://storage.googleapis.com/tensorflow/tf-keras-datasets/reuters.npz\n",
      "2113536/2110848 [==============================] - 0s 0us/step\n",
      "2121728/2110848 [==============================] - 0s 0us/step\n",
      "[1, 245, 273, 207, 156, 53, 74, 160, 26, 14, 46, 296, 26, 39, 74, 2979, 3554, 14, 46, 4689, 4329, 86, 61, 3499, 4795, 14, 61, 451, 4329, 17, 12]\n",
      "Downloading data from https://storage.googleapis.com/tensorflow/tf-keras-datasets/reuters_word_index.json\n",
      "557056/550378 [==============================] - 0s 0us/step\n",
      "565248/550378 [==============================] - 0s 0us/step\n"
     ]
    },
    {
     "data": {
      "application/vnd.google.colaboratory.intrinsic+json": {
       "type": "string"
      },
      "text/plain": [
       "'said as a result of its december acquisition of space co it expects earnings per share in 1987 of 1 15 to 1 30 dlrs per share up from 70 cts in 1986 the company said pretax net should rise to nine to 10 mln dlrs from six mln dlrs in 1986 and rental operation revenues to 19 to 22 mln dlrs from 12 5 mln dlrs it said cash flow per share this year should be 2 50 to three dlrs reuter 3'"
      ]
     },
     "execution_count": 34,
     "metadata": {},
     "output_type": "execute_result"
    }
   ],
   "source": [
    "(train_data, train_labels), (test_data, test_labels) = reuters.load_data(num_words=10000)\n",
    "\n",
    "# show the sizes training/testing samples \n",
    "len(train_data)\n",
    "len(test_data)\n",
    "\n",
    "# show an example from the training dataset\n",
    "print(train_data[10])\n",
    "\n",
    "# retrieve the mapping from words to indices\n",
    "word_index = reuters.get_word_index()\n",
    "\n",
    "# reverse mapping\n",
    "reverse_word_index = dict([(value, key) for (key, value) in word_index.items()])\n",
    "\n",
    "# Note that our indices were offset by 3\n",
    "# because 0, 1 and 2 are reserved indices for \"padding\", \"start of sequence\", and \"unknown\".\n",
    "decoded_newswire = ' '.join([reverse_word_index[i - 3] for i in train_data[0] if (i-3) in reverse_word_index])\n",
    "\n",
    "decoded_newswire"
   ]
  },
  {
   "cell_type": "code",
   "execution_count": null,
   "metadata": {
    "colab": {
     "base_uri": "https://localhost:8080/"
    },
    "executionInfo": {
     "elapsed": 6,
     "status": "ok",
     "timestamp": 1634737381699,
     "user": {
      "displayName": "Rong Liu",
      "photoUrl": "https://lh3.googleusercontent.com/a/default-user=s64",
      "userId": "15250589813520096948"
     },
     "user_tz": 240
    },
    "id": "SIDm-Sass1mC",
    "outputId": "49a45c82-d182-423d-c2f6-931876cb2e5d"
   },
   "outputs": [
    {
     "data": {
      "text/plain": [
       "3     3159\n",
       "4     1949\n",
       "19     549\n",
       "16     444\n",
       "1      432\n",
       "11     390\n",
       "20     269\n",
       "13     172\n",
       "8      139\n",
       "10     124\n",
       "9      101\n",
       "21     100\n",
       "25      92\n",
       "2       74\n",
       "18      66\n",
       "24      62\n",
       "0       55\n",
       "34      50\n",
       "36      49\n",
       "12      49\n",
       "28      48\n",
       "6       48\n",
       "30      45\n",
       "23      41\n",
       "31      39\n",
       "17      39\n",
       "40      36\n",
       "32      32\n",
       "41      30\n",
       "14      26\n",
       "39      24\n",
       "26      24\n",
       "43      21\n",
       "15      20\n",
       "29      19\n",
       "37      19\n",
       "38      19\n",
       "45      18\n",
       "5       17\n",
       "7       16\n",
       "27      15\n",
       "22      15\n",
       "42      13\n",
       "44      12\n",
       "33      11\n",
       "35      10\n",
       "dtype: int64"
      ]
     },
     "execution_count": 35,
     "metadata": {},
     "output_type": "execute_result"
    }
   ],
   "source": [
    "# distribution of labels\n",
    "\n",
    "pd.Series(train_labels).value_counts()"
   ]
  },
  {
   "cell_type": "code",
   "execution_count": 1,
   "metadata": {},
   "outputs": [],
   "source": [
    "# Pad or truncate sentences so that they have uniform length\n",
    "\n",
    "# add your code here"
   ]
  },
  {
   "cell_type": "code",
   "execution_count": null,
   "metadata": {
    "id": "QLh63Azis1mE"
   },
   "outputs": [],
   "source": [
    "# add your code to create Dataset class\n",
    "\n",
    "class news_dataset(Dataset):\n",
    "   \n",
    "    # add your code here"
   ]
  },
  {
   "cell_type": "markdown",
   "metadata": {
    "id": "ivk7wI2E6KyZ"
   },
   "source": [
    "### Q2.2 Define the model (2 points)\n",
    "\n",
    "- Your model should contain the follow layers:\n",
    "    - Embedding (Note, you are not required to use pretrained word vector in the embedding layer in this task)\n",
    "    - Convolution\n",
    "    - MaxPool\n",
    "    - Flatten, Concatenate, Dropout if needed\n",
    "    - Dense\n",
    "\n",
    "\n",
    "- Carefully choose the following hyperparameters:\n",
    "  - Max. sentence length\n",
    "  - Embedding dimension\n",
    "  - Filter sizes and number of filters \n",
    "- Use appropriate activate functions for all layers"
   ]
  },
  {
   "cell_type": "code",
   "execution_count": null,
   "metadata": {
    "id": "J9SelncTs1mE"
   },
   "outputs": [],
   "source": [
    "class cnn_text(nn.Module):\n",
    "\n",
    "   # add your code here"
   ]
  },
  {
   "cell_type": "markdown",
   "metadata": {
    "id": "tHr6gMGu6dFO"
   },
   "source": [
    "### Q2.3. Train the model\n",
    "\n",
    "- Fit the model, plot the training curve on training and testing datasets\n",
    "\n",
    "- You can certainly reuse your training function from HW #2."
   ]
  },
  {
   "cell_type": "code",
   "execution_count": null,
   "metadata": {
    "id": "O5S8v3JNs1mE"
   },
   "outputs": [],
   "source": [
    "def train_model(model, train_dataset, test_dataset, device, \n",
    "                lr=0.0002, epochs=30, batch_size=64):\n",
    "    \n",
    "    # add your code here"
   ]
  },
  {
   "cell_type": "code",
   "execution_count": null,
   "metadata": {},
   "outputs": [],
   "source": [
    "# add code to train the model"
   ]
  },
  {
   "cell_type": "code",
   "execution_count": null,
   "metadata": {
    "ExecuteTime": {
     "end_time": "2020-11-12T09:13:30.947989Z",
     "start_time": "2020-11-12T09:13:30.680929Z"
    },
    "colab": {
     "base_uri": "https://localhost:8080/",
     "height": 592
    },
    "executionInfo": {
     "elapsed": 463,
     "status": "ok",
     "timestamp": 1634737825189,
     "user": {
      "displayName": "Rong Liu",
      "photoUrl": "https://lh3.googleusercontent.com/a/default-user=s64",
      "userId": "15250589813520096948"
     },
     "user_tz": 240
    },
    "id": "qd3B9ynYs1mG",
    "outputId": "43c63191-704f-4ff1-caea-1dcc51f3b918"
   },
   "outputs": [
    {
     "data": {
      "image/png": "[encoded data removed]",
      "text/plain": [
       "<Figure size 432x288 with 1 Axes>"
      ]
     },
     "metadata": {
      "needs_background": "light"
     },
     "output_type": "display_data"
    },
    {
     "data": {
      "image/png": "[encoded data removed]",
      "text/plain": [
       "<Figure size 432x288 with 1 Axes>"
      ]
     },
     "metadata": {
      "needs_background": "light"
     },
     "output_type": "display_data"
    }
   ],
   "source": [
    "# show training curve\n",
    "\n",
    "epochs = range(1, len(hist['train_loss']) + 1)\n",
    "\n",
    "plt.plot(epochs, hist['train_loss'], 'r-', label='Train')\n",
    "plt.plot(epochs, hist['test_loss'], 'b-', label='Evaluation')\n",
    "\n",
    "plt.title('Loss')\n",
    "plt.xlabel('Epochs')\n",
    "plt.ylabel('Loss')\n",
    "plt.legend()\n",
    "\n",
    "plt.show()\n",
    "\n",
    "plt.plot(epochs, hist['train_acc'], 'r-', label='Train')\n",
    "plt.plot(epochs, hist['test_acc'], 'b-', label='Evaluation')\n",
    "\n",
    "plt.title('Accuracy')\n",
    "plt.xlabel('Epochs')\n",
    "plt.ylabel('Acc')\n",
    "plt.legend()\n",
    "\n",
    "plt.show()"
   ]
  },
  {
   "cell_type": "markdown",
   "metadata": {
    "id": "-ZhJvT_g9b5w"
   },
   "source": [
    "### Q2.4 (Bonus) Pretrained Wore Vectors (2 points)\n",
    "\n",
    "It's a common practice to use pretrained word vectors to initialize the embedding layer paramters and then fine tune (or freeze) the embedding layer during model training.\n",
    "\n",
    "- Train word vector by yourself or find pretrained word vectors\n",
    "- Initialize the embedding layer with the word vectors\n",
    "- You can freeze the embedding layer or fine tune the layer\n",
    "- Fit the model to see what strategy can further improve the training performance\n",
    "- You're expected to show at least 1% improvement from Q2.3. in terms of test accuracy."
   ]
  },
  {
   "cell_type": "code",
   "execution_count": null,
   "metadata": {},
   "outputs": [],
   "source": []
  }
 ],
 "metadata": {
  "accelerator": "GPU",
  "colab": {
   "machine_shape": "hm",
   "name": "HW3_Solution.ipynb",
   "provenance": [],
   "toc_visible": true
  },
  "kernelspec": {
   "display_name": "Python 3",
   "language": "python",
   "name": "python3"
  },
  "language_info": {
   "codemirror_mode": {
    "name": "ipython",
    "version": 3
   },
   "file_extension": ".py",
   "mimetype": "text/x-python",
   "name": "python",
   "nbconvert_exporter": "python",
   "pygments_lexer": "ipython3",
   "version": "3.9.0"
  },
  "latex_envs": {
   "LaTeX_envs_menu_present": true,
   "autoclose": false,
   "autocomplete": true,
   "bibliofile": "biblio.bib",
   "cite_by": "apalike",
   "current_citInitial": 1,
   "eqLabelWithNumbers": true,
   "eqNumInitial": 1,
   "hotkeys": {
    "equation": "Ctrl-E",
    "itemize": "Ctrl-I"
   },
   "labels_anchors": false,
   "latex_user_defs": false,
   "report_style_numbering": false,
   "user_envs_cfg": false
  },
  "toc": {
   "base_numbering": 1,
   "nav_menu": {},
   "number_sections": true,
   "sideBar": true,
   "skip_h1_title": false,
   "title_cell": "Table of Contents",
   "title_sidebar": "Contents",
   "toc_cell": true,
   "toc_position": {},
   "toc_section_display": true,
   "toc_window_display": false
  }
 },
 "nbformat": 4,
 "nbformat_minor": 1
}

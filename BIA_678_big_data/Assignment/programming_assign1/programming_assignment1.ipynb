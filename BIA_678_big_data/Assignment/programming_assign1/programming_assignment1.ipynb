{
  "nbformat": 4,
  "nbformat_minor": 0,
  "metadata": {
    "colab": {
      "name": "programming_assignment1.ipynb",
      "provenance": [],
      "collapsed_sections": []
    },
    "kernelspec": {
      "name": "python3",
      "display_name": "Python 3"
    },
    "language_info": {
      "name": "python"
    }
  },
  "cells": [
    {
      "cell_type": "code",
      "source": [
        "!pip install pyspark"
      ],
      "metadata": {
        "id": "UgsKOtKlh8Hu"
      },
      "execution_count": null,
      "outputs": []
    },
    {
      "cell_type": "code",
      "source": [
        "import pyspark\n",
        "pyspark\n",
        "from pyspark.context import SparkContext, SparkConf"
      ],
      "metadata": {
        "id": "r0bOFg_Hh-hF"
      },
      "execution_count": null,
      "outputs": []
    },
    {
      "cell_type": "code",
      "source": [
        "conf = SparkConf().setAppName(\"assignment1\").setMaster(\"local\")\n",
        "sc = SparkContext(conf=conf)"
      ],
      "metadata": {
        "id": "KrqeaDr-oHcD"
      },
      "execution_count": null,
      "outputs": []
    },
    {
      "cell_type": "code",
      "source": [
        "data = sc.textFile(\"/content/drive/MyDrive/Spring_2022/BIA_678_big_data_tech/programming_assignment/dataset.txt\")\n",
        "data_1 = data.map(lambda z: \"\".join(z))\n",
        "data_2 = data_1.map(lambda z: z.replace(\" \" , \"\")) \n",
        "data_3 = data_2.map(lambda z: z.replace(\".\" , \"\")) \n",
        "data_final = data_3.map(lambda z: z.lower())"
      ],
      "metadata": {
        "id": "1apjJeEsoMoW"
      },
      "execution_count": null,
      "outputs": []
    },
    {
      "cell_type": "code",
      "source": [
        "bigrams = data_final.flatMap(lambda s: [((s[i],s[i+1]),1) for i in range (0, len(s)-1)])\n",
        "frequency = bigrams.reduceByKey(lambda x,y: x+y)\n",
        "reversed_frequency = frequency.map(lambda reverse:(reverse[1],reverse[0]))"
      ],
      "metadata": {
        "id": "7oigG0Cvotzv"
      },
      "execution_count": null,
      "outputs": []
    },
    {
      "cell_type": "code",
      "source": [
        "print('Five most frequent Bigrams: \\n')\n",
        "reversed_frequency.sortByKey(True).take(5)"
      ],
      "metadata": {
        "colab": {
          "base_uri": "https://localhost:8080/"
        },
        "id": "dBdGKYGrsZB2",
        "outputId": "6db8ee14-2f62-4a47-b2c5-945cc636d72d"
      },
      "execution_count": null,
      "outputs": [
        {
          "output_type": "stream",
          "name": "stdout",
          "text": [
            "Five most frequent Bigrams: \n",
            "\n"
          ]
        },
        {
          "output_type": "execute_result",
          "data": {
            "text/plain": [
              "[(1, ('a', 'o')),\n",
              " (1, ('y', '1')),\n",
              " (1, ('1', 'c')),\n",
              " (1, ('h', 'u')),\n",
              " (1, ('s', '2'))]"
            ]
          },
          "metadata": {},
          "execution_count": 9
        }
      ]
    },
    {
      "cell_type": "code",
      "source": [
        "print('\\nFive Least frequent Bigrams: \\n')\n",
        "reversed_frequency.sortByKey(False).take(5)"
      ],
      "metadata": {
        "colab": {
          "base_uri": "https://localhost:8080/"
        },
        "id": "TCe7TnPssjk2",
        "outputId": "89f2db27-183e-4177-e4e4-298fcff937c4"
      },
      "execution_count": null,
      "outputs": [
        {
          "output_type": "stream",
          "name": "stdout",
          "text": [
            "\n",
            "Five Least frequent Bigrams: \n",
            "\n"
          ]
        },
        {
          "output_type": "execute_result",
          "data": {
            "text/plain": [
              "[(147, ('t', 'h')),\n",
              " (134, ('a', 't')),\n",
              " (128, ('i', 'n')),\n",
              " (127, ('a', 'n')),\n",
              " (106, ('r', 'e'))]"
            ]
          },
          "metadata": {},
          "execution_count": 10
        }
      ]
    },
    {
      "cell_type": "code",
      "source": [
        "five_most_freq = {''.join(k): v for k, v in sorted(frequency.collect(), key=lambda item: item[1], reverse = True)[:5]}\n",
        "print('Five most frequent Bigrams: \\n')\n",
        "print(five_most_freq)"
      ],
      "metadata": {
        "colab": {
          "base_uri": "https://localhost:8080/"
        },
        "id": "jYR0hsKAvpqi",
        "outputId": "b5030466-da95-448e-9092-912ea448c715"
      },
      "execution_count": null,
      "outputs": [
        {
          "output_type": "stream",
          "name": "stdout",
          "text": [
            "Five most frequent Bigrams: \n",
            "\n",
            "{'th': 147, 'at': 134, 'in': 128, 'an': 127, 're': 106}\n"
          ]
        }
      ]
    },
    {
      "cell_type": "code",
      "source": [
        "five_least_freq = {''.join(k): v for k, v in sorted(frequency.collect(), key=lambda item: item[1])[:5]}\n",
        "print('Five Least frequent Bigrams: \\n')\n",
        "print(five_least_freq)"
      ],
      "metadata": {
        "colab": {
          "base_uri": "https://localhost:8080/"
        },
        "id": "gPdfAz0_wWc3",
        "outputId": "224a73f2-dd60-4d95-e60a-c58f5c7f6e97"
      },
      "execution_count": null,
      "outputs": [
        {
          "output_type": "stream",
          "name": "stdout",
          "text": [
            "Five Least frequent Bigrams: \n",
            "\n",
            "{'ao': 1, 'y1': 1, '1c': 1, 'hu': 1, 's2': 1}\n"
          ]
        }
      ]
    },
    {
      "cell_type": "code",
      "source": [
        ""
      ],
      "metadata": {
        "id": "vKKQr6d75ljo"
      },
      "execution_count": null,
      "outputs": []
    }
  ]
}
{
  "nbformat": 4,
  "nbformat_minor": 0,
  "metadata": {
    "kernelspec": {
      "display_name": "Python 3",
      "language": "python",
      "name": "python3"
    },
    "language_info": {
      "codemirror_mode": {
        "name": "ipython",
        "version": 3
      },
      "file_extension": ".py",
      "mimetype": "text/x-python",
      "name": "python",
      "nbconvert_exporter": "python",
      "pygments_lexer": "ipython3",
      "version": "3.6.9"
    },
    "colab": {
      "name": "CNN Using Pretrained Models.ipynb",
      "provenance": [],
      "collapsed_sections": [
        "AvOk5KRQiSev",
        "S6i5UuQGeyih",
        "5GfA1p245MUX",
        "EVcnSZh55iHx",
        "3pFiVJbCeyij",
        "ee1noV3tEJkI",
        "lYDfTQcJC__E",
        "cGZAc6va7EmU"
      ]
    },
    "accelerator": "GPU"
  },
  "cells": [
    {
      "cell_type": "markdown",
      "metadata": {
        "id": "wa9fMfs0icak"
      },
      "source": [
        "# CNN Using Pretrained Models"
      ]
    },
    {
      "cell_type": "markdown",
      "metadata": {
        "id": "if1eD2Climn0"
      },
      "source": [
        "Text and explanations credit to: Chapter 5, Section 3 of [Deep Learning with Python](https://www.manning.com/books/deep-learning-with-python?a_aid=keras&a_bid=76564dff)."
      ]
    },
    {
      "cell_type": "markdown",
      "metadata": {
        "id": "AvOk5KRQiSev"
      },
      "source": [
        "### Dependencies"
      ]
    },
    {
      "cell_type": "code",
      "metadata": {
        "colab": {
          "base_uri": "https://localhost:8080/"
        },
        "id": "6upjuwtKzOdO",
        "outputId": "043bba1a-4259-4a32-cd7f-4a125baaf22d"
      },
      "source": [
        "!pip install torchinfo\n",
        "! pip install gdown  # download large file from Google Drive"
      ],
      "execution_count": null,
      "outputs": [
        {
          "output_type": "stream",
          "name": "stdout",
          "text": [
            "Collecting torchinfo\n",
            "  Downloading torchinfo-1.5.3-py3-none-any.whl (19 kB)\n",
            "Installing collected packages: torchinfo\n",
            "Successfully installed torchinfo-1.5.3\n",
            "Requirement already satisfied: gdown in /usr/local/lib/python3.7/dist-packages (3.6.4)\n",
            "Requirement already satisfied: tqdm in /usr/local/lib/python3.7/dist-packages (from gdown) (4.62.3)\n",
            "Requirement already satisfied: requests in /usr/local/lib/python3.7/dist-packages (from gdown) (2.23.0)\n",
            "Requirement already satisfied: six in /usr/local/lib/python3.7/dist-packages (from gdown) (1.15.0)\n",
            "Requirement already satisfied: idna<3,>=2.5 in /usr/local/lib/python3.7/dist-packages (from requests->gdown) (2.10)\n",
            "Requirement already satisfied: chardet<4,>=3.0.2 in /usr/local/lib/python3.7/dist-packages (from requests->gdown) (3.0.4)\n",
            "Requirement already satisfied: certifi>=2017.4.17 in /usr/local/lib/python3.7/dist-packages (from requests->gdown) (2021.5.30)\n",
            "Requirement already satisfied: urllib3!=1.25.0,!=1.25.1,<1.26,>=1.21.1 in /usr/local/lib/python3.7/dist-packages (from requests->gdown) (1.24.3)\n"
          ]
        }
      ]
    },
    {
      "cell_type": "code",
      "metadata": {
        "id": "27ReLbXliktm"
      },
      "source": [
        "import os\n",
        "import shutil\n",
        "import glob\n",
        "import random\n",
        "import concurrent\n",
        "import zipfile\n",
        "import torch\n",
        "import PIL\n",
        "import numpy as np\n",
        "import torch.nn as nn\n",
        "import torchvision.transforms as transforms\n",
        "import matplotlib.pyplot as plt\n",
        "from torch.utils.data import DataLoader, random_split, Dataset\n",
        "from IPython.display import Image\n",
        "from torchinfo import summary\n",
        "\n",
        "device = torch.device(\"cuda\" if torch.cuda.is_available() else \"cpu\")"
      ],
      "execution_count": null,
      "outputs": []
    },
    {
      "cell_type": "markdown",
      "metadata": {
        "id": "S6i5UuQGeyih"
      },
      "source": [
        "# Load Convnet Models from torchvision\n",
        "\n",
        "\n",
        "----\n",
        "\n",
        "A common and highly effective approach to deep learning on small image datasets is to leverage a pre-trained network. A pre-trained network \n",
        "is simply a saved network previously trained on a large dataset, typically on a large-scale image classification task. If this original \n",
        "dataset is large enough and general enough, then the spatial feature hierarchy learned by the pre-trained network can effectively act as a \n",
        "generic model of our visual world, and hence its features can prove useful for many different computer vision problems, even though these \n",
        "new problems might involve completely different classes from those of the original task. For instance, one might train a network on \n",
        "ImageNet (where classes are mostly animals and everyday objects) and then re-purpose this trained network for something as remote as \n",
        "identifying furniture items in images. Such portability of learned features across different problems is a key advantage of deep learning \n",
        "compared to many older shallow learning approaches, and it makes deep learning very effective for small-data problems.\n",
        "\n",
        "In our case, we will consider a large convnet trained on the ImageNet dataset (1.4 million labeled images and 1000 different classes). \n",
        "ImageNet contains many animal classes, including different species of cats and dogs, and we can thus expect to perform very well on our cat \n",
        "vs. dog classification problem.\n",
        "\n",
        "We will use the VGG16 architecture, developed by Karen Simonyan and Andrew Zisserman in 2014, a simple and widely used convnet architecture \n",
        "for ImageNet. Although it is a bit of an older model, far from the current state of the art and somewhat heavier than many other recent \n",
        "models, we chose it because its architecture is similar to what you are already familiar with, and easy to understand without introducing \n",
        "any new concepts. This may be your first encounter with one of these cutesie model names -- VGG, ResNet, Inception, Inception-ResNet, \n",
        "Xception... you will get used to them, as they will come up frequently if you keep doing deep learning for computer vision.\n",
        "\n",
        "There are two ways to leverage a pre-trained network: *feature extraction* and *fine-tuning*. We will cover both of them. Let's start with \n",
        "feature extraction."
      ]
    },
    {
      "cell_type": "markdown",
      "metadata": {
        "id": "5GfA1p245MUX"
      },
      "source": [
        "## Load datasetL Dog&Cat"
      ]
    },
    {
      "cell_type": "code",
      "metadata": {
        "colab": {
          "base_uri": "https://localhost:8080/"
        },
        "id": "s5FwtaZg5qj6",
        "outputId": "7a9f4abe-eebb-48ff-cf7a-677e09622cff"
      },
      "source": [
        "! gdown https://drive.google.com/uc?id=1ItGv65UmiQKnett7vxY1qNPTXRg4hSfW"
      ],
      "execution_count": null,
      "outputs": [
        {
          "output_type": "stream",
          "name": "stdout",
          "text": [
            "Downloading...\n",
            "From: https://drive.google.com/uc?id=1ItGv65UmiQKnett7vxY1qNPTXRg4hSfW\n",
            "To: /content/dog_cat.zip\n",
            "100% 570M/570M [00:06<00:00, 86.3MB/s]\n"
          ]
        }
      ]
    },
    {
      "cell_type": "code",
      "metadata": {
        "id": "vbp01MQF5vfq"
      },
      "source": [
        "with zipfile.ZipFile('/content/dog_cat.zip', 'r') as zip_ref:\n",
        "    zip_ref.extractall('./')"
      ],
      "execution_count": null,
      "outputs": []
    },
    {
      "cell_type": "code",
      "metadata": {
        "id": "7FKDbESz5wxj"
      },
      "source": [
        "# cwd\n",
        "cwd = os.getcwd()\n",
        "\n",
        "# dirs\n",
        "dog_cat_dir = os.path.join(cwd, 'dog_cat')\n",
        "if not os.path.exists(dog_cat_dir):\n",
        "    os.mkdir(dog_cat_dir)\n",
        "\n",
        "cat_dir = os.path.join(dog_cat_dir, 'cat')\n",
        "if not os.path.exists(cat_dir):\n",
        "    os.mkdir(cat_dir)\n",
        "    \n",
        "dog_dir = os.path.join(dog_cat_dir, 'dog')\n",
        "if not os.path.exists(dog_dir):\n",
        "    os.mkdir(dog_dir)\n",
        "\n",
        "# sample random 1000 pics for cats & dogs\n",
        "cat_pics = np.random.choice(glob.glob(os.path.join(cwd, 'train', 'cat.*.jpg')), size=1000, replace=False)\n",
        "dog_pics = np.random.choice(glob.glob(os.path.join(cwd, 'train', 'dog.*.jpg')), size=1000, replace=False)\n",
        "\n",
        "# move to dir\n",
        "def move_to_folder(scr_file, des_folder):\n",
        "    des_name = os.path.basename(scr_file)\n",
        "    shutil.copyfile(scr_file, os.path.join(des_folder, des_name))\n",
        "# cats\n",
        "with concurrent.futures.ThreadPoolExecutor(max_workers=4) as pool:\n",
        "    [pool.submit(move_to_folder, file_name, cat_dir) for file_name in cat_pics]\n",
        "# dogs\n",
        "with concurrent.futures.ThreadPoolExecutor(max_workers=4) as pool:\n",
        "    [pool.submit(move_to_folder, file_name, dog_dir) for file_name in dog_pics]"
      ],
      "execution_count": null,
      "outputs": []
    },
    {
      "cell_type": "code",
      "metadata": {
        "id": "pKERx30050D9"
      },
      "source": [
        "class ImgDataset(Dataset):\n",
        "    def __init__(self, img_path, img_labels, img_transforms=None):\n",
        "        self.img_path = img_path\n",
        "        self.img_labels = torch.Tensor(img_labels)\n",
        "        if img_transforms is None:\n",
        "            self.transforms = transforms.ToTensor()\n",
        "        else:\n",
        "            self.transforms = img_transforms\n",
        "    \n",
        "    def __getitem__(self, index):\n",
        "        # load image\n",
        "        cur_path = self.img_path[index]\n",
        "        cur_img = PIL.Image.open(cur_path)\n",
        "        cur_img = self.transforms(cur_img)\n",
        "\n",
        "        return cur_img, self.img_labels[index]\n",
        "    \n",
        "    def __len__(self):\n",
        "        return len(self.img_path)"
      ],
      "execution_count": null,
      "outputs": []
    },
    {
      "cell_type": "code",
      "metadata": {
        "id": "8_Jxtbar55WA"
      },
      "source": [
        "images_list = glob.glob(os.path.join(dog_cat_dir, '*', '*.jpg'))\n",
        "# label: 0 for cat, 1 for dog\n",
        "def extract_class(img_path):\n",
        "    base_path = os.path.basename(img_path)\n",
        "    return base_path.split('.')[0]\n",
        "\n",
        "labels = [0 if extract_class(cur_path) == 'cat' else 1 for cur_path in images_list]"
      ],
      "execution_count": null,
      "outputs": []
    },
    {
      "cell_type": "code",
      "metadata": {
        "id": "EsQju-n26Arw"
      },
      "source": [
        "transformations = transforms.Compose([transforms.Resize((150, 150)),  # resize to input shape of our CNN\n",
        "                                      transforms.ColorJitter(brightness=0.3, contrast=0.3, saturation=0.3, hue=0.3),\n",
        "                                      transforms.RandomRotation(40),\n",
        "                                      transforms.RandomAffine(degrees=0, scale=(0.8, 1.2), shear=0.2),\n",
        "                                      transforms.RandomHorizontalFlip(p=0.5),\n",
        "                                      transforms.ToTensor()  # convert PIL to Tensor\n",
        "                                      ])"
      ],
      "execution_count": null,
      "outputs": []
    },
    {
      "cell_type": "code",
      "metadata": {
        "id": "RvyXWS2j6DDZ"
      },
      "source": [
        "dog_cat_dataset = ImgDataset(img_path=images_list, img_labels=labels, img_transforms=transformations)"
      ],
      "execution_count": null,
      "outputs": []
    },
    {
      "cell_type": "code",
      "metadata": {
        "id": "xp_bzx3b6IGU"
      },
      "source": [
        "split_size = (np.array([0.6, 0.2, 0.2]) * len(dog_cat_dataset)).round().astype(np.int)\n",
        "train_data, valid_data, test_data = random_split(dog_cat_dataset, split_size)"
      ],
      "execution_count": null,
      "outputs": []
    },
    {
      "cell_type": "markdown",
      "metadata": {
        "id": "EVcnSZh55iHx"
      },
      "source": [
        "## Train Function"
      ]
    },
    {
      "cell_type": "code",
      "metadata": {
        "id": "OTm--LsB6FEb"
      },
      "source": [
        "def train_model(model, train_dataset, test_dataset, device, \n",
        "                lr=0.0001, epochs=30, batch_size=256):\n",
        "    \n",
        "    # construct dataloader\n",
        "    train_loader = DataLoader(train_dataset, batch_size=batch_size, shuffle=True)\n",
        "    test_loader = DataLoader(test_dataset, batch_size=batch_size, shuffle=False)\n",
        "\n",
        "    # move model to device\n",
        "    model = model.to(device)\n",
        "\n",
        "    # history\n",
        "    history = {'train_loss': [],\n",
        "               'train_acc': [],\n",
        "               'test_loss': [],\n",
        "               'test_acc': []}\n",
        "    # setup loss function and optimizer\n",
        "    criterion = nn.BCEWithLogitsLoss()\n",
        "    optimizer = torch.optim.Adam(model.parameters(), lr=lr)\n",
        "    # training loop\n",
        "    print('Training Start')\n",
        "    for epoch in range(epochs):\n",
        "        model.train()\n",
        "        train_loss = 0\n",
        "        train_acc = 0\n",
        "        test_loss = 0\n",
        "        test_acc = 0\n",
        "        \n",
        "        for x, y in train_loader:\n",
        "            # move data to device\n",
        "            x = x.to(device)\n",
        "            y = y.to(device)\n",
        "            # forward\n",
        "            outputs = model(x).view(-1)  # (num_batch)\n",
        "            cur_train_loss = criterion(outputs, y)\n",
        "            pred = torch.sigmoid(outputs)\n",
        "            pred = torch.round(pred)\n",
        "            cur_train_acc = (pred == y).sum().item() / batch_size\n",
        "            # backward\n",
        "            cur_train_loss.backward()\n",
        "            optimizer.step()\n",
        "            optimizer.zero_grad()\n",
        "            # loss and acc\n",
        "            train_loss += cur_train_loss\n",
        "            train_acc += cur_train_acc\n",
        "\n",
        "        # test start\n",
        "        model.eval()\n",
        "        with torch.no_grad():\n",
        "            for x, y in test_loader:\n",
        "                # move\n",
        "                x = x.to(device)\n",
        "                y = y.to(device)\n",
        "                # predict\n",
        "                outputs = model(x).view(-1)\n",
        "                pred = torch.round(torch.sigmoid(outputs))\n",
        "                cur_test_loss = criterion(outputs, y)\n",
        "                cur_test_acc = (pred == y).sum().item() / batch_size \n",
        "                # loss and acc\n",
        "                test_loss += cur_test_loss\n",
        "                test_acc += cur_test_acc\n",
        "\n",
        "        # epoch output\n",
        "        train_loss = (train_loss/len(train_loader)).item()\n",
        "        train_acc = train_acc/len(train_loader)\n",
        "        val_loss = (test_loss/len(test_loader)).item()\n",
        "        val_acc = test_acc/len(test_loader)\n",
        "        history['train_loss'].append(train_loss)\n",
        "        history['train_acc'].append(train_acc)\n",
        "        history['test_loss'].append(val_loss)\n",
        "        history['test_acc'].append(val_acc)\n",
        "        print(f\"Epoch:{epoch + 1} / {epochs}, train loss:{train_loss:.4f} train_acc:{train_acc:.4f}, valid loss:{val_loss:.4f} valid acc:{val_acc:.4f}\")\n",
        "    \n",
        "    return history"
      ],
      "execution_count": null,
      "outputs": []
    },
    {
      "cell_type": "markdown",
      "metadata": {
        "id": "3pFiVJbCeyij"
      },
      "source": [
        "## Feature extraction\n"
      ]
    },
    {
      "cell_type": "markdown",
      "metadata": {
        "id": "qe2kEXNPNrHo"
      },
      "source": [
        "Feature extraction consists of using the representations learned by a previous network to extract interesting features from new samples. \n",
        "These features are then run through a new classifier, which is trained from scratch.\n",
        "\n",
        "As we saw previously, convnets used for image classification comprise two parts: they start with a series of pooling and convolution \n",
        "layers, and they end with a densely-connected classifier. The first part is called the \"convolutional base\" of the model. In the case of \n",
        "convnets, \"feature extraction\" will simply consist of taking the convolutional base of a previously-trained network, running the new data \n",
        "through it, and training a new classifier on top of the output.\n",
        "\n",
        "\n",
        "Why only reuse the convolutional base? Could we reuse the densely-connected classifier as well? In general, it should be avoided. The \n",
        "reason is simply that the representations learned by the convolutional base are likely to be more generic and therefore more reusable: the \n",
        "feature maps of a convnet are presence maps of generic concepts over a picture, which is likely to be useful regardless of the computer \n",
        "vision problem at hand. On the other end, the representations learned by the classifier will necessarily be very specific to the set of \n",
        "classes that the model was trained on -- they will only contain information about the presence probability of this or that class in the \n",
        "entire picture. Additionally, representations found in densely-connected layers no longer contain any information about _where_ objects are \n",
        "located in the input image: these layers get rid of the notion of space, whereas the object location is still described by convolutional \n",
        "feature maps. For problems where object location matters, densely-connected features would be largely useless.\n",
        "\n",
        "Note that the level of generality (and therefore reusability) of the representations extracted by specific convolution layers depends on \n",
        "the depth of the layer in the model. Layers that come earlier in the model extract local, highly generic feature maps (such as visual \n",
        "edges, colors, and textures), while layers higher-up extract more abstract concepts (such as \"cat ear\" or \"dog eye\"). So if your new \n",
        "dataset differs a lot from the dataset that the original model was trained on, you may be better off using only the first few layers of the \n",
        "model to do feature extraction, rather than using the entire convolutional base.\n",
        "\n",
        "In our case, since the ImageNet class set did contain multiple dog and cat classes, it is likely that it would be beneficial to reuse the \n",
        "information contained in the densely-connected layers of the original model. However, we will chose not to, in order to cover the more \n",
        "general case where the class set of the new problem does not overlap with the class set of the original model"
      ]
    },
    {
      "cell_type": "markdown",
      "metadata": {
        "id": "ee1noV3tEJkI"
      },
      "source": [
        "## Load models from torch.vision"
      ]
    },
    {
      "cell_type": "markdown",
      "metadata": {
        "id": "U30x98SEeyik"
      },
      "source": [
        "Let's put this in practice by using the convolutional base of the VGG16 network, trained on ImageNet, to extract interesting features from \n",
        "our cat and dog images, and then training a cat vs. dog classifier on top of these features.\n",
        "\n",
        "The VGG16 model, among others, comes pre-packaged with [`torchvision.models`](https://pytorch.org/vision/stable/models.html#torchvision.models.alexnet). Here's the list of \n",
        "image classification models (all pre-trained on the ImageNet dataset) that are available as part of [`torchvision.models`](https://pytorch.org/vision/stable/models.html#torchvision.models.alexnet):\n",
        "\n",
        "* AlexNet\n",
        "* VGG-11\n",
        "* VGG-16\n",
        "* ResNet-18\n",
        "* SqueezeNet 1.0\n",
        "* MGoogleNet\n",
        "\n",
        "Let's instantiate the [VGG16](https://pytorch.org/vision/stable/models.html#torchvision.models.vgg16) model:"
      ]
    },
    {
      "cell_type": "code",
      "metadata": {
        "id": "AZz5YTlweyil"
      },
      "source": [
        "import torchvision.models as models\n",
        "\n",
        "VGG_model = models.vgg16(pretrained=True)"
      ],
      "execution_count": null,
      "outputs": []
    },
    {
      "cell_type": "markdown",
      "metadata": {
        "id": "dx28A_Ss3a1G"
      },
      "source": [
        "`pretrained=True` will load the pretrained set of weights of VGG16 model. If `pretrained=False`, then only the structure will be loaded.  \n",
        "\n",
        "  \n",
        "Here's the detail of the architecture of the VGG16 convolutional base, it's very similar to the simple convnets that you are already:"
      ]
    },
    {
      "cell_type": "code",
      "metadata": {
        "id": "fbYMKyKVeyil",
        "colab": {
          "base_uri": "https://localhost:8080/"
        },
        "outputId": "0f52c71c-c8e2-4363-a685-d635713f3ad5"
      },
      "source": [
        "print(VGG_model)"
      ],
      "execution_count": null,
      "outputs": [
        {
          "output_type": "stream",
          "name": "stdout",
          "text": [
            "VGG(\n",
            "  (features): Sequential(\n",
            "    (0): Conv2d(3, 64, kernel_size=(3, 3), stride=(1, 1), padding=(1, 1))\n",
            "    (1): ReLU(inplace=True)\n",
            "    (2): Conv2d(64, 64, kernel_size=(3, 3), stride=(1, 1), padding=(1, 1))\n",
            "    (3): ReLU(inplace=True)\n",
            "    (4): MaxPool2d(kernel_size=2, stride=2, padding=0, dilation=1, ceil_mode=False)\n",
            "    (5): Conv2d(64, 128, kernel_size=(3, 3), stride=(1, 1), padding=(1, 1))\n",
            "    (6): ReLU(inplace=True)\n",
            "    (7): Conv2d(128, 128, kernel_size=(3, 3), stride=(1, 1), padding=(1, 1))\n",
            "    (8): ReLU(inplace=True)\n",
            "    (9): MaxPool2d(kernel_size=2, stride=2, padding=0, dilation=1, ceil_mode=False)\n",
            "    (10): Conv2d(128, 256, kernel_size=(3, 3), stride=(1, 1), padding=(1, 1))\n",
            "    (11): ReLU(inplace=True)\n",
            "    (12): Conv2d(256, 256, kernel_size=(3, 3), stride=(1, 1), padding=(1, 1))\n",
            "    (13): ReLU(inplace=True)\n",
            "    (14): Conv2d(256, 256, kernel_size=(3, 3), stride=(1, 1), padding=(1, 1))\n",
            "    (15): ReLU(inplace=True)\n",
            "    (16): MaxPool2d(kernel_size=2, stride=2, padding=0, dilation=1, ceil_mode=False)\n",
            "    (17): Conv2d(256, 512, kernel_size=(3, 3), stride=(1, 1), padding=(1, 1))\n",
            "    (18): ReLU(inplace=True)\n",
            "    (19): Conv2d(512, 512, kernel_size=(3, 3), stride=(1, 1), padding=(1, 1))\n",
            "    (20): ReLU(inplace=True)\n",
            "    (21): Conv2d(512, 512, kernel_size=(3, 3), stride=(1, 1), padding=(1, 1))\n",
            "    (22): ReLU(inplace=True)\n",
            "    (23): MaxPool2d(kernel_size=2, stride=2, padding=0, dilation=1, ceil_mode=False)\n",
            "    (24): Conv2d(512, 512, kernel_size=(3, 3), stride=(1, 1), padding=(1, 1))\n",
            "    (25): ReLU(inplace=True)\n",
            "    (26): Conv2d(512, 512, kernel_size=(3, 3), stride=(1, 1), padding=(1, 1))\n",
            "    (27): ReLU(inplace=True)\n",
            "    (28): Conv2d(512, 512, kernel_size=(3, 3), stride=(1, 1), padding=(1, 1))\n",
            "    (29): ReLU(inplace=True)\n",
            "    (30): MaxPool2d(kernel_size=2, stride=2, padding=0, dilation=1, ceil_mode=False)\n",
            "  )\n",
            "  (avgpool): AdaptiveAvgPool2d(output_size=(7, 7))\n",
            "  (classifier): Sequential(\n",
            "    (0): Linear(in_features=25088, out_features=4096, bias=True)\n",
            "    (1): ReLU(inplace=True)\n",
            "    (2): Dropout(p=0.5, inplace=False)\n",
            "    (3): Linear(in_features=4096, out_features=4096, bias=True)\n",
            "    (4): ReLU(inplace=True)\n",
            "    (5): Dropout(p=0.5, inplace=False)\n",
            "    (6): Linear(in_features=4096, out_features=1000, bias=True)\n",
            "  )\n",
            ")\n"
          ]
        }
      ]
    },
    {
      "cell_type": "code",
      "metadata": {
        "colab": {
          "base_uri": "https://localhost:8080/"
        },
        "id": "gG-X3eRm4fzF",
        "outputId": "1d2e3cc0-2832-442c-f374-1e61c8d40d29"
      },
      "source": [
        "summary(VGG_model, (10, 3, 150, 150))"
      ],
      "execution_count": null,
      "outputs": [
        {
          "output_type": "execute_result",
          "data": {
            "text/plain": [
              "==========================================================================================\n",
              "Layer (type:depth-idx)                   Output Shape              Param #\n",
              "==========================================================================================\n",
              "VGG                                      --                        --\n",
              "├─Sequential: 1-1                        [10, 512, 4, 4]           --\n",
              "│    └─Conv2d: 2-1                       [10, 64, 150, 150]        1,792\n",
              "│    └─ReLU: 2-2                         [10, 64, 150, 150]        --\n",
              "│    └─Conv2d: 2-3                       [10, 64, 150, 150]        36,928\n",
              "│    └─ReLU: 2-4                         [10, 64, 150, 150]        --\n",
              "│    └─MaxPool2d: 2-5                    [10, 64, 75, 75]          --\n",
              "│    └─Conv2d: 2-6                       [10, 128, 75, 75]         73,856\n",
              "│    └─ReLU: 2-7                         [10, 128, 75, 75]         --\n",
              "│    └─Conv2d: 2-8                       [10, 128, 75, 75]         147,584\n",
              "│    └─ReLU: 2-9                         [10, 128, 75, 75]         --\n",
              "│    └─MaxPool2d: 2-10                   [10, 128, 37, 37]         --\n",
              "│    └─Conv2d: 2-11                      [10, 256, 37, 37]         295,168\n",
              "│    └─ReLU: 2-12                        [10, 256, 37, 37]         --\n",
              "│    └─Conv2d: 2-13                      [10, 256, 37, 37]         590,080\n",
              "│    └─ReLU: 2-14                        [10, 256, 37, 37]         --\n",
              "│    └─Conv2d: 2-15                      [10, 256, 37, 37]         590,080\n",
              "│    └─ReLU: 2-16                        [10, 256, 37, 37]         --\n",
              "│    └─MaxPool2d: 2-17                   [10, 256, 18, 18]         --\n",
              "│    └─Conv2d: 2-18                      [10, 512, 18, 18]         1,180,160\n",
              "│    └─ReLU: 2-19                        [10, 512, 18, 18]         --\n",
              "│    └─Conv2d: 2-20                      [10, 512, 18, 18]         2,359,808\n",
              "│    └─ReLU: 2-21                        [10, 512, 18, 18]         --\n",
              "│    └─Conv2d: 2-22                      [10, 512, 18, 18]         2,359,808\n",
              "│    └─ReLU: 2-23                        [10, 512, 18, 18]         --\n",
              "│    └─MaxPool2d: 2-24                   [10, 512, 9, 9]           --\n",
              "│    └─Conv2d: 2-25                      [10, 512, 9, 9]           2,359,808\n",
              "│    └─ReLU: 2-26                        [10, 512, 9, 9]           --\n",
              "│    └─Conv2d: 2-27                      [10, 512, 9, 9]           2,359,808\n",
              "│    └─ReLU: 2-28                        [10, 512, 9, 9]           --\n",
              "│    └─Conv2d: 2-29                      [10, 512, 9, 9]           2,359,808\n",
              "│    └─ReLU: 2-30                        [10, 512, 9, 9]           --\n",
              "│    └─MaxPool2d: 2-31                   [10, 512, 4, 4]           --\n",
              "├─AdaptiveAvgPool2d: 1-2                 [10, 512, 7, 7]           --\n",
              "├─Sequential: 1-3                        [10, 1000]                --\n",
              "│    └─Linear: 2-32                      [10, 4096]                102,764,544\n",
              "│    └─ReLU: 2-33                        [10, 4096]                --\n",
              "│    └─Dropout: 2-34                     [10, 4096]                --\n",
              "│    └─Linear: 2-35                      [10, 4096]                16,781,312\n",
              "│    └─ReLU: 2-36                        [10, 4096]                --\n",
              "│    └─Dropout: 2-37                     [10, 4096]                --\n",
              "│    └─Linear: 2-38                      [10, 1000]                4,097,000\n",
              "==========================================================================================\n",
              "Total params: 138,357,544\n",
              "Trainable params: 138,357,544\n",
              "Non-trainable params: 0\n",
              "Total mult-adds (G): 67.45\n",
              "==========================================================================================\n",
              "Input size (MB): 2.70\n",
              "Forward/backward pass size (MB): 480.21\n",
              "Params size (MB): 553.43\n",
              "Estimated Total Size (MB): 1036.34\n",
              "=========================================================================================="
            ]
          },
          "metadata": {},
          "execution_count": 84
        }
      ]
    },
    {
      "cell_type": "markdown",
      "metadata": {
        "id": "T2GqTHEMeyim"
      },
      "source": [
        "To apply the model on our cat&dog dataset, we will need to:\n",
        "\n",
        "\n",
        "1.   Change the classifier\n",
        "2.   Determine if we want to freeze the weights or not(pre-trained or fine tuning)\n",
        "\n"
      ]
    },
    {
      "cell_type": "markdown",
      "metadata": {
        "id": "lYDfTQcJC__E"
      },
      "source": [
        "## Using the pre-trained model: Weights are frozen"
      ]
    },
    {
      "cell_type": "markdown",
      "metadata": {
        "id": "WO7VRt6mDpV3"
      },
      "source": [
        "![swapping_fc_classifier.png](data:image/png;base64,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)"
      ]
    },
    {
      "cell_type": "markdown",
      "metadata": {
        "id": "mtp8QsMcFIHP"
      },
      "source": [
        "**0. Model**"
      ]
    },
    {
      "cell_type": "code",
      "metadata": {
        "id": "l2oMAepRFMYD"
      },
      "source": [
        "VGG_model = models.vgg16(pretrained=True)"
      ],
      "execution_count": null,
      "outputs": []
    },
    {
      "cell_type": "markdown",
      "metadata": {
        "id": "FOsp8E46E-Gg"
      },
      "source": [
        "**1. Freeze Weights**"
      ]
    },
    {
      "cell_type": "code",
      "metadata": {
        "id": "YLLvVknSDG-l"
      },
      "source": [
        "for name, param in VGG_model.named_parameters():\n",
        "  param.requires_grad = False"
      ],
      "execution_count": null,
      "outputs": []
    },
    {
      "cell_type": "markdown",
      "metadata": {
        "id": "G2kXbuJdFS_h"
      },
      "source": [
        "**2. Rewrite Classifier:**  \n",
        "As we can see from the output shape of the previous model, it classifies the image into 1000 classes. To make the model fit to our binary classification case, let's rewrite the classifier:"
      ]
    },
    {
      "cell_type": "code",
      "metadata": {
        "id": "hnLWrR5WFawT"
      },
      "source": [
        "# define out classifier\n",
        "binary_classifier = nn.Sequential(\n",
        "   nn.Linear(in_features=25088, out_features=2048),\n",
        "   nn.ReLU(),\n",
        "   nn.Linear(in_features=2048, out_features=1024),\n",
        "   nn.ReLU(),\n",
        "   nn.Linear(in_features=1024, out_features=512),\n",
        "   nn.ReLU(),\n",
        "   nn.Linear(in_features=512, out_features=1)\n",
        ")\n",
        "\n",
        "# replace model class classifier attribute:\n",
        "VGG_model.classifier = binary_classifier"
      ],
      "execution_count": null,
      "outputs": []
    },
    {
      "cell_type": "code",
      "metadata": {
        "colab": {
          "base_uri": "https://localhost:8080/"
        },
        "id": "1HsGoy_WFzIX",
        "outputId": "115bedaa-2486-4ad1-81af-1604007ec1f7"
      },
      "source": [
        "VGG_model"
      ],
      "execution_count": null,
      "outputs": [
        {
          "output_type": "execute_result",
          "data": {
            "text/plain": [
              "VGG(\n",
              "  (features): Sequential(\n",
              "    (0): Conv2d(3, 64, kernel_size=(3, 3), stride=(1, 1), padding=(1, 1))\n",
              "    (1): ReLU(inplace=True)\n",
              "    (2): Conv2d(64, 64, kernel_size=(3, 3), stride=(1, 1), padding=(1, 1))\n",
              "    (3): ReLU(inplace=True)\n",
              "    (4): MaxPool2d(kernel_size=2, stride=2, padding=0, dilation=1, ceil_mode=False)\n",
              "    (5): Conv2d(64, 128, kernel_size=(3, 3), stride=(1, 1), padding=(1, 1))\n",
              "    (6): ReLU(inplace=True)\n",
              "    (7): Conv2d(128, 128, kernel_size=(3, 3), stride=(1, 1), padding=(1, 1))\n",
              "    (8): ReLU(inplace=True)\n",
              "    (9): MaxPool2d(kernel_size=2, stride=2, padding=0, dilation=1, ceil_mode=False)\n",
              "    (10): Conv2d(128, 256, kernel_size=(3, 3), stride=(1, 1), padding=(1, 1))\n",
              "    (11): ReLU(inplace=True)\n",
              "    (12): Conv2d(256, 256, kernel_size=(3, 3), stride=(1, 1), padding=(1, 1))\n",
              "    (13): ReLU(inplace=True)\n",
              "    (14): Conv2d(256, 256, kernel_size=(3, 3), stride=(1, 1), padding=(1, 1))\n",
              "    (15): ReLU(inplace=True)\n",
              "    (16): MaxPool2d(kernel_size=2, stride=2, padding=0, dilation=1, ceil_mode=False)\n",
              "    (17): Conv2d(256, 512, kernel_size=(3, 3), stride=(1, 1), padding=(1, 1))\n",
              "    (18): ReLU(inplace=True)\n",
              "    (19): Conv2d(512, 512, kernel_size=(3, 3), stride=(1, 1), padding=(1, 1))\n",
              "    (20): ReLU(inplace=True)\n",
              "    (21): Conv2d(512, 512, kernel_size=(3, 3), stride=(1, 1), padding=(1, 1))\n",
              "    (22): ReLU(inplace=True)\n",
              "    (23): MaxPool2d(kernel_size=2, stride=2, padding=0, dilation=1, ceil_mode=False)\n",
              "    (24): Conv2d(512, 512, kernel_size=(3, 3), stride=(1, 1), padding=(1, 1))\n",
              "    (25): ReLU(inplace=True)\n",
              "    (26): Conv2d(512, 512, kernel_size=(3, 3), stride=(1, 1), padding=(1, 1))\n",
              "    (27): ReLU(inplace=True)\n",
              "    (28): Conv2d(512, 512, kernel_size=(3, 3), stride=(1, 1), padding=(1, 1))\n",
              "    (29): ReLU(inplace=True)\n",
              "    (30): MaxPool2d(kernel_size=2, stride=2, padding=0, dilation=1, ceil_mode=False)\n",
              "  )\n",
              "  (avgpool): AdaptiveAvgPool2d(output_size=(7, 7))\n",
              "  (classifier): Sequential(\n",
              "    (0): Linear(in_features=25088, out_features=2048, bias=True)\n",
              "    (1): ReLU()\n",
              "    (2): Linear(in_features=2048, out_features=1024, bias=True)\n",
              "    (3): ReLU()\n",
              "    (4): Linear(in_features=1024, out_features=512, bias=True)\n",
              "    (5): ReLU()\n",
              "    (6): Linear(in_features=512, out_features=1, bias=True)\n",
              "  )\n",
              ")"
            ]
          },
          "metadata": {},
          "execution_count": 88
        }
      ]
    },
    {
      "cell_type": "markdown",
      "metadata": {
        "id": "lMWdv8T_Fi_1"
      },
      "source": [
        "**3. Train the model**"
      ]
    },
    {
      "cell_type": "code",
      "metadata": {
        "colab": {
          "base_uri": "https://localhost:8080/"
        },
        "id": "g_rlEsWVFvrP",
        "outputId": "270380a1-b5b7-4d44-adc1-92ff54c2bce6"
      },
      "source": [
        "history = train_model(VGG_model, train_data, valid_data, device, batch_size=32, epochs=30, lr=0.000001)"
      ],
      "execution_count": null,
      "outputs": [
        {
          "output_type": "stream",
          "name": "stdout",
          "text": [
            "Training Start\n",
            "Epoch:1 / 30, train loss:0.6845 train_acc:0.5812, valid loss:0.6723 valid acc:0.7227\n",
            "Epoch:2 / 30, train loss:0.6610 train_acc:0.7543, valid loss:0.6409 valid acc:0.7878\n",
            "Epoch:3 / 30, train loss:0.6197 train_acc:0.7995, valid loss:0.5895 valid acc:0.7969\n",
            "Epoch:4 / 30, train loss:0.5724 train_acc:0.8095, valid loss:0.5368 valid acc:0.7969\n",
            "Epoch:5 / 30, train loss:0.5204 train_acc:0.8125, valid loss:0.5003 valid acc:0.8099\n",
            "Epoch:6 / 30, train loss:0.4792 train_acc:0.8251, valid loss:0.4536 valid acc:0.8138\n",
            "Epoch:7 / 30, train loss:0.4411 train_acc:0.8342, valid loss:0.4293 valid acc:0.8281\n",
            "Epoch:8 / 30, train loss:0.4197 train_acc:0.8325, valid loss:0.4076 valid acc:0.8229\n",
            "Epoch:9 / 30, train loss:0.3978 train_acc:0.8385, valid loss:0.4001 valid acc:0.8268\n",
            "Epoch:10 / 30, train loss:0.3864 train_acc:0.8451, valid loss:0.3692 valid acc:0.8607\n",
            "Epoch:11 / 30, train loss:0.3674 train_acc:0.8529, valid loss:0.3578 valid acc:0.8490\n",
            "Epoch:12 / 30, train loss:0.3498 train_acc:0.8490, valid loss:0.3723 valid acc:0.8307\n",
            "Epoch:13 / 30, train loss:0.3439 train_acc:0.8555, valid loss:0.3506 valid acc:0.8359\n",
            "Epoch:14 / 30, train loss:0.3365 train_acc:0.8589, valid loss:0.3430 valid acc:0.8581\n",
            "Epoch:15 / 30, train loss:0.3305 train_acc:0.8624, valid loss:0.3448 valid acc:0.8464\n",
            "Epoch:16 / 30, train loss:0.3255 train_acc:0.8594, valid loss:0.3714 valid acc:0.8320\n",
            "Epoch:17 / 30, train loss:0.3190 train_acc:0.8685, valid loss:0.3438 valid acc:0.8503\n",
            "Epoch:18 / 30, train loss:0.3104 train_acc:0.8655, valid loss:0.3310 valid acc:0.8359\n",
            "Epoch:19 / 30, train loss:0.3077 train_acc:0.8715, valid loss:0.3263 valid acc:0.8516\n",
            "Epoch:20 / 30, train loss:0.3075 train_acc:0.8720, valid loss:0.3212 valid acc:0.8659\n",
            "Epoch:21 / 30, train loss:0.2967 train_acc:0.8685, valid loss:0.3128 valid acc:0.8750\n",
            "Epoch:22 / 30, train loss:0.3058 train_acc:0.8581, valid loss:0.3126 valid acc:0.8555\n",
            "Epoch:23 / 30, train loss:0.2969 train_acc:0.8806, valid loss:0.3247 valid acc:0.8607\n",
            "Epoch:24 / 30, train loss:0.2916 train_acc:0.8711, valid loss:0.3304 valid acc:0.8464\n",
            "Epoch:25 / 30, train loss:0.2985 train_acc:0.8676, valid loss:0.3094 valid acc:0.8555\n",
            "Epoch:26 / 30, train loss:0.2868 train_acc:0.8759, valid loss:0.3018 valid acc:0.8542\n",
            "Epoch:27 / 30, train loss:0.2769 train_acc:0.8802, valid loss:0.3023 valid acc:0.8672\n",
            "Epoch:28 / 30, train loss:0.2866 train_acc:0.8776, valid loss:0.3185 valid acc:0.8542\n",
            "Epoch:29 / 30, train loss:0.2773 train_acc:0.8750, valid loss:0.2972 valid acc:0.8698\n",
            "Epoch:30 / 30, train loss:0.2795 train_acc:0.8802, valid loss:0.3030 valid acc:0.8724\n"
          ]
        }
      ]
    },
    {
      "cell_type": "code",
      "metadata": {
        "colab": {
          "base_uri": "https://localhost:8080/"
        },
        "id": "XyELKqogHsHw",
        "outputId": "f243e092-fc9f-4d3d-aaa5-cbaa7067c5a0"
      },
      "source": [
        "# acc\n",
        "plt.plot(range(1, 31), history['train_acc'], label='Train')\n",
        "plt.plot(range(1, 31), history['test_acc'], label='Valid')\n",
        "plt.title('Accuracy')\n",
        "plt.legend()\n",
        "plt.show()\n",
        "\n",
        "# loss\n",
        "plt.plot(range(1, 31), history['train_loss'], label='Train')\n",
        "plt.plot(range(1, 31), history['test_loss'], label='Valid')\n",
        "plt.title('Loss')\n",
        "plt.legend()\n",
        "plt.show()"
      ],
      "execution_count": null,
      "outputs": [
        {
          "output_type": "display_data",
          "data": {
            "image/png": "[encoded data removed]",
            "text/plain": [
              "<Figure size 432x288 with 1 Axes>"
            ]
          },
          "metadata": {
            "needs_background": "light"
          }
        },
        {
          "output_type": "display_data",
          "data": {
            "image/png": "[encoded data removed]",
            "text/plain": [
              "<Figure size 432x288 with 1 Axes>"
            ]
          },
          "metadata": {
            "needs_background": "light"
          }
        }
      ]
    },
    {
      "cell_type": "markdown",
      "metadata": {
        "id": "cGZAc6va7EmU"
      },
      "source": [
        "## Fine-turning the Model: Weights are not frozen"
      ]
    },
    {
      "cell_type": "markdown",
      "metadata": {
        "id": "-r2Q0z74Anmm"
      },
      "source": [
        "Another widely used technique for model reuse, complementary to feature extraction, is _fine-tuning_. \n",
        "Fine-tuning consists in unfreezing a few of the top layers \n",
        "of a frozen model base used for feature extraction, and jointly training both the newly added part of the model (in our case, the \n",
        "fully-connected classifier) and these top layers. This is called \"fine-tuning\" because it slightly adjusts the more abstract \n",
        "representations of the model being reused, in order to make them more relevant for the problem at hand."
      ]
    },
    {
      "cell_type": "markdown",
      "metadata": {
        "id": "uyTK4kBHCKIs"
      },
      "source": [
        "**1. Freeze the layers:**\n",
        "\n",
        "We will fine-tune the last 3 convolutional layers, why not fine-tune more layers? Why not fine-tune the entire convolutional base? We could. However, we need to consider that:\n",
        "\n",
        "* Earlier layers in the convolutional base encode more generic, reusable features, while layers higher up encode more specialized features. It is \n",
        "more useful to fine-tune the more specialized features, as these are the ones that need to be repurposed on our new problem. There would \n",
        "be fast-decreasing returns in fine-tuning lower layers.\n",
        "* The more parameters we are training, the more we are at risk of overfitting. The convolutional base has 15M parameters, so it would be \n",
        "risky to attempt to train it on our small dataset.\n",
        "\n",
        "Thus, in our situation, it is a good strategy to only fine-tune the top 3 layers in the convolutional base.\n",
        "\n",
        "![fine-tuning VGG16](https://s3.amazonaws.com/book.keras.io/img/ch5/vgg16_fine_tuning.png)"
      ]
    },
    {
      "cell_type": "markdown",
      "metadata": {
        "id": "MkGaacyjF4Xk"
      },
      "source": [
        "**0. Model**"
      ]
    },
    {
      "cell_type": "code",
      "metadata": {
        "colab": {
          "base_uri": "https://localhost:8080/"
        },
        "id": "gNbR-Yl_CiHZ",
        "outputId": "00b7235f-19d7-4d40-8a33-3dab236b459e"
      },
      "source": [
        "# get a new model\n",
        "import torchvision.models as models\n",
        "\n",
        "VGG_model = models.vgg16(pretrained=True)\n",
        "\n",
        "print(VGG_model)"
      ],
      "execution_count": null,
      "outputs": [
        {
          "output_type": "stream",
          "name": "stdout",
          "text": [
            "VGG(\n",
            "  (features): Sequential(\n",
            "    (0): Conv2d(3, 64, kernel_size=(3, 3), stride=(1, 1), padding=(1, 1))\n",
            "    (1): ReLU(inplace=True)\n",
            "    (2): Conv2d(64, 64, kernel_size=(3, 3), stride=(1, 1), padding=(1, 1))\n",
            "    (3): ReLU(inplace=True)\n",
            "    (4): MaxPool2d(kernel_size=2, stride=2, padding=0, dilation=1, ceil_mode=False)\n",
            "    (5): Conv2d(64, 128, kernel_size=(3, 3), stride=(1, 1), padding=(1, 1))\n",
            "    (6): ReLU(inplace=True)\n",
            "    (7): Conv2d(128, 128, kernel_size=(3, 3), stride=(1, 1), padding=(1, 1))\n",
            "    (8): ReLU(inplace=True)\n",
            "    (9): MaxPool2d(kernel_size=2, stride=2, padding=0, dilation=1, ceil_mode=False)\n",
            "    (10): Conv2d(128, 256, kernel_size=(3, 3), stride=(1, 1), padding=(1, 1))\n",
            "    (11): ReLU(inplace=True)\n",
            "    (12): Conv2d(256, 256, kernel_size=(3, 3), stride=(1, 1), padding=(1, 1))\n",
            "    (13): ReLU(inplace=True)\n",
            "    (14): Conv2d(256, 256, kernel_size=(3, 3), stride=(1, 1), padding=(1, 1))\n",
            "    (15): ReLU(inplace=True)\n",
            "    (16): MaxPool2d(kernel_size=2, stride=2, padding=0, dilation=1, ceil_mode=False)\n",
            "    (17): Conv2d(256, 512, kernel_size=(3, 3), stride=(1, 1), padding=(1, 1))\n",
            "    (18): ReLU(inplace=True)\n",
            "    (19): Conv2d(512, 512, kernel_size=(3, 3), stride=(1, 1), padding=(1, 1))\n",
            "    (20): ReLU(inplace=True)\n",
            "    (21): Conv2d(512, 512, kernel_size=(3, 3), stride=(1, 1), padding=(1, 1))\n",
            "    (22): ReLU(inplace=True)\n",
            "    (23): MaxPool2d(kernel_size=2, stride=2, padding=0, dilation=1, ceil_mode=False)\n",
            "    (24): Conv2d(512, 512, kernel_size=(3, 3), stride=(1, 1), padding=(1, 1))\n",
            "    (25): ReLU(inplace=True)\n",
            "    (26): Conv2d(512, 512, kernel_size=(3, 3), stride=(1, 1), padding=(1, 1))\n",
            "    (27): ReLU(inplace=True)\n",
            "    (28): Conv2d(512, 512, kernel_size=(3, 3), stride=(1, 1), padding=(1, 1))\n",
            "    (29): ReLU(inplace=True)\n",
            "    (30): MaxPool2d(kernel_size=2, stride=2, padding=0, dilation=1, ceil_mode=False)\n",
            "  )\n",
            "  (avgpool): AdaptiveAvgPool2d(output_size=(7, 7))\n",
            "  (classifier): Sequential(\n",
            "    (0): Linear(in_features=25088, out_features=4096, bias=True)\n",
            "    (1): ReLU(inplace=True)\n",
            "    (2): Dropout(p=0.5, inplace=False)\n",
            "    (3): Linear(in_features=4096, out_features=4096, bias=True)\n",
            "    (4): ReLU(inplace=True)\n",
            "    (5): Dropout(p=0.5, inplace=False)\n",
            "    (6): Linear(in_features=4096, out_features=1000, bias=True)\n",
            "  )\n",
            ")\n"
          ]
        }
      ]
    },
    {
      "cell_type": "markdown",
      "metadata": {
        "id": "kXnksMg7GDC5"
      },
      "source": [
        "**1. Freeze the weights except for the top 3 layers**"
      ]
    },
    {
      "cell_type": "code",
      "metadata": {
        "colab": {
          "base_uri": "https://localhost:8080/"
        },
        "id": "uIE_85yYGBMj",
        "outputId": "afa608c3-8211-47cc-f802-5e83a8ec53c9"
      },
      "source": [
        "for name, param in VGG_model.named_parameters():\n",
        "  print(f'Name {name}')"
      ],
      "execution_count": null,
      "outputs": [
        {
          "output_type": "stream",
          "name": "stdout",
          "text": [
            "Name features.0.weight\n",
            "Name features.0.bias\n",
            "Name features.2.weight\n",
            "Name features.2.bias\n",
            "Name features.5.weight\n",
            "Name features.5.bias\n",
            "Name features.7.weight\n",
            "Name features.7.bias\n",
            "Name features.10.weight\n",
            "Name features.10.bias\n",
            "Name features.12.weight\n",
            "Name features.12.bias\n",
            "Name features.14.weight\n",
            "Name features.14.bias\n",
            "Name features.17.weight\n",
            "Name features.17.bias\n",
            "Name features.19.weight\n",
            "Name features.19.bias\n",
            "Name features.21.weight\n",
            "Name features.21.bias\n",
            "Name features.24.weight\n",
            "Name features.24.bias\n",
            "Name features.26.weight\n",
            "Name features.26.bias\n",
            "Name features.28.weight\n",
            "Name features.28.bias\n",
            "Name classifier.0.weight\n",
            "Name classifier.0.bias\n",
            "Name classifier.3.weight\n",
            "Name classifier.3.bias\n",
            "Name classifier.6.weight\n",
            "Name classifier.6.bias\n"
          ]
        }
      ]
    },
    {
      "cell_type": "markdown",
      "metadata": {
        "id": "Ttf5Q2xpKP8h"
      },
      "source": [
        "Freeze:"
      ]
    },
    {
      "cell_type": "code",
      "metadata": {
        "colab": {
          "base_uri": "https://localhost:8080/"
        },
        "id": "Mbfl6Gq8KzhP",
        "outputId": "115e1809-0158-4463-f7d7-09c7b2dff5fe"
      },
      "source": [
        "layers_not_to_freeze = ['24', '26', '28']\n",
        "\n",
        "for name, param in VGG_model.named_parameters():\n",
        "    layer_type, layer_index = name.split('.')[0], name.split('.')[1]\n",
        "\n",
        "    if layer_type != \"classifier\":\n",
        "        if layer_index not in layers_not_to_freeze:\n",
        "            print(f\"Layer {layer_index}: {name} freezed\")\n",
        "            param.requires_grad = False\n",
        "        else:\n",
        "            print(f\"Layer {layer_index}: {name} not freezed\")\n",
        "            param.requires_grad = True"
      ],
      "execution_count": null,
      "outputs": [
        {
          "output_type": "stream",
          "name": "stdout",
          "text": [
            "Layer 0: features.0.weight freezed\n",
            "Layer 0: features.0.bias freezed\n",
            "Layer 2: features.2.weight freezed\n",
            "Layer 2: features.2.bias freezed\n",
            "Layer 5: features.5.weight freezed\n",
            "Layer 5: features.5.bias freezed\n",
            "Layer 7: features.7.weight freezed\n",
            "Layer 7: features.7.bias freezed\n",
            "Layer 10: features.10.weight freezed\n",
            "Layer 10: features.10.bias freezed\n",
            "Layer 12: features.12.weight freezed\n",
            "Layer 12: features.12.bias freezed\n",
            "Layer 14: features.14.weight freezed\n",
            "Layer 14: features.14.bias freezed\n",
            "Layer 17: features.17.weight freezed\n",
            "Layer 17: features.17.bias freezed\n",
            "Layer 19: features.19.weight freezed\n",
            "Layer 19: features.19.bias freezed\n",
            "Layer 21: features.21.weight freezed\n",
            "Layer 21: features.21.bias freezed\n",
            "Layer 24: features.24.weight not freezed\n",
            "Layer 24: features.24.bias not freezed\n",
            "Layer 26: features.26.weight not freezed\n",
            "Layer 26: features.26.bias not freezed\n",
            "Layer 28: features.28.weight not freezed\n",
            "Layer 28: features.28.bias not freezed\n"
          ]
        }
      ]
    },
    {
      "cell_type": "markdown",
      "metadata": {
        "id": "msX8K1DT7sH_"
      },
      "source": [
        "**2. Rewrite the classifier:**\n"
      ]
    },
    {
      "cell_type": "code",
      "metadata": {
        "id": "PA7HBnoN8cSw"
      },
      "source": [
        "# define out classifier\n",
        "binary_classifier = nn.Sequential(\n",
        "   nn.Linear(in_features=25088, out_features=2048),\n",
        "   nn.ReLU(),\n",
        "   nn.Linear(in_features=2048, out_features=1024),\n",
        "   nn.ReLU(),\n",
        "   nn.Linear(in_features=1024, out_features=512),\n",
        "   nn.ReLU(),\n",
        "   nn.Linear(in_features=512, out_features=1)\n",
        ")\n",
        "\n",
        "# replace model class classifier attribute:\n",
        "VGG_model.classifier = binary_classifier"
      ],
      "execution_count": null,
      "outputs": []
    },
    {
      "cell_type": "code",
      "metadata": {
        "colab": {
          "base_uri": "https://localhost:8080/"
        },
        "id": "O-nowRGs-u1l",
        "outputId": "6854c8bd-64c8-4c9a-8edd-e2348e77d39a"
      },
      "source": [
        "VGG_model"
      ],
      "execution_count": null,
      "outputs": [
        {
          "output_type": "execute_result",
          "data": {
            "text/plain": [
              "VGG(\n",
              "  (features): Sequential(\n",
              "    (0): Conv2d(3, 64, kernel_size=(3, 3), stride=(1, 1), padding=(1, 1))\n",
              "    (1): ReLU(inplace=True)\n",
              "    (2): Conv2d(64, 64, kernel_size=(3, 3), stride=(1, 1), padding=(1, 1))\n",
              "    (3): ReLU(inplace=True)\n",
              "    (4): MaxPool2d(kernel_size=2, stride=2, padding=0, dilation=1, ceil_mode=False)\n",
              "    (5): Conv2d(64, 128, kernel_size=(3, 3), stride=(1, 1), padding=(1, 1))\n",
              "    (6): ReLU(inplace=True)\n",
              "    (7): Conv2d(128, 128, kernel_size=(3, 3), stride=(1, 1), padding=(1, 1))\n",
              "    (8): ReLU(inplace=True)\n",
              "    (9): MaxPool2d(kernel_size=2, stride=2, padding=0, dilation=1, ceil_mode=False)\n",
              "    (10): Conv2d(128, 256, kernel_size=(3, 3), stride=(1, 1), padding=(1, 1))\n",
              "    (11): ReLU(inplace=True)\n",
              "    (12): Conv2d(256, 256, kernel_size=(3, 3), stride=(1, 1), padding=(1, 1))\n",
              "    (13): ReLU(inplace=True)\n",
              "    (14): Conv2d(256, 256, kernel_size=(3, 3), stride=(1, 1), padding=(1, 1))\n",
              "    (15): ReLU(inplace=True)\n",
              "    (16): MaxPool2d(kernel_size=2, stride=2, padding=0, dilation=1, ceil_mode=False)\n",
              "    (17): Conv2d(256, 512, kernel_size=(3, 3), stride=(1, 1), padding=(1, 1))\n",
              "    (18): ReLU(inplace=True)\n",
              "    (19): Conv2d(512, 512, kernel_size=(3, 3), stride=(1, 1), padding=(1, 1))\n",
              "    (20): ReLU(inplace=True)\n",
              "    (21): Conv2d(512, 512, kernel_size=(3, 3), stride=(1, 1), padding=(1, 1))\n",
              "    (22): ReLU(inplace=True)\n",
              "    (23): MaxPool2d(kernel_size=2, stride=2, padding=0, dilation=1, ceil_mode=False)\n",
              "    (24): Conv2d(512, 512, kernel_size=(3, 3), stride=(1, 1), padding=(1, 1))\n",
              "    (25): ReLU(inplace=True)\n",
              "    (26): Conv2d(512, 512, kernel_size=(3, 3), stride=(1, 1), padding=(1, 1))\n",
              "    (27): ReLU(inplace=True)\n",
              "    (28): Conv2d(512, 512, kernel_size=(3, 3), stride=(1, 1), padding=(1, 1))\n",
              "    (29): ReLU(inplace=True)\n",
              "    (30): MaxPool2d(kernel_size=2, stride=2, padding=0, dilation=1, ceil_mode=False)\n",
              "  )\n",
              "  (avgpool): AdaptiveAvgPool2d(output_size=(7, 7))\n",
              "  (classifier): Sequential(\n",
              "    (0): Linear(in_features=25088, out_features=2048, bias=True)\n",
              "    (1): ReLU()\n",
              "    (2): Linear(in_features=2048, out_features=1024, bias=True)\n",
              "    (3): ReLU()\n",
              "    (4): Linear(in_features=1024, out_features=512, bias=True)\n",
              "    (5): ReLU()\n",
              "    (6): Linear(in_features=512, out_features=1, bias=True)\n",
              "  )\n",
              ")"
            ]
          },
          "metadata": {},
          "execution_count": 34
        }
      ]
    },
    {
      "cell_type": "markdown",
      "metadata": {
        "id": "BvKx6sKb78yq"
      },
      "source": [
        "**2. Train the model:**"
      ]
    },
    {
      "cell_type": "code",
      "metadata": {
        "colab": {
          "base_uri": "https://localhost:8080/"
        },
        "id": "q8rthjtn73A_",
        "outputId": "af1031d2-2f4a-460f-eb19-be8e180b3cc8"
      },
      "source": [
        "history = train_model(VGG_model, train_data, valid_data, device, batch_size=32, epochs=30, lr=0.000001)"
      ],
      "execution_count": null,
      "outputs": [
        {
          "output_type": "stream",
          "name": "stdout",
          "text": [
            "Training Start\n"
          ]
        },
        {
          "output_type": "stream",
          "name": "stderr",
          "text": [
            "/usr/local/lib/python3.7/dist-packages/torch/nn/functional.py:718: UserWarning: Named tensors and all their associated APIs are an experimental feature and subject to change. Please do not use them for anything important until they are released as stable. (Triggered internally at  /pytorch/c10/core/TensorImpl.h:1156.)\n",
            "  return torch.max_pool2d(input, kernel_size, stride, padding, dilation, ceil_mode)\n"
          ]
        },
        {
          "output_type": "stream",
          "name": "stdout",
          "text": [
            "Epoch:1 / 30, train loss:0.6879 train_acc:0.6357, valid loss:0.6821 valid acc:0.7115\n",
            "Epoch:2 / 30, train loss:0.6763 train_acc:0.7204, valid loss:0.6675 valid acc:0.7139\n",
            "Epoch:3 / 30, train loss:0.6534 train_acc:0.7854, valid loss:0.6405 valid acc:0.7716\n",
            "Epoch:4 / 30, train loss:0.6102 train_acc:0.7928, valid loss:0.5917 valid acc:0.7861\n",
            "Epoch:5 / 30, train loss:0.5496 train_acc:0.8010, valid loss:0.5107 valid acc:0.8077\n",
            "Epoch:6 / 30, train loss:0.4763 train_acc:0.8347, valid loss:0.4456 valid acc:0.8149\n",
            "Epoch:7 / 30, train loss:0.4200 train_acc:0.8248, valid loss:0.4041 valid acc:0.8053\n",
            "Epoch:8 / 30, train loss:0.3732 train_acc:0.8388, valid loss:0.3657 valid acc:0.8462\n",
            "Epoch:9 / 30, train loss:0.3343 train_acc:0.8635, valid loss:0.3490 valid acc:0.8341\n",
            "Epoch:10 / 30, train loss:0.3201 train_acc:0.8561, valid loss:0.3300 valid acc:0.8558\n",
            "Epoch:11 / 30, train loss:0.2875 train_acc:0.8668, valid loss:0.3077 valid acc:0.8341\n",
            "Epoch:12 / 30, train loss:0.2653 train_acc:0.8906, valid loss:0.2858 valid acc:0.8558\n",
            "Epoch:13 / 30, train loss:0.2778 train_acc:0.8725, valid loss:0.2961 valid acc:0.8341\n",
            "Epoch:14 / 30, train loss:0.2775 train_acc:0.8775, valid loss:0.2493 valid acc:0.8726\n",
            "Epoch:15 / 30, train loss:0.2588 train_acc:0.8742, valid loss:0.2736 valid acc:0.8558\n",
            "Epoch:16 / 30, train loss:0.2607 train_acc:0.8725, valid loss:0.2787 valid acc:0.8702\n",
            "Epoch:17 / 30, train loss:0.2429 train_acc:0.8865, valid loss:0.3232 valid acc:0.8197\n",
            "Epoch:18 / 30, train loss:0.2555 train_acc:0.8709, valid loss:0.2595 valid acc:0.8582\n",
            "Epoch:19 / 30, train loss:0.2343 train_acc:0.8956, valid loss:0.2851 valid acc:0.8438\n",
            "Epoch:20 / 30, train loss:0.2278 train_acc:0.8980, valid loss:0.2744 valid acc:0.8558\n",
            "Epoch:21 / 30, train loss:0.2280 train_acc:0.8857, valid loss:0.2731 valid acc:0.8534\n",
            "Epoch:22 / 30, train loss:0.2138 train_acc:0.8923, valid loss:0.2401 valid acc:0.8654\n",
            "Epoch:23 / 30, train loss:0.2311 train_acc:0.8931, valid loss:0.2345 valid acc:0.8678\n",
            "Epoch:24 / 30, train loss:0.2306 train_acc:0.8832, valid loss:0.2942 valid acc:0.8558\n",
            "Epoch:25 / 30, train loss:0.2207 train_acc:0.8947, valid loss:0.2710 valid acc:0.8678\n",
            "Epoch:26 / 30, train loss:0.2082 train_acc:0.8997, valid loss:0.2463 valid acc:0.8750\n",
            "Epoch:27 / 30, train loss:0.2146 train_acc:0.8939, valid loss:0.2563 valid acc:0.8534\n",
            "Epoch:28 / 30, train loss:0.2078 train_acc:0.8997, valid loss:0.2662 valid acc:0.8654\n",
            "Epoch:29 / 30, train loss:0.2041 train_acc:0.9021, valid loss:0.2670 valid acc:0.8558\n",
            "Epoch:30 / 30, train loss:0.2021 train_acc:0.9054, valid loss:0.2612 valid acc:0.8582\n"
          ]
        }
      ]
    },
    {
      "cell_type": "code",
      "metadata": {
        "id": "cFBWe4OW_hgN",
        "colab": {
          "base_uri": "https://localhost:8080/",
          "height": 545
        },
        "outputId": "0a08e4e0-9fd7-4889-f920-a19913e716d3"
      },
      "source": [
        "# acc\n",
        "plt.plot(range(1, 31), history['train_acc'], label='Train')\n",
        "plt.plot(range(1, 31), history['test_acc'], label='Valid')\n",
        "plt.title('Accuracy')\n",
        "plt.legend()\n",
        "plt.show()\n",
        "\n",
        "# loss\n",
        "plt.plot(range(1, 31), history['train_loss'], label='Train')\n",
        "plt.plot(range(1, 31), history['test_loss'], label='Valid')\n",
        "plt.title('Loss')\n",
        "plt.legend()\n",
        "plt.show()"
      ],
      "execution_count": null,
      "outputs": [
        {
          "output_type": "display_data",
          "data": {
            "image/png": "[encoded data removed]",
            "text/plain": [
              "<Figure size 432x288 with 1 Axes>"
            ]
          },
          "metadata": {
            "needs_background": "light"
          }
        },
        {
          "output_type": "display_data",
          "data": {
            "image/png": "[encoded data removed]",
            "text/plain": [
              "<Figure size 432x288 with 1 Axes>"
            ]
          },
          "metadata": {
            "needs_background": "light"
          }
        }
      ]
    }
  ]
}
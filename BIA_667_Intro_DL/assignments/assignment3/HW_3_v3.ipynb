{
  "nbformat": 4,
  "nbformat_minor": 0,
  "metadata": {
    "accelerator": "GPU",
    "colab": {
      "name": "good_version.ipynb",
      "provenance": [],
      "collapsed_sections": [],
      "machine_shape": "hm"
    },
    "kernelspec": {
      "display_name": "Python 3",
      "language": "python",
      "name": "python3"
    },
    "language_info": {
      "codemirror_mode": {
        "name": "ipython",
        "version": 3
      },
      "file_extension": ".py",
      "mimetype": "text/x-python",
      "name": "python",
      "nbconvert_exporter": "python",
      "pygments_lexer": "ipython3",
      "version": "3.9.0"
    },
    "latex_envs": {
      "LaTeX_envs_menu_present": true,
      "autoclose": false,
      "autocomplete": true,
      "bibliofile": "biblio.bib",
      "cite_by": "apalike",
      "current_citInitial": 1,
      "eqLabelWithNumbers": true,
      "eqNumInitial": 1,
      "hotkeys": {
        "equation": "Ctrl-E",
        "itemize": "Ctrl-I"
      },
      "labels_anchors": false,
      "latex_user_defs": false,
      "report_style_numbering": false,
      "user_envs_cfg": false
    },
    "toc": {
      "base_numbering": 1,
      "nav_menu": {},
      "number_sections": true,
      "sideBar": true,
      "skip_h1_title": false,
      "title_cell": "Table of Contents",
      "title_sidebar": "Contents",
      "toc_cell": true,
      "toc_position": {},
      "toc_section_display": true,
      "toc_window_display": false
    }
  },
  "cells": [
    {
      "cell_type": "markdown",
      "metadata": {
        "id": "GV42Dnaqs1l3"
      },
      "source": [
        "# HW 3: CNN for Image and Text Classification\n",
        "\n",
        "In this assignment, we'll have two experiments:\n",
        "- Image classification: Diagnose COVID-19 by CT images\n",
        "- Text classification: Let's redo the news classification task of HW #2 using CNN"
      ]
    },
    {
      "cell_type": "markdown",
      "metadata": {
        "id": "SG6wegcfs1l6"
      },
      "source": [
        "## Q1: Diagnose COVID-19 by CT images (7 points)\n",
        "\n",
        "Please first download the CT images\n",
        "- `COVID-19 CT scans`: https://github.com/UCSD-AI4H/COVID-CT/blob/master/Images-processed/CT_COVID.zip. In total, there are 349 images.\n",
        "- `Non-COVID-19 Scans`: https://github.com/UCSD-AI4H/COVID-CT/blob/master/Images-processed/CT_NonCOVID.zip. There are 397 images in total.\n",
        "\n",
        "This dataset may be a little small for CNN models. Let's just use this dataset to practice CNN models."
      ]
    },
    {
      "cell_type": "code",
      "metadata": {
        "colab": {
          "base_uri": "https://localhost:8080/"
        },
        "id": "yKTxSJY6d5PN",
        "outputId": "6ad7e95f-d150-4b01-9dd3-ac5120c86904"
      },
      "source": [
        "from google.colab import drive\n",
        "drive.mount('/content/drive')\n"
      ],
      "execution_count": 5,
      "outputs": [
        {
          "output_type": "stream",
          "name": "stdout",
          "text": [
            "Drive already mounted at /content/drive; to attempt to forcibly remount, call drive.mount(\"/content/drive\", force_remount=True).\n"
          ]
        }
      ]
    },
    {
      "cell_type": "code",
      "metadata": {
        "colab": {
          "base_uri": "https://localhost:8080/"
        },
        "id": "rLFAYRT70yX-",
        "outputId": "40066cbc-e949-423c-ae1e-51d12e5875e5"
      },
      "source": [
        "! wget https://github.com/UCSD-AI4H/COVID-CT/blob/master/Images-processed/CT_COVID.zip"
      ],
      "execution_count": null,
      "outputs": [
        {
          "output_type": "stream",
          "name": "stdout",
          "text": [
            "--2021-11-02 01:45:23--  https://github.com/UCSD-AI4H/COVID-CT/blob/master/Images-processed/CT_COVID.zip\n",
            "Resolving github.com (github.com)... 140.82.112.3\n",
            "Connecting to github.com (github.com)|140.82.112.3|:443... connected.\n",
            "HTTP request sent, awaiting response... 200 OK\n",
            "Length: unspecified [text/html]\n",
            "Saving to: ‘CT_COVID.zip’\n",
            "\n",
            "CT_COVID.zip            [ <=>                ] 137.03K  --.-KB/s    in 0.08s   \n",
            "\n",
            "2021-11-02 01:45:23 (1.76 MB/s) - ‘CT_COVID.zip’ saved [140323]\n",
            "\n"
          ]
        }
      ]
    },
    {
      "cell_type": "code",
      "metadata": {
        "colab": {
          "base_uri": "https://localhost:8080/"
        },
        "id": "nbAfCkSf01l9",
        "outputId": "fd3f2b58-7d1a-45d2-93c7-cb0e4404e0ac"
      },
      "source": [
        "!wget  https://github.com/UCSD-AI4H/COVID-CT/blob/master/Images-processed/CT_NonCOVID.zip"
      ],
      "execution_count": null,
      "outputs": [
        {
          "output_type": "stream",
          "name": "stdout",
          "text": [
            "--2021-11-02 01:45:23--  https://github.com/UCSD-AI4H/COVID-CT/blob/master/Images-processed/CT_NonCOVID.zip\n",
            "Resolving github.com (github.com)... 140.82.114.3\n",
            "Connecting to github.com (github.com)|140.82.114.3|:443... connected.\n",
            "HTTP request sent, awaiting response... 200 OK\n",
            "Length: unspecified [text/html]\n",
            "Saving to: ‘CT_NonCOVID.zip’\n",
            "\n",
            "CT_NonCOVID.zip         [ <=>                ] 131.98K  --.-KB/s    in 0.08s   \n",
            "\n",
            "2021-11-02 01:45:24 (1.68 MB/s) - ‘CT_NonCOVID.zip’ saved [135148]\n",
            "\n"
          ]
        }
      ]
    },
    {
      "cell_type": "markdown",
      "metadata": {
        "id": "REjuP9BJs1l7"
      },
      "source": [
        "### Q1.1. Data Preprocessing (1 point)\n",
        "\n",
        "- Refer to CNN labs to read the image files and create datasets.\n",
        "- For each class, use 60% images for training, 20% for validation, and 20% for testing. The split has been created for you.\n",
        "- Create a Dataset class so that you can preprocess images and generate mini-batches for training. Since the CT scans are grayscale (only 1 channel), you can transform all images to grayscale. "
      ]
    },
    {
      "cell_type": "code",
      "metadata": {
        "colab": {
          "base_uri": "https://localhost:8080/"
        },
        "id": "VguKXUfHfW8K",
        "outputId": "60de965f-59e9-46f7-eb2c-704ea0a1d079"
      },
      "source": [
        "! pip install torchinfo"
      ],
      "execution_count": 6,
      "outputs": [
        {
          "output_type": "stream",
          "name": "stdout",
          "text": [
            "Requirement already satisfied: torchinfo in /usr/local/lib/python3.7/dist-packages (1.5.3)\n"
          ]
        }
      ]
    },
    {
      "cell_type": "code",
      "metadata": {
        "ExecuteTime": {
          "end_time": "2020-11-12T08:59:53.163994Z",
          "start_time": "2020-11-12T08:59:50.479974Z"
        },
        "id": "VtyiMk6Ws1l7"
      },
      "source": [
        "import os\n",
        "import glob\n",
        "import sklearn\n",
        "import concurrent\n",
        "import numpy as np\n",
        "from PIL import Image\n",
        "import zipfile\n",
        "import shutil\n",
        "import random\n",
        "\n",
        "\n",
        "os.environ['CUDA_LAUNCH_BLOCKING'] = \"1\"\n",
        "\n",
        "# add your import here\n",
        "from sklearn.model_selection import train_test_split\n",
        "import matplotlib.pyplot as plt\n",
        "import torch\n",
        "import torch.nn as nn\n",
        "import torchvision\n",
        "import torchvision.transforms as transforms\n",
        "from torch.utils.data import DataLoader, random_split, Dataset\n",
        "from torchinfo import summary\n",
        "\n",
        "from IPython.core.interactiveshell import InteractiveShell\n",
        "InteractiveShell.ast_node_interactivity = \"all\"\n"
      ],
      "execution_count": 7,
      "outputs": []
    },
    {
      "cell_type": "code",
      "metadata": {
        "id": "uxJYpmsjs1l8",
        "colab": {
          "base_uri": "https://localhost:8080/"
        },
        "outputId": "ff17137a-6bc6-4c03-9033-c710808458d5"
      },
      "source": [
        "# set random seed to so that work can be replicated\n",
        "\n",
        "random_seed = 124\n",
        "np.random.seed(random_seed)\n",
        "\n",
        "torch.manual_seed(random_seed)\n",
        "torch.backends.cudnn.deterministic = True"
      ],
      "execution_count": 8,
      "outputs": [
        {
          "output_type": "execute_result",
          "data": {
            "text/plain": [
              "<torch._C.Generator at 0x7f0353d24e50>"
            ]
          },
          "metadata": {},
          "execution_count": 8
        }
      ]
    },
    {
      "cell_type": "code",
      "metadata": {
        "id": "trpq0JQyI7gN"
      },
      "source": [
        "device = torch.device(\"cuda\" if torch.cuda.is_available() else \"cpu\")"
      ],
      "execution_count": 9,
      "outputs": []
    },
    {
      "cell_type": "code",
      "metadata": {
        "id": "4nsLOYvHs1l8"
      },
      "source": [
        "# load data and split data to train, evaluation and test\n",
        "# cur_path = \"/content/drive/MyDrive/BIA_667_Intro_DL/assignments/assignment3\"\n",
        "cur_path = \"/content/drive/MyDrive/BIA-667/assignment3\"\n",
        "pos_files = [f for f in glob.glob(os.path.join(cur_path, 'CT_COVID','*.*'))]\n",
        "neg_files = [f for f in  glob.glob(os.path.join(cur_path, 'CT_NonCOVID','*.*'))]\n",
        "\n",
        "images = pos_files + neg_files\n",
        "labels = np.array([1]*len(pos_files)+[0]*len(neg_files))\n",
        "\n",
        "images_tv, images_test, y_tv, y_test  = train_test_split(images, labels, shuffle=True, test_size=0.2, random_state=123)\n",
        "images_train, images_val, y_train, y_val  = train_test_split(images_tv, y_tv, shuffle=True, test_size=0.25, random_state=123)"
      ],
      "execution_count": 10,
      "outputs": []
    },
    {
      "cell_type": "code",
      "metadata": {
        "colab": {
          "base_uri": "https://localhost:8080/"
        },
        "id": "DeV04OaDs1l9",
        "outputId": "344667c7-632f-4d97-9e0d-50d228816601"
      },
      "source": [
        "print(len(y_train), len(y_val), len(y_test))\n",
        "\n",
        "print(y_train.sum(), y_val.sum(), y_test.sum())"
      ],
      "execution_count": 12,
      "outputs": [
        {
          "output_type": "stream",
          "name": "stdout",
          "text": [
            "447 149 150\n",
            "207 71 71\n"
          ]
        }
      ]
    },
    {
      "cell_type": "code",
      "metadata": {
        "colab": {
          "base_uri": "https://localhost:8080/",
          "height": 37
        },
        "id": "BCBKm6dOaBD8",
        "outputId": "fd86226f-42f8-4e43-986e-e39b8efb1637"
      },
      "source": [
        "pos_files[0]"
      ],
      "execution_count": 11,
      "outputs": [
        {
          "output_type": "execute_result",
          "data": {
            "application/vnd.google.colaboratory.intrinsic+json": {
              "type": "string"
            },
            "text/plain": [
              "'/content/drive/MyDrive/BIA-667/assignment3/CT_COVID/2020.03.04.20031047-p13-84_2.png'"
            ]
          },
          "metadata": {},
          "execution_count": 11
        }
      ]
    },
    {
      "cell_type": "code",
      "metadata": {
        "id": "gySW74Kys1l9"
      },
      "source": [
        "# create Dataset class\n",
        "\n",
        "class CT_Dataset(Dataset):\n",
        "    def __init__(self, img_path, img_labels, img_transforms=None):\n",
        "        self.img_path = img_path\n",
        "        self.img_labels = torch.Tensor(img_labels)\n",
        "        # if img_transforms is None:\n",
        "        #     self.transforms = transforms.ToTensor()\n",
        "        # else:\n",
        "        self.transforms = img_transforms\n",
        "    \n",
        "    def __getitem__(self, index):\n",
        "        cur_path = self.img_path[index] \n",
        "        cur_img = Image.open(cur_path).convert('RGB')\n",
        "        cur_img = self.transforms(cur_img)\n",
        "        return cur_img, self.img_labels[index]\n",
        "    \n",
        "    def __len__(self):\n",
        "        return len(self.img_path)\n",
        "    "
      ],
      "execution_count": 13,
      "outputs": []
    },
    {
      "cell_type": "code",
      "metadata": {
        "id": "RaGtf1NVi5GG"
      },
      "source": [
        "resize_transforms = transforms.Compose([\n",
        "                                        transforms.Resize((255, 255)),\n",
        "                                        transforms.Grayscale(num_output_channels=1), \n",
        "                                        transforms.ToTensor()\n",
        "                                        ])"
      ],
      "execution_count": 14,
      "outputs": []
    },
    {
      "cell_type": "code",
      "metadata": {
        "id": "KfZZ7Q7MaQpD"
      },
      "source": [
        "# images_train, images_val, y_train, y_val\n",
        "train_data = CT_Dataset(images_train, y_train, img_transforms=resize_transforms)\n",
        "test_data = CT_Dataset(images_val, y_val, img_transforms=resize_transforms) "
      ],
      "execution_count": 20,
      "outputs": []
    },
    {
      "cell_type": "markdown",
      "metadata": {
        "id": "8-9dcNC0s1l9"
      },
      "source": [
        "### Q1.2. Build Model (2 points)\n",
        "\n",
        "- Create a CNN models with appropriate layers of `Convolution`, `MaxPooling2D`, and `Dense` layers. Use appropriate activation functions for these layers.\n",
        "- Since this dataset is small, it may be easily get overfitted. Leverage `Dropout` or other regularization techniques to fight overfitting\n",
        "- Configure your model with appropriate optimizer and loss function."
      ]
    },
    {
      "cell_type": "code",
      "metadata": {
        "id": "EuKB1BUqs1l-"
      },
      "source": [
        "# define CNN mode\n",
        "\n",
        "class Convnet(nn.Module):\n",
        "    def __init__(self, dropout_ratio=0.3):\n",
        "        super(Convnet, self).__init__()\n",
        "        # conv net 1, 150, 150 \n",
        "        self.convnet = nn.Sequential(\n",
        "            nn.Conv2d(in_channels=1, out_channels=32, kernel_size=5),  \n",
        "            nn.ReLU(),\n",
        "            nn.MaxPool2d(kernel_size=2),\n",
        "\n",
        "            # nn.Conv2d(in_channels=32, out_channels=64, kernel_size=3),  \n",
        "            # nn.ReLU(),\n",
        "            # nn.MaxPool2d(kernel_size=2),\n",
        "            \n",
        "            nn.Conv2d(in_channels=32, out_channels=32, kernel_size=5),  # (64, 3, 3)\n",
        "            nn.Flatten() # 64*3*3 features after flattening \n",
        "        )\n",
        "        # classifier\n",
        "        self.classifier = nn.Sequential(\n",
        "            nn.Dropout(dropout_ratio),\n",
        "            nn.Linear(in_features=468512, out_features=64),  # 576 = 64 * 3 * 3\n",
        "            nn.ReLU(),\n",
        "            nn.Linear(in_features=64, out_features=1)\n",
        "        )\n",
        "    def forward(self, x):\n",
        "        x = self.convnet(x)\n",
        "        x = self.classifier(x)\n",
        "\n",
        "        return x"
      ],
      "execution_count": 15,
      "outputs": []
    },
    {
      "cell_type": "code",
      "metadata": {
        "id": "VRsyaWtCMbMp",
        "colab": {
          "base_uri": "https://localhost:8080/"
        },
        "outputId": "93b69de5-8f37-445b-dba1-d9c934f6c778"
      },
      "source": [
        "visual_model = Convnet()\n",
        "print(visual_model)"
      ],
      "execution_count": 16,
      "outputs": [
        {
          "output_type": "stream",
          "name": "stdout",
          "text": [
            "Convnet(\n",
            "  (convnet): Sequential(\n",
            "    (0): Conv2d(1, 32, kernel_size=(5, 5), stride=(1, 1))\n",
            "    (1): ReLU()\n",
            "    (2): MaxPool2d(kernel_size=2, stride=2, padding=0, dilation=1, ceil_mode=False)\n",
            "    (3): Conv2d(32, 32, kernel_size=(5, 5), stride=(1, 1))\n",
            "    (4): Flatten(start_dim=1, end_dim=-1)\n",
            "  )\n",
            "  (classifier): Sequential(\n",
            "    (0): Dropout(p=0.3, inplace=False)\n",
            "    (1): Linear(in_features=468512, out_features=64, bias=True)\n",
            "    (2): ReLU()\n",
            "    (3): Linear(in_features=64, out_features=1, bias=True)\n",
            "  )\n",
            ")\n"
          ]
        }
      ]
    },
    {
      "cell_type": "markdown",
      "metadata": {
        "id": "LKCZfOPPs1l-"
      },
      "source": [
        "### Q1.3. Fit your model (2 points)\n",
        "\n",
        "- Define a function to train the model until it converges. You should use the `evaluation dataset` to control the training process such that the model is not overfitted.\n",
        "- Plot the loss and accuracy of the model over the training and validation data\n",
        "- Test the model using `test dataset` and show the test accuracy. If everything goes well, the test accuracy should be 65% or higher"
      ]
    },
    {
      "cell_type": "code",
      "metadata": {
        "id": "X45Q2k03cHE-"
      },
      "source": [
        "import numpy as np\n",
        "import torch\n",
        "\n",
        "class EarlyStopping:\n",
        "    \"\"\"Early stops the training if validation loss doesn't improve after a given patience.\"\"\"\n",
        "    def __init__(self, patience=7, verbose=False, delta=0, path='checkpoint.pt', trace_func=print):\n",
        "        \"\"\"\n",
        "        Args:\n",
        "            patience (int): How long to wait after last time validation loss improved.\n",
        "                            Default: 7\n",
        "            verbose (bool): If True, prints a message for each validation loss improvement. \n",
        "                            Default: False\n",
        "            delta (float): Minimum change in the monitored quantity to qualify as an improvement.\n",
        "                            Default: 0\n",
        "            path (str): Path for the checkpoint to be saved to.\n",
        "                            Default: 'checkpoint.pt'\n",
        "            trace_func (function): trace print function.\n",
        "                            Default: print            \n",
        "        \"\"\"\n",
        "        self.patience = patience\n",
        "        self.verbose = verbose\n",
        "        self.counter = 0\n",
        "        self.best_score = None\n",
        "        self.early_stop = False\n",
        "        self.val_loss_min = np.Inf\n",
        "        self.delta = delta\n",
        "        self.path = path\n",
        "        self.trace_func = trace_func\n",
        "    def __call__(self, val_loss, model):\n",
        "\n",
        "        score = -val_loss\n",
        "\n",
        "        if self.best_score is None:\n",
        "            self.best_score = score\n",
        "            # self.save_checkpoint(val_loss, model)\n",
        "        elif score < self.best_score + self.delta:\n",
        "            self.counter += 1\n",
        "            self.trace_func(f'EarlyStopping counter: {self.counter} out of {self.patience}')\n",
        "            if self.counter >= self.patience:\n",
        "                self.early_stop = True\n",
        "        else:\n",
        "            self.best_score = score\n",
        "            self.save_checkpoint(val_loss, model)\n",
        "            self.counter = 0\n",
        "\n",
        "    def save_checkpoint(self, val_loss, model):\n",
        "        '''Saves model when validation loss decrease.'''\n",
        "        if self.verbose:\n",
        "            self.trace_func(f'Validation loss decreased ({self.val_loss_min:.6f} --> {val_loss:.6f}).  Saving model ...')\n",
        "        torch.save(model.state_dict(), self.path)\n",
        "        self.val_loss_min = val_loss\n"
      ],
      "execution_count": 126,
      "outputs": []
    },
    {
      "cell_type": "code",
      "metadata": {
        "id": "2pLvlcL3s1l-"
      },
      "source": [
        "# define training function\n",
        "\n",
        "def train_model(model, train_dataset, test_dataset, device, \n",
        "                lr=0.0001, epochs=30, batch_size=32):\n",
        "    # construct dataloader\n",
        "    train_loader = DataLoader(train_dataset, batch_size=batch_size, shuffle=True)\n",
        "    test_loader = DataLoader(test_dataset, batch_size=batch_size, shuffle=False)\n",
        "\n",
        "    # move model to device\n",
        "    model = model.to(device)\n",
        "    early_stopping = EarlyStopping(patience=5, verbose=True)\n",
        "\n",
        "    # history\n",
        "    history = {'train_loss': [],\n",
        "               'train_acc': [],\n",
        "               'test_loss': [],\n",
        "               'test_acc': []}\n",
        "    # setup loss function and optimizer\n",
        "    criterion = nn.BCEWithLogitsLoss()\n",
        "    optimizer = torch.optim.Adam(model.parameters(), lr=lr)\n",
        "    # training loop\n",
        "    print('Training Starts ')\n",
        "    for epoch in range(epochs):\n",
        "        model.train()\n",
        "        train_loss = 0\n",
        "        train_acc = 0\n",
        "        test_loss = 0\n",
        "        test_acc = 0\n",
        "        \n",
        "        for x, y in train_loader:\n",
        "            # move data to device\n",
        "            # print(\"what the\")\n",
        "            x = x.to(device)\n",
        "            y = y.to(device)\n",
        "            # forward\n",
        "            outputs = model(x).view(-1)  # (num_batch)\n",
        "            # print(outputs.shape)\n",
        "            # print(y.shape)\n",
        "            cur_train_loss = criterion(outputs, y)\n",
        "            pred = torch.sigmoid(outputs)\n",
        "            pred = torch.round(pred)\n",
        "            cur_train_acc = (pred == y).sum().item() / batch_size\n",
        "            # backward\n",
        "            cur_train_loss.backward()\n",
        "            optimizer.step()\n",
        "            optimizer.zero_grad()\n",
        "            # loss and acc\n",
        "            train_loss += cur_train_loss\n",
        "            train_acc += cur_train_acc\n",
        "\n",
        "        # test start\n",
        "        model.eval()\n",
        "        with torch.no_grad():\n",
        "            for x, y in test_loader:\n",
        "                # move\n",
        "                x = x.to(device)\n",
        "                y = y.to(device)\n",
        "                # predict\n",
        "                outputs = model(x).view(-1)\n",
        "                pred = torch.round(torch.sigmoid(outputs))\n",
        "                cur_test_loss = criterion(outputs, y)\n",
        "                cur_test_acc = (pred == y).sum().item() / batch_size \n",
        "                # loss and acc\n",
        "                test_loss += cur_test_loss\n",
        "                test_acc += cur_test_acc\n",
        "\n",
        "        # epoch output\n",
        "        train_loss = (train_loss/len(train_loader)).item()\n",
        "        train_acc = train_acc/len(train_loader)\n",
        "        val_loss = (test_loss/len(test_loader)).item()\n",
        "        val_acc = test_acc/len(test_loader)\n",
        "        history['train_loss'].append(train_loss)\n",
        "        history['train_acc'].append(train_acc)\n",
        "        history['test_loss'].append(val_loss)\n",
        "        history['test_acc'].append(val_acc)\n",
        "        print(f\"Epoch:{epoch + 1} / {epochs}, train loss:{train_loss:.4f} train_acc:{train_acc:.4f}, valid loss:{val_loss:.4f} valid acc:{val_acc:.4f}\")\n",
        "\n",
        "        early_stopping(val_loss, model)\n",
        "        if early_stopping.early_stop:\n",
        "            print(\"Early stopping\")\n",
        "            break\n",
        "    \n",
        "    return history\n",
        "    "
      ],
      "execution_count": 125,
      "outputs": []
    },
    {
      "cell_type": "code",
      "metadata": {
        "colab": {
          "base_uri": "https://localhost:8080/"
        },
        "id": "3SPY8jGzs1l_",
        "outputId": "8ba5bae6-764b-44a4-f2a7-8888ae1208cf"
      },
      "source": [
        "# Train the CNN model\n",
        "\n",
        "cnn_model = Convnet(dropout_ratio=0.4)\n",
        "device = torch.device(\"cuda\" if torch.cuda.is_available() else \"cpu\")\n",
        "history = train_model(cnn_model, train_data, test_data, device, batch_size=32, epochs=300, lr=0.00001)"
      ],
      "execution_count": 28,
      "outputs": [
        {
          "output_type": "stream",
          "name": "stdout",
          "text": [
            "Training Starts \n",
            "Epoch:1 / 300, train loss:0.6907 train_acc:0.5402, valid loss:0.6745 valid acc:0.5500\n",
            "Validation loss decreased (inf --> 0.674521).  Saving model ...\n",
            "Epoch:2 / 300, train loss:0.6636 train_acc:0.6116, valid loss:0.6544 valid acc:0.6125\n",
            "Validation loss decreased (0.674521 --> 0.654359).  Saving model ...\n",
            "Epoch:3 / 300, train loss:0.6457 train_acc:0.6540, valid loss:0.6431 valid acc:0.5625\n",
            "Validation loss decreased (0.654359 --> 0.643136).  Saving model ...\n",
            "Epoch:4 / 300, train loss:0.6480 train_acc:0.6473, valid loss:0.6348 valid acc:0.6312\n",
            "Validation loss decreased (0.643136 --> 0.634761).  Saving model ...\n",
            "Epoch:5 / 300, train loss:0.6226 train_acc:0.6629, valid loss:0.6216 valid acc:0.6500\n",
            "Validation loss decreased (0.634761 --> 0.621642).  Saving model ...\n",
            "Epoch:6 / 300, train loss:0.5943 train_acc:0.7031, valid loss:0.6433 valid acc:0.5625\n",
            "EarlyStopping counter: 1 out of 5\n",
            "Epoch:7 / 300, train loss:0.6021 train_acc:0.6696, valid loss:0.6269 valid acc:0.6000\n",
            "EarlyStopping counter: 2 out of 5\n",
            "Epoch:8 / 300, train loss:0.6021 train_acc:0.6808, valid loss:0.6202 valid acc:0.6188\n",
            "Validation loss decreased (0.621642 --> 0.620220).  Saving model ...\n",
            "Epoch:9 / 300, train loss:0.5624 train_acc:0.7455, valid loss:0.6098 valid acc:0.6250\n",
            "Validation loss decreased (0.620220 --> 0.609843).  Saving model ...\n",
            "Epoch:10 / 300, train loss:0.5519 train_acc:0.7545, valid loss:0.6122 valid acc:0.6250\n",
            "EarlyStopping counter: 1 out of 5\n",
            "Epoch:11 / 300, train loss:0.5386 train_acc:0.7656, valid loss:0.5985 valid acc:0.6500\n",
            "Validation loss decreased (0.609843 --> 0.598529).  Saving model ...\n",
            "Epoch:12 / 300, train loss:0.5264 train_acc:0.7701, valid loss:0.6062 valid acc:0.6312\n",
            "EarlyStopping counter: 1 out of 5\n",
            "Epoch:13 / 300, train loss:0.5245 train_acc:0.7746, valid loss:0.5929 valid acc:0.6562\n",
            "Validation loss decreased (0.598529 --> 0.592948).  Saving model ...\n",
            "Epoch:14 / 300, train loss:0.5406 train_acc:0.7478, valid loss:0.5880 valid acc:0.6813\n",
            "Validation loss decreased (0.592948 --> 0.587957).  Saving model ...\n",
            "Epoch:15 / 300, train loss:0.5220 train_acc:0.7545, valid loss:0.5799 valid acc:0.6750\n",
            "Validation loss decreased (0.587957 --> 0.579932).  Saving model ...\n",
            "Epoch:16 / 300, train loss:0.5079 train_acc:0.7612, valid loss:0.5822 valid acc:0.6625\n",
            "EarlyStopping counter: 1 out of 5\n",
            "Epoch:17 / 300, train loss:0.5036 train_acc:0.7656, valid loss:0.5989 valid acc:0.6375\n",
            "EarlyStopping counter: 2 out of 5\n",
            "Epoch:18 / 300, train loss:0.4963 train_acc:0.7723, valid loss:0.5753 valid acc:0.6813\n",
            "Validation loss decreased (0.579932 --> 0.575301).  Saving model ...\n",
            "Epoch:19 / 300, train loss:0.4773 train_acc:0.7835, valid loss:0.5741 valid acc:0.6813\n",
            "Validation loss decreased (0.575301 --> 0.574088).  Saving model ...\n",
            "Epoch:20 / 300, train loss:0.4713 train_acc:0.8058, valid loss:0.5761 valid acc:0.6500\n",
            "EarlyStopping counter: 1 out of 5\n",
            "Epoch:21 / 300, train loss:0.4726 train_acc:0.7790, valid loss:0.5942 valid acc:0.6562\n",
            "EarlyStopping counter: 2 out of 5\n",
            "Epoch:22 / 300, train loss:0.4812 train_acc:0.7835, valid loss:0.5713 valid acc:0.6625\n",
            "Validation loss decreased (0.574088 --> 0.571329).  Saving model ...\n",
            "Epoch:23 / 300, train loss:0.4594 train_acc:0.7946, valid loss:0.6172 valid acc:0.6188\n",
            "EarlyStopping counter: 1 out of 5\n",
            "Epoch:24 / 300, train loss:0.4729 train_acc:0.7835, valid loss:0.5899 valid acc:0.6625\n",
            "EarlyStopping counter: 2 out of 5\n",
            "Epoch:25 / 300, train loss:0.4463 train_acc:0.7991, valid loss:0.6063 valid acc:0.6438\n",
            "EarlyStopping counter: 3 out of 5\n",
            "Epoch:26 / 300, train loss:0.4356 train_acc:0.8147, valid loss:0.5844 valid acc:0.6687\n",
            "EarlyStopping counter: 4 out of 5\n",
            "Epoch:27 / 300, train loss:0.4323 train_acc:0.8170, valid loss:0.5869 valid acc:0.6562\n",
            "EarlyStopping counter: 5 out of 5\n",
            "Early stopping\n"
          ]
        }
      ]
    },
    {
      "cell_type": "code",
      "metadata": {
        "id": "9UM69BMws1mA",
        "colab": {
          "base_uri": "https://localhost:8080/",
          "height": 627
        },
        "outputId": "cba93e43-5014-41de-d5db-3937451ff873"
      },
      "source": [
        "# plot training curves\n",
        "\n",
        "epochs = range(1, len(history['train_loss']) + 1)\n",
        "\n",
        "plt.plot(epochs, history['train_loss'], 'r-', label='Train')\n",
        "plt.plot(epochs, history['test_loss'], 'b-', label='Evaluation')\n",
        "\n",
        "plt.title('Loss')\n",
        "plt.xlabel('Epochs')\n",
        "plt.ylabel('Loss')\n",
        "plt.legend()\n",
        "\n",
        "plt.show()\n",
        "\n",
        "plt.plot(epochs, history['train_acc'], 'r-', label='Train')\n",
        "plt.plot(epochs, history['test_acc'], 'b-', label='Evaluation')\n",
        "\n",
        "plt.title('Accuracy')\n",
        "plt.xlabel('Epochs')\n",
        "plt.ylabel('Acc')\n",
        "plt.legend()\n",
        "\n",
        "plt.show()"
      ],
      "execution_count": 29,
      "outputs": [
        {
          "output_type": "execute_result",
          "data": {
            "text/plain": [
              "[<matplotlib.lines.Line2D at 0x7f033204df10>]"
            ]
          },
          "metadata": {},
          "execution_count": 29
        },
        {
          "output_type": "execute_result",
          "data": {
            "text/plain": [
              "[<matplotlib.lines.Line2D at 0x7f03320606d0>]"
            ]
          },
          "metadata": {},
          "execution_count": 29
        },
        {
          "output_type": "execute_result",
          "data": {
            "text/plain": [
              "Text(0.5, 1.0, 'Loss')"
            ]
          },
          "metadata": {},
          "execution_count": 29
        },
        {
          "output_type": "execute_result",
          "data": {
            "text/plain": [
              "Text(0.5, 0, 'Epochs')"
            ]
          },
          "metadata": {},
          "execution_count": 29
        },
        {
          "output_type": "execute_result",
          "data": {
            "text/plain": [
              "Text(0, 0.5, 'Loss')"
            ]
          },
          "metadata": {},
          "execution_count": 29
        },
        {
          "output_type": "execute_result",
          "data": {
            "text/plain": [
              "<matplotlib.legend.Legend at 0x7f0332060b10>"
            ]
          },
          "metadata": {},
          "execution_count": 29
        },
        {
          "output_type": "display_data",
          "data": {
            "image/png": "[encoded data removed]",
            "text/plain": [
              "<Figure size 432x288 with 1 Axes>"
            ]
          },
          "metadata": {
            "needs_background": "light"
          }
        },
        {
          "output_type": "execute_result",
          "data": {
            "text/plain": [
              "[<matplotlib.lines.Line2D at 0x7f0331fcf690>]"
            ]
          },
          "metadata": {},
          "execution_count": 29
        },
        {
          "output_type": "execute_result",
          "data": {
            "text/plain": [
              "[<matplotlib.lines.Line2D at 0x7f0331fcfd50>]"
            ]
          },
          "metadata": {},
          "execution_count": 29
        },
        {
          "output_type": "execute_result",
          "data": {
            "text/plain": [
              "Text(0.5, 1.0, 'Accuracy')"
            ]
          },
          "metadata": {},
          "execution_count": 29
        },
        {
          "output_type": "execute_result",
          "data": {
            "text/plain": [
              "Text(0.5, 0, 'Epochs')"
            ]
          },
          "metadata": {},
          "execution_count": 29
        },
        {
          "output_type": "execute_result",
          "data": {
            "text/plain": [
              "Text(0, 0.5, 'Acc')"
            ]
          },
          "metadata": {},
          "execution_count": 29
        },
        {
          "output_type": "execute_result",
          "data": {
            "text/plain": [
              "<matplotlib.legend.Legend at 0x7f0331fb0250>"
            ]
          },
          "metadata": {},
          "execution_count": 29
        },
        {
          "output_type": "display_data",
          "data": {
            "image/png": "[encoded data removed]",
            "text/plain": [
              "<Figure size 432x288 with 1 Axes>"
            ]
          },
          "metadata": {
            "needs_background": "light"
          }
        }
      ]
    },
    {
      "cell_type": "markdown",
      "metadata": {
        "id": "8bHxP9ijs1mB"
      },
      "source": [
        "### Q1.4. Using data augmentation (2 points)\n",
        "\n",
        "Since we have a small dataset, a thought is that perhaps we can improve the performance by data augmentation\n",
        "\n",
        "\n",
        "- Modify your Dataset class to add appropriate data augumentation. Check the augmentation techniques here: https://pytorch.org/vision/stable/transforms.html\n",
        "- Try 2 augmentation techniques to see if this can improve model performance on testing\n",
        "- Note that CT scans usually are well positioned. Just try minor adjustment without unrealistic changes to images. \n",
        "\n",
        "- Repeat Task 1.3 with the augmented data \n",
        "\n",
        "- For this CT image dataset, it is not guranteed that augmentation may help. Just give a try and anazye why your augmentation techniques may (or may not) help."
      ]
    },
    {
      "cell_type": "code",
      "metadata": {
        "id": "QyCrHjfrX3gN"
      },
      "source": [
        "# add augmentation\n",
        "# train the model with augmented data\n",
        "\n",
        "\n",
        "data_augmentation = transforms.Compose([transforms.Grayscale(num_output_channels=1), \n",
        "                                        transforms.RandomRotation(5),\n",
        "                                        transforms.RandomHorizontalFlip(p=0.5),\n",
        "                                        # transforms.RandomAffine(degrees=(-20,20), translate=(0, 0.3)),\n",
        "                                        # transforms.RandomVerticalFlip(p=0.5),\n",
        "                                        transforms.Resize((255, 255)),  \n",
        "                                        transforms.ToTensor()\n",
        "                                        ])\n",
        "train_data = CT_Dataset(images_train, y_train, img_transforms=data_augmentation)\n",
        "test_data = CT_Dataset(images_val, y_val, img_transforms=data_augmentation) "
      ],
      "execution_count": 129,
      "outputs": []
    },
    {
      "cell_type": "code",
      "metadata": {
        "id": "uocOYoXBxzpL",
        "colab": {
          "base_uri": "https://localhost:8080/"
        },
        "outputId": "2c1b878b-115d-449f-e270-bba72f071c7b"
      },
      "source": [
        "# Train the CNN model\n",
        "cnn_model = Convnet()\n",
        "history = train_model(cnn_model, train_data, test_data, device, batch_size=32, epochs=100, lr=0.00001)"
      ],
      "execution_count": 130,
      "outputs": [
        {
          "output_type": "stream",
          "name": "stdout",
          "text": [
            "Training Starts \n",
            "Epoch:1 / 100, train loss:0.6999 train_acc:0.5357, valid loss:0.6716 valid acc:0.5750\n",
            "Epoch:2 / 100, train loss:0.6700 train_acc:0.5804, valid loss:0.6539 valid acc:0.5875\n",
            "Validation loss decreased (inf --> 0.653925).  Saving model ...\n",
            "Epoch:3 / 100, train loss:0.6487 train_acc:0.6562, valid loss:0.6437 valid acc:0.5813\n",
            "Validation loss decreased (0.653925 --> 0.643676).  Saving model ...\n",
            "Epoch:4 / 100, train loss:0.6363 train_acc:0.6272, valid loss:0.6267 valid acc:0.6687\n",
            "Validation loss decreased (0.643676 --> 0.626662).  Saving model ...\n",
            "Epoch:5 / 100, train loss:0.6316 train_acc:0.6429, valid loss:0.6217 valid acc:0.5938\n",
            "Validation loss decreased (0.626662 --> 0.621694).  Saving model ...\n",
            "Epoch:6 / 100, train loss:0.6193 train_acc:0.6562, valid loss:0.6127 valid acc:0.6188\n",
            "Validation loss decreased (0.621694 --> 0.612669).  Saving model ...\n",
            "Epoch:7 / 100, train loss:0.6087 train_acc:0.6518, valid loss:0.6064 valid acc:0.6188\n",
            "Validation loss decreased (0.612669 --> 0.606392).  Saving model ...\n",
            "Epoch:8 / 100, train loss:0.5953 train_acc:0.6786, valid loss:0.5985 valid acc:0.6937\n",
            "Validation loss decreased (0.606392 --> 0.598468).  Saving model ...\n",
            "Epoch:9 / 100, train loss:0.5873 train_acc:0.6964, valid loss:0.5881 valid acc:0.6687\n",
            "Validation loss decreased (0.598468 --> 0.588124).  Saving model ...\n",
            "Epoch:10 / 100, train loss:0.5836 train_acc:0.7054, valid loss:0.5846 valid acc:0.6750\n",
            "Validation loss decreased (0.588124 --> 0.584559).  Saving model ...\n",
            "Epoch:11 / 100, train loss:0.5770 train_acc:0.7031, valid loss:0.5784 valid acc:0.6750\n",
            "Validation loss decreased (0.584559 --> 0.578371).  Saving model ...\n",
            "Epoch:12 / 100, train loss:0.5659 train_acc:0.6942, valid loss:0.5883 valid acc:0.6375\n",
            "EarlyStopping counter: 1 out of 5\n",
            "Epoch:13 / 100, train loss:0.5574 train_acc:0.7165, valid loss:0.5773 valid acc:0.6750\n",
            "Validation loss decreased (0.578371 --> 0.577280).  Saving model ...\n",
            "Epoch:14 / 100, train loss:0.5548 train_acc:0.7143, valid loss:0.6257 valid acc:0.5500\n",
            "EarlyStopping counter: 1 out of 5\n",
            "Epoch:15 / 100, train loss:0.5622 train_acc:0.7188, valid loss:0.5791 valid acc:0.6687\n",
            "EarlyStopping counter: 2 out of 5\n",
            "Epoch:16 / 100, train loss:0.5561 train_acc:0.7210, valid loss:0.5655 valid acc:0.6625\n",
            "Validation loss decreased (0.577280 --> 0.565492).  Saving model ...\n",
            "Epoch:17 / 100, train loss:0.5454 train_acc:0.7299, valid loss:0.6588 valid acc:0.5563\n",
            "EarlyStopping counter: 1 out of 5\n",
            "Epoch:18 / 100, train loss:0.5461 train_acc:0.7031, valid loss:0.5639 valid acc:0.6813\n",
            "Validation loss decreased (0.565492 --> 0.563888).  Saving model ...\n",
            "Epoch:19 / 100, train loss:0.5509 train_acc:0.7076, valid loss:0.5662 valid acc:0.6625\n",
            "EarlyStopping counter: 1 out of 5\n",
            "Epoch:20 / 100, train loss:0.5457 train_acc:0.7031, valid loss:0.5682 valid acc:0.6687\n",
            "EarlyStopping counter: 2 out of 5\n",
            "Epoch:21 / 100, train loss:0.5276 train_acc:0.7321, valid loss:0.5512 valid acc:0.6813\n",
            "Validation loss decreased (0.563888 --> 0.551228).  Saving model ...\n",
            "Epoch:22 / 100, train loss:0.5276 train_acc:0.7500, valid loss:0.5597 valid acc:0.6750\n",
            "EarlyStopping counter: 1 out of 5\n",
            "Epoch:23 / 100, train loss:0.5182 train_acc:0.7366, valid loss:0.5587 valid acc:0.6813\n",
            "EarlyStopping counter: 2 out of 5\n",
            "Epoch:24 / 100, train loss:0.5208 train_acc:0.7277, valid loss:0.5496 valid acc:0.6750\n",
            "Validation loss decreased (0.551228 --> 0.549591).  Saving model ...\n",
            "Epoch:25 / 100, train loss:0.5080 train_acc:0.7411, valid loss:0.5496 valid acc:0.6500\n",
            "EarlyStopping counter: 1 out of 5\n",
            "Epoch:26 / 100, train loss:0.5067 train_acc:0.7545, valid loss:0.5675 valid acc:0.6500\n",
            "EarlyStopping counter: 2 out of 5\n",
            "Epoch:27 / 100, train loss:0.5047 train_acc:0.7522, valid loss:0.5362 valid acc:0.6875\n",
            "Validation loss decreased (0.549591 --> 0.536170).  Saving model ...\n",
            "Epoch:28 / 100, train loss:0.5017 train_acc:0.7455, valid loss:0.5471 valid acc:0.6562\n",
            "EarlyStopping counter: 1 out of 5\n",
            "Epoch:29 / 100, train loss:0.4963 train_acc:0.7522, valid loss:0.5449 valid acc:0.6687\n",
            "EarlyStopping counter: 2 out of 5\n",
            "Epoch:30 / 100, train loss:0.4894 train_acc:0.7567, valid loss:0.5321 valid acc:0.6625\n",
            "Validation loss decreased (0.536170 --> 0.532109).  Saving model ...\n",
            "Epoch:31 / 100, train loss:0.4956 train_acc:0.7500, valid loss:0.5702 valid acc:0.6562\n",
            "EarlyStopping counter: 1 out of 5\n",
            "Epoch:32 / 100, train loss:0.4839 train_acc:0.7679, valid loss:0.5501 valid acc:0.6500\n",
            "EarlyStopping counter: 2 out of 5\n",
            "Epoch:33 / 100, train loss:0.4796 train_acc:0.7589, valid loss:0.5403 valid acc:0.6562\n",
            "EarlyStopping counter: 3 out of 5\n",
            "Epoch:34 / 100, train loss:0.4795 train_acc:0.7656, valid loss:0.5314 valid acc:0.6875\n",
            "Validation loss decreased (0.532109 --> 0.531390).  Saving model ...\n",
            "Epoch:35 / 100, train loss:0.4954 train_acc:0.7545, valid loss:0.5540 valid acc:0.6562\n",
            "EarlyStopping counter: 1 out of 5\n",
            "Epoch:36 / 100, train loss:0.4664 train_acc:0.7701, valid loss:0.5634 valid acc:0.6625\n",
            "EarlyStopping counter: 2 out of 5\n",
            "Epoch:37 / 100, train loss:0.4679 train_acc:0.7746, valid loss:0.5426 valid acc:0.6750\n",
            "EarlyStopping counter: 3 out of 5\n",
            "Epoch:38 / 100, train loss:0.4841 train_acc:0.7634, valid loss:0.5337 valid acc:0.6750\n",
            "EarlyStopping counter: 4 out of 5\n",
            "Epoch:39 / 100, train loss:0.4716 train_acc:0.7656, valid loss:0.5366 valid acc:0.6750\n",
            "EarlyStopping counter: 5 out of 5\n",
            "Early stopping\n"
          ]
        }
      ]
    },
    {
      "cell_type": "code",
      "metadata": {
        "id": "RXuwRi7CvNWN"
      },
      "source": [
        "# without augmentation: Epoch:27 / 300, train loss:0.4323 train_acc:0.8170, valid loss:0.5869 valid acc:0.6562\n",
        "# with data augmentation: all three Epoch:27 / 100, train loss:0.5112 train_acc:0.7522, valid loss:0.6095 valid acc:0.6188\n"
      ],
      "execution_count": null,
      "outputs": []
    },
    {
      "cell_type": "markdown",
      "metadata": {
        "id": "W7qOwVdX_koA"
      },
      "source": [
        "## Data augmentation analysis\n",
        "\n",
        "Without applying any data augmentation methods the performance of the model is as follows \n",
        "   - Epoch:27 / 300, train loss:0.4323 train_acc:0.8170, valid loss:0.5869 valid acc:0.6562\n",
        "\n",
        "I have applied the following data augmentation methods on the given dataset and recorded the accuracies \n",
        "\n",
        "- transforms.RandomHorizontalFlip(p=0.5) : Horizontally flip the given image randomly with a given probability. \n",
        "- transforms.RandomRotation(5) : Rotate the image by angle. \n",
        "- transforms.Resize : Resize the input image to the given size. \n",
        "\n",
        "Applying all the three augnemtation methods the performance of the model is as follows\n",
        "   - Epoch:39 / 100, train loss:0.4716 train_acc:0.7656, valid loss:0.5366 valid acc:0.6750\n",
        "\n",
        "### My observation\n",
        "- By horizontally flipping and by randomly rotating the images, I have tried to reposition the images which has exposed the models to a different location of the image which has resulted in the model perform well on unseen dataset \n",
        "- I believe the techniques are also helping in fighting the overfighting problem in this case\n",
        "- we can increase the performance of the model by applying the above three data augmentation methods. In this case as we can see the validation accuracy has increased from 0.6562 to 0.6750. The same can also be confirmed with the help of the plots\n",
        "- so in this case the augmentation techniques helped achieve an improved performance of the model \n",
        "\n",
        "\n"
      ]
    },
    {
      "cell_type": "code",
      "metadata": {
        "id": "IZD3VIURyR7N",
        "colab": {
          "base_uri": "https://localhost:8080/",
          "height": 627
        },
        "outputId": "675f68c5-f731-486d-cbe4-13580c3ee0db"
      },
      "source": [
        "# plot training curves\n",
        "\n",
        "epochs = range(1, len(history['train_loss']) + 1)\n",
        "\n",
        "plt.plot(epochs, history['train_loss'], 'r-', label='Train')\n",
        "plt.plot(epochs, history['test_loss'], 'b-', label='Evaluation')\n",
        "\n",
        "plt.title('Loss')\n",
        "plt.xlabel('Epochs')\n",
        "plt.ylabel('Loss')\n",
        "plt.legend()\n",
        "\n",
        "plt.show()\n",
        "\n",
        "plt.plot(epochs, history['train_acc'], 'r-', label='Train')\n",
        "plt.plot(epochs, history['test_acc'], 'b-', label='Evaluation')\n",
        "\n",
        "plt.title('Accuracy')\n",
        "plt.xlabel('Epochs')\n",
        "plt.ylabel('Acc')\n",
        "plt.legend()\n",
        "\n",
        "plt.show()"
      ],
      "execution_count": 40,
      "outputs": [
        {
          "output_type": "execute_result",
          "data": {
            "text/plain": [
              "[<matplotlib.lines.Line2D at 0x7f0333786c10>]"
            ]
          },
          "metadata": {},
          "execution_count": 40
        },
        {
          "output_type": "execute_result",
          "data": {
            "text/plain": [
              "[<matplotlib.lines.Line2D at 0x7f0331d1cc90>]"
            ]
          },
          "metadata": {},
          "execution_count": 40
        },
        {
          "output_type": "execute_result",
          "data": {
            "text/plain": [
              "Text(0.5, 1.0, 'Loss')"
            ]
          },
          "metadata": {},
          "execution_count": 40
        },
        {
          "output_type": "execute_result",
          "data": {
            "text/plain": [
              "Text(0.5, 0, 'Epochs')"
            ]
          },
          "metadata": {},
          "execution_count": 40
        },
        {
          "output_type": "execute_result",
          "data": {
            "text/plain": [
              "Text(0, 0.5, 'Loss')"
            ]
          },
          "metadata": {},
          "execution_count": 40
        },
        {
          "output_type": "execute_result",
          "data": {
            "text/plain": [
              "<matplotlib.legend.Legend at 0x7f0331d1c850>"
            ]
          },
          "metadata": {},
          "execution_count": 40
        },
        {
          "output_type": "display_data",
          "data": {
            "image/png": "[encoded data removed]",
            "text/plain": [
              "<Figure size 432x288 with 1 Axes>"
            ]
          },
          "metadata": {
            "needs_background": "light"
          }
        },
        {
          "output_type": "execute_result",
          "data": {
            "text/plain": [
              "[<matplotlib.lines.Line2D at 0x7f0331c95950>]"
            ]
          },
          "metadata": {},
          "execution_count": 40
        },
        {
          "output_type": "execute_result",
          "data": {
            "text/plain": [
              "[<matplotlib.lines.Line2D at 0x7f0331c9f050>]"
            ]
          },
          "metadata": {},
          "execution_count": 40
        },
        {
          "output_type": "execute_result",
          "data": {
            "text/plain": [
              "Text(0.5, 1.0, 'Accuracy')"
            ]
          },
          "metadata": {},
          "execution_count": 40
        },
        {
          "output_type": "execute_result",
          "data": {
            "text/plain": [
              "Text(0.5, 0, 'Epochs')"
            ]
          },
          "metadata": {},
          "execution_count": 40
        },
        {
          "output_type": "execute_result",
          "data": {
            "text/plain": [
              "Text(0, 0.5, 'Acc')"
            ]
          },
          "metadata": {},
          "execution_count": 40
        },
        {
          "output_type": "execute_result",
          "data": {
            "text/plain": [
              "<matplotlib.legend.Legend at 0x7f0331c95f90>"
            ]
          },
          "metadata": {},
          "execution_count": 40
        },
        {
          "output_type": "display_data",
          "data": {
            "image/png": "[encoded data removed]",
            "text/plain": [
              "<Figure size 432x288 with 1 Axes>"
            ]
          },
          "metadata": {
            "needs_background": "light"
          }
        }
      ]
    },
    {
      "cell_type": "markdown",
      "metadata": {
        "id": "caXcDR-Os1mB"
      },
      "source": [
        "## Q2: News Classification by CNN (3 points)\n",
        "\n",
        "In HW #2, You have used linear layers to classify text. This time, let's use CNN model to see if the performance can be improved.\n",
        "\n"
      ]
    },
    {
      "cell_type": "markdown",
      "metadata": {
        "id": "10r56UOqs1mC"
      },
      "source": [
        "### Q2.1 Data Processing (1 point)\n",
        "\n",
        "Since the embedding layer expects a sentences with uniform length, you need to pad or truncate the sentences to the same length. Properly decide the maximum length of the sentence so that most of sentences are kept intact after processing. However, do not set the maximum length too big, which reduces the computational efficiency."
      ]
    },
    {
      "cell_type": "code",
      "metadata": {
        "id": "OcMC5Z3Ls1mC"
      },
      "source": [
        "import keras\n",
        "from keras.datasets import reuters\n",
        "import pandas as pd"
      ],
      "execution_count": 41,
      "outputs": []
    },
    {
      "cell_type": "code",
      "metadata": {
        "id": "UDZ6uQdks1mC",
        "colab": {
          "base_uri": "https://localhost:8080/",
          "height": 210
        },
        "outputId": "fd18d5df-8532-43be-d68a-4ef7b60fdb29"
      },
      "source": [
        "(train_data, train_labels), (test_data, test_labels) = reuters.load_data(num_words=10000)\n",
        "\n",
        "# show the sizes training/testing samples \n",
        "len(train_data)\n",
        "len(test_data)\n",
        "\n",
        "# show an example from the training dataset\n",
        "print(train_data[10])\n",
        "\n",
        "# retrieve the mapping from words to indices\n",
        "word_index = reuters.get_word_index()\n",
        "\n",
        "# reverse mapping\n",
        "reverse_word_index = dict([(value, key) for (key, value) in word_index.items()])\n",
        "\n",
        "# Note that our indices were offset by 3\n",
        "# because 0, 1 and 2 are reserved indices for \"padding\", \"start of sequence\", and \"unknown\".\n",
        "decoded_newswire = ' '.join([reverse_word_index[i - 3] for i in train_data[0] if (i-3) in reverse_word_index])\n",
        "\n",
        "decoded_newswire"
      ],
      "execution_count": 42,
      "outputs": [
        {
          "output_type": "stream",
          "name": "stdout",
          "text": [
            "Downloading data from https://storage.googleapis.com/tensorflow/tf-keras-datasets/reuters.npz\n",
            "2113536/2110848 [==============================] - 0s 0us/step\n",
            "2121728/2110848 [==============================] - 0s 0us/step\n"
          ]
        },
        {
          "output_type": "execute_result",
          "data": {
            "text/plain": [
              "8982"
            ]
          },
          "metadata": {},
          "execution_count": 42
        },
        {
          "output_type": "execute_result",
          "data": {
            "text/plain": [
              "2246"
            ]
          },
          "metadata": {},
          "execution_count": 42
        },
        {
          "output_type": "stream",
          "name": "stdout",
          "text": [
            "[1, 245, 273, 207, 156, 53, 74, 160, 26, 14, 46, 296, 26, 39, 74, 2979, 3554, 14, 46, 4689, 4329, 86, 61, 3499, 4795, 14, 61, 451, 4329, 17, 12]\n",
            "Downloading data from https://storage.googleapis.com/tensorflow/tf-keras-datasets/reuters_word_index.json\n",
            "557056/550378 [==============================] - 0s 0us/step\n",
            "565248/550378 [==============================] - 0s 0us/step\n"
          ]
        },
        {
          "output_type": "execute_result",
          "data": {
            "application/vnd.google.colaboratory.intrinsic+json": {
              "type": "string"
            },
            "text/plain": [
              "'said as a result of its december acquisition of space co it expects earnings per share in 1987 of 1 15 to 1 30 dlrs per share up from 70 cts in 1986 the company said pretax net should rise to nine to 10 mln dlrs from six mln dlrs in 1986 and rental operation revenues to 19 to 22 mln dlrs from 12 5 mln dlrs it said cash flow per share this year should be 2 50 to three dlrs reuter 3'"
            ]
          },
          "metadata": {},
          "execution_count": 42
        }
      ]
    },
    {
      "cell_type": "code",
      "metadata": {
        "id": "SIDm-Sass1mC",
        "colab": {
          "base_uri": "https://localhost:8080/"
        },
        "outputId": "eee11ee6-22f0-4d47-df62-cdeb6a0ad8f9"
      },
      "source": [
        "# distribution of labels\n",
        "\n",
        "len(pd.Series(train_labels).value_counts())\n"
      ],
      "execution_count": 43,
      "outputs": [
        {
          "output_type": "execute_result",
          "data": {
            "text/plain": [
              "46"
            ]
          },
          "metadata": {},
          "execution_count": 43
        }
      ]
    },
    {
      "cell_type": "code",
      "metadata": {
        "id": "4C5pIUR94MIV",
        "colab": {
          "base_uri": "https://localhost:8080/",
          "height": 350
        },
        "outputId": "c3396670-ddcb-4ab4-f69d-e2ec113c0aea"
      },
      "source": [
        "# visualize \n",
        "from matplotlib import pyplot as plt\n",
        "plt.hist ([len(doc) for doc in train_data])\n",
        "plt.show()"
      ],
      "execution_count": 44,
      "outputs": [
        {
          "output_type": "execute_result",
          "data": {
            "text/plain": [
              "(array([7.619e+03, 9.870e+02, 2.890e+02, 7.900e+01, 5.000e+00, 1.000e+00,\n",
              "        0.000e+00, 0.000e+00, 0.000e+00, 2.000e+00]),\n",
              " array([  13. ,  249.3,  485.6,  721.9,  958.2, 1194.5, 1430.8, 1667.1,\n",
              "        1903.4, 2139.7, 2376. ]),\n",
              " <a list of 10 Patch objects>)"
            ]
          },
          "metadata": {},
          "execution_count": 44
        },
        {
          "output_type": "display_data",
          "data": {
            "image/png": "[encoded data removed]",
            "text/plain": [
              "<Figure size 432x288 with 1 Axes>"
            ]
          },
          "metadata": {
            "needs_background": "light"
          }
        }
      ]
    },
    {
      "cell_type": "code",
      "metadata": {
        "id": "BG4e7ERhX3gQ"
      },
      "source": [
        "# Pad or truncate sentences so that they have uniform length\n",
        "# every sentence is 500 or less\n",
        "DOC_LEN = 500\n",
        "\n",
        "# convert numpy array to list\n",
        "train_x = train_data.tolist()\n",
        "test_x = test_data.tolist()\n",
        "\n",
        "# truncate & padding function\n",
        "def truncate_or_pad(doc):\n",
        "    if len(doc) < DOC_LEN:\n",
        "        doc += [0] * (DOC_LEN - len(doc))\n",
        "    else:\n",
        "        doc = doc[:DOC_LEN]\n",
        "    return doc\n"
      ],
      "execution_count": 80,
      "outputs": []
    },
    {
      "cell_type": "code",
      "metadata": {
        "id": "6O4b5Wjo4gkO",
        "colab": {
          "base_uri": "https://localhost:8080/"
        },
        "outputId": "b75be5e6-6f84-4a12-b251-709288ac44f6"
      },
      "source": [
        "train_x = list(map(truncate_or_pad, train_x))\n",
        "test_x = list(map(truncate_or_pad, test_x))\n",
        "#verify\n",
        "print('Train:')\n",
        "print(f\"Max length: {max([len(sequence) for sequence in train_x])}\")\n",
        "print(f\"Min length: {min([len(sequence) for sequence in train_x])}\")\n",
        "print('Test:')\n",
        "print(f\"Max length: {max([len(sequence) for sequence in test_x])}\")\n",
        "print(f\"Min length: {min([len(sequence) for sequence in test_x])}\")"
      ],
      "execution_count": 81,
      "outputs": [
        {
          "output_type": "stream",
          "name": "stdout",
          "text": [
            "Train:\n",
            "Max length: 500\n",
            "Min length: 500\n",
            "Test:\n",
            "Max length: 500\n",
            "Min length: 500\n"
          ]
        }
      ]
    },
    {
      "cell_type": "code",
      "metadata": {
        "id": "rJcYWSiF4pBa"
      },
      "source": [
        "# convert labels to float\n",
        "# as model needs float values\n",
        "# cross entropy function expects labels are floats\n",
        "# Yt_train = Yt_train.type(torch.LongTensor)\n",
        "train_y = np.asarray(train_labels).astype('float')\n",
        "test_y = np.asarray(test_labels).astype('float')"
      ],
      "execution_count": 82,
      "outputs": []
    },
    {
      "cell_type": "code",
      "metadata": {
        "id": "QLh63Azis1mE"
      },
      "source": [
        "# add your code to create Dataset class\n",
        "import torch\n",
        "import torch.nn as nn\n",
        "import matplotlib.pyplot as plt\n",
        "from torch.utils.data import Dataset, DataLoader, random_split\n",
        "class news_dataset(Dataset):\n",
        "    def __init__(self, featuers, labels):\n",
        "        self.length = len(labels)\n",
        "        self.features = torch.IntTensor(featuers)\n",
        "        self.labels = torch.Tensor(labels).type(torch.LongTensor)\n",
        "    \n",
        "    def __getitem__(self, index):\n",
        "        return self.features[index], self.labels[index]\n",
        "    \n",
        "    def __len__(self):\n",
        "        return self.length  \n"
      ],
      "execution_count": 83,
      "outputs": []
    },
    {
      "cell_type": "code",
      "metadata": {
        "id": "tw_IX7bh41Oz"
      },
      "source": [
        "train_dataset = news_dataset(train_x, train_y)\n",
        "test_dataset = news_dataset(test_x, test_y)"
      ],
      "execution_count": 84,
      "outputs": []
    },
    {
      "cell_type": "markdown",
      "metadata": {
        "id": "ivk7wI2E6KyZ"
      },
      "source": [
        "### Q2.2 Define the model (2 points)\n",
        "\n",
        "- Your model should contain the follow layers:\n",
        "    - Embedding (Note, you are not required to use pretrained word vector in the embedding layer in this task)\n",
        "    - Convolution\n",
        "    - MaxPool\n",
        "    - Flatten, Concatenate, Dropout if needed\n",
        "    - Dense\n",
        "\n",
        "\n",
        "- Carefully choose the following hyperparameters:\n",
        "  - Max. sentence length\n",
        "  - Embedding dimension\n",
        "  - Filter sizes and number of filters \n",
        "- Use appropriate activate functions for all layers"
      ]
    },
    {
      "cell_type": "code",
      "metadata": {
        "id": "J9SelncTs1mE"
      },
      "source": [
        "class cnn_text(nn.Module):\n",
        "    def __init__(self, num_words_in_dict, embedding_dim, dropout_ratio):\n",
        "        super(cnn_text, self).__init__()\n",
        "        self.num_words_in_dict = num_words_in_dict\n",
        "        self.embedding_dim = embedding_dim\n",
        "        self.dropout_ratio = dropout_ratio\n",
        "        # embedding\n",
        "        self.embedding = nn.Embedding(num_embeddings=num_words_in_dict, embedding_dim=embedding_dim)  # (-1, DOC_LEN, embedding_dim), num_embedding: embedding dict size, embedding_dim: length of embedding vector\n",
        "        # 1D CNN\n",
        "        # unigram\n",
        "        self.unigram = nn.Sequential(# input (-1, embedding_dim, DOC_LEN)\n",
        "        nn.Conv1d(in_channels=embedding_dim, out_channels=64, kernel_size=1),  # (-1, 64, DOC_LEN)\n",
        "        nn.ReLU(),\n",
        "        nn.MaxPool1d(kernel_size=DOC_LEN),  # (-1, 64, 1)\n",
        "        nn.Flatten()  # (-1, 64 * 1)\n",
        "        )\n",
        "        # bigram\n",
        "        self.bigram = nn.Sequential(# input (-1, embedding_dim, DOC_LEN)\n",
        "        nn.Conv1d(in_channels=embedding_dim, out_channels=64, kernel_size=2),  # (-1, 64, DOC_LEN-2+1) ??? why DOC_LEN - 2 + 1\n",
        "        nn.ReLU(),\n",
        "        nn.MaxPool1d(kernel_size=DOC_LEN - 2 + 1),  # (-1, 64, 1)\n",
        "        nn.Flatten()  # (-1, 64 * 1)\n",
        "        )\n",
        "        # trigram\n",
        "        self.trigram = nn.Sequential(# input (-1, embedding_dim, DOC_LEN)\n",
        "        nn.Conv1d(in_channels=embedding_dim, out_channels=64, kernel_size=3),  # (-1, 64, DOC_LEN-3+1)\n",
        "        nn.ReLU(),\n",
        "        nn.MaxPool1d(kernel_size=DOC_LEN - 3 + 1),  # (-1, 16, 7)\n",
        "        nn.Flatten()  # (-1, 64 * 1)\n",
        "        )\n",
        "        # simple classifier\n",
        "        self.classifier = nn.Sequential(\n",
        "            nn.Dropout(dropout_ratio),\n",
        "            nn.Linear(in_features=64*3, out_features=46)\n",
        "        )\n",
        "    def forward(self, x):\n",
        "        # get embedding\n",
        "        x = self.embedding(x)\n",
        "        # make sure we are convolving on each word\n",
        "        x = torch.transpose(x, dim0=1, dim1=2)  # (-1, DOC_LEN, embedding_dim): embedding on 1(DOC_LEN) & 2(embedding_dim) dims\n",
        "        # 1d cnn output\n",
        "        uni_gram_output = self.unigram(x)\n",
        "        bi_gram_output = self.bigram(x)\n",
        "        tri_gram_output = self.trigram(x)\n",
        "        # concatenate\n",
        "        x = torch.cat((uni_gram_output, bi_gram_output, tri_gram_output), dim=1)\n",
        "        # classifier\n",
        "        # print(\"frommodels\", x.shape)\n",
        "        x = self.classifier(x)\n",
        "\n",
        "        return x"
      ],
      "execution_count": 85,
      "outputs": []
    },
    {
      "cell_type": "code",
      "metadata": {
        "id": "y3_84A2u662E",
        "colab": {
          "base_uri": "https://localhost:8080/"
        },
        "outputId": "c4092683-d4b5-472e-af9a-30a954c80b5a"
      },
      "source": [
        "visual_model = cnn_text(num_words_in_dict=10000, embedding_dim=100, dropout_ratio=0.3)\n",
        "print(visual_model)"
      ],
      "execution_count": 86,
      "outputs": [
        {
          "output_type": "stream",
          "name": "stdout",
          "text": [
            "cnn_text(\n",
            "  (embedding): Embedding(10000, 100)\n",
            "  (unigram): Sequential(\n",
            "    (0): Conv1d(100, 64, kernel_size=(1,), stride=(1,))\n",
            "    (1): ReLU()\n",
            "    (2): MaxPool1d(kernel_size=500, stride=500, padding=0, dilation=1, ceil_mode=False)\n",
            "    (3): Flatten(start_dim=1, end_dim=-1)\n",
            "  )\n",
            "  (bigram): Sequential(\n",
            "    (0): Conv1d(100, 64, kernel_size=(2,), stride=(1,))\n",
            "    (1): ReLU()\n",
            "    (2): MaxPool1d(kernel_size=499, stride=499, padding=0, dilation=1, ceil_mode=False)\n",
            "    (3): Flatten(start_dim=1, end_dim=-1)\n",
            "  )\n",
            "  (trigram): Sequential(\n",
            "    (0): Conv1d(100, 64, kernel_size=(3,), stride=(1,))\n",
            "    (1): ReLU()\n",
            "    (2): MaxPool1d(kernel_size=498, stride=498, padding=0, dilation=1, ceil_mode=False)\n",
            "    (3): Flatten(start_dim=1, end_dim=-1)\n",
            "  )\n",
            "  (classifier): Sequential(\n",
            "    (0): Dropout(p=0.3, inplace=False)\n",
            "    (1): Linear(in_features=192, out_features=46, bias=True)\n",
            "  )\n",
            ")\n"
          ]
        }
      ]
    },
    {
      "cell_type": "markdown",
      "metadata": {
        "id": "tHr6gMGu6dFO"
      },
      "source": [
        "### Q2.3. Train the model\n",
        "\n",
        "- Fit the model, plot the training curve on training and testing datasets\n",
        "\n",
        "- You can certainly reuse your training function from HW #2."
      ]
    },
    {
      "cell_type": "code",
      "metadata": {
        "id": "O5S8v3JNs1mE"
      },
      "source": [
        "def train_model(model, train_dataset, test_dataset, device, \n",
        "                lr=0.0002, epochs=30, batch_size=64):\n",
        "    \n",
        "    # add your code here\n",
        "        # construct dataloader\n",
        "    train_loader = DataLoader(train_dataset, batch_size=batch_size, shuffle=True)\n",
        "    test_loader = DataLoader(test_dataset, batch_size=batch_size, shuffle=True)\n",
        "\n",
        "    # move model to device\n",
        "    model = model.to(device)\n",
        "\n",
        "    # history\n",
        "    history = {'train_loss': [],\n",
        "               'train_acc': [],\n",
        "               'test_loss': [],\n",
        "               'test_acc': []}\n",
        "\n",
        "    # setup loss function and optimizer\n",
        "    criterion = nn.CrossEntropyLoss()\n",
        "    optimizer = torch.optim.RMSprop(model.parameters(), lr=lr)\n",
        "\n",
        "    # training loop\n",
        "    print('Training Start')\n",
        "    for epoch in range(epochs):\n",
        "        model.train()\n",
        "        train_loss = 0\n",
        "        train_acc = 0\n",
        "        test_loss = 0\n",
        "        test_acc = 0\n",
        "        for x, y in train_loader:\n",
        "            # move data to device\n",
        "            x = x.to(device)\n",
        "            y = y.to(device)\n",
        "            # forward\n",
        "            outputs = model(x)\n",
        "            # print(\"outputs\", outputs.shape)\n",
        "            # print(\"y\", y.shape)\n",
        "            cur_train_loss = criterion(outputs, y)\n",
        "            _, pred = torch.max(outputs, dim=-1) # pick the one with max probabilty\n",
        "            \n",
        "            cur_train_acc = (pred == y).sum().item() / batch_size\n",
        "            # backward\n",
        "            cur_train_loss.backward()\n",
        "            optimizer.step()\n",
        "            optimizer.zero_grad()\n",
        "            # loss and acc\n",
        "            train_loss += cur_train_loss\n",
        "            train_acc += cur_train_acc\n",
        "\n",
        "        # test start\n",
        "        model.eval()\n",
        "        with torch.no_grad():\n",
        "            for x, y in test_loader:\n",
        "                # move\n",
        "                x = x.to(device)\n",
        "                y = y.to(device)\n",
        "                # predict\n",
        "                outputs = model(x)\n",
        "                _, pred = torch.max(outputs, dim=-1)\n",
        "                \n",
        "                cur_test_loss = criterion(outputs, y)\n",
        "                cur_test_acc = (pred == y).sum().item() / batch_size \n",
        "                # loss and acc\n",
        "                test_loss += cur_test_loss\n",
        "                test_acc += cur_test_acc\n",
        "\n",
        "        # epoch output\n",
        "        train_loss = (train_loss/len(train_loader)).item()\n",
        "        train_acc = train_acc/len(train_loader)\n",
        "        val_loss = (test_loss/len(test_loader)).item()\n",
        "        val_acc = test_acc/len(test_loader)\n",
        "        history['train_loss'].append(train_loss)\n",
        "        history['train_acc'].append(train_acc)\n",
        "        history['test_loss'].append(val_loss)\n",
        "        history['test_acc'].append(val_acc)\n",
        "        print(f\"Epoch:{epoch + 1} / {epochs}, train loss:{train_loss:.5f} train_acc:{train_acc:.5f}, valid loss:{val_loss:.5f} valid acc:{val_acc:.5f}\")\n",
        "    \n",
        "    return history"
      ],
      "execution_count": 87,
      "outputs": []
    },
    {
      "cell_type": "code",
      "metadata": {
        "id": "gds97QZHX3gS"
      },
      "source": [
        "# set up device\n",
        "device = torch.device(\"cuda\" if torch.cuda.is_available() else \"cpu\")"
      ],
      "execution_count": 88,
      "outputs": []
    },
    {
      "cell_type": "code",
      "metadata": {
        "id": "FZlY66Yg0cHW"
      },
      "source": [
        "# embedding = 200, doc len = 500 : Epoch:30 / 30, train loss:0.68596 train_acc:0.81426, valid loss:0.83800 valid acc:0.78212\n",
        "# embedding = 200, doc len = 400 : Epoch:30 / 30, train loss:0.68463 train_acc:0.81987, valid loss:0.84991 valid acc:0.77517\n",
        "# embedding = 100, doc len = 500 : Epoch:30 / 30, train loss:0.90423 train_acc:0.76375, valid loss:0.95922 valid acc:0.75130\n",
        "\n",
        "# embedding = 100, doc len = 500 : Epoch:100 / 100, train loss:0.45382 train_acc:0.86653, valid loss:0.76530 valid acc:0.79340\n",
        "# embedding = 200, doc len = 500 : Epoch:100 / 100, train loss:0.26517 train_acc:0.91054, valid loss:0.80211 valid acc:0.79948 "
      ],
      "execution_count": 89,
      "outputs": []
    },
    {
      "cell_type": "code",
      "metadata": {
        "id": "aMKsN9YA5hSa",
        "colab": {
          "base_uri": "https://localhost:8080/"
        },
        "outputId": "1741304b-bee3-4e0b-b723-6ff8795c3b32"
      },
      "source": [
        "# add code to train the model\n",
        "model = cnn_text(num_words_in_dict=10000, embedding_dim=200, dropout_ratio=0.3)\n",
        "history = train_model(model=model,\n",
        "                      train_dataset=train_dataset,\n",
        "                      test_dataset=test_dataset,\n",
        "                      device=device,\n",
        "                      lr=0.0002,\n",
        "                      epochs=100,\n",
        "                      batch_size=128)"
      ],
      "execution_count": 96,
      "outputs": [
        {
          "output_type": "stream",
          "name": "stdout",
          "text": [
            "Training Start\n",
            "Epoch:1 / 100, train loss:2.06239 train_acc:0.48019, valid loss:1.74079 valid acc:0.55556\n",
            "Epoch:2 / 100, train loss:1.72400 train_acc:0.57779, valid loss:1.58260 valid acc:0.63238\n",
            "Epoch:3 / 100, train loss:1.56833 train_acc:0.62247, valid loss:1.48150 valid acc:0.65321\n",
            "Epoch:4 / 100, train loss:1.46342 train_acc:0.64987, valid loss:1.40715 valid acc:0.66710\n",
            "Epoch:5 / 100, train loss:1.37859 train_acc:0.66824, valid loss:1.32680 valid acc:0.68099\n",
            "Epoch:6 / 100, train loss:1.32185 train_acc:0.67881, valid loss:1.26843 valid acc:0.69054\n",
            "Epoch:7 / 100, train loss:1.26490 train_acc:0.69707, valid loss:1.22933 valid acc:0.69922\n",
            "Epoch:8 / 100, train loss:1.18402 train_acc:0.70863, valid loss:1.18753 valid acc:0.70269\n",
            "Epoch:9 / 100, train loss:1.15695 train_acc:0.71490, valid loss:1.14073 valid acc:0.71267\n",
            "Epoch:10 / 100, train loss:1.12036 train_acc:0.72898, valid loss:1.12049 valid acc:0.71962\n",
            "Epoch:11 / 100, train loss:1.07438 train_acc:0.73250, valid loss:1.07947 valid acc:0.72960\n",
            "Epoch:12 / 100, train loss:1.03251 train_acc:0.74527, valid loss:1.04521 valid acc:0.72917\n",
            "Epoch:13 / 100, train loss:1.00448 train_acc:0.74978, valid loss:1.02417 valid acc:0.74002\n",
            "Epoch:14 / 100, train loss:0.95996 train_acc:0.75715, valid loss:1.00336 valid acc:0.74653\n",
            "Epoch:15 / 100, train loss:0.94543 train_acc:0.75979, valid loss:0.98403 valid acc:0.75000\n",
            "Epoch:16 / 100, train loss:0.90538 train_acc:0.77124, valid loss:0.95904 valid acc:0.75608\n",
            "Epoch:17 / 100, train loss:0.88587 train_acc:0.77685, valid loss:0.93891 valid acc:0.75738\n",
            "Epoch:18 / 100, train loss:0.86609 train_acc:0.77773, valid loss:0.92404 valid acc:0.76128\n",
            "Epoch:19 / 100, train loss:0.84829 train_acc:0.77927, valid loss:0.91529 valid acc:0.76128\n",
            "Epoch:20 / 100, train loss:0.82884 train_acc:0.78741, valid loss:0.89786 valid acc:0.76910\n",
            "Epoch:21 / 100, train loss:0.81706 train_acc:0.78994, valid loss:0.88502 valid acc:0.77127\n",
            "Epoch:22 / 100, train loss:0.78675 train_acc:0.79632, valid loss:0.87921 valid acc:0.77604\n",
            "Epoch:23 / 100, train loss:0.78105 train_acc:0.79555, valid loss:0.86845 valid acc:0.77474\n",
            "Epoch:24 / 100, train loss:0.75840 train_acc:0.79897, valid loss:0.87023 valid acc:0.77257\n",
            "Epoch:25 / 100, train loss:0.74635 train_acc:0.80348, valid loss:0.86072 valid acc:0.77387\n",
            "Epoch:26 / 100, train loss:0.73150 train_acc:0.80623, valid loss:0.84553 valid acc:0.77778\n",
            "Epoch:27 / 100, train loss:0.72700 train_acc:0.80788, valid loss:0.83568 valid acc:0.78342\n",
            "Epoch:28 / 100, train loss:0.69852 train_acc:0.81624, valid loss:0.83570 valid acc:0.78125\n",
            "Epoch:29 / 100, train loss:0.69468 train_acc:0.81118, valid loss:0.82920 valid acc:0.78993\n",
            "Epoch:30 / 100, train loss:0.68485 train_acc:0.81426, valid loss:0.82279 valid acc:0.78733\n",
            "Epoch:31 / 100, train loss:0.67803 train_acc:0.81492, valid loss:0.82706 valid acc:0.78559\n",
            "Epoch:32 / 100, train loss:0.65659 train_acc:0.82097, valid loss:0.81275 valid acc:0.79036\n",
            "Epoch:33 / 100, train loss:0.64509 train_acc:0.82879, valid loss:0.80600 valid acc:0.79253\n",
            "Epoch:34 / 100, train loss:0.63939 train_acc:0.82207, valid loss:0.79610 valid acc:0.79210\n",
            "Epoch:35 / 100, train loss:0.62588 train_acc:0.83297, valid loss:0.80320 valid acc:0.78689\n",
            "Epoch:36 / 100, train loss:0.60561 train_acc:0.83671, valid loss:0.80364 valid acc:0.79253\n",
            "Epoch:37 / 100, train loss:0.60237 train_acc:0.83440, valid loss:0.79428 valid acc:0.79123\n",
            "Epoch:38 / 100, train loss:0.58368 train_acc:0.83902, valid loss:0.79007 valid acc:0.79340\n",
            "Epoch:39 / 100, train loss:0.57732 train_acc:0.84485, valid loss:0.80011 valid acc:0.78993\n",
            "Epoch:40 / 100, train loss:0.57769 train_acc:0.84221, valid loss:0.77965 valid acc:0.79253\n",
            "Epoch:41 / 100, train loss:0.56816 train_acc:0.84342, valid loss:0.78299 valid acc:0.79253\n",
            "Epoch:42 / 100, train loss:0.55543 train_acc:0.84199, valid loss:0.78758 valid acc:0.79688\n",
            "Epoch:43 / 100, train loss:0.55762 train_acc:0.84496, valid loss:0.77429 valid acc:0.80035\n",
            "Epoch:44 / 100, train loss:0.55754 train_acc:0.84441, valid loss:0.79690 valid acc:0.79297\n",
            "Epoch:45 / 100, train loss:0.54091 train_acc:0.84848, valid loss:0.77791 valid acc:0.80035\n",
            "Epoch:46 / 100, train loss:0.53609 train_acc:0.85266, valid loss:0.77701 valid acc:0.79253\n",
            "Epoch:47 / 100, train loss:0.52635 train_acc:0.85101, valid loss:0.77961 valid acc:0.79384\n",
            "Epoch:48 / 100, train loss:0.51395 train_acc:0.85376, valid loss:0.77040 valid acc:0.80035\n",
            "Epoch:49 / 100, train loss:0.51287 train_acc:0.85387, valid loss:0.75863 valid acc:0.80382\n",
            "Epoch:50 / 100, train loss:0.48623 train_acc:0.86213, valid loss:0.75798 valid acc:0.80122\n",
            "Epoch:51 / 100, train loss:0.49348 train_acc:0.85982, valid loss:0.77309 valid acc:0.79427\n",
            "Epoch:52 / 100, train loss:0.48232 train_acc:0.86213, valid loss:0.77227 valid acc:0.80469\n",
            "Epoch:53 / 100, train loss:0.48654 train_acc:0.85805, valid loss:0.76599 valid acc:0.79774\n",
            "Epoch:54 / 100, train loss:0.46510 train_acc:0.86279, valid loss:0.76286 valid acc:0.80078\n",
            "Epoch:55 / 100, train loss:0.45602 train_acc:0.86972, valid loss:0.77044 valid acc:0.80382\n",
            "Epoch:56 / 100, train loss:0.45547 train_acc:0.86928, valid loss:0.76093 valid acc:0.80425\n",
            "Epoch:57 / 100, train loss:0.46108 train_acc:0.86257, valid loss:0.76642 valid acc:0.80078\n",
            "Epoch:58 / 100, train loss:0.43678 train_acc:0.87225, valid loss:0.77905 valid acc:0.80078\n",
            "Epoch:59 / 100, train loss:0.43834 train_acc:0.86950, valid loss:0.76320 valid acc:0.80252\n",
            "Epoch:60 / 100, train loss:0.43581 train_acc:0.87038, valid loss:0.76906 valid acc:0.80339\n",
            "Epoch:61 / 100, train loss:0.41426 train_acc:0.87698, valid loss:0.77533 valid acc:0.79601\n",
            "Epoch:62 / 100, train loss:0.42158 train_acc:0.87478, valid loss:0.78357 valid acc:0.80078\n",
            "Epoch:63 / 100, train loss:0.41797 train_acc:0.87566, valid loss:0.76654 valid acc:0.80339\n",
            "Epoch:64 / 100, train loss:0.41482 train_acc:0.87467, valid loss:0.77018 valid acc:0.79861\n",
            "Epoch:65 / 100, train loss:0.40767 train_acc:0.87863, valid loss:0.76534 valid acc:0.80339\n",
            "Epoch:66 / 100, train loss:0.41021 train_acc:0.87797, valid loss:0.75871 valid acc:0.80252\n",
            "Epoch:67 / 100, train loss:0.39498 train_acc:0.87918, valid loss:0.76768 valid acc:0.79991\n",
            "Epoch:68 / 100, train loss:0.40191 train_acc:0.87687, valid loss:0.77217 valid acc:0.80339\n",
            "Epoch:69 / 100, train loss:0.38230 train_acc:0.88358, valid loss:0.76895 valid acc:0.80295\n",
            "Epoch:70 / 100, train loss:0.38842 train_acc:0.88006, valid loss:0.78243 valid acc:0.80208\n",
            "Epoch:71 / 100, train loss:0.37978 train_acc:0.88677, valid loss:0.76912 valid acc:0.80512\n",
            "Epoch:72 / 100, train loss:0.35876 train_acc:0.88952, valid loss:0.78191 valid acc:0.79861\n",
            "Epoch:73 / 100, train loss:0.36507 train_acc:0.88820, valid loss:0.75827 valid acc:0.80469\n",
            "Epoch:74 / 100, train loss:0.35927 train_acc:0.88930, valid loss:0.76309 valid acc:0.80512\n",
            "Epoch:75 / 100, train loss:0.35687 train_acc:0.88666, valid loss:0.79591 valid acc:0.80035\n",
            "Epoch:76 / 100, train loss:0.36616 train_acc:0.88413, valid loss:0.77635 valid acc:0.80339\n",
            "Epoch:77 / 100, train loss:0.35371 train_acc:0.88886, valid loss:0.77803 valid acc:0.79861\n",
            "Epoch:78 / 100, train loss:0.34005 train_acc:0.89272, valid loss:0.77720 valid acc:0.79905\n",
            "Epoch:79 / 100, train loss:0.34957 train_acc:0.89140, valid loss:0.76919 valid acc:0.80165\n",
            "Epoch:80 / 100, train loss:0.33037 train_acc:0.89261, valid loss:0.78433 valid acc:0.80035\n",
            "Epoch:81 / 100, train loss:0.33931 train_acc:0.89250, valid loss:0.77656 valid acc:0.80208\n",
            "Epoch:82 / 100, train loss:0.32975 train_acc:0.89701, valid loss:0.78065 valid acc:0.79905\n",
            "Epoch:83 / 100, train loss:0.32167 train_acc:0.89679, valid loss:0.77483 valid acc:0.80078\n",
            "Epoch:84 / 100, train loss:0.32199 train_acc:0.89712, valid loss:0.78138 valid acc:0.79818\n",
            "Epoch:85 / 100, train loss:0.31224 train_acc:0.89888, valid loss:0.78235 valid acc:0.79297\n",
            "Epoch:86 / 100, train loss:0.32791 train_acc:0.89525, valid loss:0.78101 valid acc:0.80339\n",
            "Epoch:87 / 100, train loss:0.31203 train_acc:0.89844, valid loss:0.80196 valid acc:0.79774\n",
            "Epoch:88 / 100, train loss:0.32064 train_acc:0.89690, valid loss:0.77772 valid acc:0.79731\n",
            "Epoch:89 / 100, train loss:0.29797 train_acc:0.90372, valid loss:0.79749 valid acc:0.79948\n",
            "Epoch:90 / 100, train loss:0.30039 train_acc:0.90570, valid loss:0.78174 valid acc:0.79688\n",
            "Epoch:91 / 100, train loss:0.29172 train_acc:0.90427, valid loss:0.78794 valid acc:0.80122\n",
            "Epoch:92 / 100, train loss:0.29103 train_acc:0.90548, valid loss:0.80269 valid acc:0.80165\n",
            "Epoch:93 / 100, train loss:0.28811 train_acc:0.90471, valid loss:0.79614 valid acc:0.79774\n",
            "Epoch:94 / 100, train loss:0.28696 train_acc:0.90493, valid loss:0.78999 valid acc:0.79905\n",
            "Epoch:95 / 100, train loss:0.27977 train_acc:0.90878, valid loss:0.78846 valid acc:0.79991\n",
            "Epoch:96 / 100, train loss:0.27561 train_acc:0.90867, valid loss:0.79214 valid acc:0.79861\n",
            "Epoch:97 / 100, train loss:0.27865 train_acc:0.90845, valid loss:0.79658 valid acc:0.79774\n",
            "Epoch:98 / 100, train loss:0.26947 train_acc:0.91175, valid loss:0.80620 valid acc:0.80122\n",
            "Epoch:99 / 100, train loss:0.27377 train_acc:0.91087, valid loss:0.81637 valid acc:0.79774\n",
            "Epoch:100 / 100, train loss:0.26517 train_acc:0.91054, valid loss:0.80211 valid acc:0.79948\n"
          ]
        }
      ]
    },
    {
      "cell_type": "code",
      "metadata": {
        "ExecuteTime": {
          "end_time": "2020-11-12T09:13:30.947989Z",
          "start_time": "2020-11-12T09:13:30.680929Z"
        },
        "id": "qd3B9ynYs1mG",
        "colab": {
          "base_uri": "https://localhost:8080/",
          "height": 627
        },
        "outputId": "72d6ccc1-5e31-4d4c-fe85-f67b4a59ee92"
      },
      "source": [
        "# show training curve\n",
        "\n",
        "epochs = range(1, len(history['train_loss']) + 1)\n",
        "\n",
        "plt.plot(epochs, history['train_loss'], 'r-', label='Train')\n",
        "plt.plot(epochs, history['test_loss'], 'b-', label='Evaluation')\n",
        "\n",
        "plt.title('Loss')\n",
        "plt.xlabel('Epochs')\n",
        "plt.ylabel('Loss')\n",
        "plt.legend()\n",
        "\n",
        "plt.show()\n",
        "\n",
        "plt.plot(epochs, history['train_acc'], 'r-', label='Train')\n",
        "plt.plot(epochs, history['test_acc'], 'b-', label='Evaluation')\n",
        "\n",
        "plt.title('Accuracy')\n",
        "plt.xlabel('Epochs')\n",
        "plt.ylabel('Acc')\n",
        "plt.legend()\n",
        "\n",
        "plt.show()"
      ],
      "execution_count": 97,
      "outputs": [
        {
          "output_type": "execute_result",
          "data": {
            "text/plain": [
              "[<matplotlib.lines.Line2D at 0x7f0249e5bc10>]"
            ]
          },
          "metadata": {},
          "execution_count": 97
        },
        {
          "output_type": "execute_result",
          "data": {
            "text/plain": [
              "[<matplotlib.lines.Line2D at 0x7f0249e253d0>]"
            ]
          },
          "metadata": {},
          "execution_count": 97
        },
        {
          "output_type": "execute_result",
          "data": {
            "text/plain": [
              "Text(0.5, 1.0, 'Loss')"
            ]
          },
          "metadata": {},
          "execution_count": 97
        },
        {
          "output_type": "execute_result",
          "data": {
            "text/plain": [
              "Text(0.5, 0, 'Epochs')"
            ]
          },
          "metadata": {},
          "execution_count": 97
        },
        {
          "output_type": "execute_result",
          "data": {
            "text/plain": [
              "Text(0, 0.5, 'Loss')"
            ]
          },
          "metadata": {},
          "execution_count": 97
        },
        {
          "output_type": "execute_result",
          "data": {
            "text/plain": [
              "<matplotlib.legend.Legend at 0x7f0249e5b9d0>"
            ]
          },
          "metadata": {},
          "execution_count": 97
        },
        {
          "output_type": "display_data",
          "data": {
            "image/png": "[encoded data removed]",
            "text/plain": [
              "<Figure size 432x288 with 1 Axes>"
            ]
          },
          "metadata": {
            "needs_background": "light"
          }
        },
        {
          "output_type": "execute_result",
          "data": {
            "text/plain": [
              "[<matplotlib.lines.Line2D at 0x7f024a2707d0>]"
            ]
          },
          "metadata": {},
          "execution_count": 97
        },
        {
          "output_type": "execute_result",
          "data": {
            "text/plain": [
              "[<matplotlib.lines.Line2D at 0x7f024a270e90>]"
            ]
          },
          "metadata": {},
          "execution_count": 97
        },
        {
          "output_type": "execute_result",
          "data": {
            "text/plain": [
              "Text(0.5, 1.0, 'Accuracy')"
            ]
          },
          "metadata": {},
          "execution_count": 97
        },
        {
          "output_type": "execute_result",
          "data": {
            "text/plain": [
              "Text(0.5, 0, 'Epochs')"
            ]
          },
          "metadata": {},
          "execution_count": 97
        },
        {
          "output_type": "execute_result",
          "data": {
            "text/plain": [
              "Text(0, 0.5, 'Acc')"
            ]
          },
          "metadata": {},
          "execution_count": 97
        },
        {
          "output_type": "execute_result",
          "data": {
            "text/plain": [
              "<matplotlib.legend.Legend at 0x7f024a668750>"
            ]
          },
          "metadata": {},
          "execution_count": 97
        },
        {
          "output_type": "display_data",
          "data": {
            "image/png": "[encoded data removed]",
            "text/plain": [
              "<Figure size 432x288 with 1 Axes>"
            ]
          },
          "metadata": {
            "needs_background": "light"
          }
        }
      ]
    },
    {
      "cell_type": "markdown",
      "metadata": {
        "id": "-ZhJvT_g9b5w"
      },
      "source": [
        "### Q2.4 (Bonus) Pretrained Wore Vectors (2 points)\n",
        "\n",
        "It's a common practice to use pretrained word vectors to initialize the embedding layer paramters and then fine tune (or freeze) the embedding layer during model training.\n",
        "\n",
        "- Train word vector by yourself or find pretrained word vectors\n",
        "- Initialize the embedding layer with the word vectors\n",
        "- You can freeze the embedding layer or fine tune the layer\n",
        "- Fit the model to see what strategy can further improve the training performance\n",
        "- You're expected to show at least 1% improvement from Q2.3. in terms of test accuracy."
      ]
    },
    {
      "cell_type": "code",
      "metadata": {
        "id": "34GpvmiaX3gU"
      },
      "source": [
        "! pip install --upgrade gensim  &> /dev/null # install gensim 4.0.0 on colab"
      ],
      "execution_count": 98,
      "outputs": []
    },
    {
      "cell_type": "code",
      "metadata": {
        "id": "2Xj5lMzo5sOw",
        "colab": {
          "base_uri": "https://localhost:8080/"
        },
        "outputId": "e43cbc28-4f27-422f-b2e3-871b97ab75d4"
      },
      "source": [
        "(train_data, train_labels), (test_data, test_labels) = reuters.load_data(num_words=10100)\n",
        "# word_index is a dictionary mapping words to an integer index\n",
        "word_index = reuters.get_word_index()\n",
        "\n",
        "print(train_data[10] , train_labels[10])\n",
        "\n",
        "len(word_index)\n",
        "\n",
        "reverse_word_index = dict([(value, key) for (key, value) in word_index.items()])\n",
        "\n",
        "print(len(train_data), len(train_labels))\n",
        "print(len(test_data), len(test_labels))\n",
        "\n"
      ],
      "execution_count": 99,
      "outputs": [
        {
          "output_type": "stream",
          "name": "stdout",
          "text": [
            "[1, 245, 273, 207, 156, 53, 74, 160, 26, 14, 46, 296, 26, 39, 74, 2979, 3554, 14, 46, 4689, 4329, 86, 61, 3499, 4795, 14, 61, 451, 4329, 17, 12] 3\n"
          ]
        },
        {
          "output_type": "execute_result",
          "data": {
            "text/plain": [
              "30979"
            ]
          },
          "metadata": {},
          "execution_count": 99
        },
        {
          "output_type": "stream",
          "name": "stdout",
          "text": [
            "8982 8982\n",
            "2246 2246\n"
          ]
        }
      ]
    },
    {
      "cell_type": "code",
      "metadata": {
        "id": "K2nRS3xQ59QH"
      },
      "source": [
        "# get doc list\n",
        "doc_list = []\n",
        "for cur_sentence in np.concatenate((train_data, test_data)):\n",
        "    sentence_list = []\n",
        "    for cur_word_index in cur_sentence:\n",
        "        cur_word = reverse_word_index.get(cur_word_index - 3)\n",
        "        if cur_word:\n",
        "            sentence_list.append(cur_word)\n",
        "    doc_list.append(sentence_list)\n",
        "# concat labels\n",
        "doc_labels = np.concatenate((train_labels, test_labels))"
      ],
      "execution_count": 100,
      "outputs": []
    },
    {
      "cell_type": "code",
      "metadata": {
        "id": "XV2cZ1aA6BdV",
        "colab": {
          "base_uri": "https://localhost:8080/",
          "height": 826
        },
        "outputId": "381adf4a-6694-42fb-d654-91c6cf3bdef0"
      },
      "source": [
        "doc_list[10]\n",
        "from matplotlib import pyplot as plt\n",
        "plt.hist(doc_labels)"
      ],
      "execution_count": null,
      "outputs": [
        {
          "output_type": "execute_result",
          "data": {
            "text/plain": [
              "['period',\n",
              " 'ended',\n",
              " 'december',\n",
              " '31',\n",
              " 'shr',\n",
              " 'profit',\n",
              " '11',\n",
              " 'cts',\n",
              " 'vs',\n",
              " 'loss',\n",
              " '24',\n",
              " 'cts',\n",
              " 'net',\n",
              " 'profit',\n",
              " '224',\n",
              " '271',\n",
              " 'vs',\n",
              " 'loss',\n",
              " '511',\n",
              " '349',\n",
              " 'revs',\n",
              " '7',\n",
              " '258',\n",
              " '688',\n",
              " 'vs',\n",
              " '7',\n",
              " '200',\n",
              " '349',\n",
              " 'reuter',\n",
              " '3']"
            ]
          },
          "metadata": {},
          "execution_count": 51
        },
        {
          "output_type": "execute_result",
          "data": {
            "text/plain": [
              "(array([7093.,  280., 1024.,  651., 1256.,  289.,  209.,  131.,  178.,\n",
              "         117.]),\n",
              " array([ 0. ,  4.5,  9. , 13.5, 18. , 22.5, 27. , 31.5, 36. , 40.5, 45. ]),\n",
              " <a list of 10 Patch objects>)"
            ]
          },
          "metadata": {},
          "execution_count": 51
        },
        {
          "output_type": "display_data",
          "data": {
            "image/png": "[encoded data removed]",
            "text/plain": [
              "<Figure size 432x288 with 1 Axes>"
            ]
          },
          "metadata": {
            "needs_background": "light"
          }
        }
      ]
    },
    {
      "cell_type": "markdown",
      "metadata": {
        "id": "SkEfNK346KsI"
      },
      "source": [
        "### Train word2vec model with Gensim"
      ]
    },
    {
      "cell_type": "code",
      "metadata": {
        "id": "P1rRtKU06Jrk"
      },
      "source": [
        "from gensim.models import word2vec\n",
        "def train_word2vec(corpus, size, window, min_count, epochs, sg, workers, save):\n",
        "  model = word2vec.Word2Vec(corpus, \n",
        "                            vector_size=size,   # embedding vector size\n",
        "                            window=window,   # text window in word2vec\n",
        "                            min_count=min_count,  # minimal times of apperence to take into consideration\n",
        "                            epochs=epochs,  # train model with epochs\n",
        "                            sg=sg, # 1 for skip-gram; otherwise CBOW.\n",
        "                            workers=workers,  # number of threads for training\n",
        "                            )\n",
        "  print('Done')\n",
        "  if save:\n",
        "    print('Saving:')\n",
        "    model.save(os.path.join(cwd_path, 'word2vec.model'))\n",
        "    print('Done')\n",
        "  \n",
        "  return model"
      ],
      "execution_count": 101,
      "outputs": []
    },
    {
      "cell_type": "code",
      "metadata": {
        "id": "btk4RU7x6VyF",
        "colab": {
          "base_uri": "https://localhost:8080/"
        },
        "outputId": "697e3700-fce0-4211-e627-976d1d04f70e"
      },
      "source": [
        "word2vec_model = train_word2vec(corpus=doc_list,\n",
        "                                size=100,\n",
        "                                window=5,\n",
        "                                min_count=4,\n",
        "                                epochs=3,\n",
        "                                sg=1,  # 1 for skip gram, otherwise CBOW\n",
        "                                workers=3,\n",
        "                                save=False)"
      ],
      "execution_count": 102,
      "outputs": [
        {
          "output_type": "stream",
          "name": "stdout",
          "text": [
            "Done\n"
          ]
        }
      ]
    },
    {
      "cell_type": "markdown",
      "metadata": {
        "id": "6us_AyY-6a__"
      },
      "source": [
        "### Construct embedding dicionary and embedding matrix"
      ]
    },
    {
      "cell_type": "code",
      "metadata": {
        "id": "QNW393ne6YUb"
      },
      "source": [
        "# embedding dictionaries and embedding matrix\n",
        "def construct_embeddingDict(word2vec_model, max_num_words):\n",
        "  index2word = []\n",
        "  word2index = {}\n",
        "  embedding_matrix = []\n",
        "\n",
        "  counter = 0\n",
        "  for cur_word in word2vec_model.wv.key_to_index:\n",
        "    if cur_word in word2vec_model.wv:\n",
        "      word2index[cur_word] = len(word2index)\n",
        "      index2word.append(cur_word)\n",
        "      embedding_matrix.append(word2vec_model.wv[cur_word])\n",
        "    counter += 1\n",
        "    if counter >= max_num_words:\n",
        "      break\n",
        "  \n",
        "  # add <PAD> and <UNK>\n",
        "  word2index['<PAD>'] = len(word2index)\n",
        "  index2word.append('<PAD>')\n",
        "  # embedding_matrix.append(np.random.uniform(size=len(embedding_matrix[0])))\n",
        "  embedding_matrix.append(np.zeros(len(embedding_matrix[0])))\n",
        "  word2index['<UNK>'] = len(word2index)\n",
        "  index2word.append('<UNK>')\n",
        "  # embedding_matrix.append(np.random.uniform(size=len(embedding_matrix[0])))\n",
        "  embedding_matrix.append(np.zeros(len(embedding_matrix[0])))\n",
        "\n",
        "  return index2word, word2index, np.array(embedding_matrix)"
      ],
      "execution_count": 103,
      "outputs": []
    },
    {
      "cell_type": "code",
      "metadata": {
        "id": "8AOyhAMp6kiZ"
      },
      "source": [
        "index2word, word2index, embedding_matrix = construct_embeddingDict(word2vec_model, 10000)"
      ],
      "execution_count": 104,
      "outputs": []
    },
    {
      "cell_type": "code",
      "metadata": {
        "id": "c1sSaHw56nUm",
        "colab": {
          "base_uri": "https://localhost:8080/"
        },
        "outputId": "2f5722c2-28eb-4d09-93ae-d38db97f9251"
      },
      "source": [
        "# example\n",
        "# show embedding matrix\n",
        "print(embedding_matrix[1])\n",
        "print(embedding_matrix.shape)\n",
        "print('\\nEach word will be embedded by a vector with length of', len(embedding_matrix[0]))"
      ],
      "execution_count": 105,
      "outputs": [
        {
          "output_type": "stream",
          "name": "stdout",
          "text": [
            "[ 2.07519457e-01  1.55350268e-01  1.14514433e-01 -1.01898879e-01\n",
            " -2.75799125e-01 -1.95989639e-01  4.42327112e-02  3.59619766e-01\n",
            " -4.68303829e-01 -3.34878832e-01  5.47229350e-01  7.48337433e-03\n",
            " -1.52109563e-01  5.14677286e-01 -2.84929514e-01 -1.03728518e-01\n",
            "  3.51684749e-01 -9.73499045e-02  1.11433819e-01 -2.76214540e-01\n",
            "  3.90318096e-01 -1.02657244e-01  7.93871433e-02 -3.56344640e-01\n",
            "  1.57044992e-01  1.36050165e-01 -2.94683427e-01 -1.37672022e-01\n",
            " -6.66586459e-02 -1.38303861e-01  2.38066390e-02 -2.05856174e-01\n",
            " -1.03448100e-01 -2.85119295e-01 -3.44301723e-02  1.25480406e-02\n",
            "  1.38882264e-01  6.63451804e-03 -2.73238152e-01 -3.94429304e-02\n",
            "  2.00445682e-01 -3.11392516e-01 -1.61129266e-01  5.76223247e-02\n",
            "  4.88613434e-02  1.13154545e-01  1.82168305e-01 -2.86348877e-05\n",
            "  5.54956973e-01  8.39484781e-02  1.80592969e-01 -2.38798559e-01\n",
            "  5.14139086e-02 -1.05090283e-01  9.64777693e-02 -2.34571978e-01\n",
            " -1.09667242e-01  1.53638378e-01 -1.27719715e-01  2.45349586e-01\n",
            " -1.94702566e-01  2.13136207e-02 -4.97471429e-02  1.11070819e-01\n",
            " -8.58734474e-02  5.87413371e-01 -1.86330676e-01 -1.91144958e-01\n",
            " -2.03287691e-01  2.67576575e-01 -2.94743150e-01 -3.34084421e-01\n",
            "  5.04536152e-01 -1.18058868e-01  3.67103040e-01  1.84934333e-01\n",
            " -2.66553819e-01 -2.17043106e-02 -3.28745663e-01 -2.20190555e-01\n",
            " -3.20326686e-01  1.43077932e-02 -1.38683006e-01  2.93087363e-01\n",
            " -2.91515350e-01 -2.31013834e-01  1.01024024e-01 -2.36426920e-01\n",
            "  2.81946361e-01 -1.20601794e-02  3.36459368e-01  1.77981302e-01\n",
            "  3.65766525e-01 -1.08168185e-01  2.01965988e-01  2.76307791e-01\n",
            "  1.80100828e-01 -3.52454603e-01 -3.69582981e-01  4.38506082e-02]\n",
            "(10002, 100)\n",
            "\n",
            "Each word will be embedded by a vector with length of 100\n"
          ]
        }
      ]
    },
    {
      "cell_type": "code",
      "metadata": {
        "id": "p-RijUsX6r3L",
        "colab": {
          "base_uri": "https://localhost:8080/"
        },
        "outputId": "6f094130-c8b2-43dd-ca07-55f4d3a338e4"
      },
      "source": [
        "# example index2word & word2index\n",
        "test_word = \"has\"  # choice word has\n",
        "test_word_index = word2index[test_word]\n",
        "print(f\"Word '{test_word}' will be represented by index {test_word_index}'\")\n",
        "# and index2word can help up to convert index back to word\n",
        "print(f\"Convert from {test_word_index} to '{index2word[test_word_index]}'\")"
      ],
      "execution_count": 106,
      "outputs": [
        {
          "output_type": "stream",
          "name": "stdout",
          "text": [
            "Word 'has' will be represented by index 36'\n",
            "Convert from 36 to 'has'\n"
          ]
        }
      ]
    },
    {
      "cell_type": "markdown",
      "metadata": {
        "id": "jMOpkDJ86uYB"
      },
      "source": [
        "### Sentence length and sentence to index"
      ]
    },
    {
      "cell_type": "code",
      "metadata": {
        "id": "IrRaAZP96stU"
      },
      "source": [
        "def sentence_length(text_list, lim):\n",
        "  print('Sentence length process:')\n",
        "  for i in range(len(text_list)):\n",
        "    if len(text_list[i]) > lim:  # if length is too long, truncate\n",
        "      text_list[i] = text_list[i][:lim]\n",
        "    else:  # if length is too short, padding\n",
        "      pad_len = lim - len(text_list[i])\n",
        "      for _ in range(pad_len):\n",
        "        text_list[i].append('<PAD>')\n",
        "  print('Done')\n",
        "  \n",
        "  return text_list\n",
        "\n",
        "def sentence2index(text_list, word2index):\n",
        "  print('Sentence to index')\n",
        "  result_list = []\n",
        "  for cur_sentence in text_list:\n",
        "    cur_result = []\n",
        "    for cur_word in cur_sentence:\n",
        "      if cur_word in word2index.keys():\n",
        "        cur_result.append(word2index[cur_word])\n",
        "      else:\n",
        "        cur_result.append(word2index['<UNK>'])\n",
        "    result_list.append(cur_result)\n",
        "  print('Done')\n",
        "\n",
        "  return result_list"
      ],
      "execution_count": 107,
      "outputs": []
    },
    {
      "cell_type": "code",
      "metadata": {
        "id": "urrGCV0163Vb",
        "colab": {
          "base_uri": "https://localhost:8080/"
        },
        "outputId": "b97752e3-3d9d-4d16-c040-ff5c801ea0e7"
      },
      "source": [
        "text_list = sentence_length(doc_list, DOC_LEN)\n",
        "text_index_list = sentence2index(text_list, word2index)"
      ],
      "execution_count": 108,
      "outputs": [
        {
          "output_type": "stream",
          "name": "stdout",
          "text": [
            "Sentence length process:\n",
            "Done\n",
            "Sentence to index\n",
            "Done\n"
          ]
        }
      ]
    },
    {
      "cell_type": "markdown",
      "metadata": {
        "id": "Ybs5GuMz67xa"
      },
      "source": [
        "### Ddataset construction"
      ]
    },
    {
      "cell_type": "code",
      "metadata": {
        "id": "vYaBGfxV67TF",
        "colab": {
          "base_uri": "https://localhost:8080/"
        },
        "outputId": "aeb9b87f-5e86-454c-ecc1-c1a61cd95961"
      },
      "source": [
        "text_dataset = news_dataset(featuers=text_index_list, labels=doc_labels)\n",
        "# Create indices for the split\n",
        "dataset_size = len(text_dataset)\n",
        "test_size = int(0.3 * dataset_size)\n",
        "train_size = dataset_size - test_size\n",
        "#train_dataset, test_dataset = random_split(sonar_dataset,[train_size, test_size])\n",
        "#split_size = (np.array([0.7, 0.3]) * len(text_dataset)).astype(np.int)\n",
        "#train_data, test_data = random_split(text_dataset, lengths=split_size)\n",
        "train_data, test_data = random_split(text_dataset,[train_size, test_size])\n",
        "print(len(train_data))\n",
        "print(len(test_data))"
      ],
      "execution_count": 109,
      "outputs": [
        {
          "output_type": "stream",
          "name": "stdout",
          "text": [
            "7860\n",
            "3368\n"
          ]
        }
      ]
    },
    {
      "cell_type": "markdown",
      "metadata": {
        "id": "PRaiJeEb7DmL"
      },
      "source": [
        "### Use pretrained embedding matrix in CNN model"
      ]
    },
    {
      "cell_type": "code",
      "metadata": {
        "id": "9h85TB7b7C5b"
      },
      "source": [
        "class TextCNN_pretrained(nn.Module):\n",
        "    def __init__(self, pre_trained_embedding, dropout_ratio):\n",
        "        super(TextCNN_pretrained, self).__init__()\n",
        "        self.pre_trained_embedding = torch.Tensor(pre_trained_embedding)\n",
        "        \n",
        "        self.num_embeddings = pre_trained_embedding.shape[0]\n",
        "        self.embedding_dim = pre_trained_embedding.shape[1]\n",
        "        \n",
        "        self.dropout_ratio = dropout_ratio\n",
        "        # embedding\n",
        "        self.embedding = nn.Embedding(num_embeddings=self.num_embeddings, embedding_dim=self.embedding_dim)\n",
        "        self.embedding.weight = nn.Parameter(self.pre_trained_embedding)\n",
        "        self.embedding.weight.requires_grad = True\n",
        "        # fine-tuning: self.embedding.weight.requires_grad = True\n",
        "        # 1D CNN\n",
        "        # unigram\n",
        "        self.unigram = nn.Sequential(# input (-1, embedding_dim, DOC_LEN)\n",
        "        nn.Conv1d(in_channels=self.embedding_dim, out_channels=64, kernel_size=1),  # (-1, 64, DOC_LEN)\n",
        "        nn.ReLU(),\n",
        "        nn.MaxPool1d(kernel_size=DOC_LEN),  # (-1, 64, 1)\n",
        "        nn.Flatten()  # (-1, 64 * 1)\n",
        "        )\n",
        "        # bigram\n",
        "        self.bigram = nn.Sequential(# input (-1, embedding_dim, DOC_LEN)\n",
        "        nn.Conv1d(in_channels=self.embedding_dim, out_channels=64, kernel_size=2),  # (-1, 64, DOC_LEN-2+1) ??? why DOC_LEN - 2 + 1\n",
        "        nn.ReLU(),\n",
        "        nn.MaxPool1d(kernel_size=DOC_LEN - 2 + 1),  # (-1, 64, 1)\n",
        "        nn.Flatten()  # (-1, 64 * 1)\n",
        "        )\n",
        "        # trigram\n",
        "        self.trigram = nn.Sequential(# input (-1, embedding_dim, DOC_LEN)\n",
        "        nn.Conv1d(in_channels=self.embedding_dim, out_channels=64, kernel_size=3),  # (-1, 64, DOC_LEN-3+1)\n",
        "        nn.ReLU(),\n",
        "        nn.MaxPool1d(kernel_size=DOC_LEN - 3 + 1),  # (-1, 16, 7)\n",
        "        nn.Flatten()  # (-1, 64 * 1)\n",
        "        )\n",
        "        # simple classifier\n",
        "        self.classifier = nn.Sequential(\n",
        "            nn.Dropout(dropout_ratio),\n",
        "            nn.Linear(in_features=64*3, out_features=46)\n",
        "        )\n",
        "    def forward(self, x):\n",
        "        # get embedding\n",
        "        x = self.embedding(x)\n",
        "        # make sure we are convolving on each word\n",
        "        x = torch.transpose(x, dim0=1, dim1=2)  # (-1, DOC_LEN, embedding_dim): embedding on 1(DOC_LEN) & 2(embedding_dim) dims\n",
        "        # 1d cnn output\n",
        "        uni_gram_output = self.unigram(x)\n",
        "        bi_gram_output = self.bigram(x)\n",
        "        tri_gram_output = self.trigram(x)\n",
        "        # concatenate\n",
        "        x = torch.cat((uni_gram_output, bi_gram_output, tri_gram_output), dim=1)\n",
        "        # classifier\n",
        "        x = self.classifier(x)\n",
        "\n",
        "        return x"
      ],
      "execution_count": 110,
      "outputs": []
    },
    {
      "cell_type": "markdown",
      "metadata": {
        "id": "wHoWcm8G7N19"
      },
      "source": [
        "### Train model "
      ]
    },
    {
      "cell_type": "code",
      "metadata": {
        "id": "RRqBedWV7SG1",
        "colab": {
          "base_uri": "https://localhost:8080/"
        },
        "outputId": "56950462-2ecf-45cf-e5b7-c7818ff840c4"
      },
      "source": [
        "model = TextCNN_pretrained(pre_trained_embedding=embedding_matrix, dropout_ratio=0.3)\n",
        "\n",
        "history = train_model(model=model,\n",
        "                      train_dataset=train_data,\n",
        "                      test_dataset=test_data,\n",
        "                      device=device,\n",
        "                      lr=0.0002,\n",
        "                      epochs=100,\n",
        "                      batch_size=128)"
      ],
      "execution_count": 111,
      "outputs": [
        {
          "output_type": "stream",
          "name": "stdout",
          "text": [
            "Training Start\n",
            "Epoch:1 / 100, train loss:2.20360 train_acc:0.48097, valid loss:1.85295 valid acc:0.51042\n",
            "Epoch:2 / 100, train loss:1.81124 train_acc:0.54372, valid loss:1.66710 valid acc:0.60619\n",
            "Epoch:3 / 100, train loss:1.66392 train_acc:0.61366, valid loss:1.57016 valid acc:0.64670\n",
            "Epoch:4 / 100, train loss:1.55878 train_acc:0.64982, valid loss:1.48242 valid acc:0.65104\n",
            "Epoch:5 / 100, train loss:1.48094 train_acc:0.65625, valid loss:1.40189 valid acc:0.66522\n",
            "Epoch:6 / 100, train loss:1.41936 train_acc:0.66784, valid loss:1.34873 valid acc:0.67506\n",
            "Epoch:7 / 100, train loss:1.35380 train_acc:0.67704, valid loss:1.29876 valid acc:0.67940\n",
            "Epoch:8 / 100, train loss:1.31797 train_acc:0.68082, valid loss:1.25612 valid acc:0.68113\n",
            "Epoch:9 / 100, train loss:1.27721 train_acc:0.68662, valid loss:1.23413 valid acc:0.68432\n",
            "Epoch:10 / 100, train loss:1.23235 train_acc:0.69103, valid loss:1.19853 valid acc:0.69039\n",
            "Epoch:11 / 100, train loss:1.20935 train_acc:0.69619, valid loss:1.16255 valid acc:0.69560\n",
            "Epoch:12 / 100, train loss:1.16998 train_acc:0.71220, valid loss:1.14978 valid acc:0.70284\n",
            "Epoch:13 / 100, train loss:1.14768 train_acc:0.71459, valid loss:1.11870 valid acc:0.70804\n",
            "Epoch:14 / 100, train loss:1.12099 train_acc:0.72190, valid loss:1.10344 valid acc:0.71644\n",
            "Epoch:15 / 100, train loss:1.09522 train_acc:0.73110, valid loss:1.07443 valid acc:0.72541\n",
            "Epoch:16 / 100, train loss:1.06120 train_acc:0.73198, valid loss:1.05880 valid acc:0.73032\n",
            "Epoch:17 / 100, train loss:1.04338 train_acc:0.74307, valid loss:1.03443 valid acc:0.73640\n",
            "Epoch:18 / 100, train loss:1.02784 train_acc:0.74584, valid loss:1.01938 valid acc:0.74306\n",
            "Epoch:19 / 100, train loss:0.99313 train_acc:0.75517, valid loss:1.00854 valid acc:0.74624\n",
            "Epoch:20 / 100, train loss:0.97454 train_acc:0.76109, valid loss:0.98468 valid acc:0.75174\n",
            "Epoch:21 / 100, train loss:0.95219 train_acc:0.76613, valid loss:0.98045 valid acc:0.75231\n",
            "Epoch:22 / 100, train loss:0.93834 train_acc:0.76915, valid loss:0.94866 valid acc:0.75752\n",
            "Epoch:23 / 100, train loss:0.91777 train_acc:0.77142, valid loss:0.94912 valid acc:0.75984\n",
            "Epoch:24 / 100, train loss:0.90240 train_acc:0.77747, valid loss:0.92586 valid acc:0.76100\n",
            "Epoch:25 / 100, train loss:0.88238 train_acc:0.77949, valid loss:0.91360 valid acc:0.76128\n",
            "Epoch:26 / 100, train loss:0.86255 train_acc:0.78402, valid loss:0.90145 valid acc:0.76447\n",
            "Epoch:27 / 100, train loss:0.84613 train_acc:0.78490, valid loss:0.89012 valid acc:0.76707\n",
            "Epoch:28 / 100, train loss:0.83952 train_acc:0.79133, valid loss:0.87244 valid acc:0.76939\n",
            "Epoch:29 / 100, train loss:0.82348 train_acc:0.78982, valid loss:0.85570 valid acc:0.77286\n",
            "Epoch:30 / 100, train loss:0.80428 train_acc:0.79713, valid loss:0.85641 valid acc:0.77720\n",
            "Epoch:31 / 100, train loss:0.80155 train_acc:0.80280, valid loss:0.85105 valid acc:0.77922\n",
            "Epoch:32 / 100, train loss:0.78217 train_acc:0.80204, valid loss:0.84838 valid acc:0.77980\n",
            "Epoch:33 / 100, train loss:0.76574 train_acc:0.80557, valid loss:0.83950 valid acc:0.78154\n",
            "Epoch:34 / 100, train loss:0.76130 train_acc:0.80280, valid loss:0.83325 valid acc:0.78154\n",
            "Epoch:35 / 100, train loss:0.74093 train_acc:0.80897, valid loss:0.81624 valid acc:0.78270\n",
            "Epoch:36 / 100, train loss:0.73180 train_acc:0.81363, valid loss:0.81437 valid acc:0.78443\n",
            "Epoch:37 / 100, train loss:0.71800 train_acc:0.81288, valid loss:0.80536 valid acc:0.78675\n",
            "Epoch:38 / 100, train loss:0.71267 train_acc:0.81414, valid loss:0.80047 valid acc:0.78906\n",
            "Epoch:39 / 100, train loss:0.70061 train_acc:0.81704, valid loss:0.79288 valid acc:0.79051\n",
            "Epoch:40 / 100, train loss:0.69176 train_acc:0.82283, valid loss:0.78302 valid acc:0.79282\n",
            "Epoch:41 / 100, train loss:0.68834 train_acc:0.82069, valid loss:0.78107 valid acc:0.79225\n",
            "Epoch:42 / 100, train loss:0.67496 train_acc:0.82510, valid loss:0.78994 valid acc:0.79427\n",
            "Epoch:43 / 100, train loss:0.65650 train_acc:0.82434, valid loss:0.77536 valid acc:0.79485\n",
            "Epoch:44 / 100, train loss:0.65108 train_acc:0.83329, valid loss:0.77591 valid acc:0.79630\n",
            "Epoch:45 / 100, train loss:0.64433 train_acc:0.83417, valid loss:0.77871 valid acc:0.79514\n",
            "Epoch:46 / 100, train loss:0.63090 train_acc:0.83795, valid loss:0.76939 valid acc:0.79716\n",
            "Epoch:47 / 100, train loss:0.62954 train_acc:0.83594, valid loss:0.76704 valid acc:0.79832\n",
            "Epoch:48 / 100, train loss:0.61233 train_acc:0.84085, valid loss:0.75778 valid acc:0.80064\n",
            "Epoch:49 / 100, train loss:0.59974 train_acc:0.84564, valid loss:0.75284 valid acc:0.80440\n",
            "Epoch:50 / 100, train loss:0.60565 train_acc:0.84186, valid loss:0.76670 valid acc:0.80237\n",
            "Epoch:51 / 100, train loss:0.59735 train_acc:0.84425, valid loss:0.74563 valid acc:0.80469\n",
            "Epoch:52 / 100, train loss:0.58183 train_acc:0.84942, valid loss:0.75337 valid acc:0.80295\n",
            "Epoch:53 / 100, train loss:0.58020 train_acc:0.84602, valid loss:0.75622 valid acc:0.80353\n",
            "Epoch:54 / 100, train loss:0.56650 train_acc:0.85118, valid loss:0.73812 valid acc:0.80411\n",
            "Epoch:55 / 100, train loss:0.56198 train_acc:0.85509, valid loss:0.74156 valid acc:0.80556\n",
            "Epoch:56 / 100, train loss:0.55175 train_acc:0.85648, valid loss:0.73448 valid acc:0.80527\n",
            "Epoch:57 / 100, train loss:0.54786 train_acc:0.85559, valid loss:0.72263 valid acc:0.80584\n",
            "Epoch:58 / 100, train loss:0.53475 train_acc:0.86064, valid loss:0.73181 valid acc:0.80700\n",
            "Epoch:59 / 100, train loss:0.54337 train_acc:0.85723, valid loss:0.73392 valid acc:0.80787\n",
            "Epoch:60 / 100, train loss:0.52869 train_acc:0.86089, valid loss:0.73278 valid acc:0.80845\n",
            "Epoch:61 / 100, train loss:0.52650 train_acc:0.86479, valid loss:0.72047 valid acc:0.81019\n",
            "Epoch:62 / 100, train loss:0.51239 train_acc:0.86580, valid loss:0.71731 valid acc:0.81134\n",
            "Epoch:63 / 100, train loss:0.50899 train_acc:0.86895, valid loss:0.72085 valid acc:0.81047\n",
            "Epoch:64 / 100, train loss:0.50079 train_acc:0.86870, valid loss:0.72178 valid acc:0.81163\n",
            "Epoch:65 / 100, train loss:0.49039 train_acc:0.87588, valid loss:0.72060 valid acc:0.81279\n",
            "Epoch:66 / 100, train loss:0.48581 train_acc:0.87135, valid loss:0.71942 valid acc:0.81163\n",
            "Epoch:67 / 100, train loss:0.47387 train_acc:0.87437, valid loss:0.72314 valid acc:0.81134\n",
            "Epoch:68 / 100, train loss:0.46909 train_acc:0.87639, valid loss:0.72003 valid acc:0.81047\n",
            "Epoch:69 / 100, train loss:0.46816 train_acc:0.87576, valid loss:0.70321 valid acc:0.81308\n",
            "Epoch:70 / 100, train loss:0.46114 train_acc:0.87714, valid loss:0.70798 valid acc:0.81192\n",
            "Epoch:71 / 100, train loss:0.45147 train_acc:0.88105, valid loss:0.71903 valid acc:0.81250\n",
            "Epoch:72 / 100, train loss:0.45379 train_acc:0.88168, valid loss:0.72131 valid acc:0.81424\n",
            "Epoch:73 / 100, train loss:0.44086 train_acc:0.88445, valid loss:0.71792 valid acc:0.81308\n",
            "Epoch:74 / 100, train loss:0.42370 train_acc:0.88873, valid loss:0.71474 valid acc:0.81308\n",
            "Epoch:75 / 100, train loss:0.42769 train_acc:0.88571, valid loss:0.70750 valid acc:0.81279\n",
            "Epoch:76 / 100, train loss:0.42900 train_acc:0.88760, valid loss:0.71429 valid acc:0.81250\n",
            "Epoch:77 / 100, train loss:0.42102 train_acc:0.88987, valid loss:0.70088 valid acc:0.81250\n",
            "Epoch:78 / 100, train loss:0.41769 train_acc:0.88710, valid loss:0.71345 valid acc:0.81250\n",
            "Epoch:79 / 100, train loss:0.40159 train_acc:0.89113, valid loss:0.71980 valid acc:0.81192\n",
            "Epoch:80 / 100, train loss:0.39962 train_acc:0.89289, valid loss:0.70037 valid acc:0.81134\n",
            "Epoch:81 / 100, train loss:0.38793 train_acc:0.89831, valid loss:0.70560 valid acc:0.81134\n",
            "Epoch:82 / 100, train loss:0.39190 train_acc:0.89541, valid loss:0.71683 valid acc:0.81395\n",
            "Epoch:83 / 100, train loss:0.37729 train_acc:0.89756, valid loss:0.70493 valid acc:0.81192\n",
            "Epoch:84 / 100, train loss:0.38047 train_acc:0.89289, valid loss:0.70656 valid acc:0.81337\n",
            "Epoch:85 / 100, train loss:0.37452 train_acc:0.89844, valid loss:0.71432 valid acc:0.81395\n",
            "Epoch:86 / 100, train loss:0.37059 train_acc:0.90020, valid loss:0.70325 valid acc:0.81134\n",
            "Epoch:87 / 100, train loss:0.36177 train_acc:0.90121, valid loss:0.71593 valid acc:0.81337\n",
            "Epoch:88 / 100, train loss:0.35650 train_acc:0.90335, valid loss:0.70905 valid acc:0.81134\n",
            "Epoch:89 / 100, train loss:0.35523 train_acc:0.90499, valid loss:0.70680 valid acc:0.81134\n",
            "Epoch:90 / 100, train loss:0.34479 train_acc:0.90411, valid loss:0.72039 valid acc:0.81308\n",
            "Epoch:91 / 100, train loss:0.33732 train_acc:0.90638, valid loss:0.71402 valid acc:0.81366\n",
            "Epoch:92 / 100, train loss:0.33410 train_acc:0.91028, valid loss:0.70332 valid acc:0.81308\n",
            "Epoch:93 / 100, train loss:0.33108 train_acc:0.90940, valid loss:0.70517 valid acc:0.81250\n",
            "Epoch:94 / 100, train loss:0.32977 train_acc:0.90927, valid loss:0.71121 valid acc:0.81308\n",
            "Epoch:95 / 100, train loss:0.32400 train_acc:0.90915, valid loss:0.70946 valid acc:0.81279\n",
            "Epoch:96 / 100, train loss:0.31849 train_acc:0.90814, valid loss:0.71640 valid acc:0.81134\n",
            "Epoch:97 / 100, train loss:0.31591 train_acc:0.91041, valid loss:0.72572 valid acc:0.81510\n",
            "Epoch:98 / 100, train loss:0.30795 train_acc:0.91368, valid loss:0.72714 valid acc:0.81192\n",
            "Epoch:99 / 100, train loss:0.30463 train_acc:0.91406, valid loss:0.72182 valid acc:0.81337\n",
            "Epoch:100 / 100, train loss:0.30045 train_acc:0.91545, valid loss:0.72069 valid acc:0.81221\n"
          ]
        }
      ]
    },
    {
      "cell_type": "code",
      "metadata": {
        "id": "SiS2llEe65Xd"
      },
      "source": [
        "# without pretrained wordvec : # embedding = 200, doc len = 500 : Epoch:100 / 100, train loss:0.26517 train_acc:0.91054, valid loss:0.80211 valid acc:0.79948   \n",
        "# with pretrained :            # embedding = 200, doc len = 500 : Epoch:100 / 100, train loss:0.30045 train_acc:0.91545, valid loss:0.72069 valid acc:0.81221"
      ],
      "execution_count": null,
      "outputs": []
    },
    {
      "cell_type": "code",
      "metadata": {
        "colab": {
          "base_uri": "https://localhost:8080/",
          "height": 627
        },
        "id": "sz0BCt-g7f7Q",
        "outputId": "f154e675-bf9b-4331-9efc-9ec131a8eafa"
      },
      "source": [
        "epochs = range(1, len(history['train_loss']) + 1)\n",
        "\n",
        "plt.plot(epochs, history['train_loss'], 'r-', label='Train')\n",
        "plt.plot(epochs, history['test_loss'], 'b-', label='Evaluation')\n",
        "\n",
        "plt.title('Loss')\n",
        "plt.xlabel('Epochs')\n",
        "plt.ylabel('Loss')\n",
        "plt.legend()\n",
        "\n",
        "plt.show()\n",
        "\n",
        "plt.plot(epochs, history['train_acc'], 'r-', label='Train')\n",
        "plt.plot(epochs, history['test_acc'], 'b-', label='Evaluation')\n",
        "\n",
        "plt.title('Accuracy')\n",
        "plt.xlabel('Epochs')\n",
        "plt.ylabel('Acc')\n",
        "plt.legend()\n",
        "\n",
        "plt.show()"
      ],
      "execution_count": 115,
      "outputs": [
        {
          "output_type": "execute_result",
          "data": {
            "text/plain": [
              "[<matplotlib.lines.Line2D at 0x7f02495de210>]"
            ]
          },
          "metadata": {},
          "execution_count": 115
        },
        {
          "output_type": "execute_result",
          "data": {
            "text/plain": [
              "[<matplotlib.lines.Line2D at 0x7f02495dee50>]"
            ]
          },
          "metadata": {},
          "execution_count": 115
        },
        {
          "output_type": "execute_result",
          "data": {
            "text/plain": [
              "Text(0.5, 1.0, 'Loss')"
            ]
          },
          "metadata": {},
          "execution_count": 115
        },
        {
          "output_type": "execute_result",
          "data": {
            "text/plain": [
              "Text(0.5, 0, 'Epochs')"
            ]
          },
          "metadata": {},
          "execution_count": 115
        },
        {
          "output_type": "execute_result",
          "data": {
            "text/plain": [
              "Text(0, 0.5, 'Loss')"
            ]
          },
          "metadata": {},
          "execution_count": 115
        },
        {
          "output_type": "execute_result",
          "data": {
            "text/plain": [
              "<matplotlib.legend.Legend at 0x7f02495b1610>"
            ]
          },
          "metadata": {},
          "execution_count": 115
        },
        {
          "output_type": "display_data",
          "data": {
            "image/png": "[encoded data removed]",
            "text/plain": [
              "<Figure size 432x288 with 1 Axes>"
            ]
          },
          "metadata": {
            "needs_background": "light"
          }
        },
        {
          "output_type": "execute_result",
          "data": {
            "text/plain": [
              "[<matplotlib.lines.Line2D at 0x7f024a898a10>]"
            ]
          },
          "metadata": {},
          "execution_count": 115
        },
        {
          "output_type": "execute_result",
          "data": {
            "text/plain": [
              "[<matplotlib.lines.Line2D at 0x7f024a395fd0>]"
            ]
          },
          "metadata": {},
          "execution_count": 115
        },
        {
          "output_type": "execute_result",
          "data": {
            "text/plain": [
              "Text(0.5, 1.0, 'Accuracy')"
            ]
          },
          "metadata": {},
          "execution_count": 115
        },
        {
          "output_type": "execute_result",
          "data": {
            "text/plain": [
              "Text(0.5, 0, 'Epochs')"
            ]
          },
          "metadata": {},
          "execution_count": 115
        },
        {
          "output_type": "execute_result",
          "data": {
            "text/plain": [
              "Text(0, 0.5, 'Acc')"
            ]
          },
          "metadata": {},
          "execution_count": 115
        },
        {
          "output_type": "execute_result",
          "data": {
            "text/plain": [
              "<matplotlib.legend.Legend at 0x7f024a395e50>"
            ]
          },
          "metadata": {},
          "execution_count": 115
        },
        {
          "output_type": "display_data",
          "data": {
            "image/png": "[encoded data removed]",
            "text/plain": [
              "<Figure size 432x288 with 1 Axes>"
            ]
          },
          "metadata": {
            "needs_background": "light"
          }
        }
      ]
    },
    {
      "cell_type": "markdown",
      "metadata": {
        "id": "P_WHlqdP7uxl"
      },
      "source": [
        "### Accuracy analysis\n",
        "\n",
        "It's a common practice to use pretrained word vectors to initialize the embedding layer paramters and then fine tune (or freeze) the embedding layer during model training.\n",
        "\n",
        "- Train word vector by yourself or find pretrained word vectors\n",
        "- Initialize the embedding layer with the word vectors\n",
        "- You can freeze the embedding layer or fine tune the layer\n",
        "- Fit the model to see what strategy can further improve the training performance\n",
        "- You're expected to show at least 1% improvement from Q2.3. in terms of test accuracy.\n",
        " \n",
        "\n",
        "After several iteration with following details I have made the following analysis \n",
        "\n",
        "- The accuracy of the model before using any pretained word vecotrs is as follows\n",
        "  - embedding_dim = 200, \n",
        "  - doc len = 500 : \n",
        "  - Epoch = 100 \n",
        "  - train loss : 0.26517 train_acc : 0.91054, valid loss : 0.80211 **valid acc : 0.79948** \n",
        "\n",
        "- I used pretrained word vector \n",
        "  - embedding_dim = 200, \n",
        "  - doc len = 500 : \n",
        "  - Epoch = 100 \n",
        "  - train loss : 0.30045 train_acc : 0.91545, valid loss : 0.72069 **valid acc : 0.81221**\n",
        "\n",
        "With pretrained embedding layer the accuracy was increased by **1.273%**"
      ]
    }
  ]
}